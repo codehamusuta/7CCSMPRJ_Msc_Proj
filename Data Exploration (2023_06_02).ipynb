{
 "cells": [
  {
   "cell_type": "code",
   "execution_count": 4,
   "id": "40312550",
   "metadata": {},
   "outputs": [],
   "source": [
    "import json\n",
    "import os\n",
    "import pandas as pd\n",
    "import csv"
   ]
  },
  {
   "cell_type": "code",
   "execution_count": 5,
   "id": "200dc12b",
   "metadata": {},
   "outputs": [],
   "source": [
    "root = '../data_2023_06_02'\n",
    "fever_root = os.path.join(root, 'raw/FEVER')\n",
    "climate_root = os.path.join(root, 'raw/CLIMATE-FEVER')\n",
    "pubhealth_root = os.path.join(root, 'raw/PUBHEALTH')"
   ]
  },
  {
   "cell_type": "code",
   "execution_count": 6,
   "id": "0c3073d1",
   "metadata": {},
   "outputs": [],
   "source": [
    "def print_item(item):\n",
    "    print(json.dumps(item, indent=4))"
   ]
  },
  {
   "cell_type": "markdown",
   "id": "a3400e8d",
   "metadata": {
    "jp-MarkdownHeadingCollapsed": true,
    "tags": []
   },
   "source": [
    "## Explore Fever"
   ]
  },
  {
   "cell_type": "markdown",
   "id": "666d3a15",
   "metadata": {
    "jp-MarkdownHeadingCollapsed": true
   },
   "source": [
    "#### Load wiki data"
   ]
  },
  {
   "cell_type": "code",
   "execution_count": 4,
   "id": "ba60cf79",
   "metadata": {},
   "outputs": [
    {
     "name": "stdout",
     "output_type": "stream",
     "text": [
      "5416537\n"
     ]
    }
   ],
   "source": [
    "fdir = os.path.join(fever_root, 'wiki-pages/wiki-pages')\n",
    "wiki_lst = []\n",
    "for fn in os.listdir(fdir):\n",
    "    with open(os.path.join(fdir, fn), 'r') as file:\n",
    "        lst = [json.loads(item) for item in list(file)]\n",
    "        wiki_lst = wiki_lst + lst\n",
    "print(len(wiki_lst))"
   ]
  },
  {
   "cell_type": "code",
   "execution_count": 5,
   "id": "52cf38b7",
   "metadata": {},
   "outputs": [],
   "source": [
    "wiki_df = pd.DataFrame.from_records(wiki_lst)"
   ]
  },
  {
   "cell_type": "code",
   "execution_count": 7,
   "id": "fff8044c",
   "metadata": {},
   "outputs": [
    {
     "name": "stdout",
     "output_type": "stream",
     "text": [
      "0\tRatatouille -LRB- -LSB- rætəˈtuːiː -RSB- -LSB- ʁatatuj -RSB- -RRB- is a 2007 American computer-animated comedy film produced by Pixar and released by Buena Vista Pictures Distribution .\tBuena Vista Pictures Distribution\tWalt Disney Studios Motion Pictures\tcomputer-animated\tcomputer-animated\tcomedy film\tcomedy film\tPixar\tPixar\n",
      "1\tIt is the eighth film produced by Pixar and was co-written and directed by Brad Bird , who took over from Jan Pinkava in 2005 .\tBrad Bird\tBrad Bird\tJan Pinkava\tJan Pinkava\tPixar\tPixar\n",
      "2\tThe title refers to a French dish , `` ratatouille '' , which is served at the end of the film and is also a play on words about the species of the main character .\tratatouille\tratatouille\n",
      "3\tThe film stars the voices of Patton Oswalt as Remy , an anthropomorphic rat who is interested in cooking ; Lou Romano as Linguini , a young garbage boy who befriends Remy ; Ian Holm as Skinner , the head chef of Auguste Gusteau 's restaurant ; Janeane Garofalo as Colette , a rôtisseur at Gusteau 's restaurant ; Peter O'Toole as Anton Ego , a restaurant critic ; Brian Dennehy as Django , Remy 's father and leader of his clan ; Peter Sohn as Emile , Remy 's older brother ; and Brad Garrett as Auguste Gusteau , a recently deceased chef .\tPatton Oswalt\tPatton Oswalt\tIan Holm\tIan Holm\tLou Romano\tLou Romano\tBrian Dennehy\tBrian Dennehy\tPeter Sohn\tPeter Sohn\tPeter O'Toole\tPeter O'Toole\tBrad Garrett\tBrad Garrett\tJaneane Garofalo\tJaneane Garofalo\trat\trat\trôtisseur\trôtisseur\n",
      "4\tThe plot follows Remy , who dreams of becoming a chef and tries to achieve his goal by forming an alliance with a Parisian restaurant 's garbage boy .\n",
      "5\t\n",
      "6\t\n",
      "7\tDevelopment of Ratatouille began in 2000 when Pinkava wrote the original concepts of the film .\n",
      "8\tIn 2005 , Bird was approached to direct the film and revise the story .\n",
      "9\tBird and some of the film 's crew members also visited Paris for inspiration .\n",
      "10\tTo create the food animation used in the film , the crew consulted chefs from both France and the United States .\n",
      "11\tBird also interned at Thomas Keller 's The French Laundry restaurant , where Keller developed the confit byaldi , a dish used in the film .\tThomas Keller\tThomas Keller\tThe French Laundry\tThe French Laundry\tconfit byaldi\tconfit byaldi\n",
      "12\t\n",
      "13\t\n",
      "14\tRatatouille premiered on June 22 , 2007 , at the Kodak Theatre in Los Angeles , California , with its general release June 29 , 2007 , in the United States .\tKodak Theatre\tDolby Theatre\tLos Angeles\tLos Angeles\tCalifornia\tCalifornia\n",
      "15\tThe film grossed at the box office and received universal acclaim .\n",
      "16\tThe film later won the Academy Award for Best Animated Feature , among other honors .\tAcademy Award for Best Animated Feature\tAcademy Award for Best Animated Feature\n",
      "17\t\n"
     ]
    }
   ],
   "source": [
    "print(wiki_df[wiki_df['id'] == 'Ratatouille_-LRB-film-RRB-']['lines'].values[0])"
   ]
  },
  {
   "cell_type": "markdown",
   "id": "bc452fed",
   "metadata": {},
   "source": [
    "#### Load fever train data"
   ]
  },
  {
   "cell_type": "code",
   "execution_count": 29,
   "id": "e261c581",
   "metadata": {},
   "outputs": [
    {
     "name": "stdout",
     "output_type": "stream",
     "text": [
      "145449\n"
     ]
    }
   ],
   "source": [
    "with open(os.path.join(fever_root, 'train.jsonl'), 'r') as f:\n",
    "    fever_lst = [json.loads(item) for item in list(f)]\n",
    "    print(len(fever_lst))"
   ]
  },
  {
   "cell_type": "code",
   "execution_count": 30,
   "id": "a6113126",
   "metadata": {},
   "outputs": [
    {
     "name": "stdout",
     "output_type": "stream",
     "text": [
      "9999\n"
     ]
    }
   ],
   "source": [
    "with open(os.path.join(fever_root, 'paper_dev.jsonl'), 'r') as f:\n",
    "    fever_lst = [json.loads(item) for item in list(f)]\n",
    "    print(len(fever_lst))"
   ]
  },
  {
   "cell_type": "code",
   "execution_count": 31,
   "id": "94fe41d0",
   "metadata": {},
   "outputs": [
    {
     "name": "stdout",
     "output_type": "stream",
     "text": [
      "9999\n"
     ]
    }
   ],
   "source": [
    "with open(os.path.join(fever_root, 'paper_test.jsonl'), 'r') as f:\n",
    "    fever_lst = [json.loads(item) for item in list(f)]\n",
    "    print(len(fever_lst))"
   ]
  },
  {
   "cell_type": "code",
   "execution_count": 184,
   "id": "4ef8c77c",
   "metadata": {},
   "outputs": [
    {
     "data": {
      "text/plain": [
       "165447"
      ]
     },
     "execution_count": 184,
     "metadata": {},
     "output_type": "execute_result"
    }
   ],
   "source": [
    "145449 + 9999 + 9999"
   ]
  },
  {
   "cell_type": "code",
   "execution_count": 7,
   "id": "a0741852",
   "metadata": {},
   "outputs": [],
   "source": [
    "fever_df = pd.DataFrame.from_records(fever_lst)"
   ]
  },
  {
   "cell_type": "code",
   "execution_count": 8,
   "id": "9127cf20",
   "metadata": {},
   "outputs": [
    {
     "data": {
      "text/plain": [
       "NOT ENOUGH INFO    3333\n",
       "SUPPORTS           3333\n",
       "REFUTES            3333\n",
       "Name: label, dtype: int64"
      ]
     },
     "execution_count": 8,
     "metadata": {},
     "output_type": "execute_result"
    }
   ],
   "source": [
    "fever_df['label'].value_counts()"
   ]
  },
  {
   "cell_type": "code",
   "execution_count": 9,
   "id": "d5c54284",
   "metadata": {},
   "outputs": [
    {
     "name": "stdout",
     "output_type": "stream",
     "text": [
      "{\n",
      "    \"id\": 92586,\n",
      "    \"verifiable\": \"VERIFIABLE\",\n",
      "    \"label\": \"SUPPORTS\",\n",
      "    \"claim\": \"Firefox is one of the most popular web browsers.\",\n",
      "    \"evidence\": [\n",
      "        [\n",
      "            [\n",
      "                109907,\n",
      "                123515,\n",
      "                \"Firefox\",\n",
      "                15\n",
      "            ]\n",
      "        ],\n",
      "        [\n",
      "            [\n",
      "                109907,\n",
      "                123516,\n",
      "                \"Firefox\",\n",
      "                14\n",
      "            ]\n",
      "        ],\n",
      "        [\n",
      "            [\n",
      "                109907,\n",
      "                123517,\n",
      "                \"Firefox\",\n",
      "                13\n",
      "            ]\n",
      "        ],\n",
      "        [\n",
      "            [\n",
      "                109907,\n",
      "                123518,\n",
      "                \"Firefox\",\n",
      "                11\n",
      "            ]\n",
      "        ]\n",
      "    ]\n",
      "}\n"
     ]
    }
   ],
   "source": [
    "print_item(fever_df.query(\"label == 'SUPPORTS'\").iloc[123].to_dict())"
   ]
  },
  {
   "cell_type": "code",
   "execution_count": 10,
   "id": "c5a90a2c",
   "metadata": {},
   "outputs": [
    {
     "name": "stdout",
     "output_type": "stream",
     "text": [
      "{\n",
      "    \"id\": 74961,\n",
      "    \"verifiable\": \"VERIFIABLE\",\n",
      "    \"label\": \"SUPPORTS\",\n",
      "    \"claim\": \"Aestheticism is a movement.\",\n",
      "    \"evidence\": [\n",
      "        [\n",
      "            [\n",
      "                238547,\n",
      "                240548,\n",
      "                \"Aestheticism\",\n",
      "                0\n",
      "            ]\n",
      "        ],\n",
      "        [\n",
      "            [\n",
      "                242062,\n",
      "                243563,\n",
      "                \"Aestheticism\",\n",
      "                0\n",
      "            ]\n",
      "        ],\n",
      "        [\n",
      "            [\n",
      "                242354,\n",
      "                243752,\n",
      "                \"Aestheticism\",\n",
      "                0\n",
      "            ]\n",
      "        ],\n",
      "        [\n",
      "            [\n",
      "                319092,\n",
      "                307879,\n",
      "                \"Aestheticism\",\n",
      "                0\n",
      "            ]\n",
      "        ],\n",
      "        [\n",
      "            [\n",
      "                320329,\n",
      "                308938,\n",
      "                \"Aestheticism\",\n",
      "                0\n",
      "            ]\n",
      "        ]\n",
      "    ]\n",
      "}\n"
     ]
    }
   ],
   "source": [
    "print_item(fever_lst[2003])"
   ]
  },
  {
   "cell_type": "code",
   "execution_count": 26,
   "id": "9271b48d",
   "metadata": {},
   "outputs": [],
   "source": [
    "item = fever_lst[33]"
   ]
  },
  {
   "cell_type": "code",
   "execution_count": 27,
   "id": "171d3a94",
   "metadata": {},
   "outputs": [
    {
     "ename": "TypeError",
     "evalue": "unhashable type: 'list'",
     "output_type": "error",
     "traceback": [
      "\u001b[0;31m---------------------------------------------------------------------------\u001b[0m",
      "\u001b[0;31mTypeError\u001b[0m                                 Traceback (most recent call last)",
      "Cell \u001b[0;32mIn[27], line 1\u001b[0m\n\u001b[0;32m----> 1\u001b[0m pages \u001b[38;5;241m=\u001b[39m \u001b[38;5;28;43mset\u001b[39;49m\u001b[43m(\u001b[49m\u001b[43mev\u001b[49m\u001b[43m[\u001b[49m\u001b[38;5;241;43m0\u001b[39;49m\u001b[43m]\u001b[49m\u001b[43m \u001b[49m\u001b[38;5;28;43;01mfor\u001b[39;49;00m\u001b[43m \u001b[49m\u001b[43mev\u001b[49m\u001b[43m \u001b[49m\u001b[38;5;129;43;01min\u001b[39;49;00m\u001b[43m \u001b[49m\u001b[43mitem\u001b[49m\u001b[43m[\u001b[49m\u001b[38;5;124;43m\"\u001b[39;49m\u001b[38;5;124;43mevidence\u001b[39;49m\u001b[38;5;124;43m\"\u001b[39;49m\u001b[43m]\u001b[49m\u001b[43m)\u001b[49m\n",
      "\u001b[0;31mTypeError\u001b[0m: unhashable type: 'list'"
     ]
    }
   ],
   "source": [
    "pages = set(ev[0] for ev in item[\"evidence\"])"
   ]
  },
  {
   "cell_type": "code",
   "execution_count": 28,
   "id": "9fd2d70f",
   "metadata": {},
   "outputs": [
    {
     "data": {
      "text/plain": [
       "{'id': 19068,\n",
       " 'verifiable': 'VERIFIABLE',\n",
       " 'label': 'SUPPORTS',\n",
       " 'claim': 'Color of Night came out in 1994.',\n",
       " 'evidence': [[[34839, 42253, 'Color_of_Night', 0]],\n",
       "  [[34839, 42254, 'Color_of_Night', 8]]]}"
      ]
     },
     "execution_count": 28,
     "metadata": {},
     "output_type": "execute_result"
    }
   ],
   "source": [
    "item"
   ]
  },
  {
   "cell_type": "markdown",
   "id": "5889077c",
   "metadata": {
    "jp-MarkdownHeadingCollapsed": true,
    "tags": []
   },
   "source": [
    "## Explore Climate-Fever"
   ]
  },
  {
   "cell_type": "code",
   "execution_count": 4,
   "id": "51b83a09",
   "metadata": {},
   "outputs": [
    {
     "name": "stdout",
     "output_type": "stream",
     "text": [
      "1535\n"
     ]
    }
   ],
   "source": [
    "with open(os.path.join(climate_root, 'climate-fever-dataset-r1.jsonl'), 'r') as f:\n",
    "    climate_lst = [json.loads(item) for item in list(f)]\n",
    "    print(len(climate_lst))"
   ]
  },
  {
   "cell_type": "code",
   "execution_count": 5,
   "id": "0919568d",
   "metadata": {},
   "outputs": [],
   "source": [
    "climate_df = pd.DataFrame.from_records(climate_lst)"
   ]
  },
  {
   "cell_type": "code",
   "execution_count": 6,
   "id": "33d4a58b",
   "metadata": {},
   "outputs": [
    {
     "data": {
      "text/plain": [
       "SUPPORTS           654\n",
       "NOT_ENOUGH_INFO    474\n",
       "REFUTES            253\n",
       "DISPUTED           154\n",
       "Name: claim_label, dtype: int64"
      ]
     },
     "execution_count": 6,
     "metadata": {},
     "output_type": "execute_result"
    }
   ],
   "source": [
    "climate_df['claim_label'].value_counts()"
   ]
  },
  {
   "cell_type": "code",
   "execution_count": 12,
   "id": "1b210dea",
   "metadata": {},
   "outputs": [
    {
     "data": {
      "text/plain": [
       "'Fifty-five thousand years ago the whole world was 2°C warmer than it is today[...]'"
      ]
     },
     "execution_count": 12,
     "metadata": {},
     "output_type": "execute_result"
    }
   ],
   "source": [
    "idx = 0\n",
    "climate_df.query(\"claim_label == 'NOT_ENOUGH_INFO'\").iloc[4]['claim']"
   ]
  },
  {
   "cell_type": "code",
   "execution_count": 38,
   "id": "ad23fa42-17f5-4a7e-96b7-8733a414046f",
   "metadata": {},
   "outputs": [
    {
     "data": {
      "text/plain": [
       "'No climate model has predicted a cooling of the Earth – quite the  contrary.'"
      ]
     },
     "execution_count": 38,
     "metadata": {},
     "output_type": "execute_result"
    }
   ],
   "source": [
    "str(climate_df.query(\"claim_label == 'NOT_ENOUGH_INFO'\").iloc[idx]['claim'])"
   ]
  },
  {
   "cell_type": "code",
   "execution_count": 40,
   "id": "6ff5dce5-0cdf-4595-b8d0-af4f0c13d471",
   "metadata": {},
   "outputs": [
    {
     "data": {
      "text/plain": [
       "{'claim_id': {1391: '2819'},\n",
       " 'claim': {1391: 'More importantly, the OISM list only contains 39 scientists who specialise in climate science.'},\n",
       " 'claim_label': {1391: 'NOT_ENOUGH_INFO'},\n",
       " 'evidences': {1391: [{'evidence_id': 'Antarctica:17',\n",
       "    'evidence_label': 'NOT_ENOUGH_INFO',\n",
       "    'article': 'Antarctica',\n",
       "    'evidence': 'Ongoing experiments are conducted by more than 4,000 scientists from many nations.',\n",
       "    'entropy': 0.0,\n",
       "    'votes': ['NOT_ENOUGH_INFO', 'NOT_ENOUGH_INFO', None, None, None]},\n",
       "   {'evidence_id': 'Botany:1',\n",
       "    'evidence_label': 'NOT_ENOUGH_INFO',\n",
       "    'article': 'Botany',\n",
       "    'evidence': 'A botanist, plant scientist or phytologist is a scientist who specialises in this field.',\n",
       "    'entropy': 0.0,\n",
       "    'votes': ['NOT_ENOUGH_INFO', 'NOT_ENOUGH_INFO', None, None, None]},\n",
       "   {'evidence_id': 'List of climate scientists:3',\n",
       "    'evidence_label': 'NOT_ENOUGH_INFO',\n",
       "    'article': 'List of climate scientists',\n",
       "    'evidence': 'The list includes scientists from several specialities or disciplines.',\n",
       "    'entropy': 0.0,\n",
       "    'votes': ['NOT_ENOUGH_INFO', 'NOT_ENOUGH_INFO', None, None, None]},\n",
       "   {'evidence_id': 'Oregon Petition:40',\n",
       "    'evidence_label': 'NOT_ENOUGH_INFO',\n",
       "    'article': 'Oregon Petition',\n",
       "    'evidence': 'In 2001, Scientific American took a random sample \"of 30 of the 1,400 signatories claiming to hold a Ph.D. in a climate-related science.\"',\n",
       "    'entropy': 0.0,\n",
       "    'votes': ['NOT_ENOUGH_INFO', 'NOT_ENOUGH_INFO', None, None, None]},\n",
       "   {'evidence_id': 'Oregon Petition:43',\n",
       "    'evidence_label': 'NOT_ENOUGH_INFO',\n",
       "    'article': 'Oregon Petition',\n",
       "    'evidence': 'Crudely extrapolating, the petition supporters include a core of about 200 climate researchers – a respectable number, though rather a small fraction of the climatological community.',\n",
       "    'entropy': 0.0,\n",
       "    'votes': ['NOT_ENOUGH_INFO', 'NOT_ENOUGH_INFO', None, None, None]}]}}"
      ]
     },
     "execution_count": 40,
     "metadata": {},
     "output_type": "execute_result"
    }
   ],
   "source": [
    "climate_df.query(\"claim == 'More importantly, the OISM list only contains 39 scientists who specialise in climate science.'\").to_dict()"
   ]
  },
  {
   "cell_type": "code",
   "execution_count": 37,
   "id": "84d3decc",
   "metadata": {},
   "outputs": [
    {
     "name": "stdout",
     "output_type": "stream",
     "text": [
      "{\n",
      "    \"claim_id\": \"2206\",\n",
      "    \"claim\": \"No climate model has predicted a cooling of the Earth \\u2013 quite the  contrary.\",\n",
      "    \"claim_label\": \"NOT_ENOUGH_INFO\",\n",
      "    \"evidences\": [\n",
      "        {\n",
      "            \"evidence_id\": \"Eocene:57\",\n",
      "            \"evidence_label\": \"NOT_ENOUGH_INFO\",\n",
      "            \"article\": \"Eocene\",\n",
      "            \"evidence\": \"The models, while accurately predicting the tropics, tend to produce significantly cooler temperatures of up to 20\\u00a0\\u00b0C (36\\u00a0\\u00b0F) colder than the actual determined temperature at the poles.\",\n",
      "            \"entropy\": 0.6931471805599453,\n",
      "            \"votes\": [\n",
      "                \"REFUTES\",\n",
      "                \"SUPPORTS\",\n",
      "                null,\n",
      "                null,\n",
      "                null\n",
      "            ]\n",
      "        },\n",
      "        {\n",
      "            \"evidence_id\": \"Global warming:0\",\n",
      "            \"evidence_label\": \"NOT_ENOUGH_INFO\",\n",
      "            \"article\": \"Global warming\",\n",
      "            \"evidence\": \"Global warming is the long-term rise in the average temperature of the Earth's climate system.\",\n",
      "            \"entropy\": 0.6931471805599453,\n",
      "            \"votes\": [\n",
      "                \"REFUTES\",\n",
      "                \"NOT_ENOUGH_INFO\",\n",
      "                null,\n",
      "                null,\n",
      "                null\n",
      "            ]\n",
      "        },\n",
      "        {\n",
      "            \"evidence_id\": \"Ice age:51\",\n",
      "            \"evidence_label\": \"NOT_ENOUGH_INFO\",\n",
      "            \"article\": \"Ice age\",\n",
      "            \"evidence\": \"Most contemporary scientists thought that the Earth had been gradually cooling down since its birth as a molten globe.\",\n",
      "            \"entropy\": 0.6931471805599453,\n",
      "            \"votes\": [\n",
      "                \"REFUTES\",\n",
      "                \"SUPPORTS\",\n",
      "                null,\n",
      "                null,\n",
      "                null\n",
      "            ]\n",
      "        },\n",
      "        {\n",
      "            \"evidence_id\": \"Nuclear winter:13\",\n",
      "            \"evidence_label\": \"NOT_ENOUGH_INFO\",\n",
      "            \"article\": \"Nuclear winter\",\n",
      "            \"evidence\": \"The severity of this cooling in Alan Robock's model suggests that the cumulative products of 100 of these firestorms could cool the global climate by approximately 1\\u00a0\\u00b0C (1.8\\u00a0\\u00b0F), largely eliminating the magnitude of anthropogenic global warming for the next roughly two or three years.\",\n",
      "            \"entropy\": 0.6931471805599453,\n",
      "            \"votes\": [\n",
      "                \"REFUTES\",\n",
      "                \"SUPPORTS\",\n",
      "                null,\n",
      "                null,\n",
      "                null\n",
      "            ]\n",
      "        },\n",
      "        {\n",
      "            \"evidence_id\": \"Nuclear winter:155\",\n",
      "            \"evidence_label\": \"NOT_ENOUGH_INFO\",\n",
      "            \"article\": \"Nuclear winter\",\n",
      "            \"evidence\": \"The smoke resulting would be largely opaque to solar radiation but transparent to infrared, thus cooling the Earth by blocking sunlight, but not creating warming by enhancing the greenhouse effect.\",\n",
      "            \"entropy\": 0.6931471805599453,\n",
      "            \"votes\": [\n",
      "                \"REFUTES\",\n",
      "                \"SUPPORTS\",\n",
      "                null,\n",
      "                null,\n",
      "                null\n",
      "            ]\n",
      "        }\n",
      "    ]\n",
      "}\n"
     ]
    }
   ],
   "source": [
    "idx = 349\n",
    "print_item(climate_df.query(\"claim_label == 'NOT_ENOUGH_INFO'\").iloc[idx].to_dict())"
   ]
  },
  {
   "cell_type": "markdown",
   "id": "fedfb92e",
   "metadata": {
    "jp-MarkdownHeadingCollapsed": true,
    "tags": []
   },
   "source": [
    "## Explore Pub-Health"
   ]
  },
  {
   "cell_type": "code",
   "execution_count": 4,
   "id": "947501df",
   "metadata": {},
   "outputs": [
    {
     "name": "stdout",
     "output_type": "stream",
     "text": [
      "9832\n"
     ]
    }
   ],
   "source": [
    "pubhealth_df = pd.read_csv(os.path.join(pubhealth_root, 'train.tsv'), sep=\"\\t\")\n",
    "pubhealth_lst = pubhealth_df.to_dict('records')\n",
    "print(len(pubhealth_lst))"
   ]
  },
  {
   "cell_type": "code",
   "execution_count": 5,
   "id": "9da2e807",
   "metadata": {},
   "outputs": [
    {
     "name": "stdout",
     "output_type": "stream",
     "text": [
      "1221\n"
     ]
    }
   ],
   "source": [
    "pubhealth_df = pd.read_csv(os.path.join(pubhealth_root, 'dev.tsv'), sep=\"\\t\")\n",
    "pubhealth_lst = pubhealth_df.to_dict('records')\n",
    "print(len(pubhealth_lst))"
   ]
  },
  {
   "cell_type": "code",
   "execution_count": 6,
   "id": "7af5cf38",
   "metadata": {},
   "outputs": [
    {
     "name": "stdout",
     "output_type": "stream",
     "text": [
      "1235\n"
     ]
    }
   ],
   "source": [
    "pubhealth_df = pd.read_csv(os.path.join(pubhealth_root, 'test.tsv'), sep=\"\\t\")\n",
    "pubhealth_lst = pubhealth_df.to_dict('records')\n",
    "print(len(pubhealth_lst))"
   ]
  },
  {
   "cell_type": "code",
   "execution_count": 7,
   "id": "4d65c76c",
   "metadata": {},
   "outputs": [
    {
     "data": {
      "text/plain": [
       "true        599\n",
       "false       388\n",
       "mixture     201\n",
       "unproven     45\n",
       "Name: label, dtype: int64"
      ]
     },
     "execution_count": 7,
     "metadata": {},
     "output_type": "execute_result"
    }
   ],
   "source": [
    "pubhealth_df['label'].value_counts()"
   ]
  },
  {
   "cell_type": "code",
   "execution_count": 8,
   "id": "09e480b3-0ae4-4ad5-bd1d-14ed5f029628",
   "metadata": {},
   "outputs": [
    {
     "data": {
      "text/html": [
       "<div>\n",
       "<style scoped>\n",
       "    .dataframe tbody tr th:only-of-type {\n",
       "        vertical-align: middle;\n",
       "    }\n",
       "\n",
       "    .dataframe tbody tr th {\n",
       "        vertical-align: top;\n",
       "    }\n",
       "\n",
       "    .dataframe thead th {\n",
       "        text-align: right;\n",
       "    }\n",
       "</style>\n",
       "<table border=\"1\" class=\"dataframe\">\n",
       "  <thead>\n",
       "    <tr style=\"text-align: right;\">\n",
       "      <th></th>\n",
       "      <th>Unnamed: 0</th>\n",
       "      <th>claim_id</th>\n",
       "      <th>claim</th>\n",
       "      <th>date_published</th>\n",
       "      <th>explanation</th>\n",
       "      <th>fact_checkers</th>\n",
       "      <th>main_text</th>\n",
       "      <th>sources</th>\n",
       "      <th>label</th>\n",
       "      <th>subjects</th>\n",
       "    </tr>\n",
       "  </thead>\n",
       "  <tbody>\n",
       "    <tr>\n",
       "      <th>0</th>\n",
       "      <td>0</td>\n",
       "      <td>33456</td>\n",
       "      <td>A mother revealed to her child in a letter aft...</td>\n",
       "      <td>November 6, 2011</td>\n",
       "      <td>The one-eyed mother story expounds upon two mo...</td>\n",
       "      <td>David Mikkelson</td>\n",
       "      <td>In April 2005, we spotted a tearjerker on the ...</td>\n",
       "      <td></td>\n",
       "      <td>false</td>\n",
       "      <td>Glurge Gallery</td>\n",
       "    </tr>\n",
       "  </tbody>\n",
       "</table>\n",
       "</div>"
      ],
      "text/plain": [
       "   Unnamed: 0  claim_id                                              claim  \\\n",
       "0           0     33456  A mother revealed to her child in a letter aft...   \n",
       "\n",
       "     date_published                                        explanation  \\\n",
       "0  November 6, 2011  The one-eyed mother story expounds upon two mo...   \n",
       "\n",
       "     fact_checkers                                          main_text sources  \\\n",
       "0  David Mikkelson  In April 2005, we spotted a tearjerker on the ...           \n",
       "\n",
       "   label        subjects  \n",
       "0  false  Glurge Gallery  "
      ]
     },
     "execution_count": 8,
     "metadata": {},
     "output_type": "execute_result"
    }
   ],
   "source": [
    "pubhealth_df.head(1)"
   ]
  },
  {
   "cell_type": "code",
   "execution_count": 9,
   "id": "02e4142c",
   "metadata": {},
   "outputs": [
    {
     "name": "stdout",
     "output_type": "stream",
     "text": [
      "{\n",
      "    \"Unnamed: 0\": 2,\n",
      "    \"claim_id\": 26678,\n",
      "    \"claim\": \"Viral image Says 80% of novel coronavirus cases are \\\"mild.\",\n",
      "    \"date_published\": \"March 13, 2020\",\n",
      "    \"explanation\": \"The website Information is Beautiful published a chart showing that 80.9% of novel coronavirus cases are \\\"mild.\\\" PolitiFact couldn't find credible studies that matched that precise estimate. But reports from the World Health Organization and the U.S. CDC found that mild cases account for 75-to-80% of all cases.\",\n",
      "    \"fact_checkers\": \"Paul Specht\",\n",
      "    \"main_text\": \"Amid the spread of the novel coronavirus, many people are wondering how likely they are to get it. Often, their second question is: If I get coronavirus, how likely am I to survive it? One chart, created by the website Information is Beautiful, says that 80% of coronavirus cases are \\\"mild.\\\" So is that true? The chart is a tad misleading. It makes a blanket statement about the virus while basing its claim on a study by China\\u2019s Center for Disease Control and Prevention, and a website called Statistica. The post doesn\\u2019t include links to the reports. An important note: The percentage of mild cases shouldn\\u2019t be confused with your likelihood of surviving a stint of the virus, also known as COVID-19. Mortality rates differ depending on a person\\u2019s age and health. The virus is relatively new. So there\\u2019s a lot researchers have yet to nail down. That said, the post is mostly consistent with available data. In February, CNN reported on the release of the study conducted by the Chinese Center for Disease Control and Prevention and published in the Chinese Journal of Epidemiology. The study itself said that in confirmed coronavirus cases, 70% were \\\"normal,\\\" 25.5% were \\\"severe\\\" and 4.5% were \\\"light.\\\" But Tedros Adhanom Ghebreyesus, director-general of World Health Organization, said during a press conference on Feb. 17 that more than 80% of patients \\\"have mild disease and will recover.\\\" Meanwhile, 13.8% of cases suffer severe symptoms and 6.1% are critical. The U.S. Centers for Disease Control and Prevention\\u2019s website on March 13 said a \\\"complete clinical picture with regard to COVID-19 is not fully known.\\\" However, the CDC said \\\"most cases\\\" are mild, citing a study published in the New England Journal of Medicine. That study looked at medical records for coronavirus patients documented by the National Health Commission between Dec. 11 and Jan. 29. \\\"On admission, the degree of severity of COVID-19 was categorized as nonsevere in 926 patients and severe in 173 patients,\\\" the study reads. That means 84 percent were considered non-severe. Age and baseline health were factors in whether a patient\\u2019s illness became severe, the study said. \\\"Patients with severe disease were older than those with nonsevere disease by a median of seven years. Moreover, the presence of any coexisting illness was more common among patients with severe disease than among those with nonsevere disease,\\\" it said. The chart says 80.9% of cases are mild. It\\u2019s important to note that different age groups have had different levels of severity. However, generally speaking, the chart is on track. We found that mild cases account for roughly 75-to-80% of cases, according to studies published by the WHO and CDC. The statement is mostly accurate but needs clarification or additional information.\",\n",
      "    \"sources\": \"https://www.facebook.com/informationisbeautiful/photos/a.10157864012508418/10157864012758418/?type=3&theater, https://www.who.int/docs/default-source/coronaviruse/20200312-sitrep-52-covid-19.pdf?sfvrsn=e2bfc9c0_2, https://www.cnn.com/2020/02/19/health/coronavirus-china-sars-mers-intl-hnk/index.html, https://www.nejm.org/doi/full/10.1056/NEJMoa2002032, https://www.cdc.gov/coronavirus/2019-ncov/summary.html, http://rs.yiigle.com/yufabiao/1181136.htm, https://www.who.int/docs/default-source/coronaviruse/who-china-joint-mission-on-covid-19-final-report.pdf\",\n",
      "    \"label\": \"true\",\n",
      "    \"subjects\": \"Facebook Fact-checks, Coronavirus, Viral image, \"\n",
      "}\n"
     ]
    }
   ],
   "source": [
    "print_item(pubhealth_df.query(\"label == 'true'\").iloc[1].to_dict())"
   ]
  },
  {
   "cell_type": "code",
   "execution_count": 10,
   "id": "5617690c",
   "metadata": {},
   "outputs": [
    {
     "name": "stdout",
     "output_type": "stream",
     "text": [
      "Houston reports 3 teens treated for vape-related lung issues. \n",
      "\n",
      "The Houston Health Department announced Tuesday the hospitalizations took place within the past month Dr. David Persse, who is health authority for the Houston Health Department and EMS medical director, says all three teenagers are doing well and improving. Two of the teenagers are no longer hospitalized. Persse declined to provide additional information about the three due to privacy laws. Health officials in Dallas County on Tuesday reported they had identified 14 probable or confirmed cases of severe respiratory illness related to e-cigarettes. The Centers for Disease Control and Prevention has identified over 450 possible cases in 33 states of lung disease related to vaping, including as many as five deaths.\n"
     ]
    }
   ],
   "source": [
    "d = pubhealth_df.query(\"label == 'true'\").iloc[10].to_dict()\n",
    "print(d['claim'], \"\\n\")\n",
    "print(d['main_text'])"
   ]
  },
  {
   "cell_type": "code",
   "execution_count": 11,
   "id": "a63a6b2c",
   "metadata": {},
   "outputs": [
    {
     "data": {
      "text/plain": [
       "{'Unnamed: 0': 24,\n",
       " 'claim_id': 4078,\n",
       " 'claim': 'Houston reports 3 teens treated for vape-related lung issues.',\n",
       " 'date_published': nan,\n",
       " 'explanation': 'Houston health officials say three teenagers have been hospitalized with serious lung illnesses following electronic cigarette use and vaping.',\n",
       " 'fact_checkers': ' ',\n",
       " 'main_text': 'The Houston Health Department announced Tuesday the hospitalizations took place within the past month Dr. David Persse, who is health authority for the Houston Health Department and EMS medical director, says all three teenagers are doing well and improving. Two of the teenagers are no longer hospitalized. Persse declined to provide additional information about the three due to privacy laws. Health officials in Dallas County on Tuesday reported they had identified 14 probable or confirmed cases of severe respiratory illness related to e-cigarettes. The Centers for Disease Control and Prevention has identified over 450 possible cases in 33 states of lung disease related to vaping, including as many as five deaths.',\n",
       " 'sources': ' ',\n",
       " 'label': 'true',\n",
       " 'subjects': 'Health, Lung disease, General News, Houston'}"
      ]
     },
     "execution_count": 11,
     "metadata": {},
     "output_type": "execute_result"
    }
   ],
   "source": [
    "d"
   ]
  },
  {
   "cell_type": "markdown",
   "id": "d2d9f67e",
   "metadata": {
    "jp-MarkdownHeadingCollapsed": true,
    "tags": []
   },
   "source": [
    "## Compute token length"
   ]
  },
  {
   "cell_type": "code",
   "execution_count": 153,
   "id": "db349dfb",
   "metadata": {},
   "outputs": [],
   "source": [
    "fever_df['claim_length'] = fever_df['claim'].apply(lambda x: len(x.split()))"
   ]
  },
  {
   "cell_type": "code",
   "execution_count": 155,
   "id": "1d840ec8",
   "metadata": {},
   "outputs": [
    {
     "data": {
      "text/plain": [
       "8.101389490474324"
      ]
     },
     "execution_count": 155,
     "metadata": {},
     "output_type": "execute_result"
    }
   ],
   "source": [
    "fever_df['claim_length'].mean()"
   ]
  },
  {
   "cell_type": "code",
   "execution_count": 163,
   "id": "a75517aa",
   "metadata": {},
   "outputs": [],
   "source": [
    "pubhealth_df['claim_length'] = pubhealth_df['claim'].apply(lambda x: len(str(x).split()))"
   ]
  },
  {
   "cell_type": "code",
   "execution_count": 165,
   "id": "3274528c",
   "metadata": {},
   "outputs": [
    {
     "data": {
      "text/plain": [
       "13.935720097640358"
      ]
     },
     "execution_count": 165,
     "metadata": {},
     "output_type": "execute_result"
    }
   ],
   "source": [
    "pubhealth_df['claim_length'].mean()"
   ]
  },
  {
   "cell_type": "code",
   "execution_count": 173,
   "id": "ab9a2f9a",
   "metadata": {},
   "outputs": [],
   "source": [
    "climate_df['claim_length'] = climate_df['claim'].apply(lambda x: len(x.split()))"
   ]
  },
  {
   "cell_type": "code",
   "execution_count": 175,
   "id": "14afaf17",
   "metadata": {},
   "outputs": [
    {
     "data": {
      "text/plain": [
       "20.190879478827362"
      ]
     },
     "execution_count": 175,
     "metadata": {},
     "output_type": "execute_result"
    }
   ],
   "source": [
    "climate_df['claim_length'].mean()"
   ]
  },
  {
   "cell_type": "markdown",
   "id": "ea53db90-bcfe-4c65-a5f0-909ca354e831",
   "metadata": {},
   "source": [
    "## Get Raw Data Samples"
   ]
  },
  {
   "cell_type": "code",
   "execution_count": 2,
   "id": "812b6563-4acc-47af-b448-31d57be3c1b7",
   "metadata": {},
   "outputs": [],
   "source": [
    "import json\n",
    "import os\n",
    "import pandas as pd\n",
    "import csv\n",
    "import random\n",
    "\n",
    "root = '../data_2023_06_02'\n",
    "fever_root = os.path.join(root, 'raw/FEVER')\n",
    "climate_root = os.path.join(root, 'raw/CLIMATE-FEVER')\n",
    "pubhealth_root = os.path.join(root, 'raw/PUBHEALTH')"
   ]
  },
  {
   "cell_type": "code",
   "execution_count": 3,
   "id": "6a3e3941-271e-44c8-bc88-37dd662ae9d3",
   "metadata": {},
   "outputs": [],
   "source": [
    "with open(os.path.join(fever_root, 'train.jsonl'), 'r') as f:\n",
    "    fever_train = [json.loads(item) for item in list(f)]\n",
    "\n",
    "with open(os.path.join(fever_root, 'paper_dev.jsonl'), 'r') as f:\n",
    "    fever_dev = [json.loads(item) for item in list(f)]\n",
    "\n",
    "with open(os.path.join(fever_root, 'paper_test.jsonl'), 'r') as f:\n",
    "    fever_test = [json.loads(item) for item in list(f)]\n",
    "\n",
    "pubhealth_train = pd.read_csv(os.path.join(pubhealth_root, 'train.tsv'), sep=\"\\t\").to_dict('records')\n",
    "pubhealth_dev = pd.read_csv(os.path.join(pubhealth_root, 'dev.tsv'), sep=\"\\t\").to_dict('records')\n",
    "pubhealth_test = pd.read_csv(os.path.join(pubhealth_root, 'test.tsv'), sep=\"\\t\").to_dict('records')\n",
    "\n",
    "with open(os.path.join(climate_root, 'climate-fever-dataset-r1.jsonl'), 'r') as f:\n",
    "    climate = [json.loads(item) for item in list(f)]"
   ]
  },
  {
   "cell_type": "code",
   "execution_count": 4,
   "id": "c0a0b344-7cef-4993-a545-7d89cf4cee3f",
   "metadata": {},
   "outputs": [],
   "source": [
    "def get_entry(ds, idx=None):\n",
    "    if idx is None:\n",
    "        idx = random.randint(0, len(ds)-1)\n",
    "    print(\"idx: \", idx)\n",
    "    return ds[idx]"
   ]
  },
  {
   "cell_type": "code",
   "execution_count": 11,
   "id": "ef21dce0-a7d6-4b74-9a58-d79bfc931f8b",
   "metadata": {},
   "outputs": [
    {
     "name": "stdout",
     "output_type": "stream",
     "text": [
      "idx:  123\n"
     ]
    },
    {
     "data": {
      "text/plain": [
       "{'Unnamed: 0': 123,\n",
       " 'claim_id': 34356,\n",
       " 'claim': 'During the August 2017 solar eclipse, some people in California applied sunscreen to their eyeballs in a mistaken attempt to protect their eyes from damage.',\n",
       " 'date_published': 'September 5, 2017',\n",
       " 'explanation': 'Interestingly, two ophthalmologists told us they had seen patients who complained of eye damage after the eclipse, but after inspection it turned out none of them actually had any injury. This is obviously a small sample, but it could suggest that the purported incidents in Redding, California — if they did take place at all — were extremely rare.',\n",
       " 'fact_checkers': 'Dan MacGuill',\n",
       " 'main_text': 'After the solar eclipse that crossed the United States on 21 August 2017, several national and international news organizations reported that people had applied sunscreen to their eyes in the mistaken hope of avoiding damage during the eclipse. For example,\\xa0Fox News reported “Health professionals report cases where people put sunscreen on their eyeballs to watch eclipse.” Forbes magazine wrote “For the eclipse, people put sunscreen on their eyeballs” and in the UK, the Independent wrote “Eclipse 2017: People treated for putting sun tan lotion on eyeballs to watch solar event”. All of these stories depend on one thing: the unverified account of a single person in one location who related what a colleague had purportedly told her. On 22 August 2017, the day after the eclipse, the Redding, California television news channel KRCR published a report which quoted a local nurse practitioner: According to Redding Nurse Practitioner Trish Patterson, some people have reported pain after they put sunscreen in their eye’s Monday because they did not have protective glasses to watch the eclipse. “One of my colleagues at moonlight here stated yesterday that they had patients presenting at their clinic that put sunscreen on their eyeball, and presented that they were having pain and they were referred to an ophthalmologist,” Patterson said. We attempted to contact Patterson on more than one occasion but were unable to track her down, so we were unable to ask her for evidence that might support or corroborate her claim or to speak to the colleague who purportedly told her about the patients. Therefore, we cannot say whether anyone in the Redding, California area did in fact apply sunscreen to their eyes in advance of the solar eclipse in August 2017. It is certainly possible, but it is also possible that a miscommunication (including the possibility of a misunderstood joke or undetected irony) happened at several stages: between Patterson and the KRCR reporter; between Patterson and her colleague; and between her colleague and someone else, if the colleague was not present when the patients purportedly presented themselves. We contacted an ophthalmologist and three urgent care clinics in Redding, California (other than Patterson’s own), and none of them reported seeing any patients with any eye damage related to the solar eclipse. We also tried to find other instances of people putting sunscreen on their eyeballs \\xa0by selecting 13 cities across the United States where the eclipse coverage was similar to that in Redding (around 86 percent of the sun was covered), and calling urgent care clinics and ophthalmologists. None reported seeing any patients who had applied sunscreen to their eyes. In fact, only one said they had seen “a few” patients with any sort of eye damage from the eclipse.',\n",
       " 'sources': 'http://archive.is/IxBM6, http://archive.is/UKtjd, https://www.google.com/search?q=sunscreen+eyes+eclipse&safe=off&source=lnms&tbm=nws&sa=X&ved=0ahUKEwjZtKn-847WAhUCI8AKHcnsCA4Q_AUIDCgD&biw=1422&bih=704, http://archive.is/SdWpQ, http://archive.is/afUFZ',\n",
       " 'label': 'unproven',\n",
       " 'subjects': 'Medical, california, eclipse, solar eclipse'}"
      ]
     },
     "execution_count": 11,
     "metadata": {},
     "output_type": "execute_result"
    }
   ],
   "source": [
    "# examples\n",
    "# fever_train: 58373\n",
    "# pubhealth_train: 5142\n",
    "# climate: 389\n",
    "get_entry(pubhealth_test, 123)"
   ]
  },
  {
   "cell_type": "code",
   "execution_count": 13,
   "id": "72409fb8-8ecf-46f6-a5bb-f4d60faa4e5b",
   "metadata": {
    "scrolled": true
   },
   "outputs": [],
   "source": [
    "import pandas as pd"
   ]
  },
  {
   "cell_type": "code",
   "execution_count": 15,
   "id": "74e01df5-2bc6-448d-9c83-fbe2b5fa89e8",
   "metadata": {},
   "outputs": [],
   "source": [
    "climate_df = pd.DataFrame.from_records(climate)"
   ]
  },
  {
   "cell_type": "code",
   "execution_count": 19,
   "id": "b98e6345-6d08-462c-8e76-fba6c8f0d031",
   "metadata": {},
   "outputs": [
    {
     "data": {
      "text/html": [
       "<div>\n",
       "<style scoped>\n",
       "    .dataframe tbody tr th:only-of-type {\n",
       "        vertical-align: middle;\n",
       "    }\n",
       "\n",
       "    .dataframe tbody tr th {\n",
       "        vertical-align: top;\n",
       "    }\n",
       "\n",
       "    .dataframe thead th {\n",
       "        text-align: right;\n",
       "    }\n",
       "</style>\n",
       "<table border=\"1\" class=\"dataframe\">\n",
       "  <thead>\n",
       "    <tr style=\"text-align: right;\">\n",
       "      <th></th>\n",
       "      <th>claim_id</th>\n",
       "      <th>claim</th>\n",
       "      <th>claim_label</th>\n",
       "      <th>evidences</th>\n",
       "    </tr>\n",
       "  </thead>\n",
       "  <tbody>\n",
       "    <tr>\n",
       "      <th>265</th>\n",
       "      <td>578</td>\n",
       "      <td>‘If we do nothing to reduce our greenhouse gas...</td>\n",
       "      <td>SUPPORTS</td>\n",
       "      <td>[{'evidence_id': 'Carbon dioxide in Earth's at...</td>\n",
       "    </tr>\n",
       "    <tr>\n",
       "      <th>266</th>\n",
       "      <td>581</td>\n",
       "      <td>the kind of extreme heat we saw this past summ...</td>\n",
       "      <td>SUPPORTS</td>\n",
       "      <td>[{'evidence_id': 'Climate change in Australia:...</td>\n",
       "    </tr>\n",
       "  </tbody>\n",
       "</table>\n",
       "</div>"
      ],
      "text/plain": [
       "    claim_id                                              claim claim_label  \\\n",
       "265      578  ‘If we do nothing to reduce our greenhouse gas...    SUPPORTS   \n",
       "266      581  the kind of extreme heat we saw this past summ...    SUPPORTS   \n",
       "\n",
       "                                             evidences  \n",
       "265  [{'evidence_id': 'Carbon dioxide in Earth's at...  \n",
       "266  [{'evidence_id': 'Climate change in Australia:...  "
      ]
     },
     "execution_count": 19,
     "metadata": {},
     "output_type": "execute_result"
    }
   ],
   "source": [
    "climate_df[climate_df['claim'].str.contains(\"the kind of extreme heat we saw this past summer\")]"
   ]
  },
  {
   "cell_type": "code",
   "execution_count": 20,
   "id": "a3ab4673-1323-41c2-b617-885dbabf01b9",
   "metadata": {},
   "outputs": [
    {
     "data": {
      "text/plain": [
       "{'claim_id': '581',\n",
       " 'claim': 'the kind of extreme heat we saw this past summer will be the norm',\n",
       " 'claim_label': 'SUPPORTS',\n",
       " 'evidences': [{'evidence_id': 'Climate change in Australia:122',\n",
       "   'evidence_label': 'SUPPORTS',\n",
       "   'article': 'Climate change in Australia',\n",
       "   'evidence': 'August 2018 was hotter and windier than the average.',\n",
       "   'entropy': 0.0,\n",
       "   'votes': ['SUPPORTS', 'SUPPORTS', None, None, None]},\n",
       "  {'evidence_id': 'Climate change in Australia:135',\n",
       "   'evidence_label': 'NOT_ENOUGH_INFO',\n",
       "   'article': 'Climate change in Australia',\n",
       "   'evidence': 'Summer 2013–14 was warmer than average for the entirety of Australia.',\n",
       "   'entropy': 0.6931471805599453,\n",
       "   'votes': ['REFUTES', 'SUPPORTS', None, None, None]},\n",
       "  {'evidence_id': 'Perth:82',\n",
       "   'evidence_label': 'NOT_ENOUGH_INFO',\n",
       "   'article': 'Perth',\n",
       "   'evidence': 'Summers are generally hot and dry, lasting from December to March, with February generally the hottest month.',\n",
       "   'entropy': 0.6931471805599453,\n",
       "   'votes': ['REFUTES', 'SUPPORTS', None, None, None]},\n",
       "  {'evidence_id': 'Sydney:150',\n",
       "   'evidence_label': 'SUPPORTS',\n",
       "   'article': 'Sydney',\n",
       "   'evidence': 'Under the Köppen–Geiger classification, Sydney has a humid subtropical climate (Cfa) with warm summers, cool winters and uniform rainfall throughout the year.',\n",
       "   'entropy': 0.0,\n",
       "   'votes': ['SUPPORTS', 'SUPPORTS', None, None, None]},\n",
       "  {'evidence_id': 'Sydney:176',\n",
       "   'evidence_label': 'NOT_ENOUGH_INFO',\n",
       "   'article': 'Sydney',\n",
       "   'evidence': 'The summer of 2007–08, however, proved to be the coolest since 1996–97 and is the only summer this century to be at or below average in temperatures.',\n",
       "   'entropy': 0.6931471805599453,\n",
       "   'votes': ['REFUTES', 'SUPPORTS', None, None, None]}]}"
      ]
     },
     "execution_count": 20,
     "metadata": {},
     "output_type": "execute_result"
    }
   ],
   "source": [
    "climate_df.loc[266].to_dict()"
   ]
  },
  {
   "cell_type": "code",
   "execution_count": 21,
   "id": "7c154b2c-9a2c-4109-9728-de1a23c135f3",
   "metadata": {},
   "outputs": [],
   "source": [
    "fever_test_df = pd.DataFrame.from_records(fever_test)"
   ]
  },
  {
   "cell_type": "code",
   "execution_count": 27,
   "id": "1a8aa2d1-7ca5-4c45-bc93-6c9258e532a6",
   "metadata": {},
   "outputs": [
    {
     "data": {
      "text/html": [
       "<div>\n",
       "<style scoped>\n",
       "    .dataframe tbody tr th:only-of-type {\n",
       "        vertical-align: middle;\n",
       "    }\n",
       "\n",
       "    .dataframe tbody tr th {\n",
       "        vertical-align: top;\n",
       "    }\n",
       "\n",
       "    .dataframe thead th {\n",
       "        text-align: right;\n",
       "    }\n",
       "</style>\n",
       "<table border=\"1\" class=\"dataframe\">\n",
       "  <thead>\n",
       "    <tr style=\"text-align: right;\">\n",
       "      <th></th>\n",
       "      <th>id</th>\n",
       "      <th>verifiable</th>\n",
       "      <th>label</th>\n",
       "      <th>claim</th>\n",
       "      <th>evidence</th>\n",
       "    </tr>\n",
       "  </thead>\n",
       "  <tbody>\n",
       "    <tr>\n",
       "      <th>3343</th>\n",
       "      <td>163795</td>\n",
       "      <td>VERIFIABLE</td>\n",
       "      <td>SUPPORTS</td>\n",
       "      <td>Ukrainian Soviet Socialist Republic was a foun...</td>\n",
       "      <td>[[[188458, 199861, Ukrainian_Soviet_Socialist_...</td>\n",
       "    </tr>\n",
       "    <tr>\n",
       "      <th>3646</th>\n",
       "      <td>163813</td>\n",
       "      <td>NOT VERIFIABLE</td>\n",
       "      <td>NOT ENOUGH INFO</td>\n",
       "      <td>Ukrainian Soviet Socialist Republic was a foun...</td>\n",
       "      <td>[[[188474, None, None, None]]]</td>\n",
       "    </tr>\n",
       "  </tbody>\n",
       "</table>\n",
       "</div>"
      ],
      "text/plain": [
       "          id      verifiable            label  \\\n",
       "3343  163795      VERIFIABLE         SUPPORTS   \n",
       "3646  163813  NOT VERIFIABLE  NOT ENOUGH INFO   \n",
       "\n",
       "                                                  claim  \\\n",
       "3343  Ukrainian Soviet Socialist Republic was a foun...   \n",
       "3646  Ukrainian Soviet Socialist Republic was a foun...   \n",
       "\n",
       "                                               evidence  \n",
       "3343  [[[188458, 199861, Ukrainian_Soviet_Socialist_...  \n",
       "3646                     [[[188474, None, None, None]]]  "
      ]
     },
     "execution_count": 27,
     "metadata": {},
     "output_type": "execute_result"
    }
   ],
   "source": [
    "fever_test_df[fever_test_df['claim'].str.contains(\"Ukrainian Soviet Socialist Republic was a founding member of the UN.\")]"
   ]
  }
 ],
 "metadata": {
  "kernelspec": {
   "display_name": "Python 3 (ipykernel)",
   "language": "python",
   "name": "python3"
  },
  "language_info": {
   "codemirror_mode": {
    "name": "ipython",
    "version": 3
   },
   "file_extension": ".py",
   "mimetype": "text/x-python",
   "name": "python",
   "nbconvert_exporter": "python",
   "pygments_lexer": "ipython3",
   "version": "3.8.12"
  }
 },
 "nbformat": 4,
 "nbformat_minor": 5
}
