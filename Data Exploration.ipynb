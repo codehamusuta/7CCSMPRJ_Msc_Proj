{
 "cells": [
  {
   "cell_type": "code",
   "execution_count": 1,
   "id": "40312550",
   "metadata": {},
   "outputs": [],
   "source": [
    "import json\n",
    "import os\n",
    "import pandas as pd\n",
    "import csv"
   ]
  },
  {
   "cell_type": "code",
   "execution_count": 2,
   "id": "200dc12b",
   "metadata": {},
   "outputs": [],
   "source": [
    "fever_root = '../Data/FEVER/'\n",
    "climate_root = '../Data/CLIMATE-FEVER/'\n",
    "pubhealth_root = '../Data/PUBHEALTH/'"
   ]
  },
  {
   "cell_type": "code",
   "execution_count": 3,
   "id": "0c3073d1",
   "metadata": {},
   "outputs": [],
   "source": [
    "def print_item(item):\n",
    "    print(json.dumps(item, indent=4))"
   ]
  },
  {
   "cell_type": "markdown",
   "id": "a3400e8d",
   "metadata": {},
   "source": [
    "## Explore Fever"
   ]
  },
  {
   "cell_type": "markdown",
   "id": "666d3a15",
   "metadata": {},
   "source": [
    "#### Load wiki data"
   ]
  },
  {
   "cell_type": "code",
   "execution_count": 4,
   "id": "ba60cf79",
   "metadata": {},
   "outputs": [
    {
     "name": "stdout",
     "output_type": "stream",
     "text": [
      "5416537\n"
     ]
    }
   ],
   "source": [
    "fdir = os.path.join(fever_root, 'wiki-pages/wiki-pages')\n",
    "wiki_lst = []\n",
    "for fn in os.listdir(fdir):\n",
    "    with open(os.path.join(fdir, fn), 'r') as file:\n",
    "        lst = [json.loads(item) for item in list(file)]\n",
    "        wiki_lst = wiki_lst + lst\n",
    "print(len(wiki_lst))"
   ]
  },
  {
   "cell_type": "code",
   "execution_count": 5,
   "id": "52cf38b7",
   "metadata": {},
   "outputs": [],
   "source": [
    "wiki_df = pd.DataFrame.from_records(wiki_lst)"
   ]
  },
  {
   "cell_type": "code",
   "execution_count": 7,
   "id": "fff8044c",
   "metadata": {},
   "outputs": [
    {
     "name": "stdout",
     "output_type": "stream",
     "text": [
      "0\tRatatouille -LRB- -LSB- rætəˈtuːiː -RSB- -LSB- ʁatatuj -RSB- -RRB- is a 2007 American computer-animated comedy film produced by Pixar and released by Buena Vista Pictures Distribution .\tBuena Vista Pictures Distribution\tWalt Disney Studios Motion Pictures\tcomputer-animated\tcomputer-animated\tcomedy film\tcomedy film\tPixar\tPixar\n",
      "1\tIt is the eighth film produced by Pixar and was co-written and directed by Brad Bird , who took over from Jan Pinkava in 2005 .\tBrad Bird\tBrad Bird\tJan Pinkava\tJan Pinkava\tPixar\tPixar\n",
      "2\tThe title refers to a French dish , `` ratatouille '' , which is served at the end of the film and is also a play on words about the species of the main character .\tratatouille\tratatouille\n",
      "3\tThe film stars the voices of Patton Oswalt as Remy , an anthropomorphic rat who is interested in cooking ; Lou Romano as Linguini , a young garbage boy who befriends Remy ; Ian Holm as Skinner , the head chef of Auguste Gusteau 's restaurant ; Janeane Garofalo as Colette , a rôtisseur at Gusteau 's restaurant ; Peter O'Toole as Anton Ego , a restaurant critic ; Brian Dennehy as Django , Remy 's father and leader of his clan ; Peter Sohn as Emile , Remy 's older brother ; and Brad Garrett as Auguste Gusteau , a recently deceased chef .\tPatton Oswalt\tPatton Oswalt\tIan Holm\tIan Holm\tLou Romano\tLou Romano\tBrian Dennehy\tBrian Dennehy\tPeter Sohn\tPeter Sohn\tPeter O'Toole\tPeter O'Toole\tBrad Garrett\tBrad Garrett\tJaneane Garofalo\tJaneane Garofalo\trat\trat\trôtisseur\trôtisseur\n",
      "4\tThe plot follows Remy , who dreams of becoming a chef and tries to achieve his goal by forming an alliance with a Parisian restaurant 's garbage boy .\n",
      "5\t\n",
      "6\t\n",
      "7\tDevelopment of Ratatouille began in 2000 when Pinkava wrote the original concepts of the film .\n",
      "8\tIn 2005 , Bird was approached to direct the film and revise the story .\n",
      "9\tBird and some of the film 's crew members also visited Paris for inspiration .\n",
      "10\tTo create the food animation used in the film , the crew consulted chefs from both France and the United States .\n",
      "11\tBird also interned at Thomas Keller 's The French Laundry restaurant , where Keller developed the confit byaldi , a dish used in the film .\tThomas Keller\tThomas Keller\tThe French Laundry\tThe French Laundry\tconfit byaldi\tconfit byaldi\n",
      "12\t\n",
      "13\t\n",
      "14\tRatatouille premiered on June 22 , 2007 , at the Kodak Theatre in Los Angeles , California , with its general release June 29 , 2007 , in the United States .\tKodak Theatre\tDolby Theatre\tLos Angeles\tLos Angeles\tCalifornia\tCalifornia\n",
      "15\tThe film grossed at the box office and received universal acclaim .\n",
      "16\tThe film later won the Academy Award for Best Animated Feature , among other honors .\tAcademy Award for Best Animated Feature\tAcademy Award for Best Animated Feature\n",
      "17\t\n"
     ]
    }
   ],
   "source": [
    "print(wiki_df[wiki_df['id'] == 'Ratatouille_-LRB-film-RRB-']['lines'].values[0])"
   ]
  },
  {
   "cell_type": "markdown",
   "id": "bc452fed",
   "metadata": {},
   "source": [
    "#### Load fever train data"
   ]
  },
  {
   "cell_type": "code",
   "execution_count": 29,
   "id": "e261c581",
   "metadata": {},
   "outputs": [
    {
     "name": "stdout",
     "output_type": "stream",
     "text": [
      "145449\n"
     ]
    }
   ],
   "source": [
    "with open(os.path.join(fever_root, 'train.jsonl'), 'r') as f:\n",
    "    fever_lst = [json.loads(item) for item in list(f)]\n",
    "    print(len(fever_lst))"
   ]
  },
  {
   "cell_type": "code",
   "execution_count": 30,
   "id": "a6113126",
   "metadata": {},
   "outputs": [
    {
     "name": "stdout",
     "output_type": "stream",
     "text": [
      "9999\n"
     ]
    }
   ],
   "source": [
    "with open(os.path.join(fever_root, 'paper_dev.jsonl'), 'r') as f:\n",
    "    fever_lst = [json.loads(item) for item in list(f)]\n",
    "    print(len(fever_lst))"
   ]
  },
  {
   "cell_type": "code",
   "execution_count": 31,
   "id": "94fe41d0",
   "metadata": {},
   "outputs": [
    {
     "name": "stdout",
     "output_type": "stream",
     "text": [
      "9999\n"
     ]
    }
   ],
   "source": [
    "with open(os.path.join(fever_root, 'paper_test.jsonl'), 'r') as f:\n",
    "    fever_lst = [json.loads(item) for item in list(f)]\n",
    "    print(len(fever_lst))"
   ]
  },
  {
   "cell_type": "code",
   "execution_count": 184,
   "id": "4ef8c77c",
   "metadata": {},
   "outputs": [
    {
     "data": {
      "text/plain": [
       "165447"
      ]
     },
     "execution_count": 184,
     "metadata": {},
     "output_type": "execute_result"
    }
   ],
   "source": [
    "145449 + 9999 + 9999"
   ]
  },
  {
   "cell_type": "code",
   "execution_count": 7,
   "id": "a0741852",
   "metadata": {},
   "outputs": [],
   "source": [
    "fever_df = pd.DataFrame.from_records(fever_lst)"
   ]
  },
  {
   "cell_type": "code",
   "execution_count": 8,
   "id": "9127cf20",
   "metadata": {},
   "outputs": [
    {
     "data": {
      "text/plain": [
       "NOT ENOUGH INFO    3333\n",
       "SUPPORTS           3333\n",
       "REFUTES            3333\n",
       "Name: label, dtype: int64"
      ]
     },
     "execution_count": 8,
     "metadata": {},
     "output_type": "execute_result"
    }
   ],
   "source": [
    "fever_df['label'].value_counts()"
   ]
  },
  {
   "cell_type": "code",
   "execution_count": 9,
   "id": "d5c54284",
   "metadata": {},
   "outputs": [
    {
     "name": "stdout",
     "output_type": "stream",
     "text": [
      "{\n",
      "    \"id\": 92586,\n",
      "    \"verifiable\": \"VERIFIABLE\",\n",
      "    \"label\": \"SUPPORTS\",\n",
      "    \"claim\": \"Firefox is one of the most popular web browsers.\",\n",
      "    \"evidence\": [\n",
      "        [\n",
      "            [\n",
      "                109907,\n",
      "                123515,\n",
      "                \"Firefox\",\n",
      "                15\n",
      "            ]\n",
      "        ],\n",
      "        [\n",
      "            [\n",
      "                109907,\n",
      "                123516,\n",
      "                \"Firefox\",\n",
      "                14\n",
      "            ]\n",
      "        ],\n",
      "        [\n",
      "            [\n",
      "                109907,\n",
      "                123517,\n",
      "                \"Firefox\",\n",
      "                13\n",
      "            ]\n",
      "        ],\n",
      "        [\n",
      "            [\n",
      "                109907,\n",
      "                123518,\n",
      "                \"Firefox\",\n",
      "                11\n",
      "            ]\n",
      "        ]\n",
      "    ]\n",
      "}\n"
     ]
    }
   ],
   "source": [
    "print_item(fever_df.query(\"label == 'SUPPORTS'\").iloc[123].to_dict())"
   ]
  },
  {
   "cell_type": "code",
   "execution_count": 10,
   "id": "c5a90a2c",
   "metadata": {},
   "outputs": [
    {
     "name": "stdout",
     "output_type": "stream",
     "text": [
      "{\n",
      "    \"id\": 74961,\n",
      "    \"verifiable\": \"VERIFIABLE\",\n",
      "    \"label\": \"SUPPORTS\",\n",
      "    \"claim\": \"Aestheticism is a movement.\",\n",
      "    \"evidence\": [\n",
      "        [\n",
      "            [\n",
      "                238547,\n",
      "                240548,\n",
      "                \"Aestheticism\",\n",
      "                0\n",
      "            ]\n",
      "        ],\n",
      "        [\n",
      "            [\n",
      "                242062,\n",
      "                243563,\n",
      "                \"Aestheticism\",\n",
      "                0\n",
      "            ]\n",
      "        ],\n",
      "        [\n",
      "            [\n",
      "                242354,\n",
      "                243752,\n",
      "                \"Aestheticism\",\n",
      "                0\n",
      "            ]\n",
      "        ],\n",
      "        [\n",
      "            [\n",
      "                319092,\n",
      "                307879,\n",
      "                \"Aestheticism\",\n",
      "                0\n",
      "            ]\n",
      "        ],\n",
      "        [\n",
      "            [\n",
      "                320329,\n",
      "                308938,\n",
      "                \"Aestheticism\",\n",
      "                0\n",
      "            ]\n",
      "        ]\n",
      "    ]\n",
      "}\n"
     ]
    }
   ],
   "source": [
    "print_item(fever_lst[2003])"
   ]
  },
  {
   "cell_type": "code",
   "execution_count": 26,
   "id": "9271b48d",
   "metadata": {},
   "outputs": [],
   "source": [
    "item = fever_lst[33]"
   ]
  },
  {
   "cell_type": "code",
   "execution_count": 27,
   "id": "171d3a94",
   "metadata": {},
   "outputs": [
    {
     "ename": "TypeError",
     "evalue": "unhashable type: 'list'",
     "output_type": "error",
     "traceback": [
      "\u001b[0;31m---------------------------------------------------------------------------\u001b[0m",
      "\u001b[0;31mTypeError\u001b[0m                                 Traceback (most recent call last)",
      "Cell \u001b[0;32mIn[27], line 1\u001b[0m\n\u001b[0;32m----> 1\u001b[0m pages \u001b[38;5;241m=\u001b[39m \u001b[38;5;28;43mset\u001b[39;49m\u001b[43m(\u001b[49m\u001b[43mev\u001b[49m\u001b[43m[\u001b[49m\u001b[38;5;241;43m0\u001b[39;49m\u001b[43m]\u001b[49m\u001b[43m \u001b[49m\u001b[38;5;28;43;01mfor\u001b[39;49;00m\u001b[43m \u001b[49m\u001b[43mev\u001b[49m\u001b[43m \u001b[49m\u001b[38;5;129;43;01min\u001b[39;49;00m\u001b[43m \u001b[49m\u001b[43mitem\u001b[49m\u001b[43m[\u001b[49m\u001b[38;5;124;43m\"\u001b[39;49m\u001b[38;5;124;43mevidence\u001b[39;49m\u001b[38;5;124;43m\"\u001b[39;49m\u001b[43m]\u001b[49m\u001b[43m)\u001b[49m\n",
      "\u001b[0;31mTypeError\u001b[0m: unhashable type: 'list'"
     ]
    }
   ],
   "source": [
    "pages = set(ev[0] for ev in item[\"evidence\"])"
   ]
  },
  {
   "cell_type": "code",
   "execution_count": 28,
   "id": "9fd2d70f",
   "metadata": {},
   "outputs": [
    {
     "data": {
      "text/plain": [
       "{'id': 19068,\n",
       " 'verifiable': 'VERIFIABLE',\n",
       " 'label': 'SUPPORTS',\n",
       " 'claim': 'Color of Night came out in 1994.',\n",
       " 'evidence': [[[34839, 42253, 'Color_of_Night', 0]],\n",
       "  [[34839, 42254, 'Color_of_Night', 8]]]}"
      ]
     },
     "execution_count": 28,
     "metadata": {},
     "output_type": "execute_result"
    }
   ],
   "source": [
    "item"
   ]
  },
  {
   "cell_type": "markdown",
   "id": "5889077c",
   "metadata": {},
   "source": [
    "## Explore Climate-Fever"
   ]
  },
  {
   "cell_type": "code",
   "execution_count": 6,
   "id": "51b83a09",
   "metadata": {},
   "outputs": [
    {
     "name": "stdout",
     "output_type": "stream",
     "text": [
      "1535\n"
     ]
    }
   ],
   "source": [
    "with open(os.path.join(climate_root, 'climate-fever-dataset-r1.jsonl'), 'r') as f:\n",
    "    climate_lst = [json.loads(item) for item in list(f)]\n",
    "    print(len(climate_lst))"
   ]
  },
  {
   "cell_type": "code",
   "execution_count": 46,
   "id": "0919568d",
   "metadata": {},
   "outputs": [],
   "source": [
    "climate_df = pd.DataFrame.from_records(climate_lst)"
   ]
  },
  {
   "cell_type": "code",
   "execution_count": 101,
   "id": "33d4a58b",
   "metadata": {},
   "outputs": [
    {
     "data": {
      "text/plain": [
       "SUPPORTS           654\n",
       "NOT_ENOUGH_INFO    474\n",
       "REFUTES            253\n",
       "DISPUTED           154\n",
       "Name: claim_label, dtype: int64"
      ]
     },
     "execution_count": 101,
     "metadata": {},
     "output_type": "execute_result"
    }
   ],
   "source": [
    "climate_df['claim_label'].value_counts()"
   ]
  },
  {
   "cell_type": "code",
   "execution_count": 135,
   "id": "1b210dea",
   "metadata": {},
   "outputs": [
    {
     "data": {
      "text/plain": [
       "'“Although the extent of the summer sea ice after 2006 dropped abruptly to levels not expected until 2050, the predicted 67-per-cent decline in polar bear numbers simply didn’t happen.'"
      ]
     },
     "execution_count": 135,
     "metadata": {},
     "output_type": "execute_result"
    }
   ],
   "source": [
    "climate_df.query(\"claim_label == 'DISPUTED'\").iloc[23]['claim']"
   ]
  },
  {
   "cell_type": "code",
   "execution_count": 134,
   "id": "84d3decc",
   "metadata": {},
   "outputs": [
    {
     "name": "stdout",
     "output_type": "stream",
     "text": [
      "{\n",
      "    \"claim_id\": \"661\",\n",
      "    \"claim\": \"\\u201cAlthough the extent of the summer sea ice after 2006 dropped abruptly to levels not expected until 2050, the predicted 67-per-cent decline in polar bear numbers simply didn\\u2019t happen.\",\n",
      "    \"claim_label\": \"DISPUTED\",\n",
      "    \"evidences\": [\n",
      "        {\n",
      "            \"evidence_id\": \"Polar bear:357\",\n",
      "            \"evidence_label\": \"REFUTES\",\n",
      "            \"article\": \"Polar bear\",\n",
      "            \"evidence\": \"Rising temperatures cause the sea ice to melt earlier in the year, driving the bears to shore before they have built sufficient fat reserves to survive the period of scarce food in the late summer and early fall.\",\n",
      "            \"entropy\": 0.0,\n",
      "            \"votes\": [\n",
      "                null,\n",
      "                \"REFUTES\",\n",
      "                \"REFUTES\",\n",
      "                null,\n",
      "                null\n",
      "            ]\n",
      "        },\n",
      "        {\n",
      "            \"evidence_id\": \"Polar bear:374\",\n",
      "            \"evidence_label\": \"NOT_ENOUGH_INFO\",\n",
      "            \"article\": \"Polar bear\",\n",
      "            \"evidence\": \"Between 1987 and 2004, the Western Hudson Bay population declined by 22%, although the population was listed as \\\"stable\\\" as of 2017.\",\n",
      "            \"entropy\": 0.6931471805599453,\n",
      "            \"votes\": [\n",
      "                null,\n",
      "                \"SUPPORTS\",\n",
      "                \"NOT_ENOUGH_INFO\",\n",
      "                null,\n",
      "                null\n",
      "            ]\n",
      "        },\n",
      "        {\n",
      "            \"evidence_id\": \"Polar bear:377\",\n",
      "            \"evidence_label\": \"NOT_ENOUGH_INFO\",\n",
      "            \"article\": \"Polar bear\",\n",
      "            \"evidence\": \"The proportion of maternity dens on sea ice has changed from 62% between the years 1985 through 1994, to 37% over the years 1998 through 2004.\",\n",
      "            \"entropy\": 0.0,\n",
      "            \"votes\": [\n",
      "                null,\n",
      "                \"NOT_ENOUGH_INFO\",\n",
      "                \"NOT_ENOUGH_INFO\",\n",
      "                null,\n",
      "                null\n",
      "            ]\n",
      "        },\n",
      "        {\n",
      "            \"evidence_id\": \"Polar bear:397\",\n",
      "            \"evidence_label\": \"SUPPORTS\",\n",
      "            \"article\": \"Polar bear\",\n",
      "            \"evidence\": \"Steven Amstrup and other U.S. Geological Survey scientists have predicted two-thirds of the world's polar bears may disappear by 2050, based on moderate projections for the shrinking of summer sea ice caused by climate change, though the validity of this study has been debated.\",\n",
      "            \"entropy\": 0.0,\n",
      "            \"votes\": [\n",
      "                null,\n",
      "                \"SUPPORTS\",\n",
      "                \"SUPPORTS\",\n",
      "                null,\n",
      "                null\n",
      "            ]\n",
      "        },\n",
      "        {\n",
      "            \"evidence_id\": \"Polar bear:404\",\n",
      "            \"evidence_label\": \"NOT_ENOUGH_INFO\",\n",
      "            \"article\": \"Polar bear\",\n",
      "            \"evidence\": \"Warnings about the future of the polar bear are often contrasted with the fact that worldwide population estimates have increased over the past 50 years and are relatively stable today.\",\n",
      "            \"entropy\": 0.6931471805599453,\n",
      "            \"votes\": [\n",
      "                null,\n",
      "                \"SUPPORTS\",\n",
      "                \"NOT_ENOUGH_INFO\",\n",
      "                null,\n",
      "                null\n",
      "            ]\n",
      "        }\n",
      "    ]\n",
      "}\n"
     ]
    }
   ],
   "source": [
    "print_item(climate_df.query(\"claim_label == 'DISPUTED'\").iloc[23].to_dict())"
   ]
  },
  {
   "cell_type": "markdown",
   "id": "fedfb92e",
   "metadata": {},
   "source": [
    "## Explore Pub-Health"
   ]
  },
  {
   "cell_type": "code",
   "execution_count": 178,
   "id": "947501df",
   "metadata": {},
   "outputs": [
    {
     "name": "stdout",
     "output_type": "stream",
     "text": [
      "9832\n"
     ]
    }
   ],
   "source": [
    "pubhealth_df = pd.read_csv(os.path.join(pubhealth_root, 'train.tsv'), sep=\"\\t\")\n",
    "pubhealth_lst = pubhealth_df.to_dict('records')\n",
    "print(len(pubhealth_lst))"
   ]
  },
  {
   "cell_type": "code",
   "execution_count": 176,
   "id": "9da2e807",
   "metadata": {},
   "outputs": [
    {
     "name": "stdout",
     "output_type": "stream",
     "text": [
      "1221\n"
     ]
    }
   ],
   "source": [
    "pubhealth_df = pd.read_csv(os.path.join(pubhealth_root, 'dev.tsv'), sep=\"\\t\")\n",
    "pubhealth_lst = pubhealth_df.to_dict('records')\n",
    "print(len(pubhealth_lst))"
   ]
  },
  {
   "cell_type": "code",
   "execution_count": 177,
   "id": "7af5cf38",
   "metadata": {},
   "outputs": [
    {
     "name": "stdout",
     "output_type": "stream",
     "text": [
      "1235\n"
     ]
    }
   ],
   "source": [
    "pubhealth_df = pd.read_csv(os.path.join(pubhealth_root, 'test.tsv'), sep=\"\\t\")\n",
    "pubhealth_lst = pubhealth_df.to_dict('records')\n",
    "print(len(pubhealth_lst))"
   ]
  },
  {
   "cell_type": "code",
   "execution_count": 40,
   "id": "4d65c76c",
   "metadata": {},
   "outputs": [
    {
     "data": {
      "text/plain": [
       "true        5078\n",
       "false       3001\n",
       "mixture     1434\n",
       "unproven     291\n",
       "snopes         1\n",
       "Name: label, dtype: int64"
      ]
     },
     "execution_count": 40,
     "metadata": {},
     "output_type": "execute_result"
    }
   ],
   "source": [
    "pubhealth_df['label'].value_counts()"
   ]
  },
  {
   "cell_type": "code",
   "execution_count": 128,
   "id": "02e4142c",
   "metadata": {},
   "outputs": [
    {
     "data": {
      "text/plain": [
       "'Bravecto brand Flea and tick remedy is dangerous to dogs.'"
      ]
     },
     "execution_count": 128,
     "metadata": {},
     "output_type": "execute_result"
    }
   ],
   "source": [
    "pubhealth_df.query(\"label == 'unproven'\").iloc[123]['claim']"
   ]
  },
  {
   "cell_type": "code",
   "execution_count": 123,
   "id": "5617690c",
   "metadata": {
    "scrolled": false
   },
   "outputs": [
    {
     "name": "stdout",
     "output_type": "stream",
     "text": [
      "{\n",
      "    \"claim_id\": \"41766\",\n",
      "    \"claim\": \"So many of these people that are getting the chickenpox were vaccinated for it. It\\u2019s not being spread by the kids who didn\\u2019t have the vaccination.\",\n",
      "    \"date_published\": \"March 27, 2019\",\n",
      "    \"explanation\": \"In the midst of a chickenpox outbreak in his state, Kentucky Gov. Matt Bevin said that he had not vaccinated any of his children against the disease, choosing instead to purposely expose his kids to an infected person to get the chickenpox \\u2014 a practice that public health officials say is dangerous.\",\n",
      "    \"fact_checkers\": \"Jessica McDonald\",\n",
      "    \"main_text\": \"On March 19, in the midst of a chickenpox outbreak in his state, Kentucky Gov. Matt Bevin said in a radio interview that he had not vaccinated any of his children against the disease, choosing instead to purposely expose his kids to an infected person to get chickenpox \\u2014 a practice that public health officials say is dangerous.In the course of the interview, Bevin made several other false or misleading statements:Bevin made his comments during an interview with WKCT, a talk radio station in Bowling Green, Kentucky (the interview starts approximately an hour-and-a-half in). According to his campaign website, Bevin has nine children between the ages of 5 and 16. His office did not reply to our request for additional comment.We\\u2019ve written about some of these ideas before. But there are several unusual aspects of chickenpox, or what doctors call varicella, that are worth discussing in more detail.The governor\\u2019s statements also followed news of a Catholic high school student filing a lawsuit against the Northern Kentucky Health Department because of a moral objection to the chickenpox vaccine, which is produced in cells derived more than half a century ago from voluntarily aborted fetal tissue. The student attends a private school where at least 32 students have fallen ill in a chickenpox outbreak.We\\u2019ll explain how the chickenpox vaccine is made, and why the Catholic Church has told its members that getting the vaccine doesn\\u2019t go against doctrine.Here\\u2019s what the Kentucky governor said about his experience with his kids\\u2019 cases of chickenpox:Bevin, March 19: Every single one of my kids had the chickenpox. They got the chickenpox on purpose. Because we found a neighbor that had it and I went and made sure every one of my kids was exposed to it, and they got it. They had it as children. They were miserable for a few days, and they all turned out fine.Eugene Shapiro, a professor of pediatrics and epidemiology at the Yale School of Public Health, said that in the past, some doctors recommended so-called chickenpox parties, with the idea of making sure a person gets chickenpox as a child, and not as an adult, when the disease is usually much worse.But that was before the vaccine became available. Now that there\\u2019s a vaccine that protects against the disease, Shapiro said deliberate exposure is \\u201cfoolish to do.\\u201dThat\\u2019s because while most kids who get chickenpox are fine after a few days of itching and scratching, there can be complications, including serious skin infections, brain inflammation and even death.Chickenpox is caused by the varicella-zoster virus, or VZV, and typically involves a blister-like rash, along with fatigue, fever, headache and loss of appetite.Prior to the vaccine, nearly all Americans \\u2014 about 4 million annually \\u2014 came down with the disease, usually in childhood. In the early 1990s, before the first vaccine was licensed, around 12,000 people were hospitalized and between 100 and 150 died every year.While chickenpox is more dangerous to immunocompromised people, most of the deaths, Shapiro said, were in previously healthy people with fully intact immune systems.The Centers for Disease Control and Prevention \\u201cstrongly recommends against\\u201d chickenpox parties or other events in which parents intentionally expose their children to chickenpox. \\u201cThere is no way to tell in advance how severe your child\\u2019s symptoms will be,\\u201d the CDC\\u2019s website warns. \\u201cSo it is not worth taking the chance of exposing your child to someone with the disease.\\u201d The best protection, the agency says, is vaccination.All of Bevin\\u2019s children are young enough to have benefited from the chickenpox vaccine, which first became available in 1995 and was recommended by the CDC in 1996. In 2006, the CDC changed its recommendations to include two doses, one at 12 to 15 months, and a second between the ages of 4 and 6.Bevin also misleadingly pointed out that cases of chickenpox often occur in people who have been immunized.Bevin, March 19: Here\\u2019s the irony. So many of these people that are getting the chickenpox were vaccinated for it. It\\u2019s not being spread by the kids who didn\\u2019t have the vaccination.We contacted the Northern Kentucky Health Department to find out how many of the 32 students in the current outbreak had been vaccinated, but the department declined to provide more information. So we don\\u2019t know the specifics in this case. Nevertheless, chickenpox outbreaks can happen in highly vaccinated populations and sometimes a larger proportion of sick people will have been vaccinated. But as we\\u2019ve explained before, that doesn\\u2019t mean immunization makes you more susceptible, or more likely to spread the disease. Because vaccines don\\u2019t work 100 percent of the time, and the vast majority of children are vaccinated in the United States, it\\u2019s entirely possible for more vaccinated than unvaccinated people to get chickenpox.There\\u2019s no irony involved \\u2014 just math.The chickenpox vaccine is highly effective, but isn\\u2019t perfect. According to the CDC, one dose prevents about 85 percent of people from getting even a mild case, and protects nearly all people from having a severe case. Two doses provide even more protection.Chickenpox can be spread by anyone with the disease \\u2014 vaccinated or unvaccinated \\u2014 but a CDC study found that because vaccinated people are more likely to have a more mild illness with fewer infectious skin lesions, they are also usually less contagious.The governor also erred when he described the long-term immunity of natural chickenpox infection and contrasted that with immunization.Bevin, March 19: And the odds of getting chickenpox again, if you\\u2019ve already had it naturally as a child \\u2014 where it will have 99.999 percent no long-term [repercussion] on you if you get it naturally \\u2014 your odds of ever getting it again are slim. But now they\\u2019re finding that you need to keep getting boosters if you\\u2019re inoculated against it. It\\u2019s absurd.Bevin\\u2019s basic claim \\u2014 that natural chickenpox infection almost always provides good, lifelong immunity \\u2014 is accurate. But he\\u2019s wrong that natural infection won\\u2019t have effects on a person later in life, and that one needs to \\u201ckeep getting boosters\\u201d if vaccinated.The booster idea probably stems from the shift from one to two vaccine doses, which the CDC recommended in 2006. At the time, an unexpected number of outbreaks were still happening in places with good vaccine coverage, so public health officials decided to add a second shot. And indeed, two doses appear to have largely solved that problem. Surveillance studies have found that since the introduction of the two-dose program, outbreaks and the number of chickenpox cases, hospitalizations and deaths \\u2014 which had already fallen dramatically with the one-dose vaccine \\u2014 tumbled further.Although it isn\\u2019t known how long vaccinated people are protected from chickenpox, there is no indication that boosters beyond the second recommended shot are needed to preserve immunity.The larger problem with continued immunity is actually shingles, or herpes zoster, which, like chickenpox, is also caused by VZV. Anyone who has had chickenpox or who has received the vaccine, which is a live but attenuated form of the virus, can get shingles.After initially causing chickenpox or triggering immunity, VZV can hide out, dormant, in neurons scattered throughout the body. For the most part, the virus lies low and doesn\\u2019t do much. But the virus occasionally reactivates. And if a person\\u2019s VZV immunity has declined, either because of age or other factors, the virus can cause a chickenpox-like illness that unfortunately, is usually much more painful.With shingles, a person develops a painful and itchy rash, typically on just one side of their body. After the rash clears, some patients experience continued and sometimes debilitating pain in the rash area that can last for weeks, months and even years. This is called postherpetic neuralgia, or PHN, and is the most common complication of shingles.According to the CDC, nearly one in three people develop shingles at some point in their lives. As\\u00a0Shapiro explained, the waning immunity that is responsible for shingles\\u00a0happens \\u201cwhether or not you get the vaccine.\\u201dIn fact, people who have been vaccinated are at a lower risk of developing shingles as children \\u2014 another benefit of immunization.There is a concern, suggested by some mathematical modeling,\\u00a0that as more people get vaccinated and there are fewer cases of chickenpox, there will be less natural boosting in the population, which might lead more adults to develop shingles because their VZV immunity will decline more quickly.But Shapiro told us this was \\u201cpurely theoretical\\u201d and has never been shown. In the United States, multiple CDC studies have found that while shingles cases have gradually risen over time, the increase began before the chickenpox vaccine rollout, and there hasn\\u2019t been an acceleration in the increase since the vaccine came out. The CDC also notes that other countries have observed an uptick in shingles cases, even though they do not have chickenpox vaccination programs.Shapiro explained that the lack of chickenpox exposures might not be a problem because the virus likely reactivates periodically without causing any disease, in effect producing its own exposures.\\u201cYour immune system sees it and reacts and controls the infection,\\u201d said Shapiro. \\u201cAnd it also gives you a boost.\\u201dBut even if chickenpox vaccination did have a slight negative impact on shingles, Shapiro said there\\u2019s another fix for that: the shingles vaccine. Two doses of the CDC\\u2019s preferred vaccine protects about 90 percent of people from developing shingles and is recommended for people ages 50 and over.The impetus for the governor\\u2019s chickenpox comments was a lawsuit brought by a Catholic high school student attending a school experiencing a chickenpox outbreak.The student, Jerome Kunkel, alleges that the Northern Kentucky Health Department violated his freedom of religion by preventing him from playing basketball because he refused to get the chickenpox vaccine. The Cincinnati Enquirer reported that according to the lawsuit, Kunkel is opposed to the vaccine because it is made in cells that originally came from aborted fetal tissue.According to letters sent to parents, the health department\\u00a0on Feb. 21 decided to cancel all extracurricular activities, including sports, at the school until the outbreak resolved. Later, on March 14, the department barred any students without proof of vaccination or immunity from attending school. As of that date, 32 students, or 13 percent of the student body, had been affected by the outbreak.The health department said in a statement that its actions were a \\u201cdirect response to a public health threat and [were] an appropriate and necessary response to prevent further spread of this contagious illness.\\u201dWe won\\u2019t go into the legal arguments of the case, but we will share the facts on how the chickenpox vaccine is made.The two licensed chickenpox vaccines in the U.S. are made of live, weakened virus that, according to their package inserts, is grown in either one or two human cell strains. The cell strains, known as MRC-5 and WI-38, are fetal cell strains that were created from a bit of lung tissue from two different aborted fetuses in the 1960s. Because VZV primarily infects humans, and these human cells replicate easily in culture, it is possible to grow a large amount of virus with them. Vaccine production today is linked to abortion only in the sense that it uses the cell strains created half a century ago from those two abortions, which were voluntary and not performed to create vaccines. Vaccines are not grown in aborted fetal tissue, and as the Children\\u2019s Hospital of Philadelphia\\u2019s website explains, there is no ongoing need to use other fetal cells. The vaccines also do not contain any fetal cells, although it\\u2019s possible an incredibly small amount of fetal cell DNA could end up in the vaccine after purification.Recognizing this distant link to abortion, and the benefits of vaccines to public health, the Catholic Church has told its congregants that chickenpox vaccination does not violate its teachings.The Pontifical Academy for Life, for example, stated in 2005 that Catholics should always seek out alternative vaccines, but if they do not exist \\u2014 and there is no such alternative for chickenpox \\u2014 then people may use them. The church also requested that Catholics register a complaint with vaccine manufacturers to push for an alternative in the future.More recently, after vaccination rates fell in Italy, the Pontifical Academy for Life was even more explicit about this advice.\\u201cThe technical characteristics of the production of the vaccines most commonly used in childhood lead us to exclude that there is a morally relevant cooperation between those who use these vaccines today and the practice of voluntary abortion,\\u201d the academy wrote in a July 2017 note. \\u201cHence, we believe that all clinically recommended vaccinations can be used with a clear conscience and that the use of such vaccines does not signify some sort of cooperation with voluntary abortion.\\u201d\",\n",
      "    \"sources\": \"https://www.ncbi.nlm.nih.gov/pmc/articles/PMC2664599/, http://www.academyforlife.va/content/pav/en/the-academy/activity-academy/note-vaccini.html, https://www.cdc.gov/shingles/hcp/clinical-overview.html#complications, https://www.ncbi.nlm.nih.gov/pubmed/23545380, https://www.ncbi.nlm.nih.gov/pubmed/27188665, https://www.cdc.gov/vaccines/vpd/shingles/public/shingrix/index.html, https://www.cdc.gov/mmwr/volumes/65/wr/mm6534a4.htm, https://www.sciencedirect.com/science/article/pii/S009282409990126X, https://www.chop.edu/centers-programs/vaccine-education-center/vaccine-ingredients/fetal-tissues, https://www.cdc.gov/chickenpox/surveillance/monitoring-varicella.html, https://www.facebook.com/93wkct/videos/301539757452030/, https://nkyhealth.org/wp-content/uploads/2019/03/NKY-Health-Parent-Letters.pdf, https://www.cdc.gov/shingles/hcp/clinical-overview.html#varicella-vaccineds, https://nkyhealth.org/2019/03/14/chickenpox-outbreak-grows-to-32-students-at-assumption-academy/, https://www.tumblr.com/widgets/share/tool?canonicalUrl=https%3A%2F%2Fwww.factcheck.org%2F2019%2F03%2Fkentucky-gov-misguides-on-chickenpox%2F%3Futm_source%3Dtumblr%26utm_medium%3Dsocial%26utm_campaign%3Dsocial-pug, https://www.cdc.gov/shingles/hcp/clinical-overview.html#vaccination, https://www.cdc.gov/chickenpox/about/index.html, https://www.facebook.com/sharer/sharer.php?u=https%3A%2F%2Fwww.factcheck.org%2F2019%2F03%2Fkentucky-gov-misguides-on-chickenpox%2F%3Futm_source%3Dfacebook%26utm_medium%3Dsocial%26utm_campaign%3Dsocial-pug&t=Kentucky%20Governor%20Misguides%20on%20Chickenpox, https://twitter.com/intent/tweet?text=Kentucky%20Governor%20Misguides%20on%20Chickenpox&url=https%3A%2F%2Fwww.factcheck.org%2F2019%2F03%2Fkentucky-gov-misguides-on-chickenpox%2F%3Futm_source%3Dtwitter%26utm_medium%3Dsocial%26utm_campaign%3Dsocial-pug&via=factcheckdotorg, https://www.cdc.gov/shingles/hcp/clinical-overview.html#risk, https://www.historyofvaccines.org/content/articles/human-cell-strains-vaccine-development, https://www.courier-journal.com/story/news/local/2019/03/18/anti-vaccine-movement-kentucky-student-no-chickenpox-vaccine-sues-health-officials-chickenpox/3200246002/, https://www.cdc.gov/vaccines/vpd/varicella/public/index.html, https://www.cdc.gov/chickenpox/about/transmission.html, https://www.cdc.gov/chickenpox/surveillance/vasp.html, https://www.cdc.gov/mmwr/preview/mmwrhtml/rr5604a1.htm#tab1, https://www.ncbcenter.org/resources/frequently-asked-questions/use-vaccines/, https://www.cdc.gov/chickenpox/outbreaks.html, https://www.ncbi.nlm.nih.gov/pmc/articles/PMC2806663/, https://www.ncbi.nlm.nih.gov/pubmed/29939802, https://www.cdc.gov/chickenpox/about/symptoms.html, https://www.fda.gov/downloads/BiologicsBloodVaccines/Vaccines/ApprovedProducts/UCM142813.pdf, https://www.cdc.gov/chickenpox/index.html, https://www.cdc.gov/chickenpox/downloads/Varicella-and-Breakthrough-Varicella.pdf, https://abcnews.go.com/Health/aborted-fetuses-vaccines/story?id=29005539, https://www.cdc.gov/mmwr/preview/mmwrhtml/rr5604a1.htm, https://nkyhealth.org/individual-or-family/health-alerts/chickenpox-outbreak/, https://publichealth.yale.edu/people/eugene_shapiro.profile, https://www.ncbi.nlm.nih.gov/pubmed/15304467, https://www.cdc.gov/shingles/about/overview.html, https://www.cdc.gov/media/pressrel/r060629-b.htm, https://www.nhs.uk/common-health-questions/infections/can-i-get-chickenpox-more-than-once/, https://www.fda.gov/downloads/BiologicsBloodVaccines/Vaccines/ApprovedProducts/UCM123796.pdf, https://www.ncbcenter.org/files/1714/3101/2478/vaticanresponse.pdf, https://www.cdc.gov/shingles/hcp/clinical-overview.html#trends, https://www.atcc.org/products/all/CCL-171.aspx#generalinformation, https://www.cdc.gov/chickenpox/about/complications.html, https://www.mattbevin.com/meet_matt, https://www.cdc.gov/vaccines/vpd-vac/varicella/hcp-effective-duration.htm, https://www.cdc.gov/shingles/hcp/clinical-overview.html#clinical-features, https://www.cdc.gov/shingles/hcp/clinical-overview.html, https://www.factcheck.org/2019/02/darla-shines-measles-misinformation/, https://www.atcc.org/products/all/CCL-75.aspx\",\n",
      "    \"label\": \"mixture\",\n",
      "    \"subjects\": \" abortion, chickenpox, vaccines, \"\n",
      "}\n"
     ]
    }
   ],
   "source": [
    "print_item(pubhealth_df.query(\"label == 'mixture'\").iloc[566].to_dict())"
   ]
  },
  {
   "cell_type": "code",
   "execution_count": null,
   "id": "a63a6b2c",
   "metadata": {},
   "outputs": [],
   "source": []
  },
  {
   "cell_type": "markdown",
   "id": "d2d9f67e",
   "metadata": {},
   "source": [
    "## Compute token length"
   ]
  },
  {
   "cell_type": "code",
   "execution_count": 153,
   "id": "db349dfb",
   "metadata": {},
   "outputs": [],
   "source": [
    "fever_df['claim_length'] = fever_df['claim'].apply(lambda x: len(x.split()))"
   ]
  },
  {
   "cell_type": "code",
   "execution_count": 155,
   "id": "1d840ec8",
   "metadata": {},
   "outputs": [
    {
     "data": {
      "text/plain": [
       "8.101389490474324"
      ]
     },
     "execution_count": 155,
     "metadata": {},
     "output_type": "execute_result"
    }
   ],
   "source": [
    "fever_df['claim_length'].mean()"
   ]
  },
  {
   "cell_type": "code",
   "execution_count": 163,
   "id": "a75517aa",
   "metadata": {},
   "outputs": [],
   "source": [
    "pubhealth_df['claim_length'] = pubhealth_df['claim'].apply(lambda x: len(str(x).split()))"
   ]
  },
  {
   "cell_type": "code",
   "execution_count": 165,
   "id": "3274528c",
   "metadata": {},
   "outputs": [
    {
     "data": {
      "text/plain": [
       "13.935720097640358"
      ]
     },
     "execution_count": 165,
     "metadata": {},
     "output_type": "execute_result"
    }
   ],
   "source": [
    "pubhealth_df['claim_length'].mean()"
   ]
  },
  {
   "cell_type": "code",
   "execution_count": 173,
   "id": "ab9a2f9a",
   "metadata": {},
   "outputs": [],
   "source": [
    "climate_df['claim_length'] = climate_df['claim'].apply(lambda x: len(x.split()))"
   ]
  },
  {
   "cell_type": "code",
   "execution_count": 175,
   "id": "14afaf17",
   "metadata": {},
   "outputs": [
    {
     "data": {
      "text/plain": [
       "20.190879478827362"
      ]
     },
     "execution_count": 175,
     "metadata": {},
     "output_type": "execute_result"
    }
   ],
   "source": [
    "climate_df['claim_length'].mean()"
   ]
  }
 ],
 "metadata": {
  "kernelspec": {
   "display_name": "Python 3 (ipykernel)",
   "language": "python",
   "name": "python3"
  },
  "language_info": {
   "codemirror_mode": {
    "name": "ipython",
    "version": 3
   },
   "file_extension": ".py",
   "mimetype": "text/x-python",
   "name": "python",
   "nbconvert_exporter": "python",
   "pygments_lexer": "ipython3",
   "version": "3.8.16"
  }
 },
 "nbformat": 4,
 "nbformat_minor": 5
}
