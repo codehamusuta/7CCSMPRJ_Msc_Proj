{
 "cells": [
  {
   "cell_type": "markdown",
   "id": "25ec04e5-9ad1-45a6-8c0a-d4a885e89164",
   "metadata": {},
   "source": [
    "## Load and align dataset from all three sources"
   ]
  },
  {
   "cell_type": "code",
   "execution_count": 1,
   "id": "879dcdf9-7957-4a22-9c22-5b78d171f0e2",
   "metadata": {},
   "outputs": [],
   "source": [
    "import pandas as pd\n",
    "import json\n",
    "import csv\n",
    "import os"
   ]
  },
  {
   "cell_type": "code",
   "execution_count": 2,
   "id": "ea25bd1a-989e-423d-b2b2-841ddec7fd14",
   "metadata": {},
   "outputs": [],
   "source": [
    "root = '../data_2023_06_02'\n",
    "\n",
    "climate_in = os.path.join(root, 'preprocessed/CLIMATE-FEVER')\n",
    "pubhealth_in = os.path.join(root, 'preprocessed/PUBHEALTH')\n",
    "fever_in = os.path.join(root, 'preprocessed/FEVER')"
   ]
  },
  {
   "cell_type": "code",
   "execution_count": 3,
   "id": "8ce524d2-f9f3-4d5b-bfa1-dfa0e5dce509",
   "metadata": {},
   "outputs": [],
   "source": [
    "def read_json(fp):\n",
    "    with open(fp, \"r\", encoding=\"utf-8\") as f:\n",
    "        data = []\n",
    "        for line in f.readlines():\n",
    "            data.append(json.loads(line.strip()))\n",
    "        return data"
   ]
  },
  {
   "cell_type": "markdown",
   "id": "253c5d2d-25b1-4aaf-8bf2-680ec37904b1",
   "metadata": {},
   "source": [
    "## Load Fever Data"
   ]
  },
  {
   "cell_type": "code",
   "execution_count": 4,
   "id": "de4c2c30-2c00-488f-9689-a4ce02fc2126",
   "metadata": {},
   "outputs": [],
   "source": [
    "fever_test_ds = read_json(os.path.join(fever_in, 'test_preprocessed.ns.rand.jsonl'))\n",
    "fever_dev_ds = read_json(os.path.join(fever_in, 'dev_preprocessed.ns.rand.jsonl'))\n",
    "fever_train_ds = read_json(os.path.join(fever_in, 'train_preprocessed.ns.rand.jsonl'))"
   ]
  },
  {
   "cell_type": "code",
   "execution_count": 5,
   "id": "9ec83373-a65d-485e-8644-a650a39b04ec",
   "metadata": {},
   "outputs": [
    {
     "name": "stdout",
     "output_type": "stream",
     "text": [
      "9999\n",
      "9999\n",
      "145449\n"
     ]
    }
   ],
   "source": [
    "print(len(fever_test_ds))\n",
    "print(len(fever_dev_ds))\n",
    "print(len(fever_train_ds))"
   ]
  },
  {
   "cell_type": "markdown",
   "id": "f1f2596d-680f-4d2e-965e-e23ca8e495e5",
   "metadata": {},
   "source": [
    "## Load Climate Data"
   ]
  },
  {
   "cell_type": "code",
   "execution_count": 6,
   "id": "d3c80b1b-ac9d-409e-9945-3046dd313efe",
   "metadata": {},
   "outputs": [],
   "source": [
    "climate_ds = read_json(os.path.join(climate_in, 'climate-fever.jsonl'))"
   ]
  },
  {
   "cell_type": "code",
   "execution_count": 7,
   "id": "01c94691-2398-4667-bab2-84bf019198cb",
   "metadata": {},
   "outputs": [
    {
     "name": "stdout",
     "output_type": "stream",
     "text": [
      "1381\n"
     ]
    }
   ],
   "source": [
    "print(len(climate_ds))"
   ]
  },
  {
   "cell_type": "markdown",
   "id": "810709c2-3882-42ca-819e-fda2d2ce47f2",
   "metadata": {},
   "source": [
    "## Load PubHealth Data"
   ]
  },
  {
   "cell_type": "code",
   "execution_count": 8,
   "id": "b02147dd-3840-45b0-9af8-aea07ef21ea0",
   "metadata": {},
   "outputs": [],
   "source": [
    "pubhealth_train_ds = read_json(os.path.join(pubhealth_in, 'train.jsonl'))\n",
    "pubhealth_dev_ds = read_json(os.path.join(pubhealth_in, 'dev.jsonl'))\n",
    "pubhealth_test_ds = read_json(os.path.join(pubhealth_in, 'test.jsonl'))"
   ]
  },
  {
   "cell_type": "code",
   "execution_count": 9,
   "id": "5675292f-6d22-4a64-b053-2eaa4293cb81",
   "metadata": {},
   "outputs": [
    {
     "name": "stdout",
     "output_type": "stream",
     "text": [
      "9806\n",
      "1217\n",
      "1235\n"
     ]
    }
   ],
   "source": [
    "print(len(pubhealth_train_ds))\n",
    "print(len(pubhealth_dev_ds))\n",
    "print(len(pubhealth_test_ds))"
   ]
  },
  {
   "cell_type": "markdown",
   "id": "ca05f55d-2493-4c30-93f9-bfdec9c396f7",
   "metadata": {},
   "source": [
    "## Investigate Data"
   ]
  },
  {
   "cell_type": "code",
   "execution_count": 10,
   "id": "b19bed8b-739d-43b8-8758-058f19a4f01b",
   "metadata": {},
   "outputs": [
    {
     "data": {
      "text/plain": [
       "{'id': 113501,\n",
       " 'verifiable': 'NOT VERIFIABLE',\n",
       " 'label': 'NOT ENOUGH INFO',\n",
       " 'claim': 'Grease had bad reviews.',\n",
       " 'evidence': [[[133128, None, 'Ponizovsky_House', -1]]],\n",
       " 'evidence_text': ['Period photographs show that the building had a flattened yet prominent dome above the main entrance and a smaller curvilinear gable above Povarskaya street facade ; overall styling was reserved , with clear vertical lines of windows cut through a tiled wall .']}"
      ]
     },
     "execution_count": 10,
     "metadata": {},
     "output_type": "execute_result"
    }
   ],
   "source": [
    "fever_test_ds[0]"
   ]
  },
  {
   "cell_type": "code",
   "execution_count": 13,
   "id": "1ca2063d-1666-4724-b4a2-377f66d4e99d",
   "metadata": {},
   "outputs": [
    {
     "data": {
      "text/plain": [
       "{'id': 205648,\n",
       " 'verifiable': 'VERIFIABLE',\n",
       " 'label': 'REFUTES',\n",
       " 'claim': 'St. Anger was released on June 3, 2003.',\n",
       " 'evidence': [[[242995, 244279, 'St._Anger', 0]]],\n",
       " 'evidence_text': ['St. Anger is the eighth studio album by American heavy metal band Metallica , released on June 5 , 2003 , by Elektra Records .']}"
      ]
     },
     "execution_count": 13,
     "metadata": {},
     "output_type": "execute_result"
    }
   ],
   "source": [
    "fever_dev_ds[324]"
   ]
  },
  {
   "cell_type": "code",
   "execution_count": 14,
   "id": "7e75489a-0462-44d3-8044-7c535e9268ac",
   "metadata": {},
   "outputs": [
    {
     "data": {
      "text/plain": [
       "{'id': 208197,\n",
       " 'verifiable': 'VERIFIABLE',\n",
       " 'label': 'SUPPORTS',\n",
       " 'claim': 'Eminem has an album.',\n",
       " 'evidence': [[[247276, 247592, 'Eminem', 2]],\n",
       "  [[247276, 247593, 'Eminem', 3]],\n",
       "  [[247276, 247594, 'Eminem', 4]],\n",
       "  [[247276, 247595, 'Eminem', 8]],\n",
       "  [[247276, 247596, 'Eminem', 9]],\n",
       "  [[247276, 247597, 'Eminem', 12]],\n",
       "  [[247276, 247598, 'Eminem', 13]],\n",
       "  [[247276, 247599, 'Eminem', 11],\n",
       "   [247276, 247599, 'Relapse_-LRB-Eminem_album-RRB-', 0]],\n",
       "  [[247276, 247600, 'Eminem', 10],\n",
       "   [247276, 247600, 'Encore_-LRB-Eminem_album-RRB-', 0]]],\n",
       " 'evidence_text': ['Encore -LRB- stylized as ƎNCORE -RRB- is the fifth studio album by American rapper Eminem .',\n",
       "  'Throughout his career , he has had 10 number-one albums on the Billboard 200 and five number-one singles on the Billboard Hot 100 .',\n",
       "  'Eminem went on hiatus after touring in 2005 , releasing Relapse in 2009 and Recovery in 2010 .',\n",
       "  'Relapse is the sixth studio album by American rapper Eminem .',\n",
       "  'Both won Grammy Awards and Recovery was the best-selling album of 2010 worldwide , the second time he had the international best-selling album of the year -LRB- after The Eminem Show -RRB- .',\n",
       "  \"His next two releases , 2000 's The Marshall Mathers LP and 2002 's The Eminem Show , were worldwide successes , with each being certified diamond in U.S. sales , and both winning Best Rap Album Grammy Awards -- making Eminem the first artist to win the award for three consecutive LPs .\",\n",
       "  'They were followed by Encore in 2004 , another critical and commercial success .',\n",
       "  \"After his debut album Infinite -LRB- 1996 -RRB- and the Slim Shady EP -LRB- 1997 -RRB- , Eminem signed with Dr. Dre 's Aftermath Entertainment and subsequently achieved mainstream popularity in 1999 with The Slim Shady LP , which earned him his first Grammy Award for Best Rap Album .\",\n",
       "  'With US sales of 45.1 million albums and 42 million tracks as of June 2014 , Eminem is the second best-selling male artist of the Nielsen SoundScan era , the sixth best-selling artist in the United States and the best-selling hip-hop artist .',\n",
       "  \"Eminem 's eighth album , 2013 's The Marshall Mathers LP 2 , won two Grammy Awards , including Best Rap Album ; it expanded his record for the most wins in that category and his Grammy total to 15 .\",\n",
       "  \"Globally , he has sold more than 172 million albums , thus being one of the world 's best-selling artists .\"]}"
      ]
     },
     "execution_count": 14,
     "metadata": {},
     "output_type": "execute_result"
    }
   ],
   "source": [
    "fever_train_ds[224]"
   ]
  },
  {
   "cell_type": "code",
   "execution_count": 27,
   "id": "39b38042-0d00-4c1d-b878-59638947da3f",
   "metadata": {},
   "outputs": [
    {
     "data": {
      "text/plain": [
       "{'claim_id': '0',\n",
       " 'claim': 'Global warming is driving polar bears toward extinction',\n",
       " 'claim_label': 'SUPPORTS',\n",
       " 'evidences': [{'evidence_id': 'Extinction risk from global warming:170',\n",
       "   'evidence_label': 'NOT_ENOUGH_INFO',\n",
       "   'article': 'Extinction risk from global warming',\n",
       "   'evidence': '\"Recent Research Shows Human Activity Driving Earth Towards Global Extinction Event\".',\n",
       "   'entropy': 0.6931471806,\n",
       "   'votes': ['SUPPORTS', 'NOT_ENOUGH_INFO', None, None, None]},\n",
       "  {'evidence_id': 'Global warming:14',\n",
       "   'evidence_label': 'SUPPORTS',\n",
       "   'article': 'Global warming',\n",
       "   'evidence': 'Environmental impacts include the extinction or relocation of many species as their ecosystems change, most immediately the environments of coral reefs, mountains, and the Arctic.',\n",
       "   'entropy': 0.0,\n",
       "   'votes': ['SUPPORTS', 'SUPPORTS', None, None, None]},\n",
       "  {'evidence_id': 'Global warming:178',\n",
       "   'evidence_label': 'NOT_ENOUGH_INFO',\n",
       "   'article': 'Global warming',\n",
       "   'evidence': 'Rising temperatures push bees to their physiological limits, and could cause the extinction of bee populations.',\n",
       "   'entropy': 0.6931471806,\n",
       "   'votes': ['SUPPORTS', 'NOT_ENOUGH_INFO', None, None, None]},\n",
       "  {'evidence_id': 'Habitat destruction:61',\n",
       "   'evidence_label': 'SUPPORTS',\n",
       "   'article': 'Habitat destruction',\n",
       "   'evidence': 'Rising global temperatures, caused by the greenhouse effect, contribute to habitat destruction, endangering various species, such as the polar bear.',\n",
       "   'entropy': 0.0,\n",
       "   'votes': ['SUPPORTS', 'SUPPORTS', None, None, None]},\n",
       "  {'evidence_id': 'Polar bear:1328',\n",
       "   'evidence_label': 'NOT_ENOUGH_INFO',\n",
       "   'article': 'Polar bear',\n",
       "   'evidence': '\"Bear hunting caught in global warming debate\".',\n",
       "   'entropy': 0.6931471806,\n",
       "   'votes': ['SUPPORTS', 'NOT_ENOUGH_INFO', None, None, None]}]}"
      ]
     },
     "execution_count": 27,
     "metadata": {},
     "output_type": "execute_result"
    }
   ],
   "source": [
    "climate_ds[0]"
   ]
  },
  {
   "cell_type": "code",
   "execution_count": 28,
   "id": "43afcc94-4aac-4bf8-abd3-762f44c8f223",
   "metadata": {},
   "outputs": [
    {
     "data": {
      "text/plain": [
       "{'claim_id': '15661',\n",
       " 'claim': '\"The money the Clinton Foundation took from from foreign governments while Hillary Clinton was secretary of state \"\"is clearly illegal. … The Constitution says you can’t take this stuff.\"',\n",
       " 'date_published': 'April 26, 2015',\n",
       " 'explanation': '\"Gingrich said the Clinton Foundation \"\"took money from from foreign governments while (Hillary Clinton) was secretary of state. It is clearly illegal. … The Constitution says you can’t take this stuff.\"\" A clause in the Constitution does prohibit U.S. officials such as former Secretary of State Hillary Clinton from receiving gifts, or emoluments, from foreign governments. But the gifts in this case were donations from foreign governments that went to the Clinton Foundation, not Hillary Clinton. She was not part of the foundation her husband founded while she was secretary of state. Does that violate the Constitution? Some libertarian-minded constitutional law experts say it very well could. Others are skeptical. What’s clear is there is room for ambiguity, and the donations are anything but \"\"clearly illegal.\"\" The reality is this a hazy part of U.S. constitutional\\xa0law. ',\n",
       " 'fact_checkers': 'Katie Sanders',\n",
       " 'main_text': '\"Hillary Clinton is in the political crosshairs as the author of a new book alleges improper financial ties between her public and personal life. At issue in conservative author Peter Schweizer’s forthcoming book Clinton Cash are donations from foreign governments to the Clinton Foundation during the four years she served as secretary of state. George Stephanopoulos used an interview with Schweizer on ABC This Week to point out what other nonpartisan journalists have found: There is no \"\"smoking gun\"\" showing that donations to the foundation influenced her foreign policy decisions. Still, former Republican House Speaker Newt Gingrich says the donations are \"\"clearly illegal\"\" under federal law. In his view, a donation by a foreign government to the Clinton Foundation while Clinton was secretary of state is the same as money sent directly to her, he said, even though she did not join the foundation’s board until she left her post. \"\"The Constitution of the United States says you cannot take money from foreign governments without explicit permission of the Congress. They wrote that in there because they knew the danger of corrupting our system by foreign money is enormous,\"\" Gingrich said. \"\"You had a sitting secretary of state whose husband radically increased his speech fees, you have a whole series of dots on the wall now where people gave millions of dollars — oh, by the way, they happen to get taken care of by the State Department.\"\" He continued, \"\"My point is they took money from foreign governments while she was secretary of State. That is clearly illegal.\"\" PunditFact wanted to know if a criminal case against Clinton is that open and shut. Is what happened \"\"clearly illegal\"\"? A spokesman for the Clinton Foundation certainly disagreed, calling Gingrich’s accusation \"\"a baseless leap\"\" because Clinton was not part of her husband’s foundation while serving as a senator or secretary of state. We did not hear from Gingrich by our deadline. Foundation basics Former President Clinton started the William J. Clinton Foundation in 2001, the year after Hillary Clinton won her first term as a New York senator. The foundation works with non-governmental organizations, the private sector and governments around the world on health, anti-poverty, HIV/AIDS and climate change initiatives. Spokesman Craig Minassian said it’s reasonable for the foundation to accept money from foreign governments because of the global scope of its programs, and the donations are usually in the form of tailored grants for specific missions. Hillary Clinton was not part of her husband’s foundation while she was a senator or\\xa0secretary of state. Her appointment to the latter post required Senate confirmation and came with an agreement between the White House and Clinton Foundation that the foundation would be more transparent about its donors. According to the 2008 memorandum of understanding, the foundation would release information behind new donations and could continue to collect donations from countries with which it had existing relationships or running grant programs. If countries with existing contributions significantly stepped up their contributions, or if a new foreign government wanted to donate, the State Department would have to approve. Clinton took an active role in fundraising when she left the State Department and the foundation became the Bill, Hillary & Chelsea Clinton Foundation in 2013. But she left the board when she announced her run for the presidency in April 2015. The Emoluments Clause So how does Gingrich come up with the claim that Clinton Foundation donations are \"\"clearly illegal\"\" and unconstitutional? The answer is something known as the Emoluments Clause. A few conservative websites have made similar arguments in recent days, including the Federalist blog. The Emoluments Clause, found in Article 1, Section 9 of the Constitution, reads in part: \"\"No Title of Nobility shall be granted by the United States: And no Person holding any Office of Profit or Trust under them, shall, without the Consent of the Congress, accept of any present, Emolument, Office, or Title, of any kind whatever, from any King, Prince, or foreign State.\"\" The framers came up with this clause to prevent the government and leaders from granting or receiving titles of nobility and to keep leaders free of external influence. (An emolument, per Merriam-Webster Dictionary, is \"\"the returns arising from office or employment usually in the form of compensation or perquisites.\"\") Lest you think the law is no longer relevant, the Pentagon ethics office in 2013 warned employees the \"\"little known provision\"\" applies to all federal employees and military retirees. There’s no mention of spouses in the memo. J. Peter Pham, director of the Atlantic Council’s Africa Center, said interpretation of the clause has evolved since its adoption at the Constitutional Convention, when the primary concern was about overseas diplomats not seeking gifts from foreign powers they were dealing with. The Defense Department memo, in his view, goes beyond what the framers envisioned for the part of the memo dealing with gifts. \"\"I think that, aside from the unambiguous parts, the burden would be on those invoking the clause to show actual causality that would be in violation of the clause,\"\" Pham said. Expert discussion We asked seven different constitutional law experts on whether the Clinton Foundation foreign donations were \"\"clearly illegal\"\" and a violation of the Emoluments Clause. We did not reach a consensus with their responses, though a majority thought the layers of separation between the foundation and Hillary Clinton work against Gingrich. The American system often distinguishes between public officers and private foundations, \"\"even if real life tends to blur some of those distinctions,\"\" said American University law professor Steve Vladeck. Vladeck added that the Emoluments Clause has never been enforced. \"\"I very much doubt that the first case in its history would be because a foreign government made charitable donations to a private foundation controlled by a government employee’s relative,\"\" he said. \"\"Gingrich may think that giving money to the Clinton Foundation and giving money to then-Secretary Clinton are the same thing. Unfortunately for him, for purposes of federal regulations, statutes, and the Constitution, they’re formally — and, thus, legally — distinct.\"\" Robert Delahunty, a University of St. Thomas constitutional law professor who worked in the Justice Department’s Office of Legal Counsel from 1989 to 2003, also called Gingrich’s link between Clinton and the foreign governments’ gifts to the Clinton Foundation as \"\"implausible, and in any case I don’t think we have the facts to support it.\"\" \"\"The truth is that we establish corporate bodies like the Clinton Foundation because the law endows these entities with a separate and distinct legal personhood,\"\" Delahunty said. John Harrison, University of Virginia law professor and former deputy assistant attorney general in the Office of Legal Counsel from 1990 to 1993, pointed to the Foreign Gifts Act, 5 U.S.C. 7432, which sets rules for how the Emoluments Clause should work in practice. The statute spells out the minimal value for acceptable gifts, and says it applies to spouses of the individuals covered, but \"\"it doesn’t say anything about receipt of foreign gifts by other entities such as the Clinton Foundation.\"\" \"\"I don’t know whether there’s any other provision of federal law that would treat a foreign gift to the foundation as having made to either of the Clintons personally,\"\" Harrison said, who added that agencies have their own supplemental rules for this section, and he did not know if the State Department addressed this. Other experts on the libertarian side of the scale thought Gingrich was more right in his assertion. Clinton violates the clause because of its intentionally broad phrasing about gifts of \"\"any kind whatever,\"\" which would cover indirect gifts via the foundation, said Dave Kopel, a constitutional law professor at Denver University and research director at the libertarian Independence Institute. Kopel also brought up bribery statutes, which would require that a gift had some influence in Clinton’s decision while secretary of state. Delahunty thought Kopel’s reasoning would have \"\"strange consequences,\"\" such as whether a state-owned airline flying Bill Clinton to a conference of former heads of state counted\\xa0as a gift to Hillary Clinton. Our ruling Gingrich said the Clinton Foundation \"\"took money from from foreign governments while (Hillary Clinton) was secretary of state. It is clearly illegal. … The Constitution says you can’t take this stuff.\"\" A clause in the Constitution does prohibit U.S. officials such as former Secretary of State Hillary Clinton from receiving gifts, or emoluments, from foreign governments. But the gifts in this case were donations from foreign governments that went to the Clinton Foundation, not Hillary Clinton. She was not part of the foundation her husband founded while she was secretary of state. Does that violate the Constitution? Some libertarian-minded constitutional law experts say it very well could. Others are skeptical. What’s clear is there is room for ambiguity, and the donations are anything but \"\"clearly illegal.\"\" The reality is this a hazy part of U.S. constitutional\\xa0law.',\n",
       " 'sources': 'https://www.wsj.com/articles/clinton-foundation-defends-acceptance-of-foreign-donations-1424302856, https://www.washingtonpost.com/politics/for-clintons-speech-income-shows-how-their-wealth-is-intertwined-with-charity/2015/04/22/12709ec0-dc8d-11e4-a500-1c5bb1d8ff6a_story.html?tid=pm_politics_pop_b, https://www.politifact.com/truth-o-meter/statements/2009/oct/29/ginny-brown-waite/does-president-need-permission-congress-accept-nob/, https://www.politifact.com/truth-o-meter/statements/2015/feb/26/american-crossroads/conservative-group-claims-hillary-clintons-foundat/, http://thefederalist.com/2015/03/02/the-u-s-constitution-actually-bans-hillarys-foreign-government-payola/, https://www.wsj.com/articles/foreign-government-gifts-to-clinton-foundation-on-the-rise-1424223031, https://www.washingtonpost.com/politics/foreign-governments-gave-millions-to-foundation-while-clinton-was-at-state-dept/2015/02/25/31937c1e-bc3f-11e4-8668-4e7ba8439ca6_story.html, https://www.politifact.com/truth-o-meter/statements/2014/apr/01/facebook-posts/meme-says-barack-obamas-acceptance-islamic-order-a/, https://www.nytimes.com/2015/04/20/us/politics/new-book-clinton-cash-questions-foreign-donations-to-foundation.html?&assetType=nyt_now',\n",
       " 'label': 'false',\n",
       " 'subjects': 'Foreign Policy, PunditFact, Newt Gingrich, ',\n",
       " 'top_k': ['Some libertarian-minded constitutional law experts say it very well could.',\n",
       "  'The Emoluments Clause So how does Gingrich come up with the claim that Clinton Foundation donations are \"\"clearly illegal\"\" and unconstitutional?',\n",
       "  'John Harrison, University of Virginia law professor and former deputy assistant attorney general in the Office of Legal Counsel from 1990 to 1993, pointed to the Foreign Gifts Act, 5 U.S.C.',\n",
       "  'The answer is something known as the Emoluments Clause.',\n",
       "  'Her appointment to the latter post required Senate confirmation and came with an agreement between the White House and Clinton Foundation that the foundation would be more transparent about its donors.']}"
      ]
     },
     "execution_count": 28,
     "metadata": {},
     "output_type": "execute_result"
    }
   ],
   "source": [
    "pubhealth_train_ds[0]"
   ]
  },
  {
   "cell_type": "code",
   "execution_count": null,
   "id": "898f1823-dd73-4cee-96ab-da363ceae22a",
   "metadata": {},
   "outputs": [],
   "source": []
  }
 ],
 "metadata": {
  "kernelspec": {
   "display_name": "Python 3 (ipykernel)",
   "language": "python",
   "name": "python3"
  },
  "language_info": {
   "codemirror_mode": {
    "name": "ipython",
    "version": 3
   },
   "file_extension": ".py",
   "mimetype": "text/x-python",
   "name": "python",
   "nbconvert_exporter": "python",
   "pygments_lexer": "ipython3",
   "version": "3.8.12"
  }
 },
 "nbformat": 4,
 "nbformat_minor": 5
}
