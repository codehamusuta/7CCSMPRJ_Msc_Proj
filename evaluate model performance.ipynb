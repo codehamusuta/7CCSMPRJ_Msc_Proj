{
 "cells": [
  {
   "cell_type": "code",
   "execution_count": 1,
   "id": "8352840b-8120-4f1c-b372-e57adb7f32d9",
   "metadata": {},
   "outputs": [
    {
     "name": "stderr",
     "output_type": "stream",
     "text": [
      "/scratch/users/k21193529/conda/jenv3/lib/python3.8/site-packages/tqdm/auto.py:21: TqdmWarning: IProgress not found. Please update jupyter and ipywidgets. See https://ipywidgets.readthedocs.io/en/stable/user_install.html\n",
      "  from .autonotebook import tqdm as notebook_tqdm\n"
     ]
    }
   ],
   "source": [
    "import os\n",
    "\n",
    "from main import load_datasets\n",
    "from evaluate_model import evaluate_model"
   ]
  },
  {
   "cell_type": "markdown",
   "id": "21dfd3b8-80d8-48c2-a17d-5e87395373ee",
   "metadata": {},
   "source": [
    "## Load Data"
   ]
  },
  {
   "cell_type": "code",
   "execution_count": 2,
   "id": "a5901b97-869f-409e-85e8-38e83d1e1785",
   "metadata": {},
   "outputs": [],
   "source": [
    "root = '../data_2023_06_02'\n",
    "\n",
    "fever_dir = os.path.join(root, 'preprocessed/FEVER')\n",
    "pubhealth_dir = os.path.join(root, 'preprocessed/PUBHEALTH')\n",
    "climate_dir = os.path.join(root, 'preprocessed/CLIMATE-FEVER')"
   ]
  },
  {
   "cell_type": "code",
   "execution_count": 3,
   "id": "1a161b46-5184-4005-b01e-6c916f4032c4",
   "metadata": {},
   "outputs": [],
   "source": [
    "_, _, _, ds_test = load_datasets(fever_dir, pubhealth_dir, climate_dir)"
   ]
  },
  {
   "cell_type": "markdown",
   "id": "55d1bc59-406f-400c-84ad-b8305b299eb7",
   "metadata": {},
   "source": [
    "## Evaluate Model"
   ]
  },
  {
   "cell_type": "markdown",
   "id": "a8d1bf27-4b8b-45b4-91e6-ab026e5d5361",
   "metadata": {},
   "source": [
    "#### Load experiment settings"
   ]
  },
  {
   "cell_type": "code",
   "execution_count": 4,
   "id": "f06ed2a2-414b-4acd-ab42-01d1f993085e",
   "metadata": {},
   "outputs": [],
   "source": [
    "import yaml"
   ]
  },
  {
   "cell_type": "code",
   "execution_count": 5,
   "id": "7fa9d317-b87b-4b2e-9c11-95226cd8c91a",
   "metadata": {},
   "outputs": [],
   "source": [
    "with open('best_models_v3.yaml', 'r') as file:\n",
    "    config = yaml.safe_load(file)\n",
    "\n",
    "#unwind config\n",
    "experiments = [\n",
    "    {\"model\": model, \"train dataset\": test_set, \"best_model_path\": path} \n",
    "    for model, d1 in config.items() \n",
    "    for test_set, path in d1.items()\n",
    "]"
   ]
  },
  {
   "cell_type": "markdown",
   "id": "05f31c18-7351-4855-add6-87e48ed30bdb",
   "metadata": {},
   "source": [
    "#### Run models"
   ]
  },
  {
   "cell_type": "code",
   "execution_count": null,
   "id": "db060e51-7f98-46f6-b0e6-ca5b667ad484",
   "metadata": {},
   "outputs": [],
   "source": [
    "# Run single experiment\n",
    "# results = evaluate_model(model_checkpoint, ds_test, metric=\"accuracy\")"
   ]
  },
  {
   "cell_type": "code",
   "execution_count": 6,
   "id": "a2b6b7f4-0042-4444-b0c8-42a99dd19dda",
   "metadata": {
    "scrolled": true
   },
   "outputs": [
    {
     "name": "stdout",
     "output_type": "stream",
     "text": [
      "Model loaded into cuda\n",
      "Tokenizing dataset\n"
     ]
    },
    {
     "name": "stderr",
     "output_type": "stream",
     "text": [
      "                                                                 \r"
     ]
    },
    {
     "name": "stdout",
     "output_type": "stream",
     "text": [
      "Evaluating fever\n",
      "Evaluating pubhealth\n",
      "Evaluating climate\n",
      "Model loaded into cuda\n",
      "Tokenizing dataset\n"
     ]
    },
    {
     "name": "stderr",
     "output_type": "stream",
     "text": [
      "                                                                 \r"
     ]
    },
    {
     "name": "stdout",
     "output_type": "stream",
     "text": [
      "Evaluating fever\n",
      "Evaluating pubhealth\n",
      "Evaluating climate\n",
      "Model loaded into cuda\n",
      "Tokenizing dataset\n"
     ]
    },
    {
     "name": "stderr",
     "output_type": "stream",
     "text": [
      "                                                                 \r"
     ]
    },
    {
     "name": "stdout",
     "output_type": "stream",
     "text": [
      "Evaluating fever\n",
      "Evaluating pubhealth\n",
      "Evaluating climate\n",
      "Model loaded into cuda\n",
      "Tokenizing dataset\n"
     ]
    },
    {
     "name": "stderr",
     "output_type": "stream",
     "text": [
      "                                                                 \r"
     ]
    },
    {
     "name": "stdout",
     "output_type": "stream",
     "text": [
      "Evaluating fever\n",
      "Evaluating pubhealth\n",
      "Evaluating climate\n",
      "Model loaded into cuda\n",
      "Tokenizing dataset\n"
     ]
    },
    {
     "name": "stderr",
     "output_type": "stream",
     "text": [
      "                                                                 \r"
     ]
    },
    {
     "name": "stdout",
     "output_type": "stream",
     "text": [
      "Evaluating fever\n",
      "Evaluating pubhealth\n",
      "Evaluating climate\n",
      "Model loaded into cuda\n",
      "Tokenizing dataset\n"
     ]
    },
    {
     "name": "stderr",
     "output_type": "stream",
     "text": [
      "                                                                 \r"
     ]
    },
    {
     "name": "stdout",
     "output_type": "stream",
     "text": [
      "Evaluating fever\n",
      "Evaluating pubhealth\n",
      "Evaluating climate\n",
      "Model loaded into cuda\n",
      "Tokenizing dataset\n"
     ]
    },
    {
     "name": "stderr",
     "output_type": "stream",
     "text": [
      "                                                                 \r"
     ]
    },
    {
     "name": "stdout",
     "output_type": "stream",
     "text": [
      "Evaluating fever\n",
      "Evaluating pubhealth\n",
      "Evaluating climate\n",
      "Model loaded into cuda\n",
      "Tokenizing dataset\n"
     ]
    },
    {
     "name": "stderr",
     "output_type": "stream",
     "text": [
      "                                                                 \r"
     ]
    },
    {
     "name": "stdout",
     "output_type": "stream",
     "text": [
      "Evaluating fever\n",
      "Evaluating pubhealth\n",
      "Evaluating climate\n",
      "Model loaded into cuda\n",
      "Tokenizing dataset\n"
     ]
    },
    {
     "name": "stderr",
     "output_type": "stream",
     "text": [
      "                                                                 \r"
     ]
    },
    {
     "name": "stdout",
     "output_type": "stream",
     "text": [
      "Evaluating fever\n",
      "Evaluating pubhealth\n",
      "Evaluating climate\n",
      "Model loaded into cuda\n",
      "Tokenizing dataset\n"
     ]
    },
    {
     "name": "stderr",
     "output_type": "stream",
     "text": [
      "                                                                 \r"
     ]
    },
    {
     "name": "stdout",
     "output_type": "stream",
     "text": [
      "Evaluating fever\n",
      "Evaluating pubhealth\n",
      "Evaluating climate\n",
      "Model loaded into cuda\n",
      "Tokenizing dataset\n"
     ]
    },
    {
     "name": "stderr",
     "output_type": "stream",
     "text": [
      "                                                                 \r"
     ]
    },
    {
     "name": "stdout",
     "output_type": "stream",
     "text": [
      "Evaluating fever\n",
      "Evaluating pubhealth\n",
      "Evaluating climate\n",
      "Model loaded into cuda\n",
      "Tokenizing dataset\n"
     ]
    },
    {
     "name": "stderr",
     "output_type": "stream",
     "text": [
      "                                                                 \r"
     ]
    },
    {
     "name": "stdout",
     "output_type": "stream",
     "text": [
      "Evaluating fever\n",
      "Evaluating pubhealth\n",
      "Evaluating climate\n",
      "Model loaded into cuda\n",
      "Tokenizing dataset\n"
     ]
    },
    {
     "name": "stderr",
     "output_type": "stream",
     "text": [
      "                                                                 \r"
     ]
    },
    {
     "name": "stdout",
     "output_type": "stream",
     "text": [
      "Evaluating fever\n",
      "Evaluating pubhealth\n",
      "Evaluating climate\n",
      "Model loaded into cuda\n",
      "Tokenizing dataset\n"
     ]
    },
    {
     "name": "stderr",
     "output_type": "stream",
     "text": [
      "                                                                 \r"
     ]
    },
    {
     "name": "stdout",
     "output_type": "stream",
     "text": [
      "Evaluating fever\n",
      "Evaluating pubhealth\n",
      "Evaluating climate\n",
      "Model loaded into cuda\n",
      "Tokenizing dataset\n"
     ]
    },
    {
     "name": "stderr",
     "output_type": "stream",
     "text": [
      "                                                                 \r"
     ]
    },
    {
     "name": "stdout",
     "output_type": "stream",
     "text": [
      "Evaluating fever\n",
      "Evaluating pubhealth\n",
      "Evaluating climate\n",
      "45\n"
     ]
    }
   ],
   "source": [
    "# Run all experiments\n",
    "all_results = []\n",
    "for experiment in experiments:\n",
    "    model_path = experiment['best_model_path']\n",
    "    results = evaluate_model(model_path, ds_test, metric=\"accuracy\")\n",
    "    for test_dataset, r in results.items():\n",
    "        entry = experiment.copy()\n",
    "        entry['test_dataset'] = test_dataset\n",
    "        entry['accuracy'] = r['accuracy']\n",
    "        all_results.append(entry)\n",
    "\n",
    "print(len(all_results))"
   ]
  },
  {
   "cell_type": "markdown",
   "id": "595f0a1c-5837-4ca7-94df-f2cebafb7b99",
   "metadata": {},
   "source": [
    "#### Present results"
   ]
  },
  {
   "cell_type": "code",
   "execution_count": 8,
   "id": "411788c7-2119-4d85-aabd-ad7d8d50425b",
   "metadata": {},
   "outputs": [],
   "source": [
    "import pandas as pd"
   ]
  },
  {
   "cell_type": "code",
   "execution_count": 9,
   "id": "fe656f90-1df5-433b-abc8-0ccb84db934c",
   "metadata": {},
   "outputs": [],
   "source": [
    "df = pd.DataFrame(all_results)"
   ]
  },
  {
   "cell_type": "code",
   "execution_count": 10,
   "id": "a3de7ed7-132f-4452-b763-40a14bdfc7ba",
   "metadata": {},
   "outputs": [],
   "source": [
    "df['train dataset'].replace({\n",
    "    'FEVER': 'Fine-tuned on FEVER',\n",
    "    'PUBHEALTH': 'Fine-tuned on PUBHEALTH',\n",
    "    'CLIMATE-FEVER': 'Fine-tuned on CLIMATE-FEVER'\n",
    "}, inplace=True)\n",
    "\n",
    "df['test_dataset'].replace({\n",
    "    'fever': 'FEVER',\n",
    "    'pubhealth': 'PUBHEALTH',\n",
    "    'climate': 'CLIMATE-FEVER'\n",
    "}, inplace=True)"
   ]
  },
  {
   "cell_type": "code",
   "execution_count": 11,
   "id": "0fc3e4f8-e337-4ccf-806a-2a244f14ac93",
   "metadata": {},
   "outputs": [],
   "source": [
    "df.to_csv('results_v3.csv')"
   ]
  },
  {
   "cell_type": "markdown",
   "id": "077d1d20-1638-4412-a8be-bf288e268f06",
   "metadata": {},
   "source": [
    "#### Plot graph"
   ]
  },
  {
   "cell_type": "code",
   "execution_count": 12,
   "id": "3348debf-8a44-4047-b085-52c206292666",
   "metadata": {},
   "outputs": [],
   "source": [
    "import seaborn as sns\n",
    "import pandas as pd"
   ]
  },
  {
   "cell_type": "code",
   "execution_count": 13,
   "id": "4b5e65e9-7531-443d-bc1e-61afe1d416c2",
   "metadata": {},
   "outputs": [],
   "source": [
    "df = pd.read_csv('results_v3.csv', index_col=0)"
   ]
  },
  {
   "cell_type": "code",
   "execution_count": 14,
   "id": "aeba4e74-aa4f-4ae6-9530-9bf930896a0f",
   "metadata": {},
   "outputs": [],
   "source": [
    "df['accuracy'] = df['accuracy']*100"
   ]
  },
  {
   "cell_type": "code",
   "execution_count": 15,
   "id": "3ab3d3af-9def-4d19-b33e-77a2447fbdb0",
   "metadata": {},
   "outputs": [],
   "source": [
    "sns.set_theme(style=\"ticks\", font_scale=1.5)\n",
    "sns.set_style(\"ticks\", { 'axes.grid': True })"
   ]
  },
  {
   "cell_type": "code",
   "execution_count": 16,
   "id": "f3f6ec84-bed8-4f19-9a8f-0dc83c3c46a3",
   "metadata": {},
   "outputs": [
    {
     "name": "stderr",
     "output_type": "stream",
     "text": [
      "/scratch/users/k21193529/conda/jenv3/lib/python3.8/site-packages/seaborn/axisgrid.py:118: UserWarning: The figure layout has changed to tight\n",
      "  self._figure.tight_layout(*args, **kwargs)\n"
     ]
    },
    {
     "data": {
      "text/plain": [
       "<seaborn.axisgrid.FacetGrid at 0x7f856fb02370>"
      ]
     },
     "execution_count": 16,
     "metadata": {},
     "output_type": "execute_result"
    },
    {
     "data": {
      "image/png": "[encoded data removed]",
      "text/plain": [
       "<Figure size 1680.25x500 with 3 Axes>"
      ]
     },
     "metadata": {},
     "output_type": "display_data"
    }
   ],
   "source": [
    "sea = sns.FacetGrid(\n",
    "    df, col='train dataset', \n",
    "    height=5, aspect=1, despine=False,\n",
    ")\n",
    "\n",
    "sea.map_dataframe(\n",
    "    sns.barplot, data=df, x=\"test_dataset\", y=\"accuracy\", \n",
    "    hue=\"model\", errorbar=None,\n",
    "    palette=\"coolwarm\",\n",
    ")\n",
    "\n",
    "sea.add_legend()\n",
    "sea.set_titles(col_template=\"{col_name}\")\n",
    "sea.set_xlabels(\"\")\n",
    "sea.set_ylabels('Accuracy (%)')\n",
    "sea.set_xticklabels(rotation=10, fontsize=13)"
   ]
  },
  {
   "cell_type": "code",
   "execution_count": 17,
   "id": "146d3c46-1c9f-42c4-bf30-cbf1fa13b453",
   "metadata": {},
   "outputs": [],
   "source": [
    "sea.figure.savefig(\"overall_results_v3.png\")"
   ]
  },
  {
   "cell_type": "code",
   "execution_count": null,
   "id": "d8b762b2-23cc-49f9-888d-db6c6a767324",
   "metadata": {},
   "outputs": [],
   "source": []
  }
 ],
 "metadata": {
  "kernelspec": {
   "display_name": "Python 3 (ipykernel)",
   "language": "python",
   "name": "python3"
  },
  "language_info": {
   "codemirror_mode": {
    "name": "ipython",
    "version": 3
   },
   "file_extension": ".py",
   "mimetype": "text/x-python",
   "name": "python",
   "nbconvert_exporter": "python",
   "pygments_lexer": "ipython3",
   "version": "3.8.12"
  }
 },
 "nbformat": 4,
 "nbformat_minor": 5
}
