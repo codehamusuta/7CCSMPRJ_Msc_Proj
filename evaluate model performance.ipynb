{
 "cells": [
  {
   "cell_type": "code",
   "execution_count": 1,
   "id": "8352840b-8120-4f1c-b372-e57adb7f32d9",
   "metadata": {},
   "outputs": [
    {
     "name": "stderr",
     "output_type": "stream",
     "text": [
      "/scratch/users/k21193529/conda/jenv3/lib/python3.8/site-packages/tqdm/auto.py:21: TqdmWarning: IProgress not found. Please update jupyter and ipywidgets. See https://ipywidgets.readthedocs.io/en/stable/user_install.html\n",
      "  from .autonotebook import tqdm as notebook_tqdm\n"
     ]
    }
   ],
   "source": [
    "import os\n",
    "\n",
    "from main import load_datasets\n",
    "from evaluate_model import evaluate_model"
   ]
  },
  {
   "cell_type": "markdown",
   "id": "21dfd3b8-80d8-48c2-a17d-5e87395373ee",
   "metadata": {},
   "source": [
    "## Load Data"
   ]
  },
  {
   "cell_type": "code",
   "execution_count": 2,
   "id": "a5901b97-869f-409e-85e8-38e83d1e1785",
   "metadata": {},
   "outputs": [],
   "source": [
    "root = '../data_2023_06_02'\n",
    "\n",
    "fever_dir = os.path.join(root, 'preprocessed/FEVER')\n",
    "pubhealth_dir = os.path.join(root, 'preprocessed/PUBHEALTH')\n",
    "climate_dir = os.path.join(root, 'preprocessed/CLIMATE-FEVER')"
   ]
  },
  {
   "cell_type": "code",
   "execution_count": 3,
   "id": "1a161b46-5184-4005-b01e-6c916f4032c4",
   "metadata": {},
   "outputs": [],
   "source": [
    "_, _, _, ds_test = load_datasets(fever_dir, pubhealth_dir, climate_dir)"
   ]
  },
  {
   "cell_type": "markdown",
   "id": "55d1bc59-406f-400c-84ad-b8305b299eb7",
   "metadata": {},
   "source": [
    "## Evaluate Model"
   ]
  },
  {
   "cell_type": "code",
   "execution_count": null,
   "id": "42871ffb-b402-40c1-bfa8-f051c7420320",
   "metadata": {},
   "outputs": [],
   "source": [
    "model_checkpoint = \"../models/RoBERTa_FEVER/checkpoint-2273\""
   ]
  },
  {
   "cell_type": "code",
   "execution_count": 4,
   "id": "411788c7-2119-4d85-aabd-ad7d8d50425b",
   "metadata": {},
   "outputs": [
    {
     "name": "stdout",
     "output_type": "stream",
     "text": [
      "loading model into cuda\n"
     ]
    },
    {
     "name": "stderr",
     "output_type": "stream",
     "text": [
      "                                                                 \r"
     ]
    },
    {
     "name": "stdout",
     "output_type": "stream",
     "text": [
      "fever :: {'accuracy': 0.950995099509951}\n",
      "pubhealth :: {'accuracy': 0.47093023255813954}\n",
      "climate :: {'accuracy': 0.515}\n"
     ]
    }
   ],
   "source": [
    "evaluate_model(model_checkpoint, ds_test)"
   ]
  }
 ],
 "metadata": {
  "kernelspec": {
   "display_name": "Python 3 (ipykernel)",
   "language": "python",
   "name": "python3"
  },
  "language_info": {
   "codemirror_mode": {
    "name": "ipython",
    "version": 3
   },
   "file_extension": ".py",
   "mimetype": "text/x-python",
   "name": "python",
   "nbconvert_exporter": "python",
   "pygments_lexer": "ipython3",
   "version": "3.8.12"
  }
 },
 "nbformat": 4,
 "nbformat_minor": 5
}
