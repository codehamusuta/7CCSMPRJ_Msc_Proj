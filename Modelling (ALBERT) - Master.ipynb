{
 "cells": [
  {
   "cell_type": "code",
   "execution_count": 1,
   "id": "64db97dd-0a24-4f1a-bf2d-81b230a3f2b2",
   "metadata": {},
   "outputs": [
    {
     "name": "stderr",
     "output_type": "stream",
     "text": [
      "/scratch/users/k21193529/conda/jenv3/lib/python3.8/site-packages/tqdm/auto.py:21: TqdmWarning: IProgress not found. Please update jupyter and ipywidgets. See https://ipywidgets.readthedocs.io/en/stable/user_install.html\n",
      "  from .autonotebook import tqdm as notebook_tqdm\n"
     ]
    }
   ],
   "source": [
    "import os\n",
    "\n",
    "# from main import FeverLoader, PubhealthLoader, ClimateFeverLoader\n",
    "from main import load_datasets"
   ]
  },
  {
   "cell_type": "markdown",
   "id": "e05a58cb-2a20-468f-ba60-838ce58abd5a",
   "metadata": {},
   "source": [
    "## Setting\n",
    "- 1: train on FEVER\n",
    "- 2: train on pubhealth\n",
    "- 3: train on climate"
   ]
  },
  {
   "cell_type": "code",
   "execution_count": 20,
   "id": "60a4fdbe-62f0-4f4f-a452-4b0fcaca5e02",
   "metadata": {},
   "outputs": [],
   "source": [
    "experiment = \"3\"\n",
    "model_dirs = {\n",
    "    \"1\": \"../models/ALBERT_FEVER\",\n",
    "    \"2\": \"../models/ALBERT_PUBHEALTH\",\n",
    "    \"3\": \"../models/ALBERT_CLIMATE\"\n",
    "}"
   ]
  },
  {
   "cell_type": "markdown",
   "id": "ed02e009-4165-4519-b650-72f6bd57a4d3",
   "metadata": {},
   "source": [
    "## Load Data"
   ]
  },
  {
   "cell_type": "code",
   "execution_count": 3,
   "id": "e5b22c32-3d51-4b09-b019-03944684850b",
   "metadata": {},
   "outputs": [],
   "source": [
    "root = '../data_2023_06_02'\n",
    "\n",
    "fever_dir = os.path.join(root, 'preprocessed/FEVER')\n",
    "pubhealth_dir = os.path.join(root, 'preprocessed/PUBHEALTH')\n",
    "climate_dir = os.path.join(root, 'preprocessed/CLIMATE-FEVER')"
   ]
  },
  {
   "cell_type": "code",
   "execution_count": 4,
   "id": "1a350a00-6b77-43dc-bbc3-3ea03c711a81",
   "metadata": {},
   "outputs": [],
   "source": [
    "ds1, ds2, ds3, ds_test = load_datasets(fever_dir, pubhealth_dir, climate_dir)"
   ]
  },
  {
   "cell_type": "markdown",
   "id": "bd02be6f-86e0-4db5-925a-5b33281ef12e",
   "metadata": {},
   "source": [
    "## Training"
   ]
  },
  {
   "cell_type": "code",
   "execution_count": 5,
   "id": "d8e95b7a-889c-4e7d-9da7-db00ba37ff8d",
   "metadata": {},
   "outputs": [],
   "source": [
    "# model_name = \"bert-base-uncased\" #https://huggingface.co/bert-base-uncased\n",
    "# model_name = \"bert-large-uncased\" #https://huggingface.co/bert-large-uncased\n",
    "# model_name = \"allenai/scibert_scivocab_uncased\" #https://huggingface.co/allenai/scibert_scivocab_uncased\n",
    "# model_name = \"dmis-lab/biobert-base-cased-v1.2\" #https://github.com/dmis-lab/biobert\n",
    "# model_name = \"gpt2-large\" #https://huggingface.co/gpt2-large\n",
    "model_name = \"albert-base-v1\" #https://huggingface.co/albert-base-v1"
   ]
  },
  {
   "cell_type": "markdown",
   "id": "6a215484-9580-4284-bf4f-f7b824fd065a",
   "metadata": {},
   "source": [
    "#### Tokenize data"
   ]
  },
  {
   "cell_type": "code",
   "execution_count": 6,
   "id": "1ad0c279-521b-4d2b-a053-594bc4b3ed83",
   "metadata": {},
   "outputs": [],
   "source": [
    "from transformers import AutoTokenizer\n",
    "\n",
    "tokenizer = AutoTokenizer.from_pretrained(model_name)\n",
    "def preprocess_function(samples):\n",
    "    return tokenizer(\n",
    "        samples['claim'], samples['evidence'], \n",
    "                     padding=True,\n",
    "                     truncation='only_second', \n",
    "                     max_length=512)"
   ]
  },
  {
   "cell_type": "code",
   "execution_count": 21,
   "id": "af1ae792-0419-4274-845f-44fa298b1af0",
   "metadata": {},
   "outputs": [],
   "source": [
    "if experiment == \"1\":\n",
    "    ds = ds1\n",
    "elif experiment == \"2\":\n",
    "    ds = ds2\n",
    "elif experiment == \"3\":\n",
    "    ds = ds3\n",
    "else:\n",
    "    raise ValueError(\"Unknown Experiment\")"
   ]
  },
  {
   "cell_type": "code",
   "execution_count": 22,
   "id": "ada5e9f2-aa2e-40ae-a008-5392aeab09d3",
   "metadata": {},
   "outputs": [
    {
     "name": "stderr",
     "output_type": "stream",
     "text": [
      "                                                                 \r"
     ]
    }
   ],
   "source": [
    "encoded_ds = ds.map(preprocess_function, batched=True)"
   ]
  },
  {
   "cell_type": "code",
   "execution_count": 23,
   "id": "54fd9937-994b-4739-89b7-d1cb5aaab6a8",
   "metadata": {
    "scrolled": true
   },
   "outputs": [
    {
     "name": "stdout",
     "output_type": "stream",
     "text": [
      "DatasetDict({\n",
      "    train: Dataset({\n",
      "        features: ['claim', 'label', 'evidence', 'input_ids', 'token_type_ids', 'attention_mask'],\n",
      "        num_rows: 981\n",
      "    })\n",
      "    validation: Dataset({\n",
      "        features: ['claim', 'label', 'evidence', 'input_ids', 'token_type_ids', 'attention_mask'],\n",
      "        num_rows: 200\n",
      "    })\n",
      "    fever_test: Dataset({\n",
      "        features: ['claim', 'label', 'evidence', 'input_ids', 'token_type_ids', 'attention_mask'],\n",
      "        num_rows: 9999\n",
      "    })\n",
      "    pubhealth_test: Dataset({\n",
      "        features: ['claim', 'evidence', 'label', 'input_ids', 'token_type_ids', 'attention_mask'],\n",
      "        num_rows: 1032\n",
      "    })\n",
      "    climate_test: Dataset({\n",
      "        features: ['claim', 'label', 'evidence', 'input_ids', 'token_type_ids', 'attention_mask'],\n",
      "        num_rows: 200\n",
      "    })\n",
      "})\n"
     ]
    }
   ],
   "source": [
    "print(encoded_ds)"
   ]
  },
  {
   "cell_type": "markdown",
   "id": "a2c81ef9-4dec-4d2b-8b50-f14d12b47f5a",
   "metadata": {},
   "source": [
    "#### Setup model"
   ]
  },
  {
   "cell_type": "code",
   "execution_count": 10,
   "id": "efd05ddc-f607-4fbc-abda-9ab11917dbc8",
   "metadata": {},
   "outputs": [],
   "source": [
    "from transformers import AutoModelForSequenceClassification"
   ]
  },
  {
   "cell_type": "code",
   "execution_count": 24,
   "id": "712559db-e58d-4541-9457-4258edd2b474",
   "metadata": {
    "scrolled": true
   },
   "outputs": [
    {
     "name": "stderr",
     "output_type": "stream",
     "text": [
      "loading configuration file config.json from cache at /users/k21193529/.cache/huggingface/hub/models--albert-base-v1/snapshots/66b3f3c279cf3a1df6d8df1cffa60d4d026ea396/config.json\n",
      "Model config AlbertConfig {\n",
      "  \"_name_or_path\": \"albert-base-v1\",\n",
      "  \"architectures\": [\n",
      "    \"AlbertForMaskedLM\"\n",
      "  ],\n",
      "  \"attention_probs_dropout_prob\": 0.1,\n",
      "  \"bos_token_id\": 2,\n",
      "  \"classifier_dropout_prob\": 0.1,\n",
      "  \"down_scale_factor\": 1,\n",
      "  \"embedding_size\": 128,\n",
      "  \"eos_token_id\": 3,\n",
      "  \"gap_size\": 0,\n",
      "  \"hidden_act\": \"gelu\",\n",
      "  \"hidden_dropout_prob\": 0.1,\n",
      "  \"hidden_size\": 768,\n",
      "  \"id2label\": {\n",
      "    \"0\": \"LABEL_0\",\n",
      "    \"1\": \"LABEL_1\",\n",
      "    \"2\": \"LABEL_2\"\n",
      "  },\n",
      "  \"initializer_range\": 0.02,\n",
      "  \"inner_group_num\": 1,\n",
      "  \"intermediate_size\": 3072,\n",
      "  \"label2id\": {\n",
      "    \"LABEL_0\": 0,\n",
      "    \"LABEL_1\": 1,\n",
      "    \"LABEL_2\": 2\n",
      "  },\n",
      "  \"layer_norm_eps\": 1e-12,\n",
      "  \"max_position_embeddings\": 512,\n",
      "  \"model_type\": \"albert\",\n",
      "  \"net_structure_type\": 0,\n",
      "  \"num_attention_heads\": 12,\n",
      "  \"num_hidden_groups\": 1,\n",
      "  \"num_hidden_layers\": 12,\n",
      "  \"num_memory_blocks\": 0,\n",
      "  \"pad_token_id\": 0,\n",
      "  \"position_embedding_type\": \"absolute\",\n",
      "  \"transformers_version\": \"4.24.0\",\n",
      "  \"type_vocab_size\": 2,\n",
      "  \"vocab_size\": 30000\n",
      "}\n",
      "\n",
      "loading weights file pytorch_model.bin from cache at /users/k21193529/.cache/huggingface/hub/models--albert-base-v1/snapshots/66b3f3c279cf3a1df6d8df1cffa60d4d026ea396/pytorch_model.bin\n",
      "Some weights of the model checkpoint at albert-base-v1 were not used when initializing AlbertForSequenceClassification: ['predictions.LayerNorm.bias', 'predictions.dense.bias', 'predictions.dense.weight', 'predictions.decoder.bias', 'predictions.decoder.weight', 'predictions.LayerNorm.weight', 'predictions.bias']\n",
      "- This IS expected if you are initializing AlbertForSequenceClassification from the checkpoint of a model trained on another task or with another architecture (e.g. initializing a BertForSequenceClassification model from a BertForPreTraining model).\n",
      "- This IS NOT expected if you are initializing AlbertForSequenceClassification from the checkpoint of a model that you expect to be exactly identical (initializing a BertForSequenceClassification model from a BertForSequenceClassification model).\n",
      "Some weights of AlbertForSequenceClassification were not initialized from the model checkpoint at albert-base-v1 and are newly initialized: ['classifier.bias', 'classifier.weight']\n",
      "You should probably TRAIN this model on a down-stream task to be able to use it for predictions and inference.\n"
     ]
    },
    {
     "name": "stdout",
     "output_type": "stream",
     "text": [
      "AlbertForSequenceClassification(\n",
      "  (albert): AlbertModel(\n",
      "    (embeddings): AlbertEmbeddings(\n",
      "      (word_embeddings): Embedding(30000, 128, padding_idx=0)\n",
      "      (position_embeddings): Embedding(512, 128)\n",
      "      (token_type_embeddings): Embedding(2, 128)\n",
      "      (LayerNorm): LayerNorm((128,), eps=1e-12, elementwise_affine=True)\n",
      "      (dropout): Dropout(p=0.1, inplace=False)\n",
      "    )\n",
      "    (encoder): AlbertTransformer(\n",
      "      (embedding_hidden_mapping_in): Linear(in_features=128, out_features=768, bias=True)\n",
      "      (albert_layer_groups): ModuleList(\n",
      "        (0): AlbertLayerGroup(\n",
      "          (albert_layers): ModuleList(\n",
      "            (0): AlbertLayer(\n",
      "              (full_layer_layer_norm): LayerNorm((768,), eps=1e-12, elementwise_affine=True)\n",
      "              (attention): AlbertAttention(\n",
      "                (query): Linear(in_features=768, out_features=768, bias=True)\n",
      "                (key): Linear(in_features=768, out_features=768, bias=True)\n",
      "                (value): Linear(in_features=768, out_features=768, bias=True)\n",
      "                (attention_dropout): Dropout(p=0.1, inplace=False)\n",
      "                (output_dropout): Dropout(p=0.1, inplace=False)\n",
      "                (dense): Linear(in_features=768, out_features=768, bias=True)\n",
      "                (LayerNorm): LayerNorm((768,), eps=1e-12, elementwise_affine=True)\n",
      "              )\n",
      "              (ffn): Linear(in_features=768, out_features=3072, bias=True)\n",
      "              (ffn_output): Linear(in_features=3072, out_features=768, bias=True)\n",
      "              (activation): GELUActivation()\n",
      "              (dropout): Dropout(p=0.1, inplace=False)\n",
      "            )\n",
      "          )\n",
      "        )\n",
      "      )\n",
      "    )\n",
      "    (pooler): Linear(in_features=768, out_features=768, bias=True)\n",
      "    (pooler_activation): Tanh()\n",
      "  )\n",
      "  (dropout): Dropout(p=0.1, inplace=False)\n",
      "  (classifier): Linear(in_features=768, out_features=3, bias=True)\n",
      ")\n"
     ]
    }
   ],
   "source": [
    "num_labels = 3 \n",
    "model = AutoModelForSequenceClassification.from_pretrained(model_name, num_labels=num_labels)\n",
    "print(model)"
   ]
  },
  {
   "cell_type": "markdown",
   "id": "9297c86c-0c83-4072-9847-cfef8cb64adf",
   "metadata": {},
   "source": [
    "#### Setup trainer"
   ]
  },
  {
   "cell_type": "code",
   "execution_count": 12,
   "id": "75a3bc62-7e6e-47c2-a3d2-15c2a6f1a96f",
   "metadata": {},
   "outputs": [],
   "source": [
    "import numpy as np\n",
    "import evaluate \n",
    "from transformers import TrainingArguments, Trainer"
   ]
  },
  {
   "cell_type": "code",
   "execution_count": 25,
   "id": "fc04a2c7-f7b2-4efb-bb8e-46526c11961a",
   "metadata": {},
   "outputs": [],
   "source": [
    "metric = evaluate.load(\"accuracy\")\n",
    "\n",
    "def compute_metrics(eval_pred):\n",
    "    logits, labels = eval_pred\n",
    "    predictions = np.argmax(logits, axis=-1)\n",
    "    return metric.compute(predictions=predictions, references = labels)"
   ]
  },
  {
   "cell_type": "code",
   "execution_count": 26,
   "id": "d05501b1-2ecf-4159-9d09-093a3fc40056",
   "metadata": {},
   "outputs": [
    {
     "name": "stdout",
     "output_type": "stream",
     "text": [
      "../models/ALBERT_CLIMATE\n"
     ]
    }
   ],
   "source": [
    "batch_size = 8 #defaults to 8\n",
    "num_epochs = 5\n",
    "\n",
    "model_dir = model_dirs.get(experiment)\n",
    "print(model_dir)"
   ]
  },
  {
   "cell_type": "code",
   "execution_count": 27,
   "id": "4f6a9aee-6016-490c-a072-a3027be18941",
   "metadata": {},
   "outputs": [
    {
     "name": "stderr",
     "output_type": "stream",
     "text": [
      "PyTorch: setting up devices\n",
      "The default value for the training argument `--report_to` will change in v5 (from all installed integrations to none). In v5, you will need to use `--report_to all` to get the same behavior as now. You should start updating your code and make this info disappear :-).\n"
     ]
    }
   ],
   "source": [
    "args = TrainingArguments(\n",
    "    model_dir,\n",
    "    evaluation_strategy = \"epoch\",\n",
    "    # evaluation_strategy = \"steps\",\n",
    "    save_strategy = \"epoch\",\n",
    "    per_device_train_batch_size = batch_size,\n",
    "    per_device_eval_batch_size = batch_size,\n",
    "    num_train_epochs = num_epochs,\n",
    "    load_best_model_at_end = True,\n",
    "    logging_strategy = \"epoch\",\n",
    "    save_total_limit = 2,\n",
    "    # metric_for_best_model = \"accuracy\"\n",
    ")   "
   ]
  },
  {
   "cell_type": "code",
   "execution_count": 28,
   "id": "e0ecce38-71b6-4aef-9bad-b458a696f53e",
   "metadata": {},
   "outputs": [],
   "source": [
    "trainer = Trainer(\n",
    "    model, \n",
    "    args,\n",
    "    train_dataset = encoded_ds[\"train\"],\n",
    "    eval_dataset = encoded_ds[\"validation\"],\n",
    "    tokenizer = tokenizer, \n",
    "    compute_metrics = compute_metrics\n",
    ")"
   ]
  },
  {
   "cell_type": "markdown",
   "id": "766d7a02-8b66-4d87-8b9e-dff2c0c859ce",
   "metadata": {},
   "source": [
    "#### Train model"
   ]
  },
  {
   "cell_type": "code",
   "execution_count": 17,
   "id": "bf47d538-f2ee-46d4-a919-2c1cc172069d",
   "metadata": {},
   "outputs": [],
   "source": [
    "import torch"
   ]
  },
  {
   "cell_type": "code",
   "execution_count": 29,
   "id": "bdcdfa59-ccae-4bbd-b280-3d4fb0e1abbe",
   "metadata": {},
   "outputs": [],
   "source": [
    "torch.cuda.empty_cache()"
   ]
  },
  {
   "cell_type": "code",
   "execution_count": 30,
   "id": "aa94a775-b8b7-4318-bd37-7099c4252746",
   "metadata": {},
   "outputs": [
    {
     "name": "stderr",
     "output_type": "stream",
     "text": [
      "The following columns in the training set don't have a corresponding argument in `AlbertForSequenceClassification.forward` and have been ignored: claim, evidence. If claim, evidence are not expected by `AlbertForSequenceClassification.forward`,  you can safely ignore this message.\n",
      "/scratch/users/k21193529/conda/jenv3/lib/python3.8/site-packages/transformers/optimization.py:306: FutureWarning: This implementation of AdamW is deprecated and will be removed in a future version. Use the PyTorch implementation torch.optim.AdamW instead, or set `no_deprecation_warning=True` to disable this warning\n",
      "  warnings.warn(\n",
      "***** Running training *****\n",
      "  Num examples = 981\n",
      "  Num Epochs = 5\n",
      "  Instantaneous batch size per device = 8\n",
      "  Total train batch size (w. parallel, distributed & accumulation) = 32\n",
      "  Gradient Accumulation steps = 1\n",
      "  Total optimization steps = 155\n",
      "  Number of trainable parameters = 11685891\n"
     ]
    },
    {
     "name": "stdout",
     "output_type": "stream",
     "text": [
      "../models/ALBERT_CLIMATE/best_model\n"
     ]
    },
    {
     "name": "stderr",
     "output_type": "stream",
     "text": [
      "/scratch/users/k21193529/conda/jenv3/lib/python3.8/site-packages/torch/nn/parallel/_functions.py:68: UserWarning: Was asked to gather along dimension 0, but all input tensors were scalars; will instead unsqueeze and return a vector.\n",
      "  warnings.warn('Was asked to gather along dimension 0, but all '\n"
     ]
    },
    {
     "data": {
      "text/html": [
       "\n",
       "    <div>\n",
       "      \n",
       "      <progress value='155' max='155' style='width:300px; height:20px; vertical-align: middle;'></progress>\n",
       "      [155/155 00:37, Epoch 5/5]\n",
       "    </div>\n",
       "    <table border=\"1\" class=\"dataframe\">\n",
       "  <thead>\n",
       " <tr style=\"text-align: left;\">\n",
       "      <th>Epoch</th>\n",
       "      <th>Training Loss</th>\n",
       "      <th>Validation Loss</th>\n",
       "      <th>Accuracy</th>\n",
       "    </tr>\n",
       "  </thead>\n",
       "  <tbody>\n",
       "    <tr>\n",
       "      <td>1</td>\n",
       "      <td>1.027500</td>\n",
       "      <td>1.003794</td>\n",
       "      <td>0.485000</td>\n",
       "    </tr>\n",
       "    <tr>\n",
       "      <td>2</td>\n",
       "      <td>0.823700</td>\n",
       "      <td>1.010335</td>\n",
       "      <td>0.520000</td>\n",
       "    </tr>\n",
       "    <tr>\n",
       "      <td>3</td>\n",
       "      <td>0.581700</td>\n",
       "      <td>1.213859</td>\n",
       "      <td>0.490000</td>\n",
       "    </tr>\n",
       "    <tr>\n",
       "      <td>4</td>\n",
       "      <td>0.403400</td>\n",
       "      <td>1.264366</td>\n",
       "      <td>0.500000</td>\n",
       "    </tr>\n",
       "    <tr>\n",
       "      <td>5</td>\n",
       "      <td>0.280300</td>\n",
       "      <td>1.307412</td>\n",
       "      <td>0.510000</td>\n",
       "    </tr>\n",
       "  </tbody>\n",
       "</table><p>"
      ],
      "text/plain": [
       "<IPython.core.display.HTML object>"
      ]
     },
     "metadata": {},
     "output_type": "display_data"
    },
    {
     "name": "stderr",
     "output_type": "stream",
     "text": [
      "The following columns in the evaluation set don't have a corresponding argument in `AlbertForSequenceClassification.forward` and have been ignored: claim, evidence. If claim, evidence are not expected by `AlbertForSequenceClassification.forward`,  you can safely ignore this message.\n",
      "***** Running Evaluation *****\n",
      "  Num examples = 200\n",
      "  Batch size = 32\n",
      "Saving model checkpoint to ../models/ALBERT_CLIMATE/checkpoint-31\n",
      "Configuration saved in ../models/ALBERT_CLIMATE/checkpoint-31/config.json\n",
      "Model weights saved in ../models/ALBERT_CLIMATE/checkpoint-31/pytorch_model.bin\n",
      "tokenizer config file saved in ../models/ALBERT_CLIMATE/checkpoint-31/tokenizer_config.json\n",
      "Special tokens file saved in ../models/ALBERT_CLIMATE/checkpoint-31/special_tokens_map.json\n",
      "/scratch/users/k21193529/conda/jenv3/lib/python3.8/site-packages/torch/nn/parallel/_functions.py:68: UserWarning: Was asked to gather along dimension 0, but all input tensors were scalars; will instead unsqueeze and return a vector.\n",
      "  warnings.warn('Was asked to gather along dimension 0, but all '\n",
      "The following columns in the evaluation set don't have a corresponding argument in `AlbertForSequenceClassification.forward` and have been ignored: claim, evidence. If claim, evidence are not expected by `AlbertForSequenceClassification.forward`,  you can safely ignore this message.\n",
      "***** Running Evaluation *****\n",
      "  Num examples = 200\n",
      "  Batch size = 32\n",
      "Saving model checkpoint to ../models/ALBERT_CLIMATE/checkpoint-62\n",
      "Configuration saved in ../models/ALBERT_CLIMATE/checkpoint-62/config.json\n",
      "Model weights saved in ../models/ALBERT_CLIMATE/checkpoint-62/pytorch_model.bin\n",
      "tokenizer config file saved in ../models/ALBERT_CLIMATE/checkpoint-62/tokenizer_config.json\n",
      "Special tokens file saved in ../models/ALBERT_CLIMATE/checkpoint-62/special_tokens_map.json\n",
      "/scratch/users/k21193529/conda/jenv3/lib/python3.8/site-packages/torch/nn/parallel/_functions.py:68: UserWarning: Was asked to gather along dimension 0, but all input tensors were scalars; will instead unsqueeze and return a vector.\n",
      "  warnings.warn('Was asked to gather along dimension 0, but all '\n",
      "The following columns in the evaluation set don't have a corresponding argument in `AlbertForSequenceClassification.forward` and have been ignored: claim, evidence. If claim, evidence are not expected by `AlbertForSequenceClassification.forward`,  you can safely ignore this message.\n",
      "***** Running Evaluation *****\n",
      "  Num examples = 200\n",
      "  Batch size = 32\n",
      "Saving model checkpoint to ../models/ALBERT_CLIMATE/checkpoint-93\n",
      "Configuration saved in ../models/ALBERT_CLIMATE/checkpoint-93/config.json\n",
      "Model weights saved in ../models/ALBERT_CLIMATE/checkpoint-93/pytorch_model.bin\n",
      "tokenizer config file saved in ../models/ALBERT_CLIMATE/checkpoint-93/tokenizer_config.json\n",
      "Special tokens file saved in ../models/ALBERT_CLIMATE/checkpoint-93/special_tokens_map.json\n",
      "Deleting older checkpoint [../models/ALBERT_CLIMATE/checkpoint-62] due to args.save_total_limit\n",
      "/scratch/users/k21193529/conda/jenv3/lib/python3.8/site-packages/torch/nn/parallel/_functions.py:68: UserWarning: Was asked to gather along dimension 0, but all input tensors were scalars; will instead unsqueeze and return a vector.\n",
      "  warnings.warn('Was asked to gather along dimension 0, but all '\n",
      "The following columns in the evaluation set don't have a corresponding argument in `AlbertForSequenceClassification.forward` and have been ignored: claim, evidence. If claim, evidence are not expected by `AlbertForSequenceClassification.forward`,  you can safely ignore this message.\n",
      "***** Running Evaluation *****\n",
      "  Num examples = 200\n",
      "  Batch size = 32\n",
      "Saving model checkpoint to ../models/ALBERT_CLIMATE/checkpoint-124\n",
      "Configuration saved in ../models/ALBERT_CLIMATE/checkpoint-124/config.json\n",
      "Model weights saved in ../models/ALBERT_CLIMATE/checkpoint-124/pytorch_model.bin\n",
      "tokenizer config file saved in ../models/ALBERT_CLIMATE/checkpoint-124/tokenizer_config.json\n",
      "Special tokens file saved in ../models/ALBERT_CLIMATE/checkpoint-124/special_tokens_map.json\n",
      "Deleting older checkpoint [../models/ALBERT_CLIMATE/checkpoint-93] due to args.save_total_limit\n",
      "/scratch/users/k21193529/conda/jenv3/lib/python3.8/site-packages/torch/nn/parallel/_functions.py:68: UserWarning: Was asked to gather along dimension 0, but all input tensors were scalars; will instead unsqueeze and return a vector.\n",
      "  warnings.warn('Was asked to gather along dimension 0, but all '\n",
      "The following columns in the evaluation set don't have a corresponding argument in `AlbertForSequenceClassification.forward` and have been ignored: claim, evidence. If claim, evidence are not expected by `AlbertForSequenceClassification.forward`,  you can safely ignore this message.\n",
      "***** Running Evaluation *****\n",
      "  Num examples = 200\n",
      "  Batch size = 32\n",
      "Saving model checkpoint to ../models/ALBERT_CLIMATE/checkpoint-155\n",
      "Configuration saved in ../models/ALBERT_CLIMATE/checkpoint-155/config.json\n",
      "Model weights saved in ../models/ALBERT_CLIMATE/checkpoint-155/pytorch_model.bin\n",
      "tokenizer config file saved in ../models/ALBERT_CLIMATE/checkpoint-155/tokenizer_config.json\n",
      "Special tokens file saved in ../models/ALBERT_CLIMATE/checkpoint-155/special_tokens_map.json\n",
      "Deleting older checkpoint [../models/ALBERT_CLIMATE/checkpoint-124] due to args.save_total_limit\n",
      "\n",
      "\n",
      "Training completed. Do not forget to share your model on huggingface.co/models =)\n",
      "\n",
      "\n",
      "Loading best model from ../models/ALBERT_CLIMATE/checkpoint-31 (score: 1.0037940740585327).\n",
      "Saving model checkpoint to ../models/ALBERT_CLIMATE/best_model\n",
      "Configuration saved in ../models/ALBERT_CLIMATE/best_model/config.json\n",
      "Model weights saved in ../models/ALBERT_CLIMATE/best_model/pytorch_model.bin\n",
      "tokenizer config file saved in ../models/ALBERT_CLIMATE/best_model/tokenizer_config.json\n",
      "Special tokens file saved in ../models/ALBERT_CLIMATE/best_model/special_tokens_map.json\n"
     ]
    }
   ],
   "source": [
    "best_model_path = os.path.join(model_dir, 'best_model')\n",
    "print(best_model_path)\n",
    "\n",
    "trainer.train()\n",
    "trainer.save_model(best_model_path)"
   ]
  },
  {
   "cell_type": "code",
   "execution_count": null,
   "id": "7df151a5-cd63-45a3-a568-6077b154add8",
   "metadata": {
    "scrolled": true
   },
   "outputs": [],
   "source": [
    "trainer.evaluate(encoded_ds['fever_test'])"
   ]
  },
  {
   "cell_type": "code",
   "execution_count": null,
   "id": "45dd0cb9-8386-49b2-b269-37d0f199ef13",
   "metadata": {},
   "outputs": [],
   "source": [
    "trainer.evaluate(encoded_ds['pubhealth_test'])"
   ]
  },
  {
   "cell_type": "code",
   "execution_count": null,
   "id": "8d39cc5f-8987-4242-ae3b-c36e16f3cc73",
   "metadata": {},
   "outputs": [],
   "source": [
    "trainer.evaluate(encoded_ds['climate_test'])"
   ]
  },
  {
   "cell_type": "code",
   "execution_count": null,
   "id": "40f586d7-91f1-4443-ae7f-134e36bddc95",
   "metadata": {},
   "outputs": [],
   "source": []
  }
 ],
 "metadata": {
  "kernelspec": {
   "display_name": "Python 3 (ipykernel)",
   "language": "python",
   "name": "python3"
  },
  "language_info": {
   "codemirror_mode": {
    "name": "ipython",
    "version": 3
   },
   "file_extension": ".py",
   "mimetype": "text/x-python",
   "name": "python",
   "nbconvert_exporter": "python",
   "pygments_lexer": "ipython3",
   "version": "3.8.12"
  }
 },
 "nbformat": 4,
 "nbformat_minor": 5
}
