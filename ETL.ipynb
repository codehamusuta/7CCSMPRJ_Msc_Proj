{
 "cells": [
  {
   "cell_type": "code",
   "execution_count": 1,
   "id": "b6718b38-f9f3-4e4c-9196-d2f469e5adf2",
   "metadata": {},
   "outputs": [],
   "source": [
    "import json\n",
    "import os\n",
    "import csv\n",
    "\n",
    "import pandas as pd\n",
    "import numpy as np"
   ]
  },
  {
   "cell_type": "code",
   "execution_count": 2,
   "id": "f5651af8-42e2-4e26-8fd7-55c61319b16d",
   "metadata": {},
   "outputs": [],
   "source": [
    "root = '../data_2023_06_02'\n",
    "climate_raw = os.path.join(root, 'raw/CLIMATE-FEVER')\n",
    "climate_out = os.path.join(root, 'preprocessed/CLIMATE-FEVER')\n",
    "\n",
    "pubhealth_raw = os.path.join(root, 'raw/PUBHEALTH')\n",
    "pubhealth_out = os.path.join(root, 'preprocessed/PUBHEALTH')\n",
    "# fever_raw = "
   ]
  },
  {
   "cell_type": "markdown",
   "id": "4f051749-2d2d-4eef-b67d-91c395668e7c",
   "metadata": {
    "tags": []
   },
   "source": [
    "## Climate Fever\n",
    "- drop DISPUTED; only keep SUPPORTS, REFUTES and NOT_ENOUGH_INFO"
   ]
  },
  {
   "cell_type": "code",
   "execution_count": 50,
   "id": "768d1c29-e6aa-46df-8c82-3507217902b2",
   "metadata": {},
   "outputs": [
    {
     "name": "stdout",
     "output_type": "stream",
     "text": [
      "(1535, 4)\n"
     ]
    }
   ],
   "source": [
    "# load data\n",
    "with open(os.path.join(climate_raw, 'climate-fever-dataset-r1.jsonl'), 'r') as f:\n",
    "    climate_lst = [json.loads(item) for item in list(f)]\n",
    "\n",
    "climate_df = pd.DataFrame.from_records(climate_lst)\n",
    "print(climate_df.shape)"
   ]
  },
  {
   "cell_type": "code",
   "execution_count": 51,
   "id": "5bec6ec8-f4a7-4dfd-b84b-b361d16f8fea",
   "metadata": {},
   "outputs": [
    {
     "data": {
      "text/plain": [
       "SUPPORTS           654\n",
       "NOT_ENOUGH_INFO    474\n",
       "REFUTES            253\n",
       "DISPUTED           154\n",
       "Name: claim_label, dtype: int64"
      ]
     },
     "execution_count": 51,
     "metadata": {},
     "output_type": "execute_result"
    }
   ],
   "source": [
    "climate_df['claim_label'].value_counts()"
   ]
  },
  {
   "cell_type": "code",
   "execution_count": 52,
   "id": "45934fc9-f965-4c30-ac8b-c62238e74f8b",
   "metadata": {},
   "outputs": [
    {
     "name": "stdout",
     "output_type": "stream",
     "text": [
      "(1381, 4)\n"
     ]
    }
   ],
   "source": [
    "# filter\n",
    "climate_df = climate_df[climate_df['claim_label'] != 'DISPUTED'].copy()\n",
    "print(climate_df.shape)"
   ]
  },
  {
   "cell_type": "code",
   "execution_count": 53,
   "id": "0f30fe28-db65-4c38-a16b-02a303ad01c5",
   "metadata": {},
   "outputs": [],
   "source": [
    "# output\n",
    "if not os.path.isdir(climate_out):\n",
    "    os.mkdir(climate_out)\n",
    "with open(os.path.join(climate_out, 'climate-fever.jsonl'), 'w') as f:\n",
    "    f.write(climate_df.to_json(orient='records', lines=True))"
   ]
  },
  {
   "cell_type": "markdown",
   "id": "40169982-22da-4553-af69-d846c4a45e02",
   "metadata": {
    "jp-MarkdownHeadingCollapsed": true
   },
   "source": [
    "## PubHealth"
   ]
  },
  {
   "cell_type": "code",
   "execution_count": 3,
   "id": "312dc974-bff6-483a-9b6d-269f07dbc473",
   "metadata": {},
   "outputs": [
    {
     "name": "stderr",
     "output_type": "stream",
     "text": [
      "/scratch/users/k21193529/conda/jenv3/lib/python3.8/site-packages/tqdm/auto.py:21: TqdmWarning: IProgress not found. Please update jupyter and ipywidgets. See https://ipywidgets.readthedocs.io/en/stable/user_install.html\n",
      "  from .autonotebook import tqdm as notebook_tqdm\n"
     ]
    }
   ],
   "source": [
    "from operator import itemgetter\n",
    "\n",
    "from sentence_transformers import SentenceTransformer\n",
    "from nltk.tokenize import sent_tokenize\n",
    "from sklearn.metrics.pairwise import cosine_similarity"
   ]
  },
  {
   "cell_type": "markdown",
   "id": "76ef35fe-daca-478d-a3d3-a7bd372dc373",
   "metadata": {},
   "source": [
    "### extract"
   ]
  },
  {
   "cell_type": "code",
   "execution_count": 4,
   "id": "f4265158-308a-41e0-813b-8be7700057f4",
   "metadata": {},
   "outputs": [
    {
     "name": "stdout",
     "output_type": "stream",
     "text": [
      "(9832, 9) (1221, 9) (1235, 10)\n"
     ]
    }
   ],
   "source": [
    "pub_train_df = pd.read_csv(os.path.join(pubhealth_raw, 'train.tsv'), sep=\"\\t\")\n",
    "pub_dev_df = pd.read_csv(os.path.join(pubhealth_raw, 'dev.tsv'), sep=\"\\t\")\n",
    "pub_test_df = pd.read_csv(os.path.join(pubhealth_raw, 'test.tsv'), sep=\"\\t\")\n",
    "\n",
    "print(pub_train_df.shape, pub_dev_df.shape, pub_test_df.shape)"
   ]
  },
  {
   "cell_type": "code",
   "execution_count": 17,
   "id": "ae82cf91-f92f-43bb-b92b-5b2d799e8b90",
   "metadata": {},
   "outputs": [
    {
     "data": {
      "text/plain": [
       "(1235, 10)"
      ]
     },
     "execution_count": 17,
     "metadata": {},
     "output_type": "execute_result"
    }
   ],
   "source": [
    "pub_test_df[pub_test_df['main_text'].notnull()].shape"
   ]
  },
  {
   "cell_type": "markdown",
   "id": "a1589c0f-c20f-452a-b3c1-7ecbaf31d456",
   "metadata": {},
   "source": [
    "### transform"
   ]
  },
  {
   "cell_type": "markdown",
   "id": "3809551b-906d-4a25-848e-af7f8595c4df",
   "metadata": {
    "jp-MarkdownHeadingCollapsed": true
   },
   "source": [
    "#### filter\n",
    "- drop data points w/o main text"
   ]
  },
  {
   "cell_type": "code",
   "execution_count": 18,
   "id": "e8c45d50-4c03-4f65-9cd6-68b35aa4e3fa",
   "metadata": {},
   "outputs": [
    {
     "name": "stdout",
     "output_type": "stream",
     "text": [
      "(9806, 9) (1217, 9) (1235, 10)\n"
     ]
    }
   ],
   "source": [
    "pub_train_df = pub_train_df[pub_train_df['main_text'].notnull()].copy()\n",
    "pub_dev_df = pub_dev_df[pub_dev_df['main_text'].notnull()].copy()\n",
    "pub_test_df = pub_test_df[pub_test_df['main_text'].notnull()].copy()\n",
    "\n",
    "print(pub_train_df.shape, pub_dev_df.shape, pub_test_df.shape)"
   ]
  },
  {
   "cell_type": "markdown",
   "id": "0955753a-ddf5-4b98-9d0c-dd8911c92837",
   "metadata": {},
   "source": [
    "#### evidence selection\n",
    "- select top 5 evidence sentences from main_text using SBERT (https://github.com/neemakot/Health-Fact-Checking/blob/master/src/load_data.py)"
   ]
  },
  {
   "cell_type": "code",
   "execution_count": 33,
   "id": "85bc6c2d-2d25-44cf-8606-fdcb499b08a5",
   "metadata": {},
   "outputs": [],
   "source": [
    "def select_evidence_sentences(df, k=5):\n",
    "    \"\"\"Select top k evidence sentences based on sentence transformer model\"\"\"\n",
    "\n",
    "    corpus = df.copy()\n",
    "    model = SentenceTransformer('bert-base-nli-mean-tokens')\n",
    "    model.to(\"cuda\")\n",
    "    corpus['top_k'] = np.empty([len(corpus),], dtype=str)\n",
    "\n",
    "    for index, row in corpus.iterrows():\n",
    "        claim = row['claim']\n",
    "        sentences = [claim] + [sent for sent in sent_tokenize(row['main_text'])]\n",
    "        \n",
    "        sentence_embeddings = sentence_transformer_model.encode(sentences)\n",
    "        claim_embedding = sentence_embeddings[0]\n",
    "        sentence_embeddings = sentence_embeddings[1:]\n",
    "        cosine_similarity_emb = {}\n",
    "        \n",
    "        for sent, embedding in zip(sentences, sentence_embeddings):\n",
    "            cosine_similarity_emb[sent] = np.linalg.norm(cosine_similarity(\n",
    "                [claim_embedding, embedding]))\n",
    "            \n",
    "        top_k = dict(sorted(cosine_similarity_emb.items(),\n",
    "                            key=itemgetter(1))[:k])\n",
    "        # corpus.at[index, 'top_k'] = ','.join(key for key in top_k.keys())\n",
    "        corpus.at[index, 'top_k'] = [key for key in top_k.keys()]\n",
    "\n",
    "    return corpus"
   ]
  },
  {
   "cell_type": "code",
   "execution_count": 34,
   "id": "7ca88d00-8bdd-49ae-b994-dfba5020f11a",
   "metadata": {},
   "outputs": [],
   "source": [
    "pub_train_df = select_evidence_sentences(pub_train_df)"
   ]
  },
  {
   "cell_type": "code",
   "execution_count": 35,
   "id": "b740978f-0899-4085-a2cc-74d6c2a9b97c",
   "metadata": {},
   "outputs": [],
   "source": [
    "pub_dev_df = select_evidence_sentences(pub_dev_df)"
   ]
  },
  {
   "cell_type": "code",
   "execution_count": 36,
   "id": "7a76d901-6052-4c3b-a0cc-7931d6045f2d",
   "metadata": {},
   "outputs": [],
   "source": [
    "pub_test_df = select_evidence_sentences(pub_test_df)"
   ]
  },
  {
   "cell_type": "markdown",
   "id": "d1094b1e-4470-4e5a-829b-362245784eb9",
   "metadata": {},
   "source": [
    "### Load"
   ]
  },
  {
   "cell_type": "code",
   "execution_count": 48,
   "id": "0cb67e6e-5c87-438f-8fc1-a47b10b95331",
   "metadata": {},
   "outputs": [],
   "source": [
    "if not os.path.isdir(pubhealth_out):\n",
    "    os.mkdir(pubhealth_out)\n",
    "with open(os.path.join(pubhealth_out, 'train.jsonl'), 'w') as f:\n",
    "    f.write(pub_train_df.to_json(orient='records', lines=True))\n",
    "    \n",
    "with open(os.path.join(pubhealth_out, 'dev.jsonl'), 'w') as f:\n",
    "    f.write(pub_dev_df.to_json(orient='records', lines=True))\n",
    "    \n",
    "with open(os.path.join(pubhealth_out, 'test.jsonl'), 'w') as f:\n",
    "    f.write(pub_test_df.to_json(orient='records', lines=True))"
   ]
  },
  {
   "cell_type": "markdown",
   "id": "762c93c2-8f4b-4376-b427-bcfd2185018c",
   "metadata": {},
   "source": [
    "## FEVER"
   ]
  },
  {
   "cell_type": "code",
   "execution_count": null,
   "id": "84e9f80b-07f3-4025-bbc6-132dec9b47c7",
   "metadata": {},
   "outputs": [],
   "source": []
  }
 ],
 "metadata": {
  "kernelspec": {
   "display_name": "Python 3 (ipykernel)",
   "language": "python",
   "name": "python3"
  },
  "language_info": {
   "codemirror_mode": {
    "name": "ipython",
    "version": 3
   },
   "file_extension": ".py",
   "mimetype": "text/x-python",
   "name": "python",
   "nbconvert_exporter": "python",
   "pygments_lexer": "ipython3",
   "version": "3.8.12"
  }
 },
 "nbformat": 4,
 "nbformat_minor": 5
}
