{
 "cells": [
  {
   "cell_type": "code",
   "execution_count": 1,
   "id": "64db97dd-0a24-4f1a-bf2d-81b230a3f2b2",
   "metadata": {},
   "outputs": [],
   "source": [
    "import os\n",
    "\n",
    "from main import FeverLoader, PubhealthLoader, ClimateFeverLoader"
   ]
  },
  {
   "cell_type": "markdown",
   "id": "ed02e009-4165-4519-b650-72f6bd57a4d3",
   "metadata": {},
   "source": [
    "## Load Data"
   ]
  },
  {
   "cell_type": "code",
   "execution_count": 2,
   "id": "e5b22c32-3d51-4b09-b019-03944684850b",
   "metadata": {},
   "outputs": [],
   "source": [
    "root = '../data_2023_06_02'\n",
    "\n",
    "climate_in = os.path.join(root, 'preprocessed/CLIMATE-FEVER')\n",
    "pubhealth_in = os.path.join(root, 'preprocessed/PUBHEALTH')\n",
    "fever_in = os.path.join(root, 'preprocessed/FEVER')"
   ]
  },
  {
   "cell_type": "code",
   "execution_count": 3,
   "id": "2448d87d-155c-4e1e-afdc-2b09fc624ce7",
   "metadata": {},
   "outputs": [
    {
     "name": "stdout",
     "output_type": "stream",
     "text": [
      "9999\n",
      "9999\n",
      "145449\n"
     ]
    }
   ],
   "source": [
    "fever_train_ds, fever_dev_ds, fever_test_ds = FeverLoader.load(fever_in)\n",
    "print(len(fever_test_ds))\n",
    "print(len(fever_dev_ds))\n",
    "print(len(fever_train_ds))"
   ]
  },
  {
   "cell_type": "code",
   "execution_count": 4,
   "id": "7e6ffc80-102e-481a-9073-4c71f9d0bb81",
   "metadata": {},
   "outputs": [
    {
     "name": "stdout",
     "output_type": "stream",
     "text": [
      "8370\n",
      "1050\n",
      "1032\n"
     ]
    }
   ],
   "source": [
    "pubhealth_train_ds, pubhealth_dev_ds, pubhealth_test_ds = PubhealthLoader.load(pubhealth_in)\n",
    "print(len(pubhealth_train_ds))\n",
    "print(len(pubhealth_dev_ds))\n",
    "print(len(pubhealth_test_ds))"
   ]
  },
  {
   "cell_type": "code",
   "execution_count": 5,
   "id": "5994d60c-103d-4e2b-a7e2-68f1266f24d9",
   "metadata": {},
   "outputs": [
    {
     "name": "stdout",
     "output_type": "stream",
     "text": [
      "1381\n"
     ]
    }
   ],
   "source": [
    "climate_ds = ClimateFeverLoader.load(climate_in)\n",
    "print(len(climate_ds))"
   ]
  },
  {
   "cell_type": "markdown",
   "id": "bd02be6f-86e0-4db5-925a-5b33281ef12e",
   "metadata": {},
   "source": [
    "## Training"
   ]
  },
  {
   "cell_type": "code",
   "execution_count": 11,
   "id": "d8e95b7a-889c-4e7d-9da7-db00ba37ff8d",
   "metadata": {},
   "outputs": [],
   "source": [
    "model_name = \"bert-base-uncased\" #https://huggingface.co/bert-base-uncased\n",
    "# model = \"bert-large-uncased\" #https://huggingface.co/bert-large-uncased"
   ]
  },
  {
   "cell_type": "markdown",
   "id": "f686802d-d92c-4761-8174-a5215ffa10fa",
   "metadata": {},
   "source": [
    "#### Set up training data\n",
    "- combine fever and climate data. Infer on pubhealth data"
   ]
  },
  {
   "cell_type": "code",
   "execution_count": 12,
   "id": "e20b9618-a6b5-4c95-8d93-d23dd2374701",
   "metadata": {},
   "outputs": [],
   "source": [
    "from datasets import Dataset, DatasetDict, ClassLabel, Value, Features"
   ]
  },
  {
   "cell_type": "code",
   "execution_count": 13,
   "id": "6b16af43-6985-423b-934c-81f29eeb0ee1",
   "metadata": {},
   "outputs": [],
   "source": [
    "ds = DatasetDict()\n",
    "features = Features({\n",
    "    \"claim\": Value(\"string\"), \n",
    "    \"evidence\": Value(\"string\"),\n",
    "    \"label\": ClassLabel(num_classes=3, names=[\"SUPPORTS\", \"REFUTES\", \"NOT ENOUGH INFO\"])\n",
    "})"
   ]
  },
  {
   "cell_type": "code",
   "execution_count": 18,
   "id": "8e165c80-7a7d-49a6-9b28-d78692928a06",
   "metadata": {},
   "outputs": [
    {
     "name": "stdout",
     "output_type": "stream",
     "text": [
      "1035\n",
      "346\n"
     ]
    }
   ],
   "source": [
    "#split climate data\n",
    "from sklearn.model_selection import train_test_split\n",
    "\n",
    "climate_train_ds, climate_dev_ds = train_test_split(climate_ds, random_state=392)\n",
    "print(len(climate_train_ds))\n",
    "print(len(climate_dev_ds))"
   ]
  },
  {
   "cell_type": "code",
   "execution_count": 19,
   "id": "63448304-0eff-430f-b8bb-6a939f203ee5",
   "metadata": {},
   "outputs": [],
   "source": [
    "ds['train'] = Dataset.from_list(fever_train_ds + climate_train_ds, features=features)\n",
    "ds['validation'] = Dataset.from_list(fever_dev_ds + climate_dev_ds, features=features)\n",
    "ds['fever_test'] = Dataset.from_list(fever_test_ds, features=features)\n",
    "ds['pubhealth_test'] = Dataset.from_list(pubhealth_test_ds, features=features)\n",
    "# ds['climate']  = Dataset.from_list(climate_ds, features=features)"
   ]
  },
  {
   "cell_type": "markdown",
   "id": "6a215484-9580-4284-bf4f-f7b824fd065a",
   "metadata": {},
   "source": [
    "#### Tokenize data"
   ]
  },
  {
   "cell_type": "code",
   "execution_count": 20,
   "id": "1ad0c279-521b-4d2b-a053-594bc4b3ed83",
   "metadata": {},
   "outputs": [],
   "source": [
    "from transformers import AutoTokenizer\n",
    "\n",
    "tokenizer = AutoTokenizer.from_pretrained(model_name)\n",
    "def preprocess_function(samples):\n",
    "    return tokenizer(samples['claim'], samples['evidence'], \n",
    "                     padding=True,\n",
    "                     truncation='only_second')"
   ]
  },
  {
   "cell_type": "code",
   "execution_count": 21,
   "id": "ada5e9f2-aa2e-40ae-a008-5392aeab09d3",
   "metadata": {},
   "outputs": [
    {
     "name": "stderr",
     "output_type": "stream",
     "text": [
      "                                                                     \r"
     ]
    }
   ],
   "source": [
    "encoded_ds = ds.map(preprocess_function, batched=True)"
   ]
  },
  {
   "cell_type": "markdown",
   "id": "a2c81ef9-4dec-4d2b-8b50-f14d12b47f5a",
   "metadata": {},
   "source": [
    "#### Setup model"
   ]
  },
  {
   "cell_type": "code",
   "execution_count": 22,
   "id": "efd05ddc-f607-4fbc-abda-9ab11917dbc8",
   "metadata": {},
   "outputs": [],
   "source": [
    "from transformers import AutoModelForSequenceClassification"
   ]
  },
  {
   "cell_type": "code",
   "execution_count": 23,
   "id": "712559db-e58d-4541-9457-4258edd2b474",
   "metadata": {},
   "outputs": [
    {
     "name": "stderr",
     "output_type": "stream",
     "text": [
      "Some weights of the model checkpoint at bert-base-uncased were not used when initializing BertForSequenceClassification: ['cls.predictions.transform.LayerNorm.bias', 'cls.predictions.transform.dense.bias', 'cls.seq_relationship.bias', 'cls.predictions.transform.LayerNorm.weight', 'cls.seq_relationship.weight', 'cls.predictions.transform.dense.weight', 'cls.predictions.decoder.weight', 'cls.predictions.bias']\n",
      "- This IS expected if you are initializing BertForSequenceClassification from the checkpoint of a model trained on another task or with another architecture (e.g. initializing a BertForSequenceClassification model from a BertForPreTraining model).\n",
      "- This IS NOT expected if you are initializing BertForSequenceClassification from the checkpoint of a model that you expect to be exactly identical (initializing a BertForSequenceClassification model from a BertForSequenceClassification model).\n",
      "Some weights of BertForSequenceClassification were not initialized from the model checkpoint at bert-base-uncased and are newly initialized: ['classifier.bias', 'classifier.weight']\n",
      "You should probably TRAIN this model on a down-stream task to be able to use it for predictions and inference.\n"
     ]
    }
   ],
   "source": [
    "num_labels = 3 \n",
    "model = AutoModelForSequenceClassification.from_pretrained(model_name, num_labels=num_labels)\n",
    "# print(model)"
   ]
  },
  {
   "cell_type": "markdown",
   "id": "9297c86c-0c83-4072-9847-cfef8cb64adf",
   "metadata": {},
   "source": [
    "#### Setup trainer"
   ]
  },
  {
   "cell_type": "code",
   "execution_count": 24,
   "id": "75a3bc62-7e6e-47c2-a3d2-15c2a6f1a96f",
   "metadata": {},
   "outputs": [],
   "source": [
    "import numpy as np\n",
    "import evaluate \n",
    "from transformers import TrainingArguments, Trainer"
   ]
  },
  {
   "cell_type": "code",
   "execution_count": 25,
   "id": "fc04a2c7-f7b2-4efb-bb8e-46526c11961a",
   "metadata": {},
   "outputs": [],
   "source": [
    "metric = evaluate.load(\"accuracy\")\n",
    "\n",
    "def compute_metrics(eval_pred):\n",
    "    logits, labels = eval_pred\n",
    "    predictions = np.argmax(logits, axis=-1)\n",
    "    return metric.compute(predictions=predictions, references = labels)"
   ]
  },
  {
   "cell_type": "code",
   "execution_count": 26,
   "id": "4f6a9aee-6016-490c-a072-a3027be18941",
   "metadata": {},
   "outputs": [],
   "source": [
    "batch_size = 16 #defaults to 8\n",
    "num_epochs = 5\n",
    "\n",
    "args = TrainingArguments(\n",
    "    \"../models/FEVER_BERT_FEVER_CLIMATE\",\n",
    "    evaluation_strategy = \"epoch\",\n",
    "    # evaluation_strategy = \"steps\",\n",
    "    save_strategy = \"epoch\",\n",
    "    per_device_train_batch_size = batch_size,\n",
    "    per_device_eval_batch_size = batch_size,\n",
    "    num_train_epochs = num_epochs,\n",
    "    load_best_model_at_end = True,\n",
    "    # metric_for_best_model = \"accuracy\"\n",
    ")   "
   ]
  },
  {
   "cell_type": "code",
   "execution_count": 27,
   "id": "e0ecce38-71b6-4aef-9bad-b458a696f53e",
   "metadata": {},
   "outputs": [],
   "source": [
    "trainer = Trainer(\n",
    "    model, \n",
    "    args,\n",
    "    train_dataset = encoded_ds[\"train\"],\n",
    "    eval_dataset = encoded_ds[\"validation\"],\n",
    "    tokenizer = tokenizer, \n",
    "    compute_metrics = compute_metrics\n",
    ")"
   ]
  },
  {
   "cell_type": "markdown",
   "id": "766d7a02-8b66-4d87-8b9e-dff2c0c859ce",
   "metadata": {},
   "source": [
    "#### Train model"
   ]
  },
  {
   "cell_type": "code",
   "execution_count": 28,
   "id": "aa94a775-b8b7-4318-bd37-7099c4252746",
   "metadata": {},
   "outputs": [
    {
     "name": "stderr",
     "output_type": "stream",
     "text": [
      "The following columns in the training set don't have a corresponding argument in `BertForSequenceClassification.forward` and have been ignored: evidence, claim. If evidence, claim are not expected by `BertForSequenceClassification.forward`,  you can safely ignore this message.\n",
      "/scratch/users/k21193529/conda/jenv3/lib/python3.8/site-packages/transformers/optimization.py:306: FutureWarning: This implementation of AdamW is deprecated and will be removed in a future version. Use the PyTorch implementation torch.optim.AdamW instead, or set `no_deprecation_warning=True` to disable this warning\n",
      "  warnings.warn(\n",
      "***** Running training *****\n",
      "  Num examples = 146484\n",
      "  Num Epochs = 5\n",
      "  Instantaneous batch size per device = 16\n",
      "  Total train batch size (w. parallel, distributed & accumulation) = 64\n",
      "  Gradient Accumulation steps = 1\n",
      "  Total optimization steps = 11445\n",
      "  Number of trainable parameters = 109484547\n",
      "You're using a BertTokenizerFast tokenizer. Please note that with a fast tokenizer, using the `__call__` method is faster than using a method to encode the text followed by a call to the `pad` method to get a padded encoding.\n",
      "/scratch/users/k21193529/conda/jenv3/lib/python3.8/site-packages/torch/nn/parallel/_functions.py:68: UserWarning: Was asked to gather along dimension 0, but all input tensors were scalars; will instead unsqueeze and return a vector.\n",
      "  warnings.warn('Was asked to gather along dimension 0, but all '\n"
     ]
    },
    {
     "data": {
      "text/html": [
       "\n",
       "    <div>\n",
       "      \n",
       "      <progress value='11445' max='11445' style='width:300px; height:20px; vertical-align: middle;'></progress>\n",
       "      [11445/11445 1:24:28, Epoch 5/5]\n",
       "    </div>\n",
       "    <table border=\"1\" class=\"dataframe\">\n",
       "  <thead>\n",
       " <tr style=\"text-align: left;\">\n",
       "      <th>Epoch</th>\n",
       "      <th>Training Loss</th>\n",
       "      <th>Validation Loss</th>\n",
       "      <th>Accuracy</th>\n",
       "    </tr>\n",
       "  </thead>\n",
       "  <tbody>\n",
       "    <tr>\n",
       "      <td>1</td>\n",
       "      <td>0.146800</td>\n",
       "      <td>0.207794</td>\n",
       "      <td>0.930981</td>\n",
       "    </tr>\n",
       "    <tr>\n",
       "      <td>2</td>\n",
       "      <td>0.098900</td>\n",
       "      <td>0.230082</td>\n",
       "      <td>0.929821</td>\n",
       "    </tr>\n",
       "    <tr>\n",
       "      <td>3</td>\n",
       "      <td>0.069600</td>\n",
       "      <td>0.228196</td>\n",
       "      <td>0.942484</td>\n",
       "    </tr>\n",
       "    <tr>\n",
       "      <td>4</td>\n",
       "      <td>0.043300</td>\n",
       "      <td>0.247676</td>\n",
       "      <td>0.944611</td>\n",
       "    </tr>\n",
       "    <tr>\n",
       "      <td>5</td>\n",
       "      <td>0.028200</td>\n",
       "      <td>0.287810</td>\n",
       "      <td>0.944514</td>\n",
       "    </tr>\n",
       "  </tbody>\n",
       "</table><p>"
      ],
      "text/plain": [
       "<IPython.core.display.HTML object>"
      ]
     },
     "metadata": {},
     "output_type": "display_data"
    },
    {
     "name": "stderr",
     "output_type": "stream",
     "text": [
      "The following columns in the evaluation set don't have a corresponding argument in `BertForSequenceClassification.forward` and have been ignored: evidence, claim. If evidence, claim are not expected by `BertForSequenceClassification.forward`,  you can safely ignore this message.\n",
      "***** Running Evaluation *****\n",
      "  Num examples = 10345\n",
      "  Batch size = 64\n",
      "Saving model checkpoint to ../models/FEVER_BERT_FEVER_CLIMATE/checkpoint-2289\n",
      "Configuration saved in ../models/FEVER_BERT_FEVER_CLIMATE/checkpoint-2289/config.json\n",
      "Model weights saved in ../models/FEVER_BERT_FEVER_CLIMATE/checkpoint-2289/pytorch_model.bin\n",
      "tokenizer config file saved in ../models/FEVER_BERT_FEVER_CLIMATE/checkpoint-2289/tokenizer_config.json\n",
      "Special tokens file saved in ../models/FEVER_BERT_FEVER_CLIMATE/checkpoint-2289/special_tokens_map.json\n",
      "/scratch/users/k21193529/conda/jenv3/lib/python3.8/site-packages/torch/nn/parallel/_functions.py:68: UserWarning: Was asked to gather along dimension 0, but all input tensors were scalars; will instead unsqueeze and return a vector.\n",
      "  warnings.warn('Was asked to gather along dimension 0, but all '\n",
      "The following columns in the evaluation set don't have a corresponding argument in `BertForSequenceClassification.forward` and have been ignored: evidence, claim. If evidence, claim are not expected by `BertForSequenceClassification.forward`,  you can safely ignore this message.\n",
      "***** Running Evaluation *****\n",
      "  Num examples = 10345\n",
      "  Batch size = 64\n",
      "Saving model checkpoint to ../models/FEVER_BERT_FEVER_CLIMATE/checkpoint-4578\n",
      "Configuration saved in ../models/FEVER_BERT_FEVER_CLIMATE/checkpoint-4578/config.json\n",
      "Model weights saved in ../models/FEVER_BERT_FEVER_CLIMATE/checkpoint-4578/pytorch_model.bin\n",
      "tokenizer config file saved in ../models/FEVER_BERT_FEVER_CLIMATE/checkpoint-4578/tokenizer_config.json\n",
      "Special tokens file saved in ../models/FEVER_BERT_FEVER_CLIMATE/checkpoint-4578/special_tokens_map.json\n",
      "/scratch/users/k21193529/conda/jenv3/lib/python3.8/site-packages/torch/nn/parallel/_functions.py:68: UserWarning: Was asked to gather along dimension 0, but all input tensors were scalars; will instead unsqueeze and return a vector.\n",
      "  warnings.warn('Was asked to gather along dimension 0, but all '\n",
      "The following columns in the evaluation set don't have a corresponding argument in `BertForSequenceClassification.forward` and have been ignored: evidence, claim. If evidence, claim are not expected by `BertForSequenceClassification.forward`,  you can safely ignore this message.\n",
      "***** Running Evaluation *****\n",
      "  Num examples = 10345\n",
      "  Batch size = 64\n",
      "Saving model checkpoint to ../models/FEVER_BERT_FEVER_CLIMATE/checkpoint-6867\n",
      "Configuration saved in ../models/FEVER_BERT_FEVER_CLIMATE/checkpoint-6867/config.json\n",
      "Model weights saved in ../models/FEVER_BERT_FEVER_CLIMATE/checkpoint-6867/pytorch_model.bin\n",
      "tokenizer config file saved in ../models/FEVER_BERT_FEVER_CLIMATE/checkpoint-6867/tokenizer_config.json\n",
      "Special tokens file saved in ../models/FEVER_BERT_FEVER_CLIMATE/checkpoint-6867/special_tokens_map.json\n",
      "/scratch/users/k21193529/conda/jenv3/lib/python3.8/site-packages/torch/nn/parallel/_functions.py:68: UserWarning: Was asked to gather along dimension 0, but all input tensors were scalars; will instead unsqueeze and return a vector.\n",
      "  warnings.warn('Was asked to gather along dimension 0, but all '\n",
      "The following columns in the evaluation set don't have a corresponding argument in `BertForSequenceClassification.forward` and have been ignored: evidence, claim. If evidence, claim are not expected by `BertForSequenceClassification.forward`,  you can safely ignore this message.\n",
      "***** Running Evaluation *****\n",
      "  Num examples = 10345\n",
      "  Batch size = 64\n",
      "Saving model checkpoint to ../models/FEVER_BERT_FEVER_CLIMATE/checkpoint-9156\n",
      "Configuration saved in ../models/FEVER_BERT_FEVER_CLIMATE/checkpoint-9156/config.json\n",
      "Model weights saved in ../models/FEVER_BERT_FEVER_CLIMATE/checkpoint-9156/pytorch_model.bin\n",
      "tokenizer config file saved in ../models/FEVER_BERT_FEVER_CLIMATE/checkpoint-9156/tokenizer_config.json\n",
      "Special tokens file saved in ../models/FEVER_BERT_FEVER_CLIMATE/checkpoint-9156/special_tokens_map.json\n",
      "/scratch/users/k21193529/conda/jenv3/lib/python3.8/site-packages/torch/nn/parallel/_functions.py:68: UserWarning: Was asked to gather along dimension 0, but all input tensors were scalars; will instead unsqueeze and return a vector.\n",
      "  warnings.warn('Was asked to gather along dimension 0, but all '\n",
      "The following columns in the evaluation set don't have a corresponding argument in `BertForSequenceClassification.forward` and have been ignored: evidence, claim. If evidence, claim are not expected by `BertForSequenceClassification.forward`,  you can safely ignore this message.\n",
      "***** Running Evaluation *****\n",
      "  Num examples = 10345\n",
      "  Batch size = 64\n",
      "Saving model checkpoint to ../models/FEVER_BERT_FEVER_CLIMATE/checkpoint-11445\n",
      "Configuration saved in ../models/FEVER_BERT_FEVER_CLIMATE/checkpoint-11445/config.json\n",
      "Model weights saved in ../models/FEVER_BERT_FEVER_CLIMATE/checkpoint-11445/pytorch_model.bin\n",
      "tokenizer config file saved in ../models/FEVER_BERT_FEVER_CLIMATE/checkpoint-11445/tokenizer_config.json\n",
      "Special tokens file saved in ../models/FEVER_BERT_FEVER_CLIMATE/checkpoint-11445/special_tokens_map.json\n",
      "\n",
      "\n",
      "Training completed. Do not forget to share your model on huggingface.co/models =)\n",
      "\n",
      "\n",
      "Loading best model from ../models/FEVER_BERT_FEVER_CLIMATE/checkpoint-2289 (score: 0.20779402554035187).\n"
     ]
    },
    {
     "data": {
      "text/plain": [
       "TrainOutput(global_step=11445, training_loss=0.08425184727340038, metrics={'train_runtime': 5080.6592, 'train_samples_per_second': 144.158, 'train_steps_per_second': 2.253, 'total_flos': 1.9270952941234176e+17, 'train_loss': 0.08425184727340038, 'epoch': 5.0})"
      ]
     },
     "execution_count": 28,
     "metadata": {},
     "output_type": "execute_result"
    }
   ],
   "source": [
    "trainer.train()"
   ]
  },
  {
   "cell_type": "code",
   "execution_count": 29,
   "id": "7df151a5-cd63-45a3-a568-6077b154add8",
   "metadata": {},
   "outputs": [
    {
     "name": "stderr",
     "output_type": "stream",
     "text": [
      "The following columns in the evaluation set don't have a corresponding argument in `BertForSequenceClassification.forward` and have been ignored: evidence, claim. If evidence, claim are not expected by `BertForSequenceClassification.forward`,  you can safely ignore this message.\n",
      "***** Running Evaluation *****\n",
      "  Num examples = 9999\n",
      "  Batch size = 64\n",
      "/scratch/users/k21193529/conda/jenv3/lib/python3.8/site-packages/torch/nn/parallel/_functions.py:68: UserWarning: Was asked to gather along dimension 0, but all input tensors were scalars; will instead unsqueeze and return a vector.\n",
      "  warnings.warn('Was asked to gather along dimension 0, but all '\n"
     ]
    },
    {
     "data": {
      "text/html": [
       "\n",
       "    <div>\n",
       "      \n",
       "      <progress value='174' max='157' style='width:300px; height:20px; vertical-align: middle;'></progress>\n",
       "      [157/157 00:32]\n",
       "    </div>\n",
       "    "
      ],
      "text/plain": [
       "<IPython.core.display.HTML object>"
      ]
     },
     "metadata": {},
     "output_type": "display_data"
    },
    {
     "data": {
      "text/plain": [
       "{'eval_loss': 0.19679760932922363,\n",
       " 'eval_accuracy': 0.9362936293629363,\n",
       " 'eval_runtime': 27.1176,\n",
       " 'eval_samples_per_second': 368.727,\n",
       " 'eval_steps_per_second': 5.79,\n",
       " 'epoch': 5.0}"
      ]
     },
     "execution_count": 29,
     "metadata": {},
     "output_type": "execute_result"
    }
   ],
   "source": [
    "trainer.evaluate(encoded_ds['fever_test'])"
   ]
  },
  {
   "cell_type": "code",
   "execution_count": 30,
   "id": "77275472-10ca-4d77-8bab-68537e584050",
   "metadata": {},
   "outputs": [
    {
     "name": "stderr",
     "output_type": "stream",
     "text": [
      "The following columns in the evaluation set don't have a corresponding argument in `BertForSequenceClassification.forward` and have been ignored: evidence, claim. If evidence, claim are not expected by `BertForSequenceClassification.forward`,  you can safely ignore this message.\n",
      "***** Running Evaluation *****\n",
      "  Num examples = 1032\n",
      "  Batch size = 64\n",
      "/scratch/users/k21193529/conda/jenv3/lib/python3.8/site-packages/torch/nn/parallel/_functions.py:68: UserWarning: Was asked to gather along dimension 0, but all input tensors were scalars; will instead unsqueeze and return a vector.\n",
      "  warnings.warn('Was asked to gather along dimension 0, but all '\n"
     ]
    },
    {
     "data": {
      "text/plain": [
       "{'eval_loss': 1.1466269493103027,\n",
       " 'eval_accuracy': 0.5513565891472868,\n",
       " 'eval_runtime': 2.9098,\n",
       " 'eval_samples_per_second': 354.669,\n",
       " 'eval_steps_per_second': 5.842,\n",
       " 'epoch': 5.0}"
      ]
     },
     "execution_count": 30,
     "metadata": {},
     "output_type": "execute_result"
    }
   ],
   "source": [
    "trainer.evaluate(encoded_ds['pubhealth_test'])"
   ]
  },
  {
   "cell_type": "markdown",
   "id": "6b43d36a-4286-4aa6-a495-385e8dfd5bad",
   "metadata": {},
   "source": [
    "## Inference"
   ]
  },
  {
   "cell_type": "code",
   "execution_count": null,
   "id": "309a8a73-6e28-4dfa-9fae-6148886f45cb",
   "metadata": {},
   "outputs": [],
   "source": [
    "# load best model\n",
    "best_model_checkpoint = \"../models/FEVER_BERT_FEVER_CLIMATE/checkpoint-2289\""
   ]
  }
 ],
 "metadata": {
  "kernelspec": {
   "display_name": "Python 3 (ipykernel)",
   "language": "python",
   "name": "python3"
  },
  "language_info": {
   "codemirror_mode": {
    "name": "ipython",
    "version": 3
   },
   "file_extension": ".py",
   "mimetype": "text/x-python",
   "name": "python",
   "nbconvert_exporter": "python",
   "pygments_lexer": "ipython3",
   "version": "3.8.12"
  }
 },
 "nbformat": 4,
 "nbformat_minor": 5
}
