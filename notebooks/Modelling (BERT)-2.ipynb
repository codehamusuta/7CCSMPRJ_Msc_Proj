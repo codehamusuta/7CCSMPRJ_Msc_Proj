{
 "cells": [
  {
   "cell_type": "code",
   "execution_count": 1,
   "id": "7584bf33-f120-4b1e-9427-348956ee37f8",
   "metadata": {},
   "outputs": [
    {
     "name": "stderr",
     "output_type": "stream",
     "text": [
      "/scratch/users/k21193529/conda/jenv3/lib/python3.8/site-packages/tqdm/auto.py:21: TqdmWarning: IProgress not found. Please update jupyter and ipywidgets. See https://ipywidgets.readthedocs.io/en/stable/user_install.html\n",
      "  from .autonotebook import tqdm as notebook_tqdm\n"
     ]
    }
   ],
   "source": [
    "import torch"
   ]
  },
  {
   "cell_type": "markdown",
   "id": "3bdd5615-b0a0-4cb4-9a57-2cfa2a780581",
   "metadata": {},
   "source": [
    "#### About\n",
    "- Train BERT model on FEVER dataset to beat paper RTE accuracy of 88% (DA), 73.81% (MLP) \n",
    "\n",
    "#### References\n",
    "- Hugging face text classification [tutorial](https://github.com/huggingface/notebooks/blob/main/examples/text_classification.ipynb)\n"
   ]
  },
  {
   "cell_type": "markdown",
   "id": "cf906de8-0481-450a-b9e8-879a7d79c3f8",
   "metadata": {},
   "source": [
    "## Load Data"
   ]
  },
  {
   "cell_type": "code",
   "execution_count": 2,
   "id": "0090fd9c-8cba-4132-9fe0-dd88693a899f",
   "metadata": {},
   "outputs": [],
   "source": [
    "import pandas as pd\n",
    "import json\n",
    "import csv\n",
    "import os"
   ]
  },
  {
   "cell_type": "code",
   "execution_count": 3,
   "id": "897a6df0-6c08-4b90-a882-44ec294c50ab",
   "metadata": {},
   "outputs": [],
   "source": [
    "root = '../data_2023_06_02'\n",
    "\n",
    "climate_in = os.path.join(root, 'preprocessed/CLIMATE-FEVER')\n",
    "pubhealth_in = os.path.join(root, 'preprocessed/PUBHEALTH')\n",
    "fever_in = os.path.join(root, 'preprocessed/FEVER')"
   ]
  },
  {
   "cell_type": "code",
   "execution_count": 4,
   "id": "6857be96-5a6a-47dd-9d68-179c55087f3c",
   "metadata": {},
   "outputs": [],
   "source": [
    "def read_json(fp):\n",
    "    with open(fp, \"r\", encoding=\"utf-8\") as f:\n",
    "        data = []\n",
    "        for line in f.readlines():\n",
    "            data.append(json.loads(line.strip()))\n",
    "        return data"
   ]
  },
  {
   "cell_type": "markdown",
   "id": "6c52c840-7689-4c7a-85ba-e6bbe053f57f",
   "metadata": {},
   "source": [
    "#### Load Fever Data"
   ]
  },
  {
   "cell_type": "code",
   "execution_count": 5,
   "id": "611e3710-2579-4ee6-8de7-dcb6b2803553",
   "metadata": {},
   "outputs": [
    {
     "name": "stdout",
     "output_type": "stream",
     "text": [
      "9999\n",
      "9999\n",
      "145449\n"
     ]
    }
   ],
   "source": [
    "fever_test_ds = read_json(os.path.join(fever_in, 'test_preprocessed.ns.rand.jsonl'))\n",
    "fever_dev_ds = read_json(os.path.join(fever_in, 'dev_preprocessed.ns.rand.jsonl'))\n",
    "fever_train_ds = read_json(os.path.join(fever_in, 'train_preprocessed.ns.rand.jsonl'))\n",
    "\n",
    "print(len(fever_test_ds))\n",
    "print(len(fever_dev_ds))\n",
    "print(len(fever_train_ds))"
   ]
  },
  {
   "cell_type": "markdown",
   "id": "5469f4df-c467-4383-a9ec-381ca6bc313b",
   "metadata": {},
   "source": [
    "#### Load PubHealth Data"
   ]
  },
  {
   "cell_type": "code",
   "execution_count": 19,
   "id": "42822eb3-257a-44a3-8874-accfa7675d3b",
   "metadata": {},
   "outputs": [
    {
     "name": "stdout",
     "output_type": "stream",
     "text": [
      "9806\n",
      "1217\n",
      "1235\n"
     ]
    }
   ],
   "source": [
    "pubhealth_train_ds = read_json(os.path.join(pubhealth_in, 'train.jsonl'))\n",
    "pubhealth_dev_ds = read_json(os.path.join(pubhealth_in, 'dev.jsonl'))\n",
    "pubhealth_test_ds = read_json(os.path.join(pubhealth_in, 'test.jsonl'))\n",
    "\n",
    "print(len(pubhealth_train_ds))\n",
    "print(len(pubhealth_dev_ds))\n",
    "print(len(pubhealth_test_ds))"
   ]
  },
  {
   "cell_type": "markdown",
   "id": "af951d25-2ee4-4341-8a40-f32b8ac93093",
   "metadata": {},
   "source": [
    "#### Load Climate Fever"
   ]
  },
  {
   "cell_type": "code",
   "execution_count": 7,
   "id": "654fcab0-7674-48a0-84ed-730183e21f54",
   "metadata": {},
   "outputs": [],
   "source": [
    "climate_ds = read_json(os.path.join(climate_in, 'climate-fever.jsonl'))"
   ]
  },
  {
   "cell_type": "code",
   "execution_count": 8,
   "id": "59f6b046-e037-4dbd-8d68-057e135920e1",
   "metadata": {},
   "outputs": [
    {
     "name": "stdout",
     "output_type": "stream",
     "text": [
      "1381\n"
     ]
    }
   ],
   "source": [
    "print(len(climate_ds))"
   ]
  },
  {
   "cell_type": "markdown",
   "id": "564428bd-82cb-4c4d-9f63-53dee3106153",
   "metadata": {},
   "source": [
    "#### Process data"
   ]
  },
  {
   "cell_type": "code",
   "execution_count": 9,
   "id": "44a73ca8-3dc4-4418-a87c-13fc5f871143",
   "metadata": {},
   "outputs": [],
   "source": [
    "def process_fever(sample):\n",
    "    #concatenate evidence_text\n",
    "    obj = {}\n",
    "    obj['claim'] = sample['claim']\n",
    "    obj['label'] = sample['label']\n",
    "    obj['evidence'] = \" \".join(sample['evidence_text'])\n",
    "    return obj\n",
    "\n",
    "fever_test_ds = list(map(process_fever, fever_test_ds))\n",
    "fever_dev_ds = list(map(process_fever, fever_dev_ds))\n",
    "fever_train_ds = list(map(process_fever, fever_train_ds))"
   ]
  },
  {
   "cell_type": "code",
   "execution_count": 20,
   "id": "02e88f5e-d408-4af4-a17b-0c44e4d9c685",
   "metadata": {},
   "outputs": [
    {
     "name": "stdout",
     "output_type": "stream",
     "text": [
      "8370\n",
      "1050\n",
      "1032\n"
     ]
    }
   ],
   "source": [
    "def filter_pubhealth(sample):\n",
    "    return sample['label'] in ['true', 'false', 'unproven']\n",
    "\n",
    "pubhealth_train_ds = list(filter(filter_pubhealth, pubhealth_train_ds))\n",
    "pubhealth_dev_ds = list(filter(filter_pubhealth, pubhealth_dev_ds))\n",
    "pubhealth_test_ds = list(filter(filter_pubhealth, pubhealth_test_ds))\n",
    "\n",
    "print(len(pubhealth_train_ds))\n",
    "print(len(pubhealth_dev_ds))\n",
    "print(len(pubhealth_test_ds))\n",
    "\n",
    "def process_pubhealth(sample):\n",
    "    obj = {}\n",
    "    obj['claim'] = sample['claim']\n",
    "    obj['evidence'] = \" \".join(sample['top_k'])\n",
    "    \n",
    "    # modify label\n",
    "    label = sample[\"label\"]\n",
    "    if label == 'true':\n",
    "        obj[\"label\"] = \"SUPPORTS\"\n",
    "    elif label == 'false':\n",
    "        obj[\"label\"] = \"REFUTES\"\n",
    "    else:\n",
    "        obj[\"label\"] = \"NOT ENOUGH INFO\"\n",
    "    \n",
    "    return obj\n",
    "\n",
    "#process pubhealth\n",
    "pubhealth_train_ds = list(map(process_pubhealth, pubhealth_train_ds))\n",
    "pubhealth_dev_ds = list(map(process_pubhealth, pubhealth_dev_ds))\n",
    "pubhealth_test_ds = list(map(process_pubhealth, pubhealth_test_ds))"
   ]
  },
  {
   "cell_type": "code",
   "execution_count": 100,
   "id": "d0c14260-509c-4155-ac6e-feac0e5cb1ac",
   "metadata": {},
   "outputs": [],
   "source": [
    "def process_climate(sample):\n",
    "    obj = {}\n",
    "    obj['claim'] = sample['claim']\n",
    "\n",
    "    #modify label\n",
    "    label = sample['claim_label']\n",
    "    if label == \"NOT_ENOUGH_INFO\":\n",
    "        label = \"NOT ENOUGH INFO\"\n",
    "    obj['label'] = label\n",
    "\n",
    "    #concatenate evidence\n",
    "    obj['evidence'] = \" \".join([e['evidence'] for e in sample['evidences']])\n",
    "\n",
    "    return obj\n",
    "\n",
    "#process climate\n",
    "climate_ds = list(map(process_climate, climate_ds))"
   ]
  },
  {
   "cell_type": "markdown",
   "id": "caf0c06c-8e2d-4c04-8073-4173a50766df",
   "metadata": {},
   "source": [
    "#### Create dataset object"
   ]
  },
  {
   "cell_type": "code",
   "execution_count": 79,
   "id": "8424f6c9-7303-4237-b37a-98f6b5ba1d2c",
   "metadata": {},
   "outputs": [],
   "source": [
    "from datasets import Dataset, DatasetDict, ClassLabel, Value, Features"
   ]
  },
  {
   "cell_type": "code",
   "execution_count": 80,
   "id": "62d937fe-cecf-4b09-be1a-e2ca0628ea43",
   "metadata": {},
   "outputs": [],
   "source": [
    "ds = DatasetDict()\n",
    "features = Features({\n",
    "    \"claim\": Value(\"string\"), \n",
    "    \"evidence\": Value(\"string\"),\n",
    "    \"label\": ClassLabel(num_classes=3, names=[\"SUPPORTS\", \"REFUTES\", \"NOT ENOUGH INFO\"])\n",
    "})"
   ]
  },
  {
   "cell_type": "code",
   "execution_count": 21,
   "id": "ebe3d0f9-1c38-4f4b-a9a6-d120a27349cf",
   "metadata": {},
   "outputs": [],
   "source": [
    "ds['train'] = Dataset.from_list(fever_train_ds, features=features)\n",
    "ds['validation'] = Dataset.from_list(fever_dev_ds, features=features)\n",
    "ds['test'] = Dataset.from_list(fever_test_ds, features=features)"
   ]
  },
  {
   "cell_type": "markdown",
   "id": "cd3b9126-e452-42b2-a518-49cc25a9a7aa",
   "metadata": {
    "jp-MarkdownHeadingCollapsed": true
   },
   "source": [
    "## Setup Hugging Face"
   ]
  },
  {
   "cell_type": "code",
   "execution_count": 14,
   "id": "c3f440e7-c6f6-4403-bf5e-81c033823ea7",
   "metadata": {},
   "outputs": [],
   "source": [
    "model_name = \"bert-base-uncased\" #https://huggingface.co/bert-base-uncased\n",
    "# model = \"bert-large-uncased\" #https://huggingface.co/bert-large-uncased"
   ]
  },
  {
   "cell_type": "markdown",
   "id": "8e95b4fb-6824-44d7-b21d-fad1dafe9a70",
   "metadata": {},
   "source": [
    "#### Tokenize data"
   ]
  },
  {
   "cell_type": "code",
   "execution_count": 15,
   "id": "2cc61e76-456b-4e1c-9873-eaf0c4929c14",
   "metadata": {},
   "outputs": [],
   "source": [
    "from transformers import AutoTokenizer\n",
    "\n",
    "tokenizer = AutoTokenizer.from_pretrained(model_name)"
   ]
  },
  {
   "cell_type": "code",
   "execution_count": 16,
   "id": "de0d8882-c71d-4cd3-b034-f8f3027633b4",
   "metadata": {},
   "outputs": [],
   "source": [
    "def preprocess_function(samples):\n",
    "    return tokenizer(samples['claim'], samples['evidence'], \n",
    "                     padding=True,\n",
    "                     truncation='only_second')"
   ]
  },
  {
   "cell_type": "code",
   "execution_count": 17,
   "id": "d212920e-db49-4d28-bc7b-ce545366a08a",
   "metadata": {},
   "outputs": [
    {
     "name": "stderr",
     "output_type": "stream",
     "text": [
      "                                                                     \r"
     ]
    }
   ],
   "source": [
    "encoded_ds = ds.map(preprocess_function, batched=True)"
   ]
  },
  {
   "cell_type": "markdown",
   "id": "52c58566-485b-4ce5-b9ea-57b62617b602",
   "metadata": {},
   "source": [
    "#### Setup model"
   ]
  },
  {
   "cell_type": "code",
   "execution_count": 18,
   "id": "fbea02bc-43ae-485f-a6cd-fea7eafc32db",
   "metadata": {},
   "outputs": [],
   "source": [
    "from transformers import AutoModelForSequenceClassification"
   ]
  },
  {
   "cell_type": "code",
   "execution_count": 19,
   "id": "2b9ce3b1-35fb-4cc8-b8e9-e73c0ef30629",
   "metadata": {},
   "outputs": [
    {
     "name": "stderr",
     "output_type": "stream",
     "text": [
      "Some weights of the model checkpoint at bert-base-uncased were not used when initializing BertForSequenceClassification: ['cls.predictions.bias', 'cls.seq_relationship.weight', 'cls.predictions.transform.dense.weight', 'cls.predictions.transform.dense.bias', 'cls.predictions.decoder.weight', 'cls.predictions.transform.LayerNorm.weight', 'cls.seq_relationship.bias', 'cls.predictions.transform.LayerNorm.bias']\n",
      "- This IS expected if you are initializing BertForSequenceClassification from the checkpoint of a model trained on another task or with another architecture (e.g. initializing a BertForSequenceClassification model from a BertForPreTraining model).\n",
      "- This IS NOT expected if you are initializing BertForSequenceClassification from the checkpoint of a model that you expect to be exactly identical (initializing a BertForSequenceClassification model from a BertForSequenceClassification model).\n",
      "Some weights of BertForSequenceClassification were not initialized from the model checkpoint at bert-base-uncased and are newly initialized: ['classifier.weight', 'classifier.bias']\n",
      "You should probably TRAIN this model on a down-stream task to be able to use it for predictions and inference.\n"
     ]
    }
   ],
   "source": [
    "num_labels = 3 \n",
    "model = AutoModelForSequenceClassification.from_pretrained(model_name, num_labels=num_labels)"
   ]
  },
  {
   "cell_type": "code",
   "execution_count": 20,
   "id": "f00d1549-3258-461a-b1b5-e90c1a115b92",
   "metadata": {
    "scrolled": true
   },
   "outputs": [
    {
     "name": "stdout",
     "output_type": "stream",
     "text": [
      "BertForSequenceClassification(\n",
      "  (bert): BertModel(\n",
      "    (embeddings): BertEmbeddings(\n",
      "      (word_embeddings): Embedding(30522, 768, padding_idx=0)\n",
      "      (position_embeddings): Embedding(512, 768)\n",
      "      (token_type_embeddings): Embedding(2, 768)\n",
      "      (LayerNorm): LayerNorm((768,), eps=1e-12, elementwise_affine=True)\n",
      "      (dropout): Dropout(p=0.1, inplace=False)\n",
      "    )\n",
      "    (encoder): BertEncoder(\n",
      "      (layer): ModuleList(\n",
      "        (0): BertLayer(\n",
      "          (attention): BertAttention(\n",
      "            (self): BertSelfAttention(\n",
      "              (query): Linear(in_features=768, out_features=768, bias=True)\n",
      "              (key): Linear(in_features=768, out_features=768, bias=True)\n",
      "              (value): Linear(in_features=768, out_features=768, bias=True)\n",
      "              (dropout): Dropout(p=0.1, inplace=False)\n",
      "            )\n",
      "            (output): BertSelfOutput(\n",
      "              (dense): Linear(in_features=768, out_features=768, bias=True)\n",
      "              (LayerNorm): LayerNorm((768,), eps=1e-12, elementwise_affine=True)\n",
      "              (dropout): Dropout(p=0.1, inplace=False)\n",
      "            )\n",
      "          )\n",
      "          (intermediate): BertIntermediate(\n",
      "            (dense): Linear(in_features=768, out_features=3072, bias=True)\n",
      "            (intermediate_act_fn): GELUActivation()\n",
      "          )\n",
      "          (output): BertOutput(\n",
      "            (dense): Linear(in_features=3072, out_features=768, bias=True)\n",
      "            (LayerNorm): LayerNorm((768,), eps=1e-12, elementwise_affine=True)\n",
      "            (dropout): Dropout(p=0.1, inplace=False)\n",
      "          )\n",
      "        )\n",
      "        (1): BertLayer(\n",
      "          (attention): BertAttention(\n",
      "            (self): BertSelfAttention(\n",
      "              (query): Linear(in_features=768, out_features=768, bias=True)\n",
      "              (key): Linear(in_features=768, out_features=768, bias=True)\n",
      "              (value): Linear(in_features=768, out_features=768, bias=True)\n",
      "              (dropout): Dropout(p=0.1, inplace=False)\n",
      "            )\n",
      "            (output): BertSelfOutput(\n",
      "              (dense): Linear(in_features=768, out_features=768, bias=True)\n",
      "              (LayerNorm): LayerNorm((768,), eps=1e-12, elementwise_affine=True)\n",
      "              (dropout): Dropout(p=0.1, inplace=False)\n",
      "            )\n",
      "          )\n",
      "          (intermediate): BertIntermediate(\n",
      "            (dense): Linear(in_features=768, out_features=3072, bias=True)\n",
      "            (intermediate_act_fn): GELUActivation()\n",
      "          )\n",
      "          (output): BertOutput(\n",
      "            (dense): Linear(in_features=3072, out_features=768, bias=True)\n",
      "            (LayerNorm): LayerNorm((768,), eps=1e-12, elementwise_affine=True)\n",
      "            (dropout): Dropout(p=0.1, inplace=False)\n",
      "          )\n",
      "        )\n",
      "        (2): BertLayer(\n",
      "          (attention): BertAttention(\n",
      "            (self): BertSelfAttention(\n",
      "              (query): Linear(in_features=768, out_features=768, bias=True)\n",
      "              (key): Linear(in_features=768, out_features=768, bias=True)\n",
      "              (value): Linear(in_features=768, out_features=768, bias=True)\n",
      "              (dropout): Dropout(p=0.1, inplace=False)\n",
      "            )\n",
      "            (output): BertSelfOutput(\n",
      "              (dense): Linear(in_features=768, out_features=768, bias=True)\n",
      "              (LayerNorm): LayerNorm((768,), eps=1e-12, elementwise_affine=True)\n",
      "              (dropout): Dropout(p=0.1, inplace=False)\n",
      "            )\n",
      "          )\n",
      "          (intermediate): BertIntermediate(\n",
      "            (dense): Linear(in_features=768, out_features=3072, bias=True)\n",
      "            (intermediate_act_fn): GELUActivation()\n",
      "          )\n",
      "          (output): BertOutput(\n",
      "            (dense): Linear(in_features=3072, out_features=768, bias=True)\n",
      "            (LayerNorm): LayerNorm((768,), eps=1e-12, elementwise_affine=True)\n",
      "            (dropout): Dropout(p=0.1, inplace=False)\n",
      "          )\n",
      "        )\n",
      "        (3): BertLayer(\n",
      "          (attention): BertAttention(\n",
      "            (self): BertSelfAttention(\n",
      "              (query): Linear(in_features=768, out_features=768, bias=True)\n",
      "              (key): Linear(in_features=768, out_features=768, bias=True)\n",
      "              (value): Linear(in_features=768, out_features=768, bias=True)\n",
      "              (dropout): Dropout(p=0.1, inplace=False)\n",
      "            )\n",
      "            (output): BertSelfOutput(\n",
      "              (dense): Linear(in_features=768, out_features=768, bias=True)\n",
      "              (LayerNorm): LayerNorm((768,), eps=1e-12, elementwise_affine=True)\n",
      "              (dropout): Dropout(p=0.1, inplace=False)\n",
      "            )\n",
      "          )\n",
      "          (intermediate): BertIntermediate(\n",
      "            (dense): Linear(in_features=768, out_features=3072, bias=True)\n",
      "            (intermediate_act_fn): GELUActivation()\n",
      "          )\n",
      "          (output): BertOutput(\n",
      "            (dense): Linear(in_features=3072, out_features=768, bias=True)\n",
      "            (LayerNorm): LayerNorm((768,), eps=1e-12, elementwise_affine=True)\n",
      "            (dropout): Dropout(p=0.1, inplace=False)\n",
      "          )\n",
      "        )\n",
      "        (4): BertLayer(\n",
      "          (attention): BertAttention(\n",
      "            (self): BertSelfAttention(\n",
      "              (query): Linear(in_features=768, out_features=768, bias=True)\n",
      "              (key): Linear(in_features=768, out_features=768, bias=True)\n",
      "              (value): Linear(in_features=768, out_features=768, bias=True)\n",
      "              (dropout): Dropout(p=0.1, inplace=False)\n",
      "            )\n",
      "            (output): BertSelfOutput(\n",
      "              (dense): Linear(in_features=768, out_features=768, bias=True)\n",
      "              (LayerNorm): LayerNorm((768,), eps=1e-12, elementwise_affine=True)\n",
      "              (dropout): Dropout(p=0.1, inplace=False)\n",
      "            )\n",
      "          )\n",
      "          (intermediate): BertIntermediate(\n",
      "            (dense): Linear(in_features=768, out_features=3072, bias=True)\n",
      "            (intermediate_act_fn): GELUActivation()\n",
      "          )\n",
      "          (output): BertOutput(\n",
      "            (dense): Linear(in_features=3072, out_features=768, bias=True)\n",
      "            (LayerNorm): LayerNorm((768,), eps=1e-12, elementwise_affine=True)\n",
      "            (dropout): Dropout(p=0.1, inplace=False)\n",
      "          )\n",
      "        )\n",
      "        (5): BertLayer(\n",
      "          (attention): BertAttention(\n",
      "            (self): BertSelfAttention(\n",
      "              (query): Linear(in_features=768, out_features=768, bias=True)\n",
      "              (key): Linear(in_features=768, out_features=768, bias=True)\n",
      "              (value): Linear(in_features=768, out_features=768, bias=True)\n",
      "              (dropout): Dropout(p=0.1, inplace=False)\n",
      "            )\n",
      "            (output): BertSelfOutput(\n",
      "              (dense): Linear(in_features=768, out_features=768, bias=True)\n",
      "              (LayerNorm): LayerNorm((768,), eps=1e-12, elementwise_affine=True)\n",
      "              (dropout): Dropout(p=0.1, inplace=False)\n",
      "            )\n",
      "          )\n",
      "          (intermediate): BertIntermediate(\n",
      "            (dense): Linear(in_features=768, out_features=3072, bias=True)\n",
      "            (intermediate_act_fn): GELUActivation()\n",
      "          )\n",
      "          (output): BertOutput(\n",
      "            (dense): Linear(in_features=3072, out_features=768, bias=True)\n",
      "            (LayerNorm): LayerNorm((768,), eps=1e-12, elementwise_affine=True)\n",
      "            (dropout): Dropout(p=0.1, inplace=False)\n",
      "          )\n",
      "        )\n",
      "        (6): BertLayer(\n",
      "          (attention): BertAttention(\n",
      "            (self): BertSelfAttention(\n",
      "              (query): Linear(in_features=768, out_features=768, bias=True)\n",
      "              (key): Linear(in_features=768, out_features=768, bias=True)\n",
      "              (value): Linear(in_features=768, out_features=768, bias=True)\n",
      "              (dropout): Dropout(p=0.1, inplace=False)\n",
      "            )\n",
      "            (output): BertSelfOutput(\n",
      "              (dense): Linear(in_features=768, out_features=768, bias=True)\n",
      "              (LayerNorm): LayerNorm((768,), eps=1e-12, elementwise_affine=True)\n",
      "              (dropout): Dropout(p=0.1, inplace=False)\n",
      "            )\n",
      "          )\n",
      "          (intermediate): BertIntermediate(\n",
      "            (dense): Linear(in_features=768, out_features=3072, bias=True)\n",
      "            (intermediate_act_fn): GELUActivation()\n",
      "          )\n",
      "          (output): BertOutput(\n",
      "            (dense): Linear(in_features=3072, out_features=768, bias=True)\n",
      "            (LayerNorm): LayerNorm((768,), eps=1e-12, elementwise_affine=True)\n",
      "            (dropout): Dropout(p=0.1, inplace=False)\n",
      "          )\n",
      "        )\n",
      "        (7): BertLayer(\n",
      "          (attention): BertAttention(\n",
      "            (self): BertSelfAttention(\n",
      "              (query): Linear(in_features=768, out_features=768, bias=True)\n",
      "              (key): Linear(in_features=768, out_features=768, bias=True)\n",
      "              (value): Linear(in_features=768, out_features=768, bias=True)\n",
      "              (dropout): Dropout(p=0.1, inplace=False)\n",
      "            )\n",
      "            (output): BertSelfOutput(\n",
      "              (dense): Linear(in_features=768, out_features=768, bias=True)\n",
      "              (LayerNorm): LayerNorm((768,), eps=1e-12, elementwise_affine=True)\n",
      "              (dropout): Dropout(p=0.1, inplace=False)\n",
      "            )\n",
      "          )\n",
      "          (intermediate): BertIntermediate(\n",
      "            (dense): Linear(in_features=768, out_features=3072, bias=True)\n",
      "            (intermediate_act_fn): GELUActivation()\n",
      "          )\n",
      "          (output): BertOutput(\n",
      "            (dense): Linear(in_features=3072, out_features=768, bias=True)\n",
      "            (LayerNorm): LayerNorm((768,), eps=1e-12, elementwise_affine=True)\n",
      "            (dropout): Dropout(p=0.1, inplace=False)\n",
      "          )\n",
      "        )\n",
      "        (8): BertLayer(\n",
      "          (attention): BertAttention(\n",
      "            (self): BertSelfAttention(\n",
      "              (query): Linear(in_features=768, out_features=768, bias=True)\n",
      "              (key): Linear(in_features=768, out_features=768, bias=True)\n",
      "              (value): Linear(in_features=768, out_features=768, bias=True)\n",
      "              (dropout): Dropout(p=0.1, inplace=False)\n",
      "            )\n",
      "            (output): BertSelfOutput(\n",
      "              (dense): Linear(in_features=768, out_features=768, bias=True)\n",
      "              (LayerNorm): LayerNorm((768,), eps=1e-12, elementwise_affine=True)\n",
      "              (dropout): Dropout(p=0.1, inplace=False)\n",
      "            )\n",
      "          )\n",
      "          (intermediate): BertIntermediate(\n",
      "            (dense): Linear(in_features=768, out_features=3072, bias=True)\n",
      "            (intermediate_act_fn): GELUActivation()\n",
      "          )\n",
      "          (output): BertOutput(\n",
      "            (dense): Linear(in_features=3072, out_features=768, bias=True)\n",
      "            (LayerNorm): LayerNorm((768,), eps=1e-12, elementwise_affine=True)\n",
      "            (dropout): Dropout(p=0.1, inplace=False)\n",
      "          )\n",
      "        )\n",
      "        (9): BertLayer(\n",
      "          (attention): BertAttention(\n",
      "            (self): BertSelfAttention(\n",
      "              (query): Linear(in_features=768, out_features=768, bias=True)\n",
      "              (key): Linear(in_features=768, out_features=768, bias=True)\n",
      "              (value): Linear(in_features=768, out_features=768, bias=True)\n",
      "              (dropout): Dropout(p=0.1, inplace=False)\n",
      "            )\n",
      "            (output): BertSelfOutput(\n",
      "              (dense): Linear(in_features=768, out_features=768, bias=True)\n",
      "              (LayerNorm): LayerNorm((768,), eps=1e-12, elementwise_affine=True)\n",
      "              (dropout): Dropout(p=0.1, inplace=False)\n",
      "            )\n",
      "          )\n",
      "          (intermediate): BertIntermediate(\n",
      "            (dense): Linear(in_features=768, out_features=3072, bias=True)\n",
      "            (intermediate_act_fn): GELUActivation()\n",
      "          )\n",
      "          (output): BertOutput(\n",
      "            (dense): Linear(in_features=3072, out_features=768, bias=True)\n",
      "            (LayerNorm): LayerNorm((768,), eps=1e-12, elementwise_affine=True)\n",
      "            (dropout): Dropout(p=0.1, inplace=False)\n",
      "          )\n",
      "        )\n",
      "        (10): BertLayer(\n",
      "          (attention): BertAttention(\n",
      "            (self): BertSelfAttention(\n",
      "              (query): Linear(in_features=768, out_features=768, bias=True)\n",
      "              (key): Linear(in_features=768, out_features=768, bias=True)\n",
      "              (value): Linear(in_features=768, out_features=768, bias=True)\n",
      "              (dropout): Dropout(p=0.1, inplace=False)\n",
      "            )\n",
      "            (output): BertSelfOutput(\n",
      "              (dense): Linear(in_features=768, out_features=768, bias=True)\n",
      "              (LayerNorm): LayerNorm((768,), eps=1e-12, elementwise_affine=True)\n",
      "              (dropout): Dropout(p=0.1, inplace=False)\n",
      "            )\n",
      "          )\n",
      "          (intermediate): BertIntermediate(\n",
      "            (dense): Linear(in_features=768, out_features=3072, bias=True)\n",
      "            (intermediate_act_fn): GELUActivation()\n",
      "          )\n",
      "          (output): BertOutput(\n",
      "            (dense): Linear(in_features=3072, out_features=768, bias=True)\n",
      "            (LayerNorm): LayerNorm((768,), eps=1e-12, elementwise_affine=True)\n",
      "            (dropout): Dropout(p=0.1, inplace=False)\n",
      "          )\n",
      "        )\n",
      "        (11): BertLayer(\n",
      "          (attention): BertAttention(\n",
      "            (self): BertSelfAttention(\n",
      "              (query): Linear(in_features=768, out_features=768, bias=True)\n",
      "              (key): Linear(in_features=768, out_features=768, bias=True)\n",
      "              (value): Linear(in_features=768, out_features=768, bias=True)\n",
      "              (dropout): Dropout(p=0.1, inplace=False)\n",
      "            )\n",
      "            (output): BertSelfOutput(\n",
      "              (dense): Linear(in_features=768, out_features=768, bias=True)\n",
      "              (LayerNorm): LayerNorm((768,), eps=1e-12, elementwise_affine=True)\n",
      "              (dropout): Dropout(p=0.1, inplace=False)\n",
      "            )\n",
      "          )\n",
      "          (intermediate): BertIntermediate(\n",
      "            (dense): Linear(in_features=768, out_features=3072, bias=True)\n",
      "            (intermediate_act_fn): GELUActivation()\n",
      "          )\n",
      "          (output): BertOutput(\n",
      "            (dense): Linear(in_features=3072, out_features=768, bias=True)\n",
      "            (LayerNorm): LayerNorm((768,), eps=1e-12, elementwise_affine=True)\n",
      "            (dropout): Dropout(p=0.1, inplace=False)\n",
      "          )\n",
      "        )\n",
      "      )\n",
      "    )\n",
      "    (pooler): BertPooler(\n",
      "      (dense): Linear(in_features=768, out_features=768, bias=True)\n",
      "      (activation): Tanh()\n",
      "    )\n",
      "  )\n",
      "  (dropout): Dropout(p=0.1, inplace=False)\n",
      "  (classifier): Linear(in_features=768, out_features=3, bias=True)\n",
      ")\n"
     ]
    }
   ],
   "source": [
    "print(model)"
   ]
  },
  {
   "cell_type": "markdown",
   "id": "1a61463f-14c5-4c04-bf2f-336e0e27b05d",
   "metadata": {},
   "source": [
    "#### Setup trainer"
   ]
  },
  {
   "cell_type": "code",
   "execution_count": 21,
   "id": "bbfa3396-c563-42b3-bb0e-dee00e38d5fe",
   "metadata": {},
   "outputs": [],
   "source": [
    "import numpy as np\n",
    "import evaluate \n",
    "from transformers import TrainingArguments, Trainer"
   ]
  },
  {
   "cell_type": "code",
   "execution_count": 22,
   "id": "43380761-462b-41c4-8c03-230a8553944c",
   "metadata": {},
   "outputs": [],
   "source": [
    "metric = evaluate.load(\"accuracy\")\n",
    "\n",
    "def compute_metrics(eval_pred):\n",
    "    logits, labels = eval_pred\n",
    "    predictions = np.argmax(logits, axis=-1)\n",
    "    return metric.compute(predictions=predictions, references = labels)"
   ]
  },
  {
   "cell_type": "code",
   "execution_count": 23,
   "id": "3aa80077-e351-4c6e-a046-ed2b737ee86e",
   "metadata": {},
   "outputs": [],
   "source": [
    "batch_size = 16 #defaults to 8\n",
    "num_epochs = 5\n",
    "\n",
    "args = TrainingArguments(\n",
    "    \"../models/FEVER_BERT_V1\",\n",
    "    evaluation_strategy = \"epoch\",\n",
    "    # evaluation_strategy = \"steps\",\n",
    "    save_strategy = \"epoch\",\n",
    "    per_device_train_batch_size = batch_size,\n",
    "    per_device_eval_batch_size = batch_size,\n",
    "    num_train_epochs = num_epochs,\n",
    "    load_best_model_at_end = True,\n",
    "    # metric_for_best_model = \"accuracy\"\n",
    ")   "
   ]
  },
  {
   "cell_type": "code",
   "execution_count": 24,
   "id": "975686f9-9620-4fa5-abfa-1ff9ed3ae0d7",
   "metadata": {},
   "outputs": [],
   "source": [
    "trainer = Trainer(\n",
    "    model, \n",
    "    args,\n",
    "    train_dataset = encoded_ds[\"train\"],\n",
    "    eval_dataset = encoded_ds[\"validation\"],\n",
    "    tokenizer = tokenizer, \n",
    "    compute_metrics = compute_metrics\n",
    ")"
   ]
  },
  {
   "cell_type": "code",
   "execution_count": 25,
   "id": "b6688736-5e42-43d8-a375-be0afae49c04",
   "metadata": {},
   "outputs": [
    {
     "name": "stderr",
     "output_type": "stream",
     "text": [
      "The following columns in the training set don't have a corresponding argument in `BertForSequenceClassification.forward` and have been ignored: claim, evidence. If claim, evidence are not expected by `BertForSequenceClassification.forward`,  you can safely ignore this message.\n",
      "/scratch/users/k21193529/conda/jenv3/lib/python3.8/site-packages/transformers/optimization.py:306: FutureWarning: This implementation of AdamW is deprecated and will be removed in a future version. Use the PyTorch implementation torch.optim.AdamW instead, or set `no_deprecation_warning=True` to disable this warning\n",
      "  warnings.warn(\n",
      "***** Running training *****\n",
      "  Num examples = 145449\n",
      "  Num Epochs = 5\n",
      "  Instantaneous batch size per device = 16\n",
      "  Total train batch size (w. parallel, distributed & accumulation) = 64\n",
      "  Gradient Accumulation steps = 1\n",
      "  Total optimization steps = 11365\n",
      "  Number of trainable parameters = 109484547\n",
      "You're using a BertTokenizerFast tokenizer. Please note that with a fast tokenizer, using the `__call__` method is faster than using a method to encode the text followed by a call to the `pad` method to get a padded encoding.\n",
      "/scratch/users/k21193529/conda/jenv3/lib/python3.8/site-packages/torch/nn/parallel/_functions.py:68: UserWarning: Was asked to gather along dimension 0, but all input tensors were scalars; will instead unsqueeze and return a vector.\n",
      "  warnings.warn('Was asked to gather along dimension 0, but all '\n"
     ]
    },
    {
     "data": {
      "text/html": [
       "\n",
       "    <div>\n",
       "      \n",
       "      <progress value='11365' max='11365' style='width:300px; height:20px; vertical-align: middle;'></progress>\n",
       "      [11365/11365 1:23:34, Epoch 5/5]\n",
       "    </div>\n",
       "    <table border=\"1\" class=\"dataframe\">\n",
       "  <thead>\n",
       " <tr style=\"text-align: left;\">\n",
       "      <th>Epoch</th>\n",
       "      <th>Training Loss</th>\n",
       "      <th>Validation Loss</th>\n",
       "      <th>Accuracy</th>\n",
       "    </tr>\n",
       "  </thead>\n",
       "  <tbody>\n",
       "    <tr>\n",
       "      <td>1</td>\n",
       "      <td>0.141000</td>\n",
       "      <td>0.142584</td>\n",
       "      <td>0.950695</td>\n",
       "    </tr>\n",
       "    <tr>\n",
       "      <td>2</td>\n",
       "      <td>0.092500</td>\n",
       "      <td>0.142349</td>\n",
       "      <td>0.957596</td>\n",
       "    </tr>\n",
       "    <tr>\n",
       "      <td>3</td>\n",
       "      <td>0.060600</td>\n",
       "      <td>0.158913</td>\n",
       "      <td>0.958696</td>\n",
       "    </tr>\n",
       "    <tr>\n",
       "      <td>4</td>\n",
       "      <td>0.040700</td>\n",
       "      <td>0.202998</td>\n",
       "      <td>0.959096</td>\n",
       "    </tr>\n",
       "    <tr>\n",
       "      <td>5</td>\n",
       "      <td>0.023200</td>\n",
       "      <td>0.213202</td>\n",
       "      <td>0.960596</td>\n",
       "    </tr>\n",
       "  </tbody>\n",
       "</table><p>"
      ],
      "text/plain": [
       "<IPython.core.display.HTML object>"
      ]
     },
     "metadata": {},
     "output_type": "display_data"
    },
    {
     "name": "stderr",
     "output_type": "stream",
     "text": [
      "The following columns in the evaluation set don't have a corresponding argument in `BertForSequenceClassification.forward` and have been ignored: claim, evidence. If claim, evidence are not expected by `BertForSequenceClassification.forward`,  you can safely ignore this message.\n",
      "***** Running Evaluation *****\n",
      "  Num examples = 9999\n",
      "  Batch size = 64\n",
      "Saving model checkpoint to ../models/FEVER_BERT_V1/checkpoint-2273\n",
      "Configuration saved in ../models/FEVER_BERT_V1/checkpoint-2273/config.json\n",
      "Model weights saved in ../models/FEVER_BERT_V1/checkpoint-2273/pytorch_model.bin\n",
      "tokenizer config file saved in ../models/FEVER_BERT_V1/checkpoint-2273/tokenizer_config.json\n",
      "Special tokens file saved in ../models/FEVER_BERT_V1/checkpoint-2273/special_tokens_map.json\n",
      "/scratch/users/k21193529/conda/jenv3/lib/python3.8/site-packages/torch/nn/parallel/_functions.py:68: UserWarning: Was asked to gather along dimension 0, but all input tensors were scalars; will instead unsqueeze and return a vector.\n",
      "  warnings.warn('Was asked to gather along dimension 0, but all '\n",
      "The following columns in the evaluation set don't have a corresponding argument in `BertForSequenceClassification.forward` and have been ignored: claim, evidence. If claim, evidence are not expected by `BertForSequenceClassification.forward`,  you can safely ignore this message.\n",
      "***** Running Evaluation *****\n",
      "  Num examples = 9999\n",
      "  Batch size = 64\n",
      "Saving model checkpoint to ../models/FEVER_BERT_V1/checkpoint-4546\n",
      "Configuration saved in ../models/FEVER_BERT_V1/checkpoint-4546/config.json\n",
      "Model weights saved in ../models/FEVER_BERT_V1/checkpoint-4546/pytorch_model.bin\n",
      "tokenizer config file saved in ../models/FEVER_BERT_V1/checkpoint-4546/tokenizer_config.json\n",
      "Special tokens file saved in ../models/FEVER_BERT_V1/checkpoint-4546/special_tokens_map.json\n",
      "/scratch/users/k21193529/conda/jenv3/lib/python3.8/site-packages/torch/nn/parallel/_functions.py:68: UserWarning: Was asked to gather along dimension 0, but all input tensors were scalars; will instead unsqueeze and return a vector.\n",
      "  warnings.warn('Was asked to gather along dimension 0, but all '\n",
      "The following columns in the evaluation set don't have a corresponding argument in `BertForSequenceClassification.forward` and have been ignored: claim, evidence. If claim, evidence are not expected by `BertForSequenceClassification.forward`,  you can safely ignore this message.\n",
      "***** Running Evaluation *****\n",
      "  Num examples = 9999\n",
      "  Batch size = 64\n",
      "Saving model checkpoint to ../models/FEVER_BERT_V1/checkpoint-6819\n",
      "Configuration saved in ../models/FEVER_BERT_V1/checkpoint-6819/config.json\n",
      "Model weights saved in ../models/FEVER_BERT_V1/checkpoint-6819/pytorch_model.bin\n",
      "tokenizer config file saved in ../models/FEVER_BERT_V1/checkpoint-6819/tokenizer_config.json\n",
      "Special tokens file saved in ../models/FEVER_BERT_V1/checkpoint-6819/special_tokens_map.json\n",
      "/scratch/users/k21193529/conda/jenv3/lib/python3.8/site-packages/torch/nn/parallel/_functions.py:68: UserWarning: Was asked to gather along dimension 0, but all input tensors were scalars; will instead unsqueeze and return a vector.\n",
      "  warnings.warn('Was asked to gather along dimension 0, but all '\n",
      "The following columns in the evaluation set don't have a corresponding argument in `BertForSequenceClassification.forward` and have been ignored: claim, evidence. If claim, evidence are not expected by `BertForSequenceClassification.forward`,  you can safely ignore this message.\n",
      "***** Running Evaluation *****\n",
      "  Num examples = 9999\n",
      "  Batch size = 64\n",
      "Saving model checkpoint to ../models/FEVER_BERT_V1/checkpoint-9092\n",
      "Configuration saved in ../models/FEVER_BERT_V1/checkpoint-9092/config.json\n",
      "Model weights saved in ../models/FEVER_BERT_V1/checkpoint-9092/pytorch_model.bin\n",
      "tokenizer config file saved in ../models/FEVER_BERT_V1/checkpoint-9092/tokenizer_config.json\n",
      "Special tokens file saved in ../models/FEVER_BERT_V1/checkpoint-9092/special_tokens_map.json\n",
      "/scratch/users/k21193529/conda/jenv3/lib/python3.8/site-packages/torch/nn/parallel/_functions.py:68: UserWarning: Was asked to gather along dimension 0, but all input tensors were scalars; will instead unsqueeze and return a vector.\n",
      "  warnings.warn('Was asked to gather along dimension 0, but all '\n",
      "The following columns in the evaluation set don't have a corresponding argument in `BertForSequenceClassification.forward` and have been ignored: claim, evidence. If claim, evidence are not expected by `BertForSequenceClassification.forward`,  you can safely ignore this message.\n",
      "***** Running Evaluation *****\n",
      "  Num examples = 9999\n",
      "  Batch size = 64\n",
      "Saving model checkpoint to ../models/FEVER_BERT_V1/checkpoint-11365\n",
      "Configuration saved in ../models/FEVER_BERT_V1/checkpoint-11365/config.json\n",
      "Model weights saved in ../models/FEVER_BERT_V1/checkpoint-11365/pytorch_model.bin\n",
      "tokenizer config file saved in ../models/FEVER_BERT_V1/checkpoint-11365/tokenizer_config.json\n",
      "Special tokens file saved in ../models/FEVER_BERT_V1/checkpoint-11365/special_tokens_map.json\n",
      "\n",
      "\n",
      "Training completed. Do not forget to share your model on huggingface.co/models =)\n",
      "\n",
      "\n",
      "Loading best model from ../models/FEVER_BERT_V1/checkpoint-4546 (score: 0.14234882593154907).\n"
     ]
    },
    {
     "data": {
      "text/plain": [
       "TrainOutput(global_step=11365, training_loss=0.07854350635882679, metrics={'train_runtime': 5030.4865, 'train_samples_per_second': 144.568, 'train_steps_per_second': 2.259, 'total_flos': 1.9134791747559936e+17, 'train_loss': 0.07854350635882679, 'epoch': 5.0})"
      ]
     },
     "execution_count": 25,
     "metadata": {},
     "output_type": "execute_result"
    }
   ],
   "source": [
    "trainer.train()"
   ]
  },
  {
   "cell_type": "code",
   "execution_count": 27,
   "id": "c9f4548e-d0b8-4c7b-a4a9-82031ce92e05",
   "metadata": {},
   "outputs": [
    {
     "name": "stderr",
     "output_type": "stream",
     "text": [
      "The following columns in the evaluation set don't have a corresponding argument in `BertForSequenceClassification.forward` and have been ignored: claim, evidence. If claim, evidence are not expected by `BertForSequenceClassification.forward`,  you can safely ignore this message.\n",
      "***** Running Evaluation *****\n",
      "  Num examples = 9999\n",
      "  Batch size = 64\n",
      "/scratch/users/k21193529/conda/jenv3/lib/python3.8/site-packages/torch/nn/parallel/_functions.py:68: UserWarning: Was asked to gather along dimension 0, but all input tensors were scalars; will instead unsqueeze and return a vector.\n",
      "  warnings.warn('Was asked to gather along dimension 0, but all '\n"
     ]
    },
    {
     "data": {
      "text/plain": [
       "{'eval_loss': 0.14234882593154907,\n",
       " 'eval_accuracy': 0.9575957595759576,\n",
       " 'eval_runtime': 26.858,\n",
       " 'eval_samples_per_second': 372.291,\n",
       " 'eval_steps_per_second': 5.846,\n",
       " 'epoch': 5.0}"
      ]
     },
     "execution_count": 27,
     "metadata": {},
     "output_type": "execute_result"
    }
   ],
   "source": [
    "trainer.evaluate(eval_dataset = encoded_ds[\"validation\"])"
   ]
  },
  {
   "cell_type": "code",
   "execution_count": 28,
   "id": "1e00b5e4-3188-4138-83eb-0f8442ffa0ae",
   "metadata": {},
   "outputs": [
    {
     "name": "stderr",
     "output_type": "stream",
     "text": [
      "The following columns in the evaluation set don't have a corresponding argument in `BertForSequenceClassification.forward` and have been ignored: claim, evidence. If claim, evidence are not expected by `BertForSequenceClassification.forward`,  you can safely ignore this message.\n",
      "***** Running Evaluation *****\n",
      "  Num examples = 9999\n",
      "  Batch size = 64\n",
      "/scratch/users/k21193529/conda/jenv3/lib/python3.8/site-packages/torch/nn/parallel/_functions.py:68: UserWarning: Was asked to gather along dimension 0, but all input tensors were scalars; will instead unsqueeze and return a vector.\n",
      "  warnings.warn('Was asked to gather along dimension 0, but all '\n"
     ]
    },
    {
     "data": {
      "text/plain": [
       "{'eval_loss': 0.18636560440063477,\n",
       " 'eval_accuracy': 0.9455945594559456,\n",
       " 'eval_runtime': 26.9831,\n",
       " 'eval_samples_per_second': 370.566,\n",
       " 'eval_steps_per_second': 5.818,\n",
       " 'epoch': 5.0}"
      ]
     },
     "execution_count": 28,
     "metadata": {},
     "output_type": "execute_result"
    }
   ],
   "source": [
    "trainer.evaluate(eval_dataset = encoded_ds[\"test\"])"
   ]
  },
  {
   "cell_type": "markdown",
   "id": "bfc5db9b-2673-4b84-aa56-5072d33d6800",
   "metadata": {},
   "source": [
    "## Inference"
   ]
  },
  {
   "cell_type": "markdown",
   "id": "5bb1082e-4d8e-41b7-a8dc-4d8fdae92d3f",
   "metadata": {},
   "source": [
    "#### Prepare dataset"
   ]
  },
  {
   "cell_type": "code",
   "execution_count": 101,
   "id": "d6616101-e3dd-4867-a2a8-9906294aeb32",
   "metadata": {},
   "outputs": [],
   "source": [
    "# load best model\n",
    "best_model_checkpoint = \"../models/FEVER_BERT_V1/checkpoint-4546\""
   ]
  },
  {
   "cell_type": "code",
   "execution_count": 102,
   "id": "770d9036-4ddf-45a0-96bd-95ae396d8216",
   "metadata": {},
   "outputs": [
    {
     "name": "stderr",
     "output_type": "stream",
     "text": [
      "loading file vocab.txt\n",
      "loading file tokenizer.json\n",
      "loading file added_tokens.json\n",
      "loading file special_tokens_map.json\n",
      "loading file tokenizer_config.json\n"
     ]
    }
   ],
   "source": [
    "from transformers import AutoTokenizer\n",
    "\n",
    "tokenizer = AutoTokenizer.from_pretrained(best_model_checkpoint)"
   ]
  },
  {
   "cell_type": "code",
   "execution_count": 103,
   "id": "e2dc277c-c265-4bdd-9aca-0251ab3ff6de",
   "metadata": {},
   "outputs": [],
   "source": [
    "def preprocess_function(samples):\n",
    "    return tokenizer(samples['claim'], samples['evidence'], \n",
    "                     padding=True,\n",
    "                     truncation='only_second')"
   ]
  },
  {
   "cell_type": "code",
   "execution_count": 104,
   "id": "e13f0a94-c88a-4b5e-9025-7092ca778741",
   "metadata": {},
   "outputs": [
    {
     "name": "stderr",
     "output_type": "stream",
     "text": [
      "                                                                 \r"
     ]
    }
   ],
   "source": [
    "# encoded_ds = ds.map(preprocess_function, batched=True)\n",
    "ds = DatasetDict()\n",
    "features = Features({\n",
    "    \"claim\": Value(\"string\"), \n",
    "    \"evidence\": Value(\"string\"),\n",
    "    \"label\": ClassLabel(num_classes=3, names=[\"SUPPORTS\", \"REFUTES\", \"NOT ENOUGH INFO\"])\n",
    "})\n",
    "\n",
    "# pubhealth\n",
    "# ds['validation'] = Dataset.from_list(pubhealth_dev_ds, features=features)\n",
    "# ds['test'] = Dataset.from_list(pubhealth_test_ds, features=features)\n",
    "\n",
    "# climate\n",
    "ds['test'] = Dataset.from_list(climate_ds, features=features)\n",
    "\n",
    "encoded_ds = ds.map(preprocess_function, batched=True)"
   ]
  },
  {
   "cell_type": "code",
   "execution_count": 27,
   "id": "af6b34b7-87d9-48cc-8066-47e262ea96e1",
   "metadata": {},
   "outputs": [],
   "source": [
    "from transformers import AutoModelForSequenceClassification"
   ]
  },
  {
   "cell_type": "code",
   "execution_count": 105,
   "id": "daf5b153-a4a8-442a-8248-4167595bd7ce",
   "metadata": {
    "scrolled": true
   },
   "outputs": [
    {
     "name": "stderr",
     "output_type": "stream",
     "text": [
      "loading configuration file ../models/FEVER_BERT_V1/checkpoint-4546/config.json\n",
      "Model config BertConfig {\n",
      "  \"_name_or_path\": \"../models/FEVER_BERT_V1/checkpoint-4546\",\n",
      "  \"architectures\": [\n",
      "    \"BertForSequenceClassification\"\n",
      "  ],\n",
      "  \"attention_probs_dropout_prob\": 0.1,\n",
      "  \"classifier_dropout\": null,\n",
      "  \"gradient_checkpointing\": false,\n",
      "  \"hidden_act\": \"gelu\",\n",
      "  \"hidden_dropout_prob\": 0.1,\n",
      "  \"hidden_size\": 768,\n",
      "  \"id2label\": {\n",
      "    \"0\": \"LABEL_0\",\n",
      "    \"1\": \"LABEL_1\",\n",
      "    \"2\": \"LABEL_2\"\n",
      "  },\n",
      "  \"initializer_range\": 0.02,\n",
      "  \"intermediate_size\": 3072,\n",
      "  \"label2id\": {\n",
      "    \"LABEL_0\": 0,\n",
      "    \"LABEL_1\": 1,\n",
      "    \"LABEL_2\": 2\n",
      "  },\n",
      "  \"layer_norm_eps\": 1e-12,\n",
      "  \"max_position_embeddings\": 512,\n",
      "  \"model_type\": \"bert\",\n",
      "  \"num_attention_heads\": 12,\n",
      "  \"num_hidden_layers\": 12,\n",
      "  \"pad_token_id\": 0,\n",
      "  \"position_embedding_type\": \"absolute\",\n",
      "  \"problem_type\": \"single_label_classification\",\n",
      "  \"torch_dtype\": \"float32\",\n",
      "  \"transformers_version\": \"4.24.0\",\n",
      "  \"type_vocab_size\": 2,\n",
      "  \"use_cache\": true,\n",
      "  \"vocab_size\": 30522\n",
      "}\n",
      "\n",
      "loading weights file ../models/FEVER_BERT_V1/checkpoint-4546/pytorch_model.bin\n",
      "All model checkpoint weights were used when initializing BertForSequenceClassification.\n",
      "\n",
      "All the weights of BertForSequenceClassification were initialized from the model checkpoint at ../models/FEVER_BERT_V1/checkpoint-4546.\n",
      "If your task is similar to the task the model of the checkpoint was trained on, you can already use BertForSequenceClassification for predictions without further training.\n"
     ]
    }
   ],
   "source": [
    "num_labels = 3 \n",
    "model = AutoModelForSequenceClassification.from_pretrained(best_model_checkpoint, num_labels=num_labels)"
   ]
  },
  {
   "cell_type": "code",
   "execution_count": 107,
   "id": "2d190cd7-71ff-41a9-8189-a4217243a9ec",
   "metadata": {},
   "outputs": [
    {
     "name": "stderr",
     "output_type": "stream",
     "text": [
      "PyTorch: setting up devices\n",
      "The default value for the training argument `--report_to` will change in v5 (from all installed integrations to none). In v5, you will need to use `--report_to all` to get the same behavior as now. You should start updating your code and make this info disappear :-).\n"
     ]
    }
   ],
   "source": [
    "import numpy as np\n",
    "from transformers import TrainingArguments, Trainer\n",
    "import evaluate \n",
    "\n",
    "batch_size = 16 #defaults to 8\n",
    "num_epochs = 5\n",
    "\n",
    "def compute_metrics(eval_pred):\n",
    "    logits, labels = eval_pred\n",
    "    predictions = np.argmax(logits, axis=-1)\n",
    "    return metric.compute(predictions=predictions, references = labels)\n",
    "\n",
    "args = TrainingArguments(\n",
    "    \"../models/FEVER_BERT_V1\",\n",
    "    evaluation_strategy = \"epoch\",\n",
    "    # evaluation_strategy = \"steps\",\n",
    "    save_strategy = \"epoch\",\n",
    "    per_device_train_batch_size = batch_size,\n",
    "    per_device_eval_batch_size = batch_size,\n",
    "    num_train_epochs = num_epochs,\n",
    "    load_best_model_at_end = True,\n",
    "    # metric_for_best_model = \"accuracy\"\n",
    ")  \n",
    "trainer = Trainer(\n",
    "    model, \n",
    "    args,\n",
    "    # train_dataset = encoded_ds[\"train\"],\n",
    "    eval_dataset = encoded_ds[\"test\"],\n",
    "    tokenizer = tokenizer, \n",
    "    compute_metrics = compute_metrics\n",
    ")"
   ]
  },
  {
   "cell_type": "code",
   "execution_count": 108,
   "id": "7f9e9da0-1c8e-42f4-a37b-eec482f81025",
   "metadata": {},
   "outputs": [
    {
     "name": "stderr",
     "output_type": "stream",
     "text": [
      "The following columns in the evaluation set don't have a corresponding argument in `BertForSequenceClassification.forward` and have been ignored: evidence, claim. If evidence, claim are not expected by `BertForSequenceClassification.forward`,  you can safely ignore this message.\n",
      "***** Running Evaluation *****\n",
      "  Num examples = 1381\n",
      "  Batch size = 64\n",
      "You're using a BertTokenizerFast tokenizer. Please note that with a fast tokenizer, using the `__call__` method is faster than using a method to encode the text followed by a call to the `pad` method to get a padded encoding.\n",
      "/scratch/users/k21193529/conda/jenv3/lib/python3.8/site-packages/torch/nn/parallel/_functions.py:68: UserWarning: Was asked to gather along dimension 0, but all input tensors were scalars; will instead unsqueeze and return a vector.\n",
      "  warnings.warn('Was asked to gather along dimension 0, but all '\n"
     ]
    },
    {
     "data": {
      "text/html": [
       "\n",
       "    <div>\n",
       "      \n",
       "      <progress value='22' max='22' style='width:300px; height:20px; vertical-align: middle;'></progress>\n",
       "      [22/22 00:03]\n",
       "    </div>\n",
       "    "
      ],
      "text/plain": [
       "<IPython.core.display.HTML object>"
      ]
     },
     "metadata": {},
     "output_type": "display_data"
    },
    {
     "data": {
      "text/plain": [
       "{'eval_loss': 3.541452169418335,\n",
       " 'eval_accuracy': 0.4207096307023896,\n",
       " 'eval_runtime': 3.731,\n",
       " 'eval_samples_per_second': 370.144,\n",
       " 'eval_steps_per_second': 5.897}"
      ]
     },
     "execution_count": 108,
     "metadata": {},
     "output_type": "execute_result"
    }
   ],
   "source": [
    "trainer.evaluate(encoded_ds['test'])"
   ]
  }
 ],
 "metadata": {
  "kernelspec": {
   "display_name": "Python 3 (ipykernel)",
   "language": "python",
   "name": "python3"
  },
  "language_info": {
   "codemirror_mode": {
    "name": "ipython",
    "version": 3
   },
   "file_extension": ".py",
   "mimetype": "text/x-python",
   "name": "python",
   "nbconvert_exporter": "python",
   "pygments_lexer": "ipython3",
   "version": "3.8.12"
  }
 },
 "nbformat": 4,
 "nbformat_minor": 5
}
