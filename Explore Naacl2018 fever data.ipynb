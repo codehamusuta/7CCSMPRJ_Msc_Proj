{
 "cells": [
  {
   "cell_type": "markdown",
   "id": "92766343",
   "metadata": {},
   "source": [
    "## Explore fever data"
   ]
  },
  {
   "cell_type": "code",
   "execution_count": 5,
   "id": "d6c5d988",
   "metadata": {},
   "outputs": [],
   "source": [
    "import json\n",
    "import os\n",
    "import pandas as pd\n",
    "import csv"
   ]
  },
  {
   "cell_type": "code",
   "execution_count": 6,
   "id": "1dd9af1a",
   "metadata": {},
   "outputs": [],
   "source": [
    "def print_item(item):\n",
    "    print(json.dumps(item, indent=4))"
   ]
  },
  {
   "cell_type": "code",
   "execution_count": 7,
   "id": "96cbad85",
   "metadata": {},
   "outputs": [],
   "source": [
    "def load_data(jsonl_file):\n",
    "    with open(jsonl_file, 'r') as f:\n",
    "        fever_lst = [json.loads(item) for item in list(f)]\n",
    "        print(f'{len(fever_lst)} item loaded')\n",
    "        df = pd.DataFrame.from_records(fever_lst)\n",
    "    return df"
   ]
  },
  {
   "cell_type": "code",
   "execution_count": 11,
   "id": "31cd65ac",
   "metadata": {},
   "outputs": [
    {
     "name": "stdout",
     "output_type": "stream",
     "text": [
      "19998 item loaded\n",
      "19998 item loaded\n"
     ]
    }
   ],
   "source": [
    "root = \"../naacl2018-fever/data/fever-data/\"\n",
    "dev_df = load_data(os.path.join(root, 'dev.jsonl'))\n",
    "test_df = load_data(os.path.join(root, 'test.jsonl'))"
   ]
  },
  {
   "cell_type": "code",
   "execution_count": 12,
   "id": "8545f7c2",
   "metadata": {},
   "outputs": [
    {
     "data": {
      "text/html": [
       "<div>\n",
       "<style scoped>\n",
       "    .dataframe tbody tr th:only-of-type {\n",
       "        vertical-align: middle;\n",
       "    }\n",
       "\n",
       "    .dataframe tbody tr th {\n",
       "        vertical-align: top;\n",
       "    }\n",
       "\n",
       "    .dataframe thead th {\n",
       "        text-align: right;\n",
       "    }\n",
       "</style>\n",
       "<table border=\"1\" class=\"dataframe\">\n",
       "  <thead>\n",
       "    <tr style=\"text-align: right;\">\n",
       "      <th></th>\n",
       "      <th>id</th>\n",
       "      <th>verifiable</th>\n",
       "      <th>label</th>\n",
       "      <th>claim</th>\n",
       "      <th>evidence</th>\n",
       "    </tr>\n",
       "  </thead>\n",
       "  <tbody>\n",
       "    <tr>\n",
       "      <th>0</th>\n",
       "      <td>91198</td>\n",
       "      <td>NOT VERIFIABLE</td>\n",
       "      <td>NOT ENOUGH INFO</td>\n",
       "      <td>Colin Kaepernick became a starting quarterback...</td>\n",
       "      <td>[[[108548, None, None, None]]]</td>\n",
       "    </tr>\n",
       "    <tr>\n",
       "      <th>1</th>\n",
       "      <td>194462</td>\n",
       "      <td>NOT VERIFIABLE</td>\n",
       "      <td>NOT ENOUGH INFO</td>\n",
       "      <td>Tilda Swinton is a vegan.</td>\n",
       "      <td>[[[227768, None, None, None]]]</td>\n",
       "    </tr>\n",
       "    <tr>\n",
       "      <th>2</th>\n",
       "      <td>137334</td>\n",
       "      <td>VERIFIABLE</td>\n",
       "      <td>SUPPORTS</td>\n",
       "      <td>Fox 2000 Pictures released the film Soul Food.</td>\n",
       "      <td>[[[289914, 283015, Soul_Food_-LRB-film-RRB-, 0...</td>\n",
       "    </tr>\n",
       "    <tr>\n",
       "      <th>3</th>\n",
       "      <td>166626</td>\n",
       "      <td>NOT VERIFIABLE</td>\n",
       "      <td>NOT ENOUGH INFO</td>\n",
       "      <td>Anne Rice was born in New Jersey.</td>\n",
       "      <td>[[[191656, None, None, None], [191657, None, N...</td>\n",
       "    </tr>\n",
       "    <tr>\n",
       "      <th>4</th>\n",
       "      <td>111897</td>\n",
       "      <td>VERIFIABLE</td>\n",
       "      <td>REFUTES</td>\n",
       "      <td>Telemundo is a English-language television net...</td>\n",
       "      <td>[[[131371, 146144, Telemundo, 0]], [[131371, 1...</td>\n",
       "    </tr>\n",
       "  </tbody>\n",
       "</table>\n",
       "</div>"
      ],
      "text/plain": [
       "       id      verifiable            label  \\\n",
       "0   91198  NOT VERIFIABLE  NOT ENOUGH INFO   \n",
       "1  194462  NOT VERIFIABLE  NOT ENOUGH INFO   \n",
       "2  137334      VERIFIABLE         SUPPORTS   \n",
       "3  166626  NOT VERIFIABLE  NOT ENOUGH INFO   \n",
       "4  111897      VERIFIABLE          REFUTES   \n",
       "\n",
       "                                               claim  \\\n",
       "0  Colin Kaepernick became a starting quarterback...   \n",
       "1                          Tilda Swinton is a vegan.   \n",
       "2     Fox 2000 Pictures released the film Soul Food.   \n",
       "3                  Anne Rice was born in New Jersey.   \n",
       "4  Telemundo is a English-language television net...   \n",
       "\n",
       "                                            evidence  \n",
       "0                     [[[108548, None, None, None]]]  \n",
       "1                     [[[227768, None, None, None]]]  \n",
       "2  [[[289914, 283015, Soul_Food_-LRB-film-RRB-, 0...  \n",
       "3  [[[191656, None, None, None], [191657, None, N...  \n",
       "4  [[[131371, 146144, Telemundo, 0]], [[131371, 1...  "
      ]
     },
     "execution_count": 12,
     "metadata": {},
     "output_type": "execute_result"
    }
   ],
   "source": [
    "dev_df.head()"
   ]
  },
  {
   "cell_type": "code",
   "execution_count": 13,
   "id": "d15332dd",
   "metadata": {},
   "outputs": [
    {
     "data": {
      "text/html": [
       "<div>\n",
       "<style scoped>\n",
       "    .dataframe tbody tr th:only-of-type {\n",
       "        vertical-align: middle;\n",
       "    }\n",
       "\n",
       "    .dataframe tbody tr th {\n",
       "        vertical-align: top;\n",
       "    }\n",
       "\n",
       "    .dataframe thead th {\n",
       "        text-align: right;\n",
       "    }\n",
       "</style>\n",
       "<table border=\"1\" class=\"dataframe\">\n",
       "  <thead>\n",
       "    <tr style=\"text-align: right;\">\n",
       "      <th></th>\n",
       "      <th>id</th>\n",
       "      <th>claim</th>\n",
       "    </tr>\n",
       "  </thead>\n",
       "  <tbody>\n",
       "    <tr>\n",
       "      <th>0</th>\n",
       "      <td>89296</td>\n",
       "      <td>Henry Spencer is played by a Greek actor.</td>\n",
       "    </tr>\n",
       "    <tr>\n",
       "      <th>1</th>\n",
       "      <td>78554</td>\n",
       "      <td>John Ritter died in October.</td>\n",
       "    </tr>\n",
       "    <tr>\n",
       "      <th>2</th>\n",
       "      <td>83809</td>\n",
       "      <td>13 Reasons Why is the only television series o...</td>\n",
       "    </tr>\n",
       "    <tr>\n",
       "      <th>3</th>\n",
       "      <td>49758</td>\n",
       "      <td>Playboy is a magazine.</td>\n",
       "    </tr>\n",
       "    <tr>\n",
       "      <th>4</th>\n",
       "      <td>22973</td>\n",
       "      <td>Alternative metal is the genre in which Alice ...</td>\n",
       "    </tr>\n",
       "  </tbody>\n",
       "</table>\n",
       "</div>"
      ],
      "text/plain": [
       "      id                                              claim\n",
       "0  89296          Henry Spencer is played by a Greek actor.\n",
       "1  78554                       John Ritter died in October.\n",
       "2  83809  13 Reasons Why is the only television series o...\n",
       "3  49758                             Playboy is a magazine.\n",
       "4  22973  Alternative metal is the genre in which Alice ..."
      ]
     },
     "execution_count": 13,
     "metadata": {},
     "output_type": "execute_result"
    }
   ],
   "source": [
    "test_df.head()"
   ]
  },
  {
   "cell_type": "code",
   "execution_count": 14,
   "id": "4c19e1db",
   "metadata": {},
   "outputs": [
    {
     "name": "stdout",
     "output_type": "stream",
     "text": [
      "9999 item loaded\n",
      "9999 item loaded\n"
     ]
    }
   ],
   "source": [
    "root = \"../Data/FEVER/\"\n",
    "dev_df = load_data(os.path.join(root, 'paper_dev.jsonl'))\n",
    "test_df = load_data(os.path.join(root, 'paper_test.jsonl'))"
   ]
  },
  {
   "cell_type": "code",
   "execution_count": 15,
   "id": "aae79fdb",
   "metadata": {},
   "outputs": [
    {
     "data": {
      "text/html": [
       "<div>\n",
       "<style scoped>\n",
       "    .dataframe tbody tr th:only-of-type {\n",
       "        vertical-align: middle;\n",
       "    }\n",
       "\n",
       "    .dataframe tbody tr th {\n",
       "        vertical-align: top;\n",
       "    }\n",
       "\n",
       "    .dataframe thead th {\n",
       "        text-align: right;\n",
       "    }\n",
       "</style>\n",
       "<table border=\"1\" class=\"dataframe\">\n",
       "  <thead>\n",
       "    <tr style=\"text-align: right;\">\n",
       "      <th></th>\n",
       "      <th>id</th>\n",
       "      <th>verifiable</th>\n",
       "      <th>label</th>\n",
       "      <th>claim</th>\n",
       "      <th>evidence</th>\n",
       "    </tr>\n",
       "  </thead>\n",
       "  <tbody>\n",
       "    <tr>\n",
       "      <th>0</th>\n",
       "      <td>91198</td>\n",
       "      <td>NOT VERIFIABLE</td>\n",
       "      <td>NOT ENOUGH INFO</td>\n",
       "      <td>Colin Kaepernick became a starting quarterback...</td>\n",
       "      <td>[[[108548, None, None, None]]]</td>\n",
       "    </tr>\n",
       "    <tr>\n",
       "      <th>1</th>\n",
       "      <td>194462</td>\n",
       "      <td>NOT VERIFIABLE</td>\n",
       "      <td>NOT ENOUGH INFO</td>\n",
       "      <td>Tilda Swinton is a vegan.</td>\n",
       "      <td>[[[227768, None, None, None]]]</td>\n",
       "    </tr>\n",
       "    <tr>\n",
       "      <th>2</th>\n",
       "      <td>137334</td>\n",
       "      <td>VERIFIABLE</td>\n",
       "      <td>SUPPORTS</td>\n",
       "      <td>Fox 2000 Pictures released the film Soul Food.</td>\n",
       "      <td>[[[289914, 283015, Soul_Food_-LRB-film-RRB-, 0...</td>\n",
       "    </tr>\n",
       "    <tr>\n",
       "      <th>3</th>\n",
       "      <td>166626</td>\n",
       "      <td>NOT VERIFIABLE</td>\n",
       "      <td>NOT ENOUGH INFO</td>\n",
       "      <td>Anne Rice was born in New Jersey.</td>\n",
       "      <td>[[[191656, None, None, None], [191657, None, N...</td>\n",
       "    </tr>\n",
       "    <tr>\n",
       "      <th>4</th>\n",
       "      <td>111897</td>\n",
       "      <td>VERIFIABLE</td>\n",
       "      <td>REFUTES</td>\n",
       "      <td>Telemundo is a English-language television net...</td>\n",
       "      <td>[[[131371, 146144, Telemundo, 0]], [[131371, 1...</td>\n",
       "    </tr>\n",
       "  </tbody>\n",
       "</table>\n",
       "</div>"
      ],
      "text/plain": [
       "       id      verifiable            label  \\\n",
       "0   91198  NOT VERIFIABLE  NOT ENOUGH INFO   \n",
       "1  194462  NOT VERIFIABLE  NOT ENOUGH INFO   \n",
       "2  137334      VERIFIABLE         SUPPORTS   \n",
       "3  166626  NOT VERIFIABLE  NOT ENOUGH INFO   \n",
       "4  111897      VERIFIABLE          REFUTES   \n",
       "\n",
       "                                               claim  \\\n",
       "0  Colin Kaepernick became a starting quarterback...   \n",
       "1                          Tilda Swinton is a vegan.   \n",
       "2     Fox 2000 Pictures released the film Soul Food.   \n",
       "3                  Anne Rice was born in New Jersey.   \n",
       "4  Telemundo is a English-language television net...   \n",
       "\n",
       "                                            evidence  \n",
       "0                     [[[108548, None, None, None]]]  \n",
       "1                     [[[227768, None, None, None]]]  \n",
       "2  [[[289914, 283015, Soul_Food_-LRB-film-RRB-, 0...  \n",
       "3  [[[191656, None, None, None], [191657, None, N...  \n",
       "4  [[[131371, 146144, Telemundo, 0]], [[131371, 1...  "
      ]
     },
     "execution_count": 15,
     "metadata": {},
     "output_type": "execute_result"
    }
   ],
   "source": [
    "dev_df.head()"
   ]
  },
  {
   "cell_type": "code",
   "execution_count": 16,
   "id": "c0524f36",
   "metadata": {},
   "outputs": [
    {
     "data": {
      "text/html": [
       "<div>\n",
       "<style scoped>\n",
       "    .dataframe tbody tr th:only-of-type {\n",
       "        vertical-align: middle;\n",
       "    }\n",
       "\n",
       "    .dataframe tbody tr th {\n",
       "        vertical-align: top;\n",
       "    }\n",
       "\n",
       "    .dataframe thead th {\n",
       "        text-align: right;\n",
       "    }\n",
       "</style>\n",
       "<table border=\"1\" class=\"dataframe\">\n",
       "  <thead>\n",
       "    <tr style=\"text-align: right;\">\n",
       "      <th></th>\n",
       "      <th>id</th>\n",
       "      <th>verifiable</th>\n",
       "      <th>label</th>\n",
       "      <th>claim</th>\n",
       "      <th>evidence</th>\n",
       "    </tr>\n",
       "  </thead>\n",
       "  <tbody>\n",
       "    <tr>\n",
       "      <th>0</th>\n",
       "      <td>113501</td>\n",
       "      <td>NOT VERIFIABLE</td>\n",
       "      <td>NOT ENOUGH INFO</td>\n",
       "      <td>Grease had bad reviews.</td>\n",
       "      <td>[[[133128, None, None, None]]]</td>\n",
       "    </tr>\n",
       "    <tr>\n",
       "      <th>1</th>\n",
       "      <td>163803</td>\n",
       "      <td>VERIFIABLE</td>\n",
       "      <td>SUPPORTS</td>\n",
       "      <td>Ukrainian Soviet Socialist Republic was a foun...</td>\n",
       "      <td>[[[296950, 288668, Ukrainian_Soviet_Socialist_...</td>\n",
       "    </tr>\n",
       "    <tr>\n",
       "      <th>2</th>\n",
       "      <td>70041</td>\n",
       "      <td>VERIFIABLE</td>\n",
       "      <td>SUPPORTS</td>\n",
       "      <td>2 Hearts is a musical composition by Minogue.</td>\n",
       "      <td>[[[225394, 230056, 2_Hearts_-LRB-Kylie_Minogue...</td>\n",
       "    </tr>\n",
       "    <tr>\n",
       "      <th>3</th>\n",
       "      <td>202314</td>\n",
       "      <td>VERIFIABLE</td>\n",
       "      <td>REFUTES</td>\n",
       "      <td>The New Jersey Turnpike has zero shoulders.</td>\n",
       "      <td>[[[238335, 240393, New_Jersey_Turnpike, 15]]]</td>\n",
       "    </tr>\n",
       "    <tr>\n",
       "      <th>4</th>\n",
       "      <td>57085</td>\n",
       "      <td>NOT VERIFIABLE</td>\n",
       "      <td>NOT ENOUGH INFO</td>\n",
       "      <td>Legendary Entertainment is the owner of Wanda ...</td>\n",
       "      <td>[[[178035, None, None, None], [182093, None, N...</td>\n",
       "    </tr>\n",
       "  </tbody>\n",
       "</table>\n",
       "</div>"
      ],
      "text/plain": [
       "       id      verifiable            label  \\\n",
       "0  113501  NOT VERIFIABLE  NOT ENOUGH INFO   \n",
       "1  163803      VERIFIABLE         SUPPORTS   \n",
       "2   70041      VERIFIABLE         SUPPORTS   \n",
       "3  202314      VERIFIABLE          REFUTES   \n",
       "4   57085  NOT VERIFIABLE  NOT ENOUGH INFO   \n",
       "\n",
       "                                               claim  \\\n",
       "0                            Grease had bad reviews.   \n",
       "1  Ukrainian Soviet Socialist Republic was a foun...   \n",
       "2      2 Hearts is a musical composition by Minogue.   \n",
       "3        The New Jersey Turnpike has zero shoulders.   \n",
       "4  Legendary Entertainment is the owner of Wanda ...   \n",
       "\n",
       "                                            evidence  \n",
       "0                     [[[133128, None, None, None]]]  \n",
       "1  [[[296950, 288668, Ukrainian_Soviet_Socialist_...  \n",
       "2  [[[225394, 230056, 2_Hearts_-LRB-Kylie_Minogue...  \n",
       "3      [[[238335, 240393, New_Jersey_Turnpike, 15]]]  \n",
       "4  [[[178035, None, None, None], [182093, None, N...  "
      ]
     },
     "execution_count": 16,
     "metadata": {},
     "output_type": "execute_result"
    }
   ],
   "source": [
    "test_df.head()"
   ]
  },
  {
   "cell_type": "code",
   "execution_count": 30,
   "id": "cb6a28eb",
   "metadata": {},
   "outputs": [
    {
     "name": "stdout",
     "output_type": "stream",
     "text": [
      "19998 item loaded\n"
     ]
    }
   ],
   "source": [
    "root = \"../naacl2018-fever/data/fever/\"\n",
    "df = load_data(os.path.join(root, 'dev.ns.rand.jsonl'))"
   ]
  }
 ],
 "metadata": {
  "kernelspec": {
   "display_name": "Python 3 (ipykernel)",
   "language": "python",
   "name": "python3"
  },
  "language_info": {
   "codemirror_mode": {
    "name": "ipython",
    "version": 3
   },
   "file_extension": ".py",
   "mimetype": "text/x-python",
   "name": "python",
   "nbconvert_exporter": "python",
   "pygments_lexer": "ipython3",
   "version": "3.8.16"
  }
 },
 "nbformat": 4,
 "nbformat_minor": 5
}
