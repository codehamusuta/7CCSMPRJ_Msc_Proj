{
 "cells": [
  {
   "cell_type": "markdown",
   "id": "92766343",
   "metadata": {},
   "source": [
    "## Explore fever data"
   ]
  },
  {
   "cell_type": "code",
   "execution_count": 1,
   "id": "d6c5d988",
   "metadata": {},
   "outputs": [],
   "source": [
    "import json\n",
    "import os\n",
    "import pandas as pd\n",
    "import csv"
   ]
  },
  {
   "cell_type": "code",
   "execution_count": 2,
   "id": "1dd9af1a",
   "metadata": {},
   "outputs": [],
   "source": [
    "def print_item(item):\n",
    "    print(json.dumps(item, indent=4))"
   ]
  },
  {
   "cell_type": "code",
   "execution_count": 3,
   "id": "96cbad85",
   "metadata": {},
   "outputs": [],
   "source": [
    "def load_data(jsonl_file):\n",
    "    with open(jsonl_file, 'r') as f:\n",
    "        fever_lst = [json.loads(item) for item in list(f)]\n",
    "        print(f'{len(fever_lst)} item loaded')\n",
    "        df = pd.DataFrame.from_records(fever_lst)\n",
    "    return df"
   ]
  },
  {
   "cell_type": "code",
   "execution_count": 58,
   "id": "31cd65ac",
   "metadata": {},
   "outputs": [
    {
     "name": "stdout",
     "output_type": "stream",
     "text": [
      "145449 item loaded\n",
      "9999 item loaded\n",
      "9999 item loaded\n"
     ]
    }
   ],
   "source": [
    "# root = \"../naacl2018-fever/data/fever-data/\"\n",
    "root = \"../data_2023_06_02/raw/FEVER/\"\n",
    "train_df = load_data(os.path.join(root, 'train.jsonl'))\n",
    "dev_df = load_data(os.path.join(root, 'paper_dev.jsonl'))\n",
    "test_df = load_data(os.path.join(root, 'paper_test.jsonl'))"
   ]
  },
  {
   "cell_type": "code",
   "execution_count": 59,
   "id": "b15b7c56-1d77-4ab5-b746-d79b4652c4ed",
   "metadata": {},
   "outputs": [
    {
     "data": {
      "text/plain": [
       "SUPPORTS           80035\n",
       "NOT ENOUGH INFO    35639\n",
       "REFUTES            29775\n",
       "Name: label, dtype: int64"
      ]
     },
     "execution_count": 59,
     "metadata": {},
     "output_type": "execute_result"
    }
   ],
   "source": [
    "train_df['label'].value_counts()"
   ]
  },
  {
   "cell_type": "code",
   "execution_count": 60,
   "id": "6f50ce15-2101-4cd7-8361-033fa8f5c87c",
   "metadata": {},
   "outputs": [
    {
     "data": {
      "text/plain": [
       "NOT ENOUGH INFO    3333\n",
       "SUPPORTS           3333\n",
       "REFUTES            3333\n",
       "Name: label, dtype: int64"
      ]
     },
     "execution_count": 60,
     "metadata": {},
     "output_type": "execute_result"
    }
   ],
   "source": [
    "dev_df['label'].value_counts()"
   ]
  },
  {
   "cell_type": "code",
   "execution_count": 61,
   "id": "e3faa42a-b501-44a4-9f57-eefb9ec2d2c4",
   "metadata": {},
   "outputs": [
    {
     "data": {
      "text/plain": [
       "NOT ENOUGH INFO    3333\n",
       "SUPPORTS           3333\n",
       "REFUTES            3333\n",
       "Name: label, dtype: int64"
      ]
     },
     "execution_count": 61,
     "metadata": {},
     "output_type": "execute_result"
    }
   ],
   "source": [
    "test_df['label'].value_counts()"
   ]
  },
  {
   "cell_type": "code",
   "execution_count": 62,
   "id": "ec237e68-ec56-4140-9dd9-b1aa23c728c8",
   "metadata": {},
   "outputs": [
    {
     "data": {
      "text/html": [
       "<div>\n",
       "<style scoped>\n",
       "    .dataframe tbody tr th:only-of-type {\n",
       "        vertical-align: middle;\n",
       "    }\n",
       "\n",
       "    .dataframe tbody tr th {\n",
       "        vertical-align: top;\n",
       "    }\n",
       "\n",
       "    .dataframe thead th {\n",
       "        text-align: right;\n",
       "    }\n",
       "</style>\n",
       "<table border=\"1\" class=\"dataframe\">\n",
       "  <thead>\n",
       "    <tr style=\"text-align: right;\">\n",
       "      <th></th>\n",
       "      <th>id</th>\n",
       "      <th>verifiable</th>\n",
       "      <th>label</th>\n",
       "      <th>claim</th>\n",
       "      <th>evidence</th>\n",
       "    </tr>\n",
       "  </thead>\n",
       "  <tbody>\n",
       "    <tr>\n",
       "      <th>0</th>\n",
       "      <td>75397</td>\n",
       "      <td>VERIFIABLE</td>\n",
       "      <td>SUPPORTS</td>\n",
       "      <td>Nikolaj Coster-Waldau worked with the Fox Broa...</td>\n",
       "      <td>[[[92206, 104971, Nikolaj_Coster-Waldau, 7], [...</td>\n",
       "    </tr>\n",
       "    <tr>\n",
       "      <th>1</th>\n",
       "      <td>150448</td>\n",
       "      <td>VERIFIABLE</td>\n",
       "      <td>SUPPORTS</td>\n",
       "      <td>Roman Atwood is a content creator.</td>\n",
       "      <td>[[[174271, 187498, Roman_Atwood, 1]], [[174271...</td>\n",
       "    </tr>\n",
       "    <tr>\n",
       "      <th>2</th>\n",
       "      <td>214861</td>\n",
       "      <td>VERIFIABLE</td>\n",
       "      <td>SUPPORTS</td>\n",
       "      <td>History of art includes architecture, dance, s...</td>\n",
       "      <td>[[[255136, 254645, History_of_art, 2]]]</td>\n",
       "    </tr>\n",
       "    <tr>\n",
       "      <th>3</th>\n",
       "      <td>156709</td>\n",
       "      <td>VERIFIABLE</td>\n",
       "      <td>REFUTES</td>\n",
       "      <td>Adrienne Bailon is an accountant.</td>\n",
       "      <td>[[[180804, 193183, Adrienne_Bailon, 0]]]</td>\n",
       "    </tr>\n",
       "    <tr>\n",
       "      <th>4</th>\n",
       "      <td>83235</td>\n",
       "      <td>NOT VERIFIABLE</td>\n",
       "      <td>NOT ENOUGH INFO</td>\n",
       "      <td>System of a Down briefly disbanded in limbo.</td>\n",
       "      <td>[[[100277, None, None, None]]]</td>\n",
       "    </tr>\n",
       "  </tbody>\n",
       "</table>\n",
       "</div>"
      ],
      "text/plain": [
       "       id      verifiable            label  \\\n",
       "0   75397      VERIFIABLE         SUPPORTS   \n",
       "1  150448      VERIFIABLE         SUPPORTS   \n",
       "2  214861      VERIFIABLE         SUPPORTS   \n",
       "3  156709      VERIFIABLE          REFUTES   \n",
       "4   83235  NOT VERIFIABLE  NOT ENOUGH INFO   \n",
       "\n",
       "                                               claim  \\\n",
       "0  Nikolaj Coster-Waldau worked with the Fox Broa...   \n",
       "1                 Roman Atwood is a content creator.   \n",
       "2  History of art includes architecture, dance, s...   \n",
       "3                  Adrienne Bailon is an accountant.   \n",
       "4       System of a Down briefly disbanded in limbo.   \n",
       "\n",
       "                                            evidence  \n",
       "0  [[[92206, 104971, Nikolaj_Coster-Waldau, 7], [...  \n",
       "1  [[[174271, 187498, Roman_Atwood, 1]], [[174271...  \n",
       "2            [[[255136, 254645, History_of_art, 2]]]  \n",
       "3           [[[180804, 193183, Adrienne_Bailon, 0]]]  \n",
       "4                     [[[100277, None, None, None]]]  "
      ]
     },
     "execution_count": 62,
     "metadata": {},
     "output_type": "execute_result"
    }
   ],
   "source": [
    "train_df.head()"
   ]
  },
  {
   "cell_type": "code",
   "execution_count": 45,
   "id": "8545f7c2",
   "metadata": {},
   "outputs": [
    {
     "data": {
      "text/html": [
       "<div>\n",
       "<style scoped>\n",
       "    .dataframe tbody tr th:only-of-type {\n",
       "        vertical-align: middle;\n",
       "    }\n",
       "\n",
       "    .dataframe tbody tr th {\n",
       "        vertical-align: top;\n",
       "    }\n",
       "\n",
       "    .dataframe thead th {\n",
       "        text-align: right;\n",
       "    }\n",
       "</style>\n",
       "<table border=\"1\" class=\"dataframe\">\n",
       "  <thead>\n",
       "    <tr style=\"text-align: right;\">\n",
       "      <th></th>\n",
       "      <th>id</th>\n",
       "      <th>verifiable</th>\n",
       "      <th>label</th>\n",
       "      <th>claim</th>\n",
       "      <th>evidence</th>\n",
       "    </tr>\n",
       "  </thead>\n",
       "  <tbody>\n",
       "    <tr>\n",
       "      <th>0</th>\n",
       "      <td>91198</td>\n",
       "      <td>NOT VERIFIABLE</td>\n",
       "      <td>NOT ENOUGH INFO</td>\n",
       "      <td>Colin Kaepernick became a starting quarterback...</td>\n",
       "      <td>[[[108548, None, None, None]]]</td>\n",
       "    </tr>\n",
       "    <tr>\n",
       "      <th>1</th>\n",
       "      <td>194462</td>\n",
       "      <td>NOT VERIFIABLE</td>\n",
       "      <td>NOT ENOUGH INFO</td>\n",
       "      <td>Tilda Swinton is a vegan.</td>\n",
       "      <td>[[[227768, None, None, None]]]</td>\n",
       "    </tr>\n",
       "    <tr>\n",
       "      <th>2</th>\n",
       "      <td>137334</td>\n",
       "      <td>VERIFIABLE</td>\n",
       "      <td>SUPPORTS</td>\n",
       "      <td>Fox 2000 Pictures released the film Soul Food.</td>\n",
       "      <td>[[[289914, 283015, Soul_Food_-LRB-film-RRB-, 0...</td>\n",
       "    </tr>\n",
       "    <tr>\n",
       "      <th>3</th>\n",
       "      <td>166626</td>\n",
       "      <td>NOT VERIFIABLE</td>\n",
       "      <td>NOT ENOUGH INFO</td>\n",
       "      <td>Anne Rice was born in New Jersey.</td>\n",
       "      <td>[[[191656, None, None, None], [191657, None, N...</td>\n",
       "    </tr>\n",
       "    <tr>\n",
       "      <th>4</th>\n",
       "      <td>111897</td>\n",
       "      <td>VERIFIABLE</td>\n",
       "      <td>REFUTES</td>\n",
       "      <td>Telemundo is a English-language television net...</td>\n",
       "      <td>[[[131371, 146144, Telemundo, 0]], [[131371, 1...</td>\n",
       "    </tr>\n",
       "  </tbody>\n",
       "</table>\n",
       "</div>"
      ],
      "text/plain": [
       "       id      verifiable            label  \\\n",
       "0   91198  NOT VERIFIABLE  NOT ENOUGH INFO   \n",
       "1  194462  NOT VERIFIABLE  NOT ENOUGH INFO   \n",
       "2  137334      VERIFIABLE         SUPPORTS   \n",
       "3  166626  NOT VERIFIABLE  NOT ENOUGH INFO   \n",
       "4  111897      VERIFIABLE          REFUTES   \n",
       "\n",
       "                                               claim  \\\n",
       "0  Colin Kaepernick became a starting quarterback...   \n",
       "1                          Tilda Swinton is a vegan.   \n",
       "2     Fox 2000 Pictures released the film Soul Food.   \n",
       "3                  Anne Rice was born in New Jersey.   \n",
       "4  Telemundo is a English-language television net...   \n",
       "\n",
       "                                            evidence  \n",
       "0                     [[[108548, None, None, None]]]  \n",
       "1                     [[[227768, None, None, None]]]  \n",
       "2  [[[289914, 283015, Soul_Food_-LRB-film-RRB-, 0...  \n",
       "3  [[[191656, None, None, None], [191657, None, N...  \n",
       "4  [[[131371, 146144, Telemundo, 0]], [[131371, 1...  "
      ]
     },
     "execution_count": 45,
     "metadata": {},
     "output_type": "execute_result"
    }
   ],
   "source": [
    "dev_df.head()"
   ]
  },
  {
   "cell_type": "code",
   "execution_count": 53,
   "id": "d15332dd",
   "metadata": {},
   "outputs": [
    {
     "data": {
      "text/plain": [
       "id                                                       117176\n",
       "verifiable                                       NOT VERIFIABLE\n",
       "label                                           NOT ENOUGH INFO\n",
       "claim         Jamie Lee Curtis starred in John Carpenter's t...\n",
       "evidence                         [[[137546, None, None, None]]]\n",
       "Name: 161, dtype: object"
      ]
     },
     "execution_count": 53,
     "metadata": {},
     "output_type": "execute_result"
    }
   ],
   "source": [
    "test_df[test_df['label'] == 'NOT ENOUGH INFO'].iloc[66]"
   ]
  },
  {
   "cell_type": "code",
   "execution_count": 30,
   "id": "cb6a28eb",
   "metadata": {},
   "outputs": [
    {
     "name": "stdout",
     "output_type": "stream",
     "text": [
      "19998 item loaded\n"
     ]
    }
   ],
   "source": [
    "root = \"../naacl2018-fever/data/fever/\"\n",
    "df = load_data(os.path.join(root, 'dev.ns.rand.jsonl'))"
   ]
  },
  {
   "cell_type": "markdown",
   "id": "41f9900b-7d6a-4ac0-ba0d-dd5e2e3756b8",
   "metadata": {
    "jp-MarkdownHeadingCollapsed": true,
    "tags": []
   },
   "source": [
    "### Wiki Dump"
   ]
  },
  {
   "cell_type": "code",
   "execution_count": 17,
   "id": "a9a263d6-7a87-4c55-b5dd-8a2c95f05445",
   "metadata": {},
   "outputs": [],
   "source": [
    "wiki_path = \"../data_old/FEVER/wiki-pages/wiki-pages\""
   ]
  },
  {
   "cell_type": "code",
   "execution_count": 19,
   "id": "512f5605-260f-43fa-b80c-9a33289052bb",
   "metadata": {},
   "outputs": [],
   "source": [
    "with open(os.path.join(wiki_path, 'wiki-001.jsonl'), 'r') as f:\n",
    "    wiki = [json.loads(item) for item in list(f)]"
   ]
  },
  {
   "cell_type": "code",
   "execution_count": 29,
   "id": "15dd93bc-8b74-4135-a447-d1c266ad3fec",
   "metadata": {},
   "outputs": [
    {
     "data": {
      "text/plain": [
       "{'id': '1965_Oregon_Webfoots_football_team',\n",
       " 'text': 'The 1965 Oregon Webfoots football team represented University of Oregon in the 1965 college football season as a member of the Athletic Association of Western Universities -LRB- AAWU -RRB- . The Webfoots were led by head coach Len Casanova in his fifteenth season and finished with a record of four wins , five losses and one tie -LRB- 4 -- 5 -- 1 overall , 0 -- 5 in the SWC -RRB- . ',\n",
       " 'lines': '0\\tThe 1965 Oregon Webfoots football team represented University of Oregon in the 1965 college football season as a member of the Athletic Association of Western Universities -LRB- AAWU -RRB- .\\tUniversity of Oregon\\tUniversity of Oregon\\t1965 college football season\\t1965 college football season\\tAthletic Association of Western Universities\\tAthletic Association of Western Universities\\n1\\tThe Webfoots were led by head coach Len Casanova in his fifteenth season and finished with a record of four wins , five losses and one tie -LRB- 4 -- 5 -- 1 overall , 0 -- 5 in the SWC -RRB- .\\tLen Casanova\\tLen Casanova\\n2\\t'}"
      ]
     },
     "execution_count": 29,
     "metadata": {},
     "output_type": "execute_result"
    }
   ],
   "source": [
    "wiki[471]"
   ]
  },
  {
   "cell_type": "code",
   "execution_count": 30,
   "id": "d23713cb-88cc-459c-8f32-e7e684d4d930",
   "metadata": {},
   "outputs": [
    {
     "name": "stdout",
     "output_type": "stream",
     "text": [
      "0\tThe 1965 Oregon Webfoots football team represented University of Oregon in the 1965 college football season as a member of the Athletic Association of Western Universities -LRB- AAWU -RRB- .\tUniversity of Oregon\tUniversity of Oregon\t1965 college football season\t1965 college football season\tAthletic Association of Western Universities\tAthletic Association of Western Universities\n",
      "1\tThe Webfoots were led by head coach Len Casanova in his fifteenth season and finished with a record of four wins , five losses and one tie -LRB- 4 -- 5 -- 1 overall , 0 -- 5 in the SWC -RRB- .\tLen Casanova\tLen Casanova\n",
      "2\t\n"
     ]
    }
   ],
   "source": [
    "print(wiki[471]['lines'])"
   ]
  },
  {
   "cell_type": "markdown",
   "id": "19a60332-cbb4-4eee-8927-623ccdb8f1c7",
   "metadata": {},
   "source": [
    "## Fever DB"
   ]
  },
  {
   "cell_type": "code",
   "execution_count": 11,
   "id": "9d6db499-4965-4e64-9305-180b2f7bf370",
   "metadata": {},
   "outputs": [],
   "source": [
    "import sqlite3"
   ]
  },
  {
   "cell_type": "code",
   "execution_count": 13,
   "id": "941a2fd7-b55d-4ab8-8ae1-363a7341948a",
   "metadata": {},
   "outputs": [],
   "source": [
    "conn = sqlite3.connect(os.path.join(root, 'fever.db'))"
   ]
  },
  {
   "cell_type": "code",
   "execution_count": 41,
   "id": "8aed01c1-253d-4c2f-8571-b88f273fec6d",
   "metadata": {},
   "outputs": [
    {
     "name": "stdout",
     "output_type": "stream",
     "text": [
      "('Snakebite_-LRB-album-RRB-', \"Snakebite is the first official release by the British hard rock band Whitesnake . The original EP initially featured only four tracks and was released in the UK in June 1978 and never published in the US . Snakebite was re-released in September 1978 as a Double Extended Play containing four extra studio tracks taken from David Coverdale 's second solo album Northwinds . The EP sleeve is entitled David Coverdale 's Whitesnake and features photographs of the live band in concert . All tracks from the original EP also were used as bonus tracks on the 2006 remaster of Whitesnake 's debut studio album Trouble . \", \"0\\tSnakebite is the first official release by the British hard rock band Whitesnake .\\tWhitesnake\\tWhitesnake\\thard rock\\thard rock\\n1\\tThe original EP initially featured only four tracks and was released in the UK in June 1978 and never published in the US .\\tEP\\tExtended play\\n2\\tSnakebite was re-released in September 1978 as a Double Extended Play containing four extra studio tracks taken from David Coverdale 's second solo album Northwinds .\\tDavid Coverdale\\tDavid Coverdale\\tNorthwinds\\tNorthwinds\\n3\\tThe EP sleeve is entitled David Coverdale 's Whitesnake and features photographs of the live band in concert .\\tWhitesnake\\tWhitesnake\\tEP\\tExtended play\\tDavid Coverdale\\tDavid Coverdale\\n4\\tAll tracks from the original EP also were used as bonus tracks on the 2006 remaster of Whitesnake 's debut studio album Trouble .\\tWhitesnake\\tWhitesnake\\tTrouble\\tTrouble (Whitesnake album)\\tEP\\tExtended play\\n5\\t\")\n"
     ]
    }
   ],
   "source": [
    "cursor = conn.execute(\"SELECT * FROM DOCUMENTS\")\n",
    "for row in cursor:\n",
    "    print(row)\n",
    "    break"
   ]
  },
  {
   "cell_type": "code",
   "execution_count": 42,
   "id": "755c2350-c4ab-4e6d-8f59-e1b723bd9bc0",
   "metadata": {},
   "outputs": [
    {
     "data": {
      "text/plain": [
       "[[[131371, 146144, 'Telemundo', 0]],\n",
       " [[131371, 146148, 'Telemundo', 1]],\n",
       " [[131371, 146150, 'Telemundo', 4],\n",
       "  [131371, 146150, 'Hispanic_and_Latino_Americans', 0]],\n",
       " [[131371, 146151, 'Telemundo', 5]]]"
      ]
     },
     "execution_count": 42,
     "metadata": {},
     "output_type": "execute_result"
    }
   ],
   "source": [
    "dev_df.iloc[4]['evidence']"
   ]
  },
  {
   "cell_type": "code",
   "execution_count": 43,
   "id": "02ae50fb-b7ec-40e0-a06b-c79771a85d3f",
   "metadata": {},
   "outputs": [],
   "source": [
    "id = \"Hispanic_and_Latino_Americans\"\n",
    "cursor = conn.execute(f\"SELECT * FROM DOCUMENTS WHERE id = '{id}'\")"
   ]
  },
  {
   "cell_type": "code",
   "execution_count": 54,
   "id": "44ac1126-bc5c-4f1f-b958-212e805e9c73",
   "metadata": {},
   "outputs": [
    {
     "data": {
      "text/plain": [
       "[]"
      ]
     },
     "execution_count": 54,
     "metadata": {},
     "output_type": "execute_result"
    }
   ],
   "source": [
    "list(cursor)"
   ]
  },
  {
   "cell_type": "code",
   "execution_count": null,
   "id": "bd808f3c-bcca-4ad7-b7bb-f21345febe41",
   "metadata": {},
   "outputs": [],
   "source": []
  }
 ],
 "metadata": {
  "kernelspec": {
   "display_name": "Python 3 (ipykernel)",
   "language": "python",
   "name": "python3"
  },
  "language_info": {
   "codemirror_mode": {
    "name": "ipython",
    "version": 3
   },
   "file_extension": ".py",
   "mimetype": "text/x-python",
   "name": "python",
   "nbconvert_exporter": "python",
   "pygments_lexer": "ipython3",
   "version": "3.8.16"
  }
 },
 "nbformat": 4,
 "nbformat_minor": 5
}
