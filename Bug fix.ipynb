{
 "cells": [
  {
   "cell_type": "markdown",
   "id": "5b3222e0-4b5d-438e-bc1d-b3f0a5284c4e",
   "metadata": {},
   "source": [
    "## Fix duplicate data"
   ]
  },
  {
   "cell_type": "code",
   "execution_count": 1,
   "id": "a07e0d93-f537-4864-86e3-193dd6eae7d9",
   "metadata": {},
   "outputs": [
    {
     "name": "stderr",
     "output_type": "stream",
     "text": [
      "/scratch/users/k21193529/conda/jenv3/lib/python3.8/site-packages/tqdm/auto.py:21: TqdmWarning: IProgress not found. Please update jupyter and ipywidgets. See https://ipywidgets.readthedocs.io/en/stable/user_install.html\n",
      "  from .autonotebook import tqdm as notebook_tqdm\n"
     ]
    }
   ],
   "source": [
    "import os\n",
    "\n",
    "import pandas as pd\n",
    "import numpy as np\n",
    "\n",
    "from main import load_datasets, FeverLoader, PubhealthLoader, ClimateFeverLoader\n",
    "from datasets import Dataset, DatasetDict, ClassLabel, Value, Features"
   ]
  },
  {
   "cell_type": "code",
   "execution_count": 4,
   "id": "b4822099-8de7-44ab-b95f-012fde609359",
   "metadata": {},
   "outputs": [],
   "source": [
    "root = '../data_2023_06_02'\n",
    "\n",
    "fever_dir = os.path.join(root, 'preprocessed/FEVER')\n",
    "pubhealth_dir = os.path.join(root, 'preprocessed/PUBHEALTH')\n",
    "climate_dir = os.path.join(root, 'preprocessed/CLIMATE-FEVER')"
   ]
  },
  {
   "cell_type": "code",
   "execution_count": 5,
   "id": "c264b0f9-7c2f-41e0-8e33-31eba5cf5dfc",
   "metadata": {},
   "outputs": [],
   "source": [
    "climate_params = {\n",
    "    'dev_size': 200,\n",
    "    'test_size': 200,\n",
    "    'random_state': 392\n",
    "}\n",
    "\n",
    "\n",
    "\"\"\"\n",
    "Load and prepare datasets for experiments\n",
    "\"\"\"\n",
    "#===================================================\n",
    "# Load preprocessed datasets\n",
    "#===================================================\n",
    "fever_train_ds, fever_dev_ds, fever_test_ds = FeverLoader.load(fever_dir)\n",
    "pubhealth_train_ds, pubhealth_dev_ds, pubhealth_test_ds = PubhealthLoader.load(pubhealth_dir)\n",
    "climate_train_ds, climate_dev_ds, climate_test_ds = ClimateFeverLoader.load(climate_dir, climate_params)"
   ]
  },
  {
   "cell_type": "markdown",
   "id": "ea48f6fb-64c7-4921-ace1-152256f74207",
   "metadata": {},
   "source": [
    "### Check for duplicates"
   ]
  },
  {
   "cell_type": "code",
   "execution_count": 55,
   "id": "7c3e780f-8410-4065-a262-070f326d5e38",
   "metadata": {},
   "outputs": [],
   "source": [
    "ds = fever_test_ds\n",
    "df = pd.DataFrame(ds)"
   ]
  },
  {
   "cell_type": "code",
   "execution_count": 58,
   "id": "48e2c6a7-0f77-47cd-a879-dee74b7f9b86",
   "metadata": {},
   "outputs": [
    {
     "data": {
      "text/plain": [
       "(9999, 3)"
      ]
     },
     "execution_count": 58,
     "metadata": {},
     "output_type": "execute_result"
    }
   ],
   "source": [
    "df.shape"
   ]
  },
  {
   "cell_type": "code",
   "execution_count": 57,
   "id": "404f497a-d930-4240-b3d9-26716345c73f",
   "metadata": {},
   "outputs": [
    {
     "data": {
      "text/plain": [
       "(9944, 3)"
      ]
     },
     "execution_count": 57,
     "metadata": {},
     "output_type": "execute_result"
    }
   ],
   "source": [
    "df.drop_duplicates().shape"
   ]
  },
  {
   "cell_type": "code",
   "execution_count": 53,
   "id": "535486ea-c09f-49ad-8972-88a143e9f8c3",
   "metadata": {},
   "outputs": [
    {
     "ename": "IndexError",
     "evalue": "single positional indexer is out-of-bounds",
     "output_type": "error",
     "traceback": [
      "\u001b[0;31m---------------------------------------------------------------------------\u001b[0m",
      "\u001b[0;31mIndexError\u001b[0m                                Traceback (most recent call last)",
      "Cell \u001b[0;32mIn[53], line 1\u001b[0m\n\u001b[0;32m----> 1\u001b[0m \u001b[43mdf\u001b[49m\u001b[43m[\u001b[49m\u001b[43mdf\u001b[49m\u001b[38;5;241;43m.\u001b[39;49m\u001b[43mduplicated\u001b[49m\u001b[43m(\u001b[49m\u001b[43mkeep\u001b[49m\u001b[38;5;241;43m=\u001b[39;49m\u001b[38;5;28;43;01mFalse\u001b[39;49;00m\u001b[43m)\u001b[49m\u001b[43m]\u001b[49m\u001b[38;5;241;43m.\u001b[39;49m\u001b[43msort_values\u001b[49m\u001b[43m(\u001b[49m\u001b[43mby\u001b[49m\u001b[38;5;241;43m=\u001b[39;49m\u001b[43m[\u001b[49m\u001b[38;5;124;43m\"\u001b[39;49m\u001b[38;5;124;43mclaim\u001b[39;49m\u001b[38;5;124;43m\"\u001b[39;49m\u001b[43m,\u001b[49m\u001b[43m \u001b[49m\u001b[38;5;124;43m\"\u001b[39;49m\u001b[38;5;124;43mlabel\u001b[39;49m\u001b[38;5;124;43m\"\u001b[39;49m\u001b[43m]\u001b[49m\u001b[43m)\u001b[49m\u001b[38;5;241;43m.\u001b[39;49m\u001b[43mhead\u001b[49m\u001b[43m(\u001b[49m\u001b[43m)\u001b[49m\u001b[38;5;241;43m.\u001b[39;49m\u001b[43miloc\u001b[49m\u001b[43m[\u001b[49m\u001b[38;5;241;43m3\u001b[39;49m\u001b[43m]\u001b[49m\u001b[38;5;241m.\u001b[39mto_dict()\n",
      "File \u001b[0;32m/scratch/users/k21193529/conda/jenv3/lib/python3.8/site-packages/pandas/core/indexing.py:1073\u001b[0m, in \u001b[0;36m_LocationIndexer.__getitem__\u001b[0;34m(self, key)\u001b[0m\n\u001b[1;32m   1070\u001b[0m axis \u001b[38;5;241m=\u001b[39m \u001b[38;5;28mself\u001b[39m\u001b[38;5;241m.\u001b[39maxis \u001b[38;5;129;01mor\u001b[39;00m \u001b[38;5;241m0\u001b[39m\n\u001b[1;32m   1072\u001b[0m maybe_callable \u001b[38;5;241m=\u001b[39m com\u001b[38;5;241m.\u001b[39mapply_if_callable(key, \u001b[38;5;28mself\u001b[39m\u001b[38;5;241m.\u001b[39mobj)\n\u001b[0;32m-> 1073\u001b[0m \u001b[38;5;28;01mreturn\u001b[39;00m \u001b[38;5;28;43mself\u001b[39;49m\u001b[38;5;241;43m.\u001b[39;49m\u001b[43m_getitem_axis\u001b[49m\u001b[43m(\u001b[49m\u001b[43mmaybe_callable\u001b[49m\u001b[43m,\u001b[49m\u001b[43m \u001b[49m\u001b[43maxis\u001b[49m\u001b[38;5;241;43m=\u001b[39;49m\u001b[43maxis\u001b[49m\u001b[43m)\u001b[49m\n",
      "File \u001b[0;32m/scratch/users/k21193529/conda/jenv3/lib/python3.8/site-packages/pandas/core/indexing.py:1625\u001b[0m, in \u001b[0;36m_iLocIndexer._getitem_axis\u001b[0;34m(self, key, axis)\u001b[0m\n\u001b[1;32m   1622\u001b[0m     \u001b[38;5;28;01mraise\u001b[39;00m \u001b[38;5;167;01mTypeError\u001b[39;00m(\u001b[38;5;124m\"\u001b[39m\u001b[38;5;124mCannot index by location index with a non-integer key\u001b[39m\u001b[38;5;124m\"\u001b[39m)\n\u001b[1;32m   1624\u001b[0m \u001b[38;5;66;03m# validate the location\u001b[39;00m\n\u001b[0;32m-> 1625\u001b[0m \u001b[38;5;28;43mself\u001b[39;49m\u001b[38;5;241;43m.\u001b[39;49m\u001b[43m_validate_integer\u001b[49m\u001b[43m(\u001b[49m\u001b[43mkey\u001b[49m\u001b[43m,\u001b[49m\u001b[43m \u001b[49m\u001b[43maxis\u001b[49m\u001b[43m)\u001b[49m\n\u001b[1;32m   1627\u001b[0m \u001b[38;5;28;01mreturn\u001b[39;00m \u001b[38;5;28mself\u001b[39m\u001b[38;5;241m.\u001b[39mobj\u001b[38;5;241m.\u001b[39m_ixs(key, axis\u001b[38;5;241m=\u001b[39maxis)\n",
      "File \u001b[0;32m/scratch/users/k21193529/conda/jenv3/lib/python3.8/site-packages/pandas/core/indexing.py:1557\u001b[0m, in \u001b[0;36m_iLocIndexer._validate_integer\u001b[0;34m(self, key, axis)\u001b[0m\n\u001b[1;32m   1555\u001b[0m len_axis \u001b[38;5;241m=\u001b[39m \u001b[38;5;28mlen\u001b[39m(\u001b[38;5;28mself\u001b[39m\u001b[38;5;241m.\u001b[39mobj\u001b[38;5;241m.\u001b[39m_get_axis(axis))\n\u001b[1;32m   1556\u001b[0m \u001b[38;5;28;01mif\u001b[39;00m key \u001b[38;5;241m>\u001b[39m\u001b[38;5;241m=\u001b[39m len_axis \u001b[38;5;129;01mor\u001b[39;00m key \u001b[38;5;241m<\u001b[39m \u001b[38;5;241m-\u001b[39mlen_axis:\n\u001b[0;32m-> 1557\u001b[0m     \u001b[38;5;28;01mraise\u001b[39;00m \u001b[38;5;167;01mIndexError\u001b[39;00m(\u001b[38;5;124m\"\u001b[39m\u001b[38;5;124msingle positional indexer is out-of-bounds\u001b[39m\u001b[38;5;124m\"\u001b[39m)\n",
      "\u001b[0;31mIndexError\u001b[0m: single positional indexer is out-of-bounds"
     ]
    }
   ],
   "source": [
    "df[df.duplicated(keep=False)].sort_values(by=[\"claim\", \"label\"]).head().iloc[3].to_dict()"
   ]
  },
  {
   "cell_type": "markdown",
   "id": "73982c1d-044a-4087-87f7-6d27b7c5cf99",
   "metadata": {},
   "source": [
    "## Testing some code"
   ]
  },
  {
   "cell_type": "code",
   "execution_count": 12,
   "id": "8fc22ccf-a61d-4010-be84-7e756e9af105",
   "metadata": {},
   "outputs": [],
   "source": [
    "import os\n",
    "from main import load_datasets\n",
    "\n",
    "import numpy as np\n",
    "from sklearn.utils import class_weight"
   ]
  },
  {
   "cell_type": "code",
   "execution_count": 4,
   "id": "768ada0c-c885-4e3f-8887-afa2269f8319",
   "metadata": {},
   "outputs": [],
   "source": [
    "root = '../data_2023_06_02'\n",
    "\n",
    "fever_dir = os.path.join(root, 'preprocessed/FEVER')\n",
    "pubhealth_dir = os.path.join(root, 'preprocessed/PUBHEALTH')\n",
    "climate_dir = os.path.join(root, 'preprocessed/CLIMATE-FEVER')\n",
    "\n",
    "ds1, ds2, ds3, ds_test = load_datasets(fever_dir, pubhealth_dir, climate_dir)"
   ]
  },
  {
   "cell_type": "code",
   "execution_count": 19,
   "id": "2eae444e-e004-413e-8c9f-147c092ccb4e",
   "metadata": {},
   "outputs": [],
   "source": [
    "class_weights = class_weight.compute_class_weight(\n",
    "    \"balanced\", \n",
    "    classes=np.array([0,1,2]), \n",
    "    y=ds3[\"train\"][\"label\"]\n",
    ")"
   ]
  },
  {
   "cell_type": "code",
   "execution_count": 20,
   "id": "66b29ffa-cbf3-4110-9bb0-383b5a208052",
   "metadata": {},
   "outputs": [
    {
     "data": {
      "text/plain": [
       "array([0.70474138, 1.81666667, 0.97032641])"
      ]
     },
     "execution_count": 20,
     "metadata": {},
     "output_type": "execute_result"
    }
   ],
   "source": [
    "class_weights"
   ]
  },
  {
   "cell_type": "code",
   "execution_count": 29,
   "id": "e5fac000-8f78-4c18-bc37-15cb20fa3851",
   "metadata": {},
   "outputs": [],
   "source": [
    "fmt = \"../model/{}/{}\""
   ]
  },
  {
   "cell_type": "code",
   "execution_count": 31,
   "id": "301c16ec-aae8-4280-9d31-0f3ad7ead87a",
   "metadata": {},
   "outputs": [],
   "source": [
    "model_dir = \"../model/v3/\""
   ]
  },
  {
   "cell_type": "code",
   "execution_count": 37,
   "id": "5ade6d44-c6e4-4155-8e7c-317969031312",
   "metadata": {},
   "outputs": [],
   "source": [
    "if not os.path.exists(model_dir):\n",
    "    os.makedirs(model_dir)"
   ]
  },
  {
   "cell_type": "code",
   "execution_count": 38,
   "id": "9c4a28a9-bd19-4fb7-a90b-bd7e9c14b414",
   "metadata": {},
   "outputs": [],
   "source": [
    "DATASETS = [\"FEVER\", \"PUBHEALTH\", \"CLIMATE\"]\n",
    "MODELS =  [\"BERT\", \"RoBERTa\", \"ALBERT\", \"SciBERT\", \"BioBERT\"]"
   ]
  },
  {
   "cell_type": "code",
   "execution_count": null,
   "id": "0aefb4e1-8146-4f84-b70a-893518eaeb36",
   "metadata": {},
   "outputs": [],
   "source": [
    "model_dir \"../models/v3/\""
   ]
  },
  {
   "cell_type": "code",
   "execution_count": 40,
   "id": "4baca96e-4cab-442c-8ea0-6c6ce51519b3",
   "metadata": {},
   "outputs": [
    {
     "data": {
      "text/plain": [
       "['../model/v3/BERT_FEVER',\n",
       " '../model/v3/BERT_PUBHEALTH',\n",
       " '../model/v3/BERT_CLIMATE',\n",
       " '../model/v3/RoBERTa_FEVER',\n",
       " '../model/v3/RoBERTa_PUBHEALTH',\n",
       " '../model/v3/RoBERTa_CLIMATE',\n",
       " '../model/v3/ALBERT_FEVER',\n",
       " '../model/v3/ALBERT_PUBHEALTH',\n",
       " '../model/v3/ALBERT_CLIMATE',\n",
       " '../model/v3/SciBERT_FEVER',\n",
       " '../model/v3/SciBERT_PUBHEALTH',\n",
       " '../model/v3/SciBERT_CLIMATE',\n",
       " '../model/v3/BioBERT_FEVER',\n",
       " '../model/v3/BioBERT_PUBHEALTH',\n",
       " '../model/v3/BioBERT_CLIMATE']"
      ]
     },
     "execution_count": 40,
     "metadata": {},
     "output_type": "execute_result"
    }
   ],
   "source": [
    "[os.path.join(model_dir, f\"{model_name}_{ds_name}\") for model_name in MODELS for ds_name in DATASETS]"
   ]
  },
  {
   "cell_type": "code",
   "execution_count": 114,
   "id": "a7d9711d-79d4-431d-b330-69af67cf7234",
   "metadata": {},
   "outputs": [],
   "source": [
    "import json\n",
    "import os\n",
    "\n",
    "import pandas as pd \n",
    "import numpy as np\n",
    "from sklearn.model_selection import train_test_split"
   ]
  },
  {
   "cell_type": "code",
   "execution_count": 42,
   "id": "7e8b2ed6-fa57-43db-a3ff-d6f71c43d864",
   "metadata": {},
   "outputs": [],
   "source": [
    "climate_path = '../data_2023_06_02/raw/CLIMATE-FEVER/climate-fever-dataset-r1.jsonl'"
   ]
  },
  {
   "cell_type": "code",
   "execution_count": 139,
   "id": "6e23270f-c6b3-469c-b351-b3ef791367cf",
   "metadata": {},
   "outputs": [],
   "source": [
    "def read_json(fp):\n",
    "    with open(fp, \"r\", encoding=\"utf-8\") as f:\n",
    "        data = []\n",
    "        for line in f.readlines():\n",
    "            data.append(json.loads(line.strip()))\n",
    "        return data"
   ]
  },
  {
   "cell_type": "code",
   "execution_count": 44,
   "id": "b11d3527-0435-4663-ac5c-9ca921b3ce53",
   "metadata": {},
   "outputs": [],
   "source": [
    "def read_json2(fp):\n",
    "    with open(fp, \"r\") as f:\n",
    "        data = [json.loads(item) for item in list(f)]\n",
    "    return data"
   ]
  },
  {
   "cell_type": "code",
   "execution_count": 103,
   "id": "2989771e-d65a-4a1e-b2aa-477c832788a7",
   "metadata": {},
   "outputs": [],
   "source": [
    "ls1 = read_json1(climate_path)\n",
    "ls2 = read_json2(climate_path)"
   ]
  },
  {
   "cell_type": "code",
   "execution_count": 51,
   "id": "972ac725-253b-4487-9e34-140817b8c2a5",
   "metadata": {},
   "outputs": [
    {
     "data": {
      "text/plain": [
       "1535"
      ]
     },
     "execution_count": 51,
     "metadata": {},
     "output_type": "execute_result"
    }
   ],
   "source": [
    "len(ls1)"
   ]
  },
  {
   "cell_type": "code",
   "execution_count": 53,
   "id": "e2cc92b6-c515-4a39-bebd-72d88c752c61",
   "metadata": {},
   "outputs": [],
   "source": [
    "df = pd.DataFrame.from_records(ls1)"
   ]
  },
  {
   "cell_type": "code",
   "execution_count": 55,
   "id": "3f83bcc6-ebbd-4f44-bbe6-5c81cfb8158a",
   "metadata": {},
   "outputs": [
    {
     "data": {
      "text/plain": [
       "array(['SUPPORTS', 'REFUTES', 'NOT_ENOUGH_INFO', 'DISPUTED'], dtype=object)"
      ]
     },
     "execution_count": 55,
     "metadata": {},
     "output_type": "execute_result"
    }
   ],
   "source": [
    "df['claim_label'].unique()"
   ]
  },
  {
   "cell_type": "code",
   "execution_count": 57,
   "id": "c7307e01-be26-4607-9e62-a53539db6038",
   "metadata": {},
   "outputs": [],
   "source": [
    "def drop_labels(sample):\n",
    "    return sample['claim_label'] in ['SUPPORTS', 'REFUTES', 'NOT_ENOUGH_INFO']"
   ]
  },
  {
   "cell_type": "code",
   "execution_count": 63,
   "id": "39fb7a30-468a-4483-9a3f-83516957c003",
   "metadata": {},
   "outputs": [],
   "source": [
    "ls2 = list(filter(drop_labels, ls1))"
   ]
  },
  {
   "cell_type": "code",
   "execution_count": 66,
   "id": "0060d0d4-a0cd-4252-a3d3-fefb6eb8df06",
   "metadata": {},
   "outputs": [
    {
     "name": "stdout",
     "output_type": "stream",
     "text": [
      "1535 1381\n"
     ]
    }
   ],
   "source": [
    "print(len(ls1),len(ls2))"
   ]
  },
  {
   "cell_type": "code",
   "execution_count": 67,
   "id": "5078a369-4dd3-4e91-a5a2-3507c9846dcc",
   "metadata": {},
   "outputs": [],
   "source": [
    "def standardize_labels(sample):\n",
    "    label = sample['claim_label']\n",
    "    if label == \"NOT_ENOUGH_INFO\":\n",
    "        sample[\"claim_label\"] = \"NOT ENOUGH INFO\"\n",
    "    return sample"
   ]
  },
  {
   "cell_type": "code",
   "execution_count": 81,
   "id": "46d11e61-586a-4dfd-a6c6-feb6f5b394de",
   "metadata": {},
   "outputs": [],
   "source": [
    "def extract_evidence(sample):\n",
    "    evidences = sample[\"evidences\"]\n",
    "    sample[\"evidences\"] = \" \".join([e[\"evidence\"] for e in evidences]) #evidences is a list of dictionary \n",
    "    return sample"
   ]
  },
  {
   "cell_type": "code",
   "execution_count": 101,
   "id": "1940d34d-4a8b-4eb6-b211-cfc076aee178",
   "metadata": {},
   "outputs": [],
   "source": [
    "def standardize_fieldnames(sample):\n",
    "    d = dict()\n",
    "    d['claim'] = sample['claim']\n",
    "    d['label'] = sample['claim_label']\n",
    "    d['evidence'] = sample['evidences']\n",
    "    return d"
   ]
  },
  {
   "cell_type": "code",
   "execution_count": 104,
   "id": "c114fcdc-043d-4e06-99e5-def7cd3900f6",
   "metadata": {},
   "outputs": [],
   "source": [
    "ls3 = list(map(standardize_fieldnames, map(extract_evidence, map(standardize_labels, filter(drop_labels, ls1)))))"
   ]
  },
  {
   "cell_type": "code",
   "execution_count": 106,
   "id": "4ff5f035-675b-4589-a8be-f72f8d91258c",
   "metadata": {},
   "outputs": [
    {
     "data": {
      "text/plain": [
       "SUPPORTS           654\n",
       "NOT ENOUGH INFO    474\n",
       "REFUTES            253\n",
       "Name: label, dtype: int64"
      ]
     },
     "execution_count": 106,
     "metadata": {},
     "output_type": "execute_result"
    }
   ],
   "source": [
    "df = pd.DataFrame.from_records(ls3)\n",
    "df['label'].value_counts()"
   ]
  },
  {
   "cell_type": "code",
   "execution_count": 121,
   "id": "9aab12e2-ae26-4eb9-b7d6-2bc98d9c37eb",
   "metadata": {},
   "outputs": [],
   "source": [
    "def split_dataset(data, dev_size=200, test_size=200, random_state = 392):\n",
    "    # Split climate_ds into train & test\n",
    "    train, test = train_test_split(\n",
    "        data, \n",
    "        test_size = test_size, \n",
    "        random_state = random_state, \n",
    "        stratify=[d['label'] for d in data]\n",
    "    )\n",
    "    train, dev = train_test_split(\n",
    "        train, \n",
    "        test_size = dev_size, \n",
    "        random_state = random_state, \n",
    "        stratify=[d['label'] for d in train]\n",
    "    )\n",
    "\n",
    "    return train, dev, test"
   ]
  },
  {
   "cell_type": "code",
   "execution_count": 129,
   "id": "eb687449-e913-4c01-bb5e-e414649b4937",
   "metadata": {},
   "outputs": [],
   "source": [
    "def save_processed_data(train, dev, test, output_dir, dataset_name): #fever, pubhealth, climate\n",
    "    if not os.path.exists(output_dir):\n",
    "        os.mkdir(output_dir)\n",
    "\n",
    "    with open(os.path.join(output_dir, f\"{dataset_name}_train.jsonl\"), 'w') as f:\n",
    "        json.dump(train, f)\n",
    "\n",
    "    with open(os.path.join(output_dir, f\"{dataset_name}_dev.jsonl\"), 'w') as f:\n",
    "        json.dump(dev, f)\n",
    "\n",
    "    with open(os.path.join(output_dir, f\"{dataset_name}_test.jsonl\"), 'w') as f:\n",
    "        json.dump(test, f)"
   ]
  },
  {
   "cell_type": "code",
   "execution_count": 122,
   "id": "b3ccac1b-6c4b-4c81-9a7c-b1d3a1bf584a",
   "metadata": {},
   "outputs": [],
   "source": [
    "train, dev, test = split_dataset(ls3)"
   ]
  },
  {
   "cell_type": "code",
   "execution_count": 123,
   "id": "8dfe8475-9a80-4fa7-bc5e-6abe266ba64e",
   "metadata": {},
   "outputs": [
    {
     "name": "stdout",
     "output_type": "stream",
     "text": [
      "981 200 200\n"
     ]
    }
   ],
   "source": [
    "print(len(train), len(dev), len(test))"
   ]
  },
  {
   "cell_type": "code",
   "execution_count": 125,
   "id": "e3660825-976c-4712-a2fe-77a00025a2d5",
   "metadata": {},
   "outputs": [],
   "source": [
    "from main import FeverLoader, PubhealthLoader"
   ]
  },
  {
   "cell_type": "code",
   "execution_count": 126,
   "id": "958c62fa-3d2d-43c6-b282-e87682b7a769",
   "metadata": {},
   "outputs": [],
   "source": [
    "root = '../data_2023_06_02'\n",
    "\n",
    "fever_dir = os.path.join(root, 'preprocessed/FEVER')\n",
    "pubhealth_dir = os.path.join(root, 'preprocessed/PUBHEALTH')\n",
    "climate_dir = os.path.join(root, 'preprocessed/CLIMATE-FEVER')"
   ]
  },
  {
   "cell_type": "code",
   "execution_count": 127,
   "id": "e72e3f4e-6611-46dd-8d7a-cff099b31f2f",
   "metadata": {},
   "outputs": [],
   "source": [
    "train, dev, test = FeverLoader.load(fever_dir)"
   ]
  },
  {
   "cell_type": "code",
   "execution_count": 128,
   "id": "662aa479-170d-4fb1-a11d-09808f80ce5b",
   "metadata": {},
   "outputs": [
    {
     "name": "stdout",
     "output_type": "stream",
     "text": [
      "145449 9999 9999\n"
     ]
    }
   ],
   "source": [
    "print(len(train), len(dev), len(test))"
   ]
  },
  {
   "cell_type": "code",
   "execution_count": 130,
   "id": "cf5197ea-ed09-4817-94d7-8f4bedf635d0",
   "metadata": {},
   "outputs": [],
   "source": [
    "save_processed_data(train, dev, test, '../data_2023_06_02/processed_data', \"fever\")"
   ]
  },
  {
   "cell_type": "code",
   "execution_count": 132,
   "id": "8551ee66-3363-4b73-a9f8-70bc46fb9deb",
   "metadata": {},
   "outputs": [],
   "source": [
    "train, dev, test = PubhealthLoader.load(pubhealth_dir)"
   ]
  },
  {
   "cell_type": "code",
   "execution_count": 134,
   "id": "efddfb8b-08d8-4132-a49a-73530f7630e7",
   "metadata": {},
   "outputs": [],
   "source": [
    "save_processed_data(train, dev, test, '../data_2023_06_02/processed_data', \"pubhealth\")"
   ]
  },
  {
   "cell_type": "code",
   "execution_count": 135,
   "id": "da7ac69f-c347-4306-ae16-37afa461f6a9",
   "metadata": {},
   "outputs": [],
   "source": [
    "from datasets import Dataset, DatasetDict, ClassLabel, Value, Features"
   ]
  },
  {
   "cell_type": "code",
   "execution_count": 142,
   "id": "06dca001-e57b-4866-ad09-72cd1496cd3b",
   "metadata": {},
   "outputs": [],
   "source": [
    "def load_data(data_dir, ds_name):\n",
    "    if ds_name not in [\"fever\", \"pubhealth\", \"climate\"]:\n",
    "        raise ValueError(\"Unrecognised dataset name\")\n",
    "    \n",
    "    train_ds = read_json(os.path.join(data_dir, f'{ds_name}_train.jsonl'))\n",
    "    dev_ds = read_json(os.path.join(data_dir, f'{ds_name}_dev.jsonl'))\n",
    "    test_ds = read_json(os.path.join(data_dir, f'{ds_name}_test.jsonl'))\n",
    "\n",
    "    return train_ds, dev_ds, test_ds\n"
   ]
  },
  {
   "cell_type": "code",
   "execution_count": 143,
   "id": "b3467e04-6956-46df-9805-77a40b5bf0fd",
   "metadata": {},
   "outputs": [],
   "source": [
    "data_dir = '../data_2023_06_02/processed_data'\n",
    "fever_train_ds, fever_dev_ds, fever_test_ds = load_data(data_dir, \"fever\")\n",
    "pubhealth_train_ds, pubhealth_dev_ds, pubhealth_test_ds = load_data(data_dir, \"pubhealth\")\n",
    "climate_train_ds, climate_dev_ds, climate_test_ds = load_data(data_dir, \"climate\")"
   ]
  },
  {
   "cell_type": "code",
   "execution_count": 146,
   "id": "ba809fcf-547d-402b-b93e-71aaecce5431",
   "metadata": {},
   "outputs": [],
   "source": [
    "features = Features({\n",
    "    \"claim\": Value(\"string\"), \n",
    "    \"evidence\": Value(\"string\"),\n",
    "    \"label\": ClassLabel(num_classes=3, names=[\"SUPPORTS\", \"REFUTES\", \"NOT ENOUGH INFO\"])\n",
    "})"
   ]
  },
  {
   "cell_type": "code",
   "execution_count": null,
   "id": "d630dd32-7162-407c-8611-25160bf4f7be",
   "metadata": {},
   "outputs": [],
   "source": [
    "def load_data(data_dir, ds_name):\n",
    "    Dataset.from_json(\"json\", data_files=\"my_file.json\")"
   ]
  },
  {
   "cell_type": "code",
   "execution_count": 155,
   "id": "9f0b2b0a-a1bb-497f-8b21-d58030787e2a",
   "metadata": {},
   "outputs": [
    {
     "name": "stderr",
     "output_type": "stream",
     "text": [
      "Found cached dataset json (/users/k21193529/.cache/huggingface/datasets/json/default-a56339fba9a0b956/0.0.0)\n",
      "Found cached dataset json (/users/k21193529/.cache/huggingface/datasets/json/default-5b49783bb873129f/0.0.0)\n"
     ]
    }
   ],
   "source": [
    "ds_fever = DatasetDict()\n",
    "ds_fever['train'] = Dataset.from_json(os.path.join(data_dir, 'fever_train.jsonl'), features=features, cache_dir=None)\n",
    "ds_fever['validation'] = Dataset.from_json(os.path.join(data_dir, 'fever_dev.jsonl'), features=features, cache_dir=None)"
   ]
  },
  {
   "cell_type": "code",
   "execution_count": 156,
   "id": "fb20f14a-cfc6-4ec1-a50d-b9deaaaba4e5",
   "metadata": {},
   "outputs": [
    {
     "data": {
      "text/plain": [
       "Dataset({\n",
       "    features: ['claim', 'evidence', 'label'],\n",
       "    num_rows: 145449\n",
       "})"
      ]
     },
     "execution_count": 156,
     "metadata": {},
     "output_type": "execute_result"
    }
   ],
   "source": [
    "ds_fever['train']"
   ]
  },
  {
   "cell_type": "code",
   "execution_count": 159,
   "id": "241f78fc-dd7c-45b0-ab7c-059951bdae0a",
   "metadata": {},
   "outputs": [
    {
     "data": {
      "text/html": [
       "<div>\n",
       "<style scoped>\n",
       "    .dataframe tbody tr th:only-of-type {\n",
       "        vertical-align: middle;\n",
       "    }\n",
       "\n",
       "    .dataframe tbody tr th {\n",
       "        vertical-align: top;\n",
       "    }\n",
       "\n",
       "    .dataframe thead th {\n",
       "        text-align: right;\n",
       "    }\n",
       "</style>\n",
       "<table border=\"1\" class=\"dataframe\">\n",
       "  <thead>\n",
       "    <tr style=\"text-align: right;\">\n",
       "      <th></th>\n",
       "      <th>claim</th>\n",
       "      <th>label</th>\n",
       "      <th>evidence</th>\n",
       "    </tr>\n",
       "  </thead>\n",
       "  <tbody>\n",
       "    <tr>\n",
       "      <th>0</th>\n",
       "      <td>Global warming is driving polar bears toward e...</td>\n",
       "      <td>SUPPORTS</td>\n",
       "      <td>\"Recent Research Shows Human Activity Driving ...</td>\n",
       "    </tr>\n",
       "    <tr>\n",
       "      <th>1</th>\n",
       "      <td>The sun has gone into ‘lockdown’ which could c...</td>\n",
       "      <td>SUPPORTS</td>\n",
       "      <td>The current consensus of the scientific commun...</td>\n",
       "    </tr>\n",
       "    <tr>\n",
       "      <th>5</th>\n",
       "      <td>They tell us that we are the primary forces co...</td>\n",
       "      <td>SUPPORTS</td>\n",
       "      <td>Most carbon dioxide from human activities is r...</td>\n",
       "    </tr>\n",
       "    <tr>\n",
       "      <th>6</th>\n",
       "      <td>The Great Barrier Reef is experiencing the mos...</td>\n",
       "      <td>SUPPORTS</td>\n",
       "      <td>These temperatures have caused the most severe...</td>\n",
       "    </tr>\n",
       "    <tr>\n",
       "      <th>10</th>\n",
       "      <td>Earth about to enter 30-YEAR ‘Mini Ice Age’</td>\n",
       "      <td>NOT ENOUGH INFO</td>\n",
       "      <td>The last continental glaciation ended 10,000 y...</td>\n",
       "    </tr>\n",
       "    <tr>\n",
       "      <th>...</th>\n",
       "      <td>...</td>\n",
       "      <td>...</td>\n",
       "      <td>...</td>\n",
       "    </tr>\n",
       "    <tr>\n",
       "      <th>1376</th>\n",
       "      <td>About 60% of the warming observed from 1970 to...</td>\n",
       "      <td>NOT ENOUGH INFO</td>\n",
       "      <td>Given that records of solar activity are accur...</td>\n",
       "    </tr>\n",
       "    <tr>\n",
       "      <th>1377</th>\n",
       "      <td>\"Skeptics hope that Postma’s alternative therm...</td>\n",
       "      <td>NOT ENOUGH INFO</td>\n",
       "      <td>It was not until after the elucidation of the ...</td>\n",
       "    </tr>\n",
       "    <tr>\n",
       "      <th>1378</th>\n",
       "      <td>\"There are other possible causes for climate c...</td>\n",
       "      <td>SUPPORTS</td>\n",
       "      <td>According to Wilson, \"Wobbles in the orbit of ...</td>\n",
       "    </tr>\n",
       "    <tr>\n",
       "      <th>1379</th>\n",
       "      <td>We don't need a high heat flow - just a high t...</td>\n",
       "      <td>NOT ENOUGH INFO</td>\n",
       "      <td>Sea water has an important influence on the wo...</td>\n",
       "    </tr>\n",
       "    <tr>\n",
       "      <th>1380</th>\n",
       "      <td>Over the last decade, heatwaves are five times...</td>\n",
       "      <td>SUPPORTS</td>\n",
       "      <td>Australia's climate has warmed by more than on...</td>\n",
       "    </tr>\n",
       "  </tbody>\n",
       "</table>\n",
       "<p>1128 rows × 3 columns</p>\n",
       "</div>"
      ],
      "text/plain": [
       "                                                  claim            label  \\\n",
       "0     Global warming is driving polar bears toward e...         SUPPORTS   \n",
       "1     The sun has gone into ‘lockdown’ which could c...         SUPPORTS   \n",
       "5     They tell us that we are the primary forces co...         SUPPORTS   \n",
       "6     The Great Barrier Reef is experiencing the mos...         SUPPORTS   \n",
       "10          Earth about to enter 30-YEAR ‘Mini Ice Age’  NOT ENOUGH INFO   \n",
       "...                                                 ...              ...   \n",
       "1376  About 60% of the warming observed from 1970 to...  NOT ENOUGH INFO   \n",
       "1377  \"Skeptics hope that Postma’s alternative therm...  NOT ENOUGH INFO   \n",
       "1378  \"There are other possible causes for climate c...         SUPPORTS   \n",
       "1379  We don't need a high heat flow - just a high t...  NOT ENOUGH INFO   \n",
       "1380  Over the last decade, heatwaves are five times...         SUPPORTS   \n",
       "\n",
       "                                               evidence  \n",
       "0     \"Recent Research Shows Human Activity Driving ...  \n",
       "1     The current consensus of the scientific commun...  \n",
       "5     Most carbon dioxide from human activities is r...  \n",
       "6     These temperatures have caused the most severe...  \n",
       "10    The last continental glaciation ended 10,000 y...  \n",
       "...                                                 ...  \n",
       "1376  Given that records of solar activity are accur...  \n",
       "1377  It was not until after the elucidation of the ...  \n",
       "1378  According to Wilson, \"Wobbles in the orbit of ...  \n",
       "1379  Sea water has an important influence on the wo...  \n",
       "1380  Australia's climate has warmed by more than on...  \n",
       "\n",
       "[1128 rows x 3 columns]"
      ]
     },
     "execution_count": 159,
     "metadata": {},
     "output_type": "execute_result"
    }
   ],
   "source": [
    "df[df['label'].isin(['SUPPORTS', 'NOT ENOUGH INFO'])]"
   ]
  },
  {
   "cell_type": "code",
   "execution_count": 170,
   "id": "854d6ec4-a0f2-4f3d-a79e-99e9623d367d",
   "metadata": {},
   "outputs": [],
   "source": [
    "_df['label'].replace({\"s\":\"x\", \"NOT ENOUGH INFO\":\"y\"}, inplace=True)"
   ]
  },
  {
   "cell_type": "code",
   "execution_count": 165,
   "id": "e7a4dd09-90fc-4760-a49a-f743dedb2771",
   "metadata": {},
   "outputs": [],
   "source": [
    "_df = df.copy()"
   ]
  },
  {
   "cell_type": "code",
   "execution_count": 173,
   "id": "b77a012c-df79-4139-806d-e0fbe287fd8f",
   "metadata": {},
   "outputs": [
    {
     "data": {
      "text/html": [
       "<div>\n",
       "<style scoped>\n",
       "    .dataframe tbody tr th:only-of-type {\n",
       "        vertical-align: middle;\n",
       "    }\n",
       "\n",
       "    .dataframe tbody tr th {\n",
       "        vertical-align: top;\n",
       "    }\n",
       "\n",
       "    .dataframe thead th {\n",
       "        text-align: right;\n",
       "    }\n",
       "</style>\n",
       "<table border=\"1\" class=\"dataframe\">\n",
       "  <thead>\n",
       "    <tr style=\"text-align: right;\">\n",
       "      <th></th>\n",
       "      <th>evidence</th>\n",
       "      <th>claim</th>\n",
       "    </tr>\n",
       "  </thead>\n",
       "  <tbody>\n",
       "    <tr>\n",
       "      <th>0</th>\n",
       "      <td>\"Recent Research Shows Human Activity Driving ...</td>\n",
       "      <td>Global warming is driving polar bears toward e...</td>\n",
       "    </tr>\n",
       "    <tr>\n",
       "      <th>1</th>\n",
       "      <td>The current consensus of the scientific commun...</td>\n",
       "      <td>The sun has gone into ‘lockdown’ which could c...</td>\n",
       "    </tr>\n",
       "    <tr>\n",
       "      <th>2</th>\n",
       "      <td>\"Ask the experts: Are polar bear populations i...</td>\n",
       "      <td>The polar bear population has been growing.</td>\n",
       "    </tr>\n",
       "    <tr>\n",
       "      <th>3</th>\n",
       "      <td>CO2 in the mesosphere acts as a cooling agent ...</td>\n",
       "      <td>Ironic' study finds more CO2 has slightly cool...</td>\n",
       "    </tr>\n",
       "    <tr>\n",
       "      <th>4</th>\n",
       "      <td>While CO 2 absorption and release is always ha...</td>\n",
       "      <td>Human additions of CO2 are in the margin of er...</td>\n",
       "    </tr>\n",
       "    <tr>\n",
       "      <th>...</th>\n",
       "      <td>...</td>\n",
       "      <td>...</td>\n",
       "    </tr>\n",
       "    <tr>\n",
       "      <th>1376</th>\n",
       "      <td>Given that records of solar activity are accur...</td>\n",
       "      <td>About 60% of the warming observed from 1970 to...</td>\n",
       "    </tr>\n",
       "    <tr>\n",
       "      <th>1377</th>\n",
       "      <td>It was not until after the elucidation of the ...</td>\n",
       "      <td>\"Skeptics hope that Postma’s alternative therm...</td>\n",
       "    </tr>\n",
       "    <tr>\n",
       "      <th>1378</th>\n",
       "      <td>According to Wilson, \"Wobbles in the orbit of ...</td>\n",
       "      <td>\"There are other possible causes for climate c...</td>\n",
       "    </tr>\n",
       "    <tr>\n",
       "      <th>1379</th>\n",
       "      <td>Sea water has an important influence on the wo...</td>\n",
       "      <td>We don't need a high heat flow - just a high t...</td>\n",
       "    </tr>\n",
       "    <tr>\n",
       "      <th>1380</th>\n",
       "      <td>Australia's climate has warmed by more than on...</td>\n",
       "      <td>Over the last decade, heatwaves are five times...</td>\n",
       "    </tr>\n",
       "  </tbody>\n",
       "</table>\n",
       "<p>1381 rows × 2 columns</p>\n",
       "</div>"
      ],
      "text/plain": [
       "                                               evidence  \\\n",
       "0     \"Recent Research Shows Human Activity Driving ...   \n",
       "1     The current consensus of the scientific commun...   \n",
       "2     \"Ask the experts: Are polar bear populations i...   \n",
       "3     CO2 in the mesosphere acts as a cooling agent ...   \n",
       "4     While CO 2 absorption and release is always ha...   \n",
       "...                                                 ...   \n",
       "1376  Given that records of solar activity are accur...   \n",
       "1377  It was not until after the elucidation of the ...   \n",
       "1378  According to Wilson, \"Wobbles in the orbit of ...   \n",
       "1379  Sea water has an important influence on the wo...   \n",
       "1380  Australia's climate has warmed by more than on...   \n",
       "\n",
       "                                                  claim  \n",
       "0     Global warming is driving polar bears toward e...  \n",
       "1     The sun has gone into ‘lockdown’ which could c...  \n",
       "2           The polar bear population has been growing.  \n",
       "3     Ironic' study finds more CO2 has slightly cool...  \n",
       "4     Human additions of CO2 are in the margin of er...  \n",
       "...                                                 ...  \n",
       "1376  About 60% of the warming observed from 1970 to...  \n",
       "1377  \"Skeptics hope that Postma’s alternative therm...  \n",
       "1378  \"There are other possible causes for climate c...  \n",
       "1379  We don't need a high heat flow - just a high t...  \n",
       "1380  Over the last decade, heatwaves are five times...  \n",
       "\n",
       "[1381 rows x 2 columns]"
      ]
     },
     "execution_count": 173,
     "metadata": {},
     "output_type": "execute_result"
    }
   ],
   "source": [
    "df[['evidence', 'claim']]"
   ]
  },
  {
   "cell_type": "code",
   "execution_count": 187,
   "id": "84dcc776-09c3-4a61-b0fd-94b42917379e",
   "metadata": {},
   "outputs": [],
   "source": [
    "root = '../data_2023_06_02'\n",
    "fever_raw = os.path.join(root, 'raw/FEVER')\n",
    "climate_raw = os.path.join(root, 'raw/CLIMATE')"
   ]
  },
  {
   "cell_type": "code",
   "execution_count": 184,
   "id": "754acacc-77f9-4646-acba-a65589cc61e8",
   "metadata": {},
   "outputs": [],
   "source": [
    "train_df = pd.DataFrame.from_records(read_json(os.path.join(fever_raw, 'train.jsonl')))"
   ]
  },
  {
   "cell_type": "code",
   "execution_count": 189,
   "id": "6f3cb5e4-1028-468b-aca1-d85e56ca68f0",
   "metadata": {},
   "outputs": [],
   "source": [
    "climate_df = pd.DataFrame.from_records(read_json(os.path.join(climate_raw, 'climate-fever-dataset-r1.jsonl')))"
   ]
  },
  {
   "cell_type": "code",
   "execution_count": 190,
   "id": "bb9aa050-f9f6-49d7-8c8f-d0be36c1e89a",
   "metadata": {},
   "outputs": [
    {
     "data": {
      "text/plain": [
       "SUPPORTS           654\n",
       "NOT_ENOUGH_INFO    474\n",
       "REFUTES            253\n",
       "DISPUTED           154\n",
       "Name: claim_label, dtype: int64"
      ]
     },
     "execution_count": 190,
     "metadata": {},
     "output_type": "execute_result"
    }
   ],
   "source": [
    "climate_df['claim_label'].value_counts()"
   ]
  },
  {
   "cell_type": "code",
   "execution_count": 191,
   "id": "bda8b8b8-bbe2-4833-8d51-8b4b7b08ad59",
   "metadata": {},
   "outputs": [
    {
     "data": {
      "text/plain": [
       "SUPPORTS           80035\n",
       "NOT ENOUGH INFO    35639\n",
       "REFUTES            29775\n",
       "Name: label, dtype: int64"
      ]
     },
     "execution_count": 191,
     "metadata": {},
     "output_type": "execute_result"
    }
   ],
   "source": [
    "train_df['label'].value_counts()"
   ]
  },
  {
   "cell_type": "markdown",
   "id": "cb604ff5-8189-405b-9312-3632d44c9dbc",
   "metadata": {},
   "source": [
    "## Debug Processed Data"
   ]
  },
  {
   "cell_type": "code",
   "execution_count": 25,
   "id": "6f95ee91-fe0c-49c7-b7f5-8fd82f20adc1",
   "metadata": {},
   "outputs": [],
   "source": [
    "import json\n",
    "def read_json(fp):\n",
    "    with open(fp, \"r\", encoding=\"utf-8\") as f:\n",
    "        data = []\n",
    "        for line in f.readlines():\n",
    "            data.append(json.loads(line.strip()))\n",
    "        return data"
   ]
  },
  {
   "cell_type": "code",
   "execution_count": 12,
   "id": "5e805f3a-9dec-4596-9fe9-1dd2fc39c60c",
   "metadata": {},
   "outputs": [],
   "source": [
    "root = '../data_2023_06_02/processed_data/'"
   ]
  },
  {
   "cell_type": "code",
   "execution_count": 29,
   "id": "fbcee41e-c4bd-4869-96f6-f5ef71918b5d",
   "metadata": {},
   "outputs": [],
   "source": [
    "fp = os.path.join(root, 'fever_test.jsonl')"
   ]
  },
  {
   "cell_type": "code",
   "execution_count": 30,
   "id": "c9f1e5df-11ce-4979-9b7a-413db650fee2",
   "metadata": {},
   "outputs": [],
   "source": [
    "data = read_json(fp)"
   ]
  },
  {
   "cell_type": "code",
   "execution_count": 7,
   "id": "e1c6421a-b88f-4106-a262-7ec4a0afd3f0",
   "metadata": {},
   "outputs": [],
   "source": [
    "features = Features({\n",
    "        \"claim\": Value(\"string\"), \n",
    "        \"evidence\": Value(\"string\"),\n",
    "        \"label\": ClassLabel(num_classes=3, names=[\"SUPPORTS\", \"REFUTES\", \"NOT ENOUGH INFO\"])\n",
    "    })"
   ]
  },
  {
   "cell_type": "code",
   "execution_count": 33,
   "id": "0aac7fe6-c0bb-48e7-9061-c87933e217a9",
   "metadata": {},
   "outputs": [
    {
     "name": "stderr",
     "output_type": "stream",
     "text": [
      "Found cached dataset json (/users/k21193529/.cache/huggingface/datasets/json/default-56544478607539d7/0.0.0)\n"
     ]
    }
   ],
   "source": [
    "ds = Dataset.from_json(fp, features=features)"
   ]
  },
  {
   "cell_type": "code",
   "execution_count": 37,
   "id": "d77e177d-b8b3-4e42-add3-a325ed04dcaf",
   "metadata": {},
   "outputs": [
    {
     "data": {
      "text/plain": [
       "{'claim': 'Richard Fortus has recorded a studio album with a band.',\n",
       " 'evidence': 'South Abbey , Youghal was a 13th-century Franciscan Friary that was situated south of Youghal , County Cork , Ireland',\n",
       " 'label': 2}"
      ]
     },
     "execution_count": 37,
     "metadata": {},
     "output_type": "execute_result"
    }
   ],
   "source": [
    "ds[114]"
   ]
  },
  {
   "cell_type": "code",
   "execution_count": null,
   "id": "87db97f0-0f90-486e-b94a-07590e316c41",
   "metadata": {},
   "outputs": [],
   "source": []
  }
 ],
 "metadata": {
  "kernelspec": {
   "display_name": "Python 3 (ipykernel)",
   "language": "python",
   "name": "python3"
  },
  "language_info": {
   "codemirror_mode": {
    "name": "ipython",
    "version": 3
   },
   "file_extension": ".py",
   "mimetype": "text/x-python",
   "name": "python",
   "nbconvert_exporter": "python",
   "pygments_lexer": "ipython3",
   "version": "3.8.12"
  }
 },
 "nbformat": 4,
 "nbformat_minor": 5
}
