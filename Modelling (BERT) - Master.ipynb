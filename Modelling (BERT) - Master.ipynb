{
 "cells": [
  {
   "cell_type": "code",
   "execution_count": 2,
   "id": "64db97dd-0a24-4f1a-bf2d-81b230a3f2b2",
   "metadata": {},
   "outputs": [],
   "source": [
    "import os\n",
    "\n",
    "from main import FeverLoader, PubhealthLoader, ClimateFeverLoader"
   ]
  },
  {
   "cell_type": "markdown",
   "id": "e05a58cb-2a20-468f-ba60-838ce58abd5a",
   "metadata": {},
   "source": [
    "## Setting\n",
    "- 1: train on FEVER\n",
    "- 2: train on pubhealth\n",
    "- 3: train on climate"
   ]
  },
  {
   "cell_type": "code",
   "execution_count": 45,
   "id": "60a4fdbe-62f0-4f4f-a452-4b0fcaca5e02",
   "metadata": {},
   "outputs": [],
   "source": [
    "experiment = \"1\"\n",
    "model_dirs = {\n",
    "    \"1\": \"../models/BERT_FEVER\",\n",
    "    \"2\": \"../models/BERT_PUBHEALTH\",\n",
    "    \"3\": \"../models/BERT_CLIMATE\"\n",
    "}"
   ]
  },
  {
   "cell_type": "markdown",
   "id": "ed02e009-4165-4519-b650-72f6bd57a4d3",
   "metadata": {},
   "source": [
    "## Load Data"
   ]
  },
  {
   "cell_type": "code",
   "execution_count": 4,
   "id": "e5b22c32-3d51-4b09-b019-03944684850b",
   "metadata": {},
   "outputs": [],
   "source": [
    "root = '../data_2023_06_02'\n",
    "\n",
    "climate_in = os.path.join(root, 'preprocessed/CLIMATE-FEVER')\n",
    "pubhealth_in = os.path.join(root, 'preprocessed/PUBHEALTH')\n",
    "fever_in = os.path.join(root, 'preprocessed/FEVER')"
   ]
  },
  {
   "cell_type": "code",
   "execution_count": 5,
   "id": "2448d87d-155c-4e1e-afdc-2b09fc624ce7",
   "metadata": {},
   "outputs": [
    {
     "name": "stdout",
     "output_type": "stream",
     "text": [
      "9999\n",
      "9999\n",
      "145449\n"
     ]
    }
   ],
   "source": [
    "fever_train_ds, fever_dev_ds, fever_test_ds = FeverLoader.load(fever_in)\n",
    "print(len(fever_test_ds))\n",
    "print(len(fever_dev_ds))\n",
    "print(len(fever_train_ds))"
   ]
  },
  {
   "cell_type": "code",
   "execution_count": 6,
   "id": "7e6ffc80-102e-481a-9073-4c71f9d0bb81",
   "metadata": {},
   "outputs": [
    {
     "name": "stdout",
     "output_type": "stream",
     "text": [
      "8370\n",
      "1050\n",
      "1032\n"
     ]
    }
   ],
   "source": [
    "pubhealth_train_ds, pubhealth_dev_ds, pubhealth_test_ds = PubhealthLoader.load(pubhealth_in)\n",
    "print(len(pubhealth_train_ds))\n",
    "print(len(pubhealth_dev_ds))\n",
    "print(len(pubhealth_test_ds))"
   ]
  },
  {
   "cell_type": "code",
   "execution_count": 7,
   "id": "5994d60c-103d-4e2b-a7e2-68f1266f24d9",
   "metadata": {},
   "outputs": [
    {
     "name": "stdout",
     "output_type": "stream",
     "text": [
      "1381\n"
     ]
    }
   ],
   "source": [
    "climate_ds = ClimateFeverLoader.load(climate_in)\n",
    "print(len(climate_ds))"
   ]
  },
  {
   "cell_type": "markdown",
   "id": "bd02be6f-86e0-4db5-925a-5b33281ef12e",
   "metadata": {},
   "source": [
    "## Training"
   ]
  },
  {
   "cell_type": "code",
   "execution_count": 8,
   "id": "d8e95b7a-889c-4e7d-9da7-db00ba37ff8d",
   "metadata": {},
   "outputs": [],
   "source": [
    "model_name = \"bert-base-uncased\" #https://huggingface.co/bert-base-uncased\n",
    "# model_name = \"bert-large-uncased\" #https://huggingface.co/bert-large-uncased\n",
    "# model_name = \"allenai/scibert_scivocab_uncased\" #https://huggingface.co/allenai/scibert_scivocab_uncased"
   ]
  },
  {
   "cell_type": "markdown",
   "id": "f686802d-d92c-4761-8174-a5215ffa10fa",
   "metadata": {},
   "source": [
    "#### Set up training data\n",
    "- ds1: train on FEVER\n",
    "- ds2: train on pubhealth\n",
    "- ds3: train on climate"
   ]
  },
  {
   "cell_type": "code",
   "execution_count": 9,
   "id": "e20b9618-a6b5-4c95-8d93-d23dd2374701",
   "metadata": {},
   "outputs": [
    {
     "name": "stderr",
     "output_type": "stream",
     "text": [
      "/scratch/users/k21193529/conda/jenv3/lib/python3.8/site-packages/tqdm/auto.py:21: TqdmWarning: IProgress not found. Please update jupyter and ipywidgets. See https://ipywidgets.readthedocs.io/en/stable/user_install.html\n",
      "  from .autonotebook import tqdm as notebook_tqdm\n"
     ]
    }
   ],
   "source": [
    "from datasets import Dataset, DatasetDict, ClassLabel, Value, Features"
   ]
  },
  {
   "cell_type": "code",
   "execution_count": 10,
   "id": "6b16af43-6985-423b-934c-81f29eeb0ee1",
   "metadata": {},
   "outputs": [],
   "source": [
    "features = Features({\n",
    "    \"claim\": Value(\"string\"), \n",
    "    \"evidence\": Value(\"string\"),\n",
    "    \"label\": ClassLabel(num_classes=3, names=[\"SUPPORTS\", \"REFUTES\", \"NOT ENOUGH INFO\"])\n",
    "})"
   ]
  },
  {
   "cell_type": "code",
   "execution_count": 11,
   "id": "9a919f61-edbc-4d71-94bb-037ea95d123e",
   "metadata": {},
   "outputs": [],
   "source": [
    "# train on fever \n",
    "ds1 = DatasetDict()\n",
    "ds1['train'] = Dataset.from_list(fever_train_ds, features=features)\n",
    "ds1['validation'] = Dataset.from_list(fever_dev_ds, features=features)\n",
    "ds1['fever_test'] = Dataset.from_list(fever_test_ds, features=features)\n",
    "ds1['pubhealth_test'] = Dataset.from_list(pubhealth_test_ds, features=features)\n",
    "ds1['climate_test']  = Dataset.from_list(climate_ds, features=features)"
   ]
  },
  {
   "cell_type": "code",
   "execution_count": 12,
   "id": "63448304-0eff-430f-b8bb-6a939f203ee5",
   "metadata": {},
   "outputs": [],
   "source": [
    "# train on pubhealth\n",
    "ds2 = DatasetDict()\n",
    "ds2['train'] = Dataset.from_list(pubhealth_train_ds, features=features)\n",
    "ds2['validation'] = Dataset.from_list(pubhealth_dev_ds, features=features)\n",
    "ds2['fever_test'] = Dataset.from_list(fever_test_ds, features=features)\n",
    "ds2['pubhealth_test'] = Dataset.from_list(pubhealth_test_ds, features=features)\n",
    "ds2['climate_test']  = Dataset.from_list(climate_ds, features=features)"
   ]
  },
  {
   "cell_type": "code",
   "execution_count": 13,
   "id": "b71ac7e2-89fa-41ba-adfe-a303ca50b1ca",
   "metadata": {},
   "outputs": [
    {
     "name": "stdout",
     "output_type": "stream",
     "text": [
      "1035\n",
      "346\n"
     ]
    }
   ],
   "source": [
    "# train on climate\n",
    "ds3 = DatasetDict()\n",
    "\n",
    "#split climate data\n",
    "from sklearn.model_selection import train_test_split\n",
    "\n",
    "climate_train_ds, climate_dev_ds = train_test_split(climate_ds, random_state=392)\n",
    "print(len(climate_train_ds))\n",
    "print(len(climate_dev_ds))\n",
    "\n",
    "\n",
    "ds3['train'] = Dataset.from_list(climate_train_ds, features=features)\n",
    "ds3['validation'] = Dataset.from_list(climate_dev_ds, features=features)\n",
    "ds3['fever_test'] = Dataset.from_list(fever_test_ds, features=features)\n",
    "ds3['pubhealth_test'] = Dataset.from_list(pubhealth_test_ds, features=features)"
   ]
  },
  {
   "cell_type": "markdown",
   "id": "6a215484-9580-4284-bf4f-f7b824fd065a",
   "metadata": {},
   "source": [
    "#### Tokenize data"
   ]
  },
  {
   "cell_type": "code",
   "execution_count": 14,
   "id": "1ad0c279-521b-4d2b-a053-594bc4b3ed83",
   "metadata": {},
   "outputs": [],
   "source": [
    "from transformers import AutoTokenizer\n",
    "\n",
    "tokenizer = AutoTokenizer.from_pretrained(model_name)\n",
    "def preprocess_function(samples):\n",
    "    return tokenizer(samples['claim'], samples['evidence'], \n",
    "                     padding=True,\n",
    "                     truncation='only_second', \n",
    "                     max_length=512)"
   ]
  },
  {
   "cell_type": "code",
   "execution_count": 46,
   "id": "af1ae792-0419-4274-845f-44fa298b1af0",
   "metadata": {},
   "outputs": [],
   "source": [
    "if experiment == \"1\":\n",
    "    ds = ds1\n",
    "elif experiment == \"2\":\n",
    "    ds = ds2\n",
    "elif experiment == \"3\":\n",
    "    ds = ds3\n",
    "else:\n",
    "    raise ValueError(\"Unknown Experiment\")"
   ]
  },
  {
   "cell_type": "code",
   "execution_count": 47,
   "id": "ada5e9f2-aa2e-40ae-a008-5392aeab09d3",
   "metadata": {},
   "outputs": [
    {
     "name": "stderr",
     "output_type": "stream",
     "text": [
      "                                                                     \r"
     ]
    }
   ],
   "source": [
    "encoded_ds = ds.map(preprocess_function, batched=True)"
   ]
  },
  {
   "cell_type": "code",
   "execution_count": 48,
   "id": "8005e21a-36b0-4140-90fa-aba76a0b3e66",
   "metadata": {},
   "outputs": [
    {
     "name": "stdout",
     "output_type": "stream",
     "text": [
      "DatasetDict({\n",
      "    train: Dataset({\n",
      "        features: ['claim', 'label', 'evidence', 'input_ids', 'token_type_ids', 'attention_mask'],\n",
      "        num_rows: 145449\n",
      "    })\n",
      "    validation: Dataset({\n",
      "        features: ['claim', 'label', 'evidence', 'input_ids', 'token_type_ids', 'attention_mask'],\n",
      "        num_rows: 9999\n",
      "    })\n",
      "    fever_test: Dataset({\n",
      "        features: ['claim', 'label', 'evidence', 'input_ids', 'token_type_ids', 'attention_mask'],\n",
      "        num_rows: 9999\n",
      "    })\n",
      "    pubhealth_test: Dataset({\n",
      "        features: ['claim', 'evidence', 'label', 'input_ids', 'token_type_ids', 'attention_mask'],\n",
      "        num_rows: 1032\n",
      "    })\n",
      "    climate_test: Dataset({\n",
      "        features: ['claim', 'label', 'evidence', 'input_ids', 'token_type_ids', 'attention_mask'],\n",
      "        num_rows: 1381\n",
      "    })\n",
      "})\n"
     ]
    }
   ],
   "source": [
    "print(encoded_ds)"
   ]
  },
  {
   "cell_type": "markdown",
   "id": "a2c81ef9-4dec-4d2b-8b50-f14d12b47f5a",
   "metadata": {},
   "source": [
    "#### Setup model"
   ]
  },
  {
   "cell_type": "code",
   "execution_count": 18,
   "id": "efd05ddc-f607-4fbc-abda-9ab11917dbc8",
   "metadata": {},
   "outputs": [],
   "source": [
    "from transformers import AutoModelForSequenceClassification"
   ]
  },
  {
   "cell_type": "code",
   "execution_count": 49,
   "id": "712559db-e58d-4541-9457-4258edd2b474",
   "metadata": {
    "scrolled": true
   },
   "outputs": [
    {
     "name": "stderr",
     "output_type": "stream",
     "text": [
      "loading configuration file config.json from cache at /users/k21193529/.cache/huggingface/hub/models--bert-base-uncased/snapshots/1dbc166cf8765166998eff31ade2eb64c8a40076/config.json\n",
      "Model config BertConfig {\n",
      "  \"_name_or_path\": \"bert-base-uncased\",\n",
      "  \"architectures\": [\n",
      "    \"BertForMaskedLM\"\n",
      "  ],\n",
      "  \"attention_probs_dropout_prob\": 0.1,\n",
      "  \"classifier_dropout\": null,\n",
      "  \"gradient_checkpointing\": false,\n",
      "  \"hidden_act\": \"gelu\",\n",
      "  \"hidden_dropout_prob\": 0.1,\n",
      "  \"hidden_size\": 768,\n",
      "  \"id2label\": {\n",
      "    \"0\": \"LABEL_0\",\n",
      "    \"1\": \"LABEL_1\",\n",
      "    \"2\": \"LABEL_2\"\n",
      "  },\n",
      "  \"initializer_range\": 0.02,\n",
      "  \"intermediate_size\": 3072,\n",
      "  \"label2id\": {\n",
      "    \"LABEL_0\": 0,\n",
      "    \"LABEL_1\": 1,\n",
      "    \"LABEL_2\": 2\n",
      "  },\n",
      "  \"layer_norm_eps\": 1e-12,\n",
      "  \"max_position_embeddings\": 512,\n",
      "  \"model_type\": \"bert\",\n",
      "  \"num_attention_heads\": 12,\n",
      "  \"num_hidden_layers\": 12,\n",
      "  \"pad_token_id\": 0,\n",
      "  \"position_embedding_type\": \"absolute\",\n",
      "  \"transformers_version\": \"4.24.0\",\n",
      "  \"type_vocab_size\": 2,\n",
      "  \"use_cache\": true,\n",
      "  \"vocab_size\": 30522\n",
      "}\n",
      "\n",
      "loading weights file pytorch_model.bin from cache at /users/k21193529/.cache/huggingface/hub/models--bert-base-uncased/snapshots/1dbc166cf8765166998eff31ade2eb64c8a40076/pytorch_model.bin\n",
      "Some weights of the model checkpoint at bert-base-uncased were not used when initializing BertForSequenceClassification: ['cls.predictions.transform.LayerNorm.weight', 'cls.seq_relationship.weight', 'cls.seq_relationship.bias', 'cls.predictions.decoder.weight', 'cls.predictions.transform.LayerNorm.bias', 'cls.predictions.transform.dense.weight', 'cls.predictions.bias', 'cls.predictions.transform.dense.bias']\n",
      "- This IS expected if you are initializing BertForSequenceClassification from the checkpoint of a model trained on another task or with another architecture (e.g. initializing a BertForSequenceClassification model from a BertForPreTraining model).\n",
      "- This IS NOT expected if you are initializing BertForSequenceClassification from the checkpoint of a model that you expect to be exactly identical (initializing a BertForSequenceClassification model from a BertForSequenceClassification model).\n",
      "Some weights of BertForSequenceClassification were not initialized from the model checkpoint at bert-base-uncased and are newly initialized: ['classifier.bias', 'classifier.weight']\n",
      "You should probably TRAIN this model on a down-stream task to be able to use it for predictions and inference.\n"
     ]
    },
    {
     "name": "stdout",
     "output_type": "stream",
     "text": [
      "BertForSequenceClassification(\n",
      "  (bert): BertModel(\n",
      "    (embeddings): BertEmbeddings(\n",
      "      (word_embeddings): Embedding(30522, 768, padding_idx=0)\n",
      "      (position_embeddings): Embedding(512, 768)\n",
      "      (token_type_embeddings): Embedding(2, 768)\n",
      "      (LayerNorm): LayerNorm((768,), eps=1e-12, elementwise_affine=True)\n",
      "      (dropout): Dropout(p=0.1, inplace=False)\n",
      "    )\n",
      "    (encoder): BertEncoder(\n",
      "      (layer): ModuleList(\n",
      "        (0): BertLayer(\n",
      "          (attention): BertAttention(\n",
      "            (self): BertSelfAttention(\n",
      "              (query): Linear(in_features=768, out_features=768, bias=True)\n",
      "              (key): Linear(in_features=768, out_features=768, bias=True)\n",
      "              (value): Linear(in_features=768, out_features=768, bias=True)\n",
      "              (dropout): Dropout(p=0.1, inplace=False)\n",
      "            )\n",
      "            (output): BertSelfOutput(\n",
      "              (dense): Linear(in_features=768, out_features=768, bias=True)\n",
      "              (LayerNorm): LayerNorm((768,), eps=1e-12, elementwise_affine=True)\n",
      "              (dropout): Dropout(p=0.1, inplace=False)\n",
      "            )\n",
      "          )\n",
      "          (intermediate): BertIntermediate(\n",
      "            (dense): Linear(in_features=768, out_features=3072, bias=True)\n",
      "            (intermediate_act_fn): GELUActivation()\n",
      "          )\n",
      "          (output): BertOutput(\n",
      "            (dense): Linear(in_features=3072, out_features=768, bias=True)\n",
      "            (LayerNorm): LayerNorm((768,), eps=1e-12, elementwise_affine=True)\n",
      "            (dropout): Dropout(p=0.1, inplace=False)\n",
      "          )\n",
      "        )\n",
      "        (1): BertLayer(\n",
      "          (attention): BertAttention(\n",
      "            (self): BertSelfAttention(\n",
      "              (query): Linear(in_features=768, out_features=768, bias=True)\n",
      "              (key): Linear(in_features=768, out_features=768, bias=True)\n",
      "              (value): Linear(in_features=768, out_features=768, bias=True)\n",
      "              (dropout): Dropout(p=0.1, inplace=False)\n",
      "            )\n",
      "            (output): BertSelfOutput(\n",
      "              (dense): Linear(in_features=768, out_features=768, bias=True)\n",
      "              (LayerNorm): LayerNorm((768,), eps=1e-12, elementwise_affine=True)\n",
      "              (dropout): Dropout(p=0.1, inplace=False)\n",
      "            )\n",
      "          )\n",
      "          (intermediate): BertIntermediate(\n",
      "            (dense): Linear(in_features=768, out_features=3072, bias=True)\n",
      "            (intermediate_act_fn): GELUActivation()\n",
      "          )\n",
      "          (output): BertOutput(\n",
      "            (dense): Linear(in_features=3072, out_features=768, bias=True)\n",
      "            (LayerNorm): LayerNorm((768,), eps=1e-12, elementwise_affine=True)\n",
      "            (dropout): Dropout(p=0.1, inplace=False)\n",
      "          )\n",
      "        )\n",
      "        (2): BertLayer(\n",
      "          (attention): BertAttention(\n",
      "            (self): BertSelfAttention(\n",
      "              (query): Linear(in_features=768, out_features=768, bias=True)\n",
      "              (key): Linear(in_features=768, out_features=768, bias=True)\n",
      "              (value): Linear(in_features=768, out_features=768, bias=True)\n",
      "              (dropout): Dropout(p=0.1, inplace=False)\n",
      "            )\n",
      "            (output): BertSelfOutput(\n",
      "              (dense): Linear(in_features=768, out_features=768, bias=True)\n",
      "              (LayerNorm): LayerNorm((768,), eps=1e-12, elementwise_affine=True)\n",
      "              (dropout): Dropout(p=0.1, inplace=False)\n",
      "            )\n",
      "          )\n",
      "          (intermediate): BertIntermediate(\n",
      "            (dense): Linear(in_features=768, out_features=3072, bias=True)\n",
      "            (intermediate_act_fn): GELUActivation()\n",
      "          )\n",
      "          (output): BertOutput(\n",
      "            (dense): Linear(in_features=3072, out_features=768, bias=True)\n",
      "            (LayerNorm): LayerNorm((768,), eps=1e-12, elementwise_affine=True)\n",
      "            (dropout): Dropout(p=0.1, inplace=False)\n",
      "          )\n",
      "        )\n",
      "        (3): BertLayer(\n",
      "          (attention): BertAttention(\n",
      "            (self): BertSelfAttention(\n",
      "              (query): Linear(in_features=768, out_features=768, bias=True)\n",
      "              (key): Linear(in_features=768, out_features=768, bias=True)\n",
      "              (value): Linear(in_features=768, out_features=768, bias=True)\n",
      "              (dropout): Dropout(p=0.1, inplace=False)\n",
      "            )\n",
      "            (output): BertSelfOutput(\n",
      "              (dense): Linear(in_features=768, out_features=768, bias=True)\n",
      "              (LayerNorm): LayerNorm((768,), eps=1e-12, elementwise_affine=True)\n",
      "              (dropout): Dropout(p=0.1, inplace=False)\n",
      "            )\n",
      "          )\n",
      "          (intermediate): BertIntermediate(\n",
      "            (dense): Linear(in_features=768, out_features=3072, bias=True)\n",
      "            (intermediate_act_fn): GELUActivation()\n",
      "          )\n",
      "          (output): BertOutput(\n",
      "            (dense): Linear(in_features=3072, out_features=768, bias=True)\n",
      "            (LayerNorm): LayerNorm((768,), eps=1e-12, elementwise_affine=True)\n",
      "            (dropout): Dropout(p=0.1, inplace=False)\n",
      "          )\n",
      "        )\n",
      "        (4): BertLayer(\n",
      "          (attention): BertAttention(\n",
      "            (self): BertSelfAttention(\n",
      "              (query): Linear(in_features=768, out_features=768, bias=True)\n",
      "              (key): Linear(in_features=768, out_features=768, bias=True)\n",
      "              (value): Linear(in_features=768, out_features=768, bias=True)\n",
      "              (dropout): Dropout(p=0.1, inplace=False)\n",
      "            )\n",
      "            (output): BertSelfOutput(\n",
      "              (dense): Linear(in_features=768, out_features=768, bias=True)\n",
      "              (LayerNorm): LayerNorm((768,), eps=1e-12, elementwise_affine=True)\n",
      "              (dropout): Dropout(p=0.1, inplace=False)\n",
      "            )\n",
      "          )\n",
      "          (intermediate): BertIntermediate(\n",
      "            (dense): Linear(in_features=768, out_features=3072, bias=True)\n",
      "            (intermediate_act_fn): GELUActivation()\n",
      "          )\n",
      "          (output): BertOutput(\n",
      "            (dense): Linear(in_features=3072, out_features=768, bias=True)\n",
      "            (LayerNorm): LayerNorm((768,), eps=1e-12, elementwise_affine=True)\n",
      "            (dropout): Dropout(p=0.1, inplace=False)\n",
      "          )\n",
      "        )\n",
      "        (5): BertLayer(\n",
      "          (attention): BertAttention(\n",
      "            (self): BertSelfAttention(\n",
      "              (query): Linear(in_features=768, out_features=768, bias=True)\n",
      "              (key): Linear(in_features=768, out_features=768, bias=True)\n",
      "              (value): Linear(in_features=768, out_features=768, bias=True)\n",
      "              (dropout): Dropout(p=0.1, inplace=False)\n",
      "            )\n",
      "            (output): BertSelfOutput(\n",
      "              (dense): Linear(in_features=768, out_features=768, bias=True)\n",
      "              (LayerNorm): LayerNorm((768,), eps=1e-12, elementwise_affine=True)\n",
      "              (dropout): Dropout(p=0.1, inplace=False)\n",
      "            )\n",
      "          )\n",
      "          (intermediate): BertIntermediate(\n",
      "            (dense): Linear(in_features=768, out_features=3072, bias=True)\n",
      "            (intermediate_act_fn): GELUActivation()\n",
      "          )\n",
      "          (output): BertOutput(\n",
      "            (dense): Linear(in_features=3072, out_features=768, bias=True)\n",
      "            (LayerNorm): LayerNorm((768,), eps=1e-12, elementwise_affine=True)\n",
      "            (dropout): Dropout(p=0.1, inplace=False)\n",
      "          )\n",
      "        )\n",
      "        (6): BertLayer(\n",
      "          (attention): BertAttention(\n",
      "            (self): BertSelfAttention(\n",
      "              (query): Linear(in_features=768, out_features=768, bias=True)\n",
      "              (key): Linear(in_features=768, out_features=768, bias=True)\n",
      "              (value): Linear(in_features=768, out_features=768, bias=True)\n",
      "              (dropout): Dropout(p=0.1, inplace=False)\n",
      "            )\n",
      "            (output): BertSelfOutput(\n",
      "              (dense): Linear(in_features=768, out_features=768, bias=True)\n",
      "              (LayerNorm): LayerNorm((768,), eps=1e-12, elementwise_affine=True)\n",
      "              (dropout): Dropout(p=0.1, inplace=False)\n",
      "            )\n",
      "          )\n",
      "          (intermediate): BertIntermediate(\n",
      "            (dense): Linear(in_features=768, out_features=3072, bias=True)\n",
      "            (intermediate_act_fn): GELUActivation()\n",
      "          )\n",
      "          (output): BertOutput(\n",
      "            (dense): Linear(in_features=3072, out_features=768, bias=True)\n",
      "            (LayerNorm): LayerNorm((768,), eps=1e-12, elementwise_affine=True)\n",
      "            (dropout): Dropout(p=0.1, inplace=False)\n",
      "          )\n",
      "        )\n",
      "        (7): BertLayer(\n",
      "          (attention): BertAttention(\n",
      "            (self): BertSelfAttention(\n",
      "              (query): Linear(in_features=768, out_features=768, bias=True)\n",
      "              (key): Linear(in_features=768, out_features=768, bias=True)\n",
      "              (value): Linear(in_features=768, out_features=768, bias=True)\n",
      "              (dropout): Dropout(p=0.1, inplace=False)\n",
      "            )\n",
      "            (output): BertSelfOutput(\n",
      "              (dense): Linear(in_features=768, out_features=768, bias=True)\n",
      "              (LayerNorm): LayerNorm((768,), eps=1e-12, elementwise_affine=True)\n",
      "              (dropout): Dropout(p=0.1, inplace=False)\n",
      "            )\n",
      "          )\n",
      "          (intermediate): BertIntermediate(\n",
      "            (dense): Linear(in_features=768, out_features=3072, bias=True)\n",
      "            (intermediate_act_fn): GELUActivation()\n",
      "          )\n",
      "          (output): BertOutput(\n",
      "            (dense): Linear(in_features=3072, out_features=768, bias=True)\n",
      "            (LayerNorm): LayerNorm((768,), eps=1e-12, elementwise_affine=True)\n",
      "            (dropout): Dropout(p=0.1, inplace=False)\n",
      "          )\n",
      "        )\n",
      "        (8): BertLayer(\n",
      "          (attention): BertAttention(\n",
      "            (self): BertSelfAttention(\n",
      "              (query): Linear(in_features=768, out_features=768, bias=True)\n",
      "              (key): Linear(in_features=768, out_features=768, bias=True)\n",
      "              (value): Linear(in_features=768, out_features=768, bias=True)\n",
      "              (dropout): Dropout(p=0.1, inplace=False)\n",
      "            )\n",
      "            (output): BertSelfOutput(\n",
      "              (dense): Linear(in_features=768, out_features=768, bias=True)\n",
      "              (LayerNorm): LayerNorm((768,), eps=1e-12, elementwise_affine=True)\n",
      "              (dropout): Dropout(p=0.1, inplace=False)\n",
      "            )\n",
      "          )\n",
      "          (intermediate): BertIntermediate(\n",
      "            (dense): Linear(in_features=768, out_features=3072, bias=True)\n",
      "            (intermediate_act_fn): GELUActivation()\n",
      "          )\n",
      "          (output): BertOutput(\n",
      "            (dense): Linear(in_features=3072, out_features=768, bias=True)\n",
      "            (LayerNorm): LayerNorm((768,), eps=1e-12, elementwise_affine=True)\n",
      "            (dropout): Dropout(p=0.1, inplace=False)\n",
      "          )\n",
      "        )\n",
      "        (9): BertLayer(\n",
      "          (attention): BertAttention(\n",
      "            (self): BertSelfAttention(\n",
      "              (query): Linear(in_features=768, out_features=768, bias=True)\n",
      "              (key): Linear(in_features=768, out_features=768, bias=True)\n",
      "              (value): Linear(in_features=768, out_features=768, bias=True)\n",
      "              (dropout): Dropout(p=0.1, inplace=False)\n",
      "            )\n",
      "            (output): BertSelfOutput(\n",
      "              (dense): Linear(in_features=768, out_features=768, bias=True)\n",
      "              (LayerNorm): LayerNorm((768,), eps=1e-12, elementwise_affine=True)\n",
      "              (dropout): Dropout(p=0.1, inplace=False)\n",
      "            )\n",
      "          )\n",
      "          (intermediate): BertIntermediate(\n",
      "            (dense): Linear(in_features=768, out_features=3072, bias=True)\n",
      "            (intermediate_act_fn): GELUActivation()\n",
      "          )\n",
      "          (output): BertOutput(\n",
      "            (dense): Linear(in_features=3072, out_features=768, bias=True)\n",
      "            (LayerNorm): LayerNorm((768,), eps=1e-12, elementwise_affine=True)\n",
      "            (dropout): Dropout(p=0.1, inplace=False)\n",
      "          )\n",
      "        )\n",
      "        (10): BertLayer(\n",
      "          (attention): BertAttention(\n",
      "            (self): BertSelfAttention(\n",
      "              (query): Linear(in_features=768, out_features=768, bias=True)\n",
      "              (key): Linear(in_features=768, out_features=768, bias=True)\n",
      "              (value): Linear(in_features=768, out_features=768, bias=True)\n",
      "              (dropout): Dropout(p=0.1, inplace=False)\n",
      "            )\n",
      "            (output): BertSelfOutput(\n",
      "              (dense): Linear(in_features=768, out_features=768, bias=True)\n",
      "              (LayerNorm): LayerNorm((768,), eps=1e-12, elementwise_affine=True)\n",
      "              (dropout): Dropout(p=0.1, inplace=False)\n",
      "            )\n",
      "          )\n",
      "          (intermediate): BertIntermediate(\n",
      "            (dense): Linear(in_features=768, out_features=3072, bias=True)\n",
      "            (intermediate_act_fn): GELUActivation()\n",
      "          )\n",
      "          (output): BertOutput(\n",
      "            (dense): Linear(in_features=3072, out_features=768, bias=True)\n",
      "            (LayerNorm): LayerNorm((768,), eps=1e-12, elementwise_affine=True)\n",
      "            (dropout): Dropout(p=0.1, inplace=False)\n",
      "          )\n",
      "        )\n",
      "        (11): BertLayer(\n",
      "          (attention): BertAttention(\n",
      "            (self): BertSelfAttention(\n",
      "              (query): Linear(in_features=768, out_features=768, bias=True)\n",
      "              (key): Linear(in_features=768, out_features=768, bias=True)\n",
      "              (value): Linear(in_features=768, out_features=768, bias=True)\n",
      "              (dropout): Dropout(p=0.1, inplace=False)\n",
      "            )\n",
      "            (output): BertSelfOutput(\n",
      "              (dense): Linear(in_features=768, out_features=768, bias=True)\n",
      "              (LayerNorm): LayerNorm((768,), eps=1e-12, elementwise_affine=True)\n",
      "              (dropout): Dropout(p=0.1, inplace=False)\n",
      "            )\n",
      "          )\n",
      "          (intermediate): BertIntermediate(\n",
      "            (dense): Linear(in_features=768, out_features=3072, bias=True)\n",
      "            (intermediate_act_fn): GELUActivation()\n",
      "          )\n",
      "          (output): BertOutput(\n",
      "            (dense): Linear(in_features=3072, out_features=768, bias=True)\n",
      "            (LayerNorm): LayerNorm((768,), eps=1e-12, elementwise_affine=True)\n",
      "            (dropout): Dropout(p=0.1, inplace=False)\n",
      "          )\n",
      "        )\n",
      "      )\n",
      "    )\n",
      "    (pooler): BertPooler(\n",
      "      (dense): Linear(in_features=768, out_features=768, bias=True)\n",
      "      (activation): Tanh()\n",
      "    )\n",
      "  )\n",
      "  (dropout): Dropout(p=0.1, inplace=False)\n",
      "  (classifier): Linear(in_features=768, out_features=3, bias=True)\n",
      ")\n"
     ]
    }
   ],
   "source": [
    "num_labels = 3 \n",
    "model = AutoModelForSequenceClassification.from_pretrained(model_name, num_labels=num_labels)\n",
    "print(model)"
   ]
  },
  {
   "cell_type": "markdown",
   "id": "9297c86c-0c83-4072-9847-cfef8cb64adf",
   "metadata": {},
   "source": [
    "#### Setup trainer"
   ]
  },
  {
   "cell_type": "code",
   "execution_count": 20,
   "id": "75a3bc62-7e6e-47c2-a3d2-15c2a6f1a96f",
   "metadata": {},
   "outputs": [],
   "source": [
    "import numpy as np\n",
    "import evaluate \n",
    "from transformers import TrainingArguments, Trainer"
   ]
  },
  {
   "cell_type": "code",
   "execution_count": 50,
   "id": "fc04a2c7-f7b2-4efb-bb8e-46526c11961a",
   "metadata": {},
   "outputs": [],
   "source": [
    "metric = evaluate.load(\"accuracy\")\n",
    "\n",
    "def compute_metrics(eval_pred):\n",
    "    logits, labels = eval_pred\n",
    "    predictions = np.argmax(logits, axis=-1)\n",
    "    return metric.compute(predictions=predictions, references = labels)"
   ]
  },
  {
   "cell_type": "code",
   "execution_count": 51,
   "id": "d05501b1-2ecf-4159-9d09-093a3fc40056",
   "metadata": {},
   "outputs": [
    {
     "name": "stdout",
     "output_type": "stream",
     "text": [
      "../models/BERT_FEVER\n"
     ]
    }
   ],
   "source": [
    "batch_size = 16 #defaults to 8\n",
    "num_epochs = 5\n",
    "\n",
    "model_dir = model_dirs.get(experiment)\n",
    "print(model_dir)"
   ]
  },
  {
   "cell_type": "code",
   "execution_count": 52,
   "id": "4f6a9aee-6016-490c-a072-a3027be18941",
   "metadata": {},
   "outputs": [
    {
     "name": "stderr",
     "output_type": "stream",
     "text": [
      "PyTorch: setting up devices\n",
      "The default value for the training argument `--report_to` will change in v5 (from all installed integrations to none). In v5, you will need to use `--report_to all` to get the same behavior as now. You should start updating your code and make this info disappear :-).\n"
     ]
    }
   ],
   "source": [
    "args = TrainingArguments(\n",
    "    model_dir,\n",
    "    evaluation_strategy = \"epoch\",\n",
    "    # evaluation_strategy = \"steps\",\n",
    "    save_strategy = \"epoch\",\n",
    "    per_device_train_batch_size = batch_size,\n",
    "    per_device_eval_batch_size = batch_size,\n",
    "    num_train_epochs = num_epochs,\n",
    "    load_best_model_at_end = True,\n",
    "    # metric_for_best_model = \"accuracy\"\n",
    ")   "
   ]
  },
  {
   "cell_type": "code",
   "execution_count": 53,
   "id": "e0ecce38-71b6-4aef-9bad-b458a696f53e",
   "metadata": {},
   "outputs": [],
   "source": [
    "trainer = Trainer(\n",
    "    model, \n",
    "    args,\n",
    "    train_dataset = encoded_ds[\"train\"],\n",
    "    eval_dataset = encoded_ds[\"validation\"],\n",
    "    tokenizer = tokenizer, \n",
    "    compute_metrics = compute_metrics\n",
    ")"
   ]
  },
  {
   "cell_type": "markdown",
   "id": "766d7a02-8b66-4d87-8b9e-dff2c0c859ce",
   "metadata": {},
   "source": [
    "#### Train model"
   ]
  },
  {
   "cell_type": "code",
   "execution_count": 25,
   "id": "bf47d538-f2ee-46d4-a919-2c1cc172069d",
   "metadata": {},
   "outputs": [],
   "source": [
    "import torch"
   ]
  },
  {
   "cell_type": "code",
   "execution_count": 54,
   "id": "bdcdfa59-ccae-4bbd-b280-3d4fb0e1abbe",
   "metadata": {},
   "outputs": [],
   "source": [
    "torch.cuda.empty_cache()"
   ]
  },
  {
   "cell_type": "code",
   "execution_count": 55,
   "id": "aa94a775-b8b7-4318-bd37-7099c4252746",
   "metadata": {},
   "outputs": [
    {
     "name": "stderr",
     "output_type": "stream",
     "text": [
      "The following columns in the training set don't have a corresponding argument in `BertForSequenceClassification.forward` and have been ignored: claim, evidence. If claim, evidence are not expected by `BertForSequenceClassification.forward`,  you can safely ignore this message.\n",
      "/scratch/users/k21193529/conda/jenv3/lib/python3.8/site-packages/transformers/optimization.py:306: FutureWarning: This implementation of AdamW is deprecated and will be removed in a future version. Use the PyTorch implementation torch.optim.AdamW instead, or set `no_deprecation_warning=True` to disable this warning\n",
      "  warnings.warn(\n",
      "***** Running training *****\n",
      "  Num examples = 145449\n",
      "  Num Epochs = 5\n",
      "  Instantaneous batch size per device = 16\n",
      "  Total train batch size (w. parallel, distributed & accumulation) = 64\n",
      "  Gradient Accumulation steps = 1\n",
      "  Total optimization steps = 11365\n",
      "  Number of trainable parameters = 109484547\n",
      "/scratch/users/k21193529/conda/jenv3/lib/python3.8/site-packages/torch/nn/parallel/_functions.py:68: UserWarning: Was asked to gather along dimension 0, but all input tensors were scalars; will instead unsqueeze and return a vector.\n",
      "  warnings.warn('Was asked to gather along dimension 0, but all '\n"
     ]
    },
    {
     "data": {
      "text/html": [
       "\n",
       "    <div>\n",
       "      \n",
       "      <progress value='11365' max='11365' style='width:300px; height:20px; vertical-align: middle;'></progress>\n",
       "      [11365/11365 1:23:48, Epoch 5/5]\n",
       "    </div>\n",
       "    <table border=\"1\" class=\"dataframe\">\n",
       "  <thead>\n",
       " <tr style=\"text-align: left;\">\n",
       "      <th>Epoch</th>\n",
       "      <th>Training Loss</th>\n",
       "      <th>Validation Loss</th>\n",
       "      <th>Accuracy</th>\n",
       "    </tr>\n",
       "  </thead>\n",
       "  <tbody>\n",
       "    <tr>\n",
       "      <td>1</td>\n",
       "      <td>0.144600</td>\n",
       "      <td>0.146059</td>\n",
       "      <td>0.951395</td>\n",
       "    </tr>\n",
       "    <tr>\n",
       "      <td>2</td>\n",
       "      <td>0.096200</td>\n",
       "      <td>0.145917</td>\n",
       "      <td>0.954995</td>\n",
       "    </tr>\n",
       "    <tr>\n",
       "      <td>3</td>\n",
       "      <td>0.061500</td>\n",
       "      <td>0.171342</td>\n",
       "      <td>0.956496</td>\n",
       "    </tr>\n",
       "    <tr>\n",
       "      <td>4</td>\n",
       "      <td>0.042800</td>\n",
       "      <td>0.198486</td>\n",
       "      <td>0.956196</td>\n",
       "    </tr>\n",
       "    <tr>\n",
       "      <td>5</td>\n",
       "      <td>0.024700</td>\n",
       "      <td>0.216514</td>\n",
       "      <td>0.959296</td>\n",
       "    </tr>\n",
       "  </tbody>\n",
       "</table><p>"
      ],
      "text/plain": [
       "<IPython.core.display.HTML object>"
      ]
     },
     "metadata": {},
     "output_type": "display_data"
    },
    {
     "name": "stderr",
     "output_type": "stream",
     "text": [
      "The following columns in the evaluation set don't have a corresponding argument in `BertForSequenceClassification.forward` and have been ignored: claim, evidence. If claim, evidence are not expected by `BertForSequenceClassification.forward`,  you can safely ignore this message.\n",
      "***** Running Evaluation *****\n",
      "  Num examples = 9999\n",
      "  Batch size = 64\n",
      "Saving model checkpoint to ../models/BERT_FEVER/checkpoint-2273\n",
      "Configuration saved in ../models/BERT_FEVER/checkpoint-2273/config.json\n",
      "Model weights saved in ../models/BERT_FEVER/checkpoint-2273/pytorch_model.bin\n",
      "tokenizer config file saved in ../models/BERT_FEVER/checkpoint-2273/tokenizer_config.json\n",
      "Special tokens file saved in ../models/BERT_FEVER/checkpoint-2273/special_tokens_map.json\n",
      "/scratch/users/k21193529/conda/jenv3/lib/python3.8/site-packages/torch/nn/parallel/_functions.py:68: UserWarning: Was asked to gather along dimension 0, but all input tensors were scalars; will instead unsqueeze and return a vector.\n",
      "  warnings.warn('Was asked to gather along dimension 0, but all '\n",
      "The following columns in the evaluation set don't have a corresponding argument in `BertForSequenceClassification.forward` and have been ignored: claim, evidence. If claim, evidence are not expected by `BertForSequenceClassification.forward`,  you can safely ignore this message.\n",
      "***** Running Evaluation *****\n",
      "  Num examples = 9999\n",
      "  Batch size = 64\n",
      "Saving model checkpoint to ../models/BERT_FEVER/checkpoint-4546\n",
      "Configuration saved in ../models/BERT_FEVER/checkpoint-4546/config.json\n",
      "Model weights saved in ../models/BERT_FEVER/checkpoint-4546/pytorch_model.bin\n",
      "tokenizer config file saved in ../models/BERT_FEVER/checkpoint-4546/tokenizer_config.json\n",
      "Special tokens file saved in ../models/BERT_FEVER/checkpoint-4546/special_tokens_map.json\n",
      "/scratch/users/k21193529/conda/jenv3/lib/python3.8/site-packages/torch/nn/parallel/_functions.py:68: UserWarning: Was asked to gather along dimension 0, but all input tensors were scalars; will instead unsqueeze and return a vector.\n",
      "  warnings.warn('Was asked to gather along dimension 0, but all '\n",
      "The following columns in the evaluation set don't have a corresponding argument in `BertForSequenceClassification.forward` and have been ignored: claim, evidence. If claim, evidence are not expected by `BertForSequenceClassification.forward`,  you can safely ignore this message.\n",
      "***** Running Evaluation *****\n",
      "  Num examples = 9999\n",
      "  Batch size = 64\n",
      "Saving model checkpoint to ../models/BERT_FEVER/checkpoint-6819\n",
      "Configuration saved in ../models/BERT_FEVER/checkpoint-6819/config.json\n",
      "Model weights saved in ../models/BERT_FEVER/checkpoint-6819/pytorch_model.bin\n",
      "tokenizer config file saved in ../models/BERT_FEVER/checkpoint-6819/tokenizer_config.json\n",
      "Special tokens file saved in ../models/BERT_FEVER/checkpoint-6819/special_tokens_map.json\n",
      "/scratch/users/k21193529/conda/jenv3/lib/python3.8/site-packages/torch/nn/parallel/_functions.py:68: UserWarning: Was asked to gather along dimension 0, but all input tensors were scalars; will instead unsqueeze and return a vector.\n",
      "  warnings.warn('Was asked to gather along dimension 0, but all '\n",
      "The following columns in the evaluation set don't have a corresponding argument in `BertForSequenceClassification.forward` and have been ignored: claim, evidence. If claim, evidence are not expected by `BertForSequenceClassification.forward`,  you can safely ignore this message.\n",
      "***** Running Evaluation *****\n",
      "  Num examples = 9999\n",
      "  Batch size = 64\n",
      "Saving model checkpoint to ../models/BERT_FEVER/checkpoint-9092\n",
      "Configuration saved in ../models/BERT_FEVER/checkpoint-9092/config.json\n",
      "Model weights saved in ../models/BERT_FEVER/checkpoint-9092/pytorch_model.bin\n",
      "tokenizer config file saved in ../models/BERT_FEVER/checkpoint-9092/tokenizer_config.json\n",
      "Special tokens file saved in ../models/BERT_FEVER/checkpoint-9092/special_tokens_map.json\n",
      "/scratch/users/k21193529/conda/jenv3/lib/python3.8/site-packages/torch/nn/parallel/_functions.py:68: UserWarning: Was asked to gather along dimension 0, but all input tensors were scalars; will instead unsqueeze and return a vector.\n",
      "  warnings.warn('Was asked to gather along dimension 0, but all '\n",
      "The following columns in the evaluation set don't have a corresponding argument in `BertForSequenceClassification.forward` and have been ignored: claim, evidence. If claim, evidence are not expected by `BertForSequenceClassification.forward`,  you can safely ignore this message.\n",
      "***** Running Evaluation *****\n",
      "  Num examples = 9999\n",
      "  Batch size = 64\n",
      "Saving model checkpoint to ../models/BERT_FEVER/checkpoint-11365\n",
      "Configuration saved in ../models/BERT_FEVER/checkpoint-11365/config.json\n",
      "Model weights saved in ../models/BERT_FEVER/checkpoint-11365/pytorch_model.bin\n",
      "tokenizer config file saved in ../models/BERT_FEVER/checkpoint-11365/tokenizer_config.json\n",
      "Special tokens file saved in ../models/BERT_FEVER/checkpoint-11365/special_tokens_map.json\n",
      "\n",
      "\n",
      "Training completed. Do not forget to share your model on huggingface.co/models =)\n",
      "\n",
      "\n",
      "Loading best model from ../models/BERT_FEVER/checkpoint-4546 (score: 0.14591681957244873).\n"
     ]
    },
    {
     "data": {
      "text/plain": [
       "TrainOutput(global_step=11365, training_loss=0.08048117621271189, metrics={'train_runtime': 5030.0515, 'train_samples_per_second': 144.58, 'train_steps_per_second': 2.259, 'total_flos': 1.9134791747559936e+17, 'train_loss': 0.08048117621271189, 'epoch': 5.0})"
      ]
     },
     "execution_count": 55,
     "metadata": {},
     "output_type": "execute_result"
    }
   ],
   "source": [
    "trainer.train()"
   ]
  },
  {
   "cell_type": "code",
   "execution_count": 56,
   "id": "7df151a5-cd63-45a3-a568-6077b154add8",
   "metadata": {},
   "outputs": [
    {
     "name": "stderr",
     "output_type": "stream",
     "text": [
      "The following columns in the evaluation set don't have a corresponding argument in `BertForSequenceClassification.forward` and have been ignored: claim, evidence. If claim, evidence are not expected by `BertForSequenceClassification.forward`,  you can safely ignore this message.\n",
      "***** Running Evaluation *****\n",
      "  Num examples = 9999\n",
      "  Batch size = 64\n",
      "/scratch/users/k21193529/conda/jenv3/lib/python3.8/site-packages/torch/nn/parallel/_functions.py:68: UserWarning: Was asked to gather along dimension 0, but all input tensors were scalars; will instead unsqueeze and return a vector.\n",
      "  warnings.warn('Was asked to gather along dimension 0, but all '\n"
     ]
    },
    {
     "data": {
      "text/html": [
       "\n",
       "    <div>\n",
       "      \n",
       "      <progress value='196' max='157' style='width:300px; height:20px; vertical-align: middle;'></progress>\n",
       "      [157/157 01:07]\n",
       "    </div>\n",
       "    "
      ],
      "text/plain": [
       "<IPython.core.display.HTML object>"
      ]
     },
     "metadata": {},
     "output_type": "display_data"
    },
    {
     "data": {
      "text/plain": [
       "{'eval_loss': 0.1847246289253235,\n",
       " 'eval_accuracy': 0.9434943494349435,\n",
       " 'eval_runtime': 27.0999,\n",
       " 'eval_samples_per_second': 368.969,\n",
       " 'eval_steps_per_second': 5.793,\n",
       " 'epoch': 5.0}"
      ]
     },
     "execution_count": 56,
     "metadata": {},
     "output_type": "execute_result"
    }
   ],
   "source": [
    "trainer.evaluate(encoded_ds['fever_test'])"
   ]
  },
  {
   "cell_type": "code",
   "execution_count": 57,
   "id": "77275472-10ca-4d77-8bab-68537e584050",
   "metadata": {},
   "outputs": [
    {
     "name": "stderr",
     "output_type": "stream",
     "text": [
      "The following columns in the evaluation set don't have a corresponding argument in `BertForSequenceClassification.forward` and have been ignored: claim, evidence. If claim, evidence are not expected by `BertForSequenceClassification.forward`,  you can safely ignore this message.\n",
      "***** Running Evaluation *****\n",
      "  Num examples = 1032\n",
      "  Batch size = 64\n",
      "/scratch/users/k21193529/conda/jenv3/lib/python3.8/site-packages/torch/nn/parallel/_functions.py:68: UserWarning: Was asked to gather along dimension 0, but all input tensors were scalars; will instead unsqueeze and return a vector.\n",
      "  warnings.warn('Was asked to gather along dimension 0, but all '\n"
     ]
    },
    {
     "data": {
      "text/plain": [
       "{'eval_loss': 1.675694227218628,\n",
       " 'eval_accuracy': 0.4932170542635659,\n",
       " 'eval_runtime': 2.9031,\n",
       " 'eval_samples_per_second': 355.482,\n",
       " 'eval_steps_per_second': 5.856,\n",
       " 'epoch': 5.0}"
      ]
     },
     "execution_count": 57,
     "metadata": {},
     "output_type": "execute_result"
    }
   ],
   "source": [
    "trainer.evaluate(encoded_ds['pubhealth_test'])"
   ]
  },
  {
   "cell_type": "code",
   "execution_count": 58,
   "id": "adc1bdbc-0f51-4619-87a3-138b139f293f",
   "metadata": {},
   "outputs": [
    {
     "name": "stderr",
     "output_type": "stream",
     "text": [
      "The following columns in the evaluation set don't have a corresponding argument in `BertForSequenceClassification.forward` and have been ignored: claim, evidence. If claim, evidence are not expected by `BertForSequenceClassification.forward`,  you can safely ignore this message.\n",
      "***** Running Evaluation *****\n",
      "  Num examples = 1381\n",
      "  Batch size = 64\n",
      "/scratch/users/k21193529/conda/jenv3/lib/python3.8/site-packages/torch/nn/parallel/_functions.py:68: UserWarning: Was asked to gather along dimension 0, but all input tensors were scalars; will instead unsqueeze and return a vector.\n",
      "  warnings.warn('Was asked to gather along dimension 0, but all '\n"
     ]
    },
    {
     "data": {
      "text/plain": [
       "{'eval_loss': 2.977294445037842,\n",
       " 'eval_accuracy': 0.42867487328023174,\n",
       " 'eval_runtime': 3.7283,\n",
       " 'eval_samples_per_second': 370.411,\n",
       " 'eval_steps_per_second': 5.901,\n",
       " 'epoch': 5.0}"
      ]
     },
     "execution_count": 58,
     "metadata": {},
     "output_type": "execute_result"
    }
   ],
   "source": [
    "trainer.evaluate(encoded_ds['climate_test'])"
   ]
  },
  {
   "cell_type": "markdown",
   "id": "6b43d36a-4286-4aa6-a495-385e8dfd5bad",
   "metadata": {},
   "source": [
    "## Inference"
   ]
  },
  {
   "cell_type": "code",
   "execution_count": 21,
   "id": "309a8a73-6e28-4dfa-9fae-6148886f45cb",
   "metadata": {},
   "outputs": [],
   "source": [
    "# load best model\n",
    "best_model_checkpoint = \"../models/BERT_FEVER/checkpoint-4546\"\n",
    "best_model_checkpoint = \"../models/BERT_PUBHEALTH/checkpoint-262\"\n",
    "best_model_checkpoint = \"../models/BERT_CLIMATE/checkpoint-34\""
   ]
  },
  {
   "cell_type": "code",
   "execution_count": null,
   "id": "81f256a9-ed56-47cd-bc5d-a59ff2e2f8e0",
   "metadata": {
    "scrolled": true
   },
   "outputs": [],
   "source": [
    "num_labels = 3 \n",
    "model = AutoModelForSequenceClassification.from_pretrained(best_model_checkpoint, num_labels=num_labels)"
   ]
  },
  {
   "cell_type": "code",
   "execution_count": null,
   "id": "1fa7d5ec-bd32-4b0d-8a29-20d1ed759da3",
   "metadata": {},
   "outputs": [],
   "source": [
    "import numpy as np\n",
    "from transformers import TrainingArguments, Trainer\n",
    "import evaluate \n",
    "\n",
    "batch_size = 16 #defaults to 8\n",
    "num_epochs = 5\n",
    "\n",
    "def compute_metrics(eval_pred):\n",
    "    logits, labels = eval_pred\n",
    "    predictions = np.argmax(logits, axis=-1)\n",
    "    return metric.compute(predictions=predictions, references = labels)\n",
    "\n",
    "args = TrainingArguments(\n",
    "    \"../models/SciBERT_FEVER\",\n",
    "    evaluation_strategy = \"epoch\",\n",
    "    # evaluation_strategy = \"steps\",\n",
    "    save_strategy = \"epoch\",\n",
    "    per_device_train_batch_size = batch_size,\n",
    "    per_device_eval_batch_size = batch_size,\n",
    "    num_train_epochs = num_epochs,\n",
    "    load_best_model_at_end = True,\n",
    "    # metric_for_best_model = \"accuracy\"\n",
    ")   \n",
    "\n",
    "trainer = Trainer(\n",
    "    model, \n",
    "    args,\n",
    "    # train_dataset = encoded_ds[\"train\"],\n",
    "    eval_dataset = encoded_ds[\"validation\"],\n",
    "    tokenizer = tokenizer, \n",
    "    compute_metrics = compute_metrics\n",
    ")"
   ]
  },
  {
   "cell_type": "code",
   "execution_count": null,
   "id": "4b5f72b4-b99b-43bc-aa2e-07254707213b",
   "metadata": {},
   "outputs": [],
   "source": [
    "trainer.evaluate(encoded_ds['fever_test'])"
   ]
  },
  {
   "cell_type": "code",
   "execution_count": null,
   "id": "a57776c7-1b3f-4f3a-a31d-758bfbb09365",
   "metadata": {},
   "outputs": [],
   "source": [
    "trainer.evaluate(encoded_ds['pubhealth_test'])"
   ]
  },
  {
   "cell_type": "code",
   "execution_count": null,
   "id": "00ec166b-8784-4ecb-a749-b72761bcec6e",
   "metadata": {},
   "outputs": [],
   "source": [
    "trainer.evaluate(encoded_ds['climate'])"
   ]
  }
 ],
 "metadata": {
  "kernelspec": {
   "display_name": "Python 3 (ipykernel)",
   "language": "python",
   "name": "python3"
  },
  "language_info": {
   "codemirror_mode": {
    "name": "ipython",
    "version": 3
   },
   "file_extension": ".py",
   "mimetype": "text/x-python",
   "name": "python",
   "nbconvert_exporter": "python",
   "pygments_lexer": "ipython3",
   "version": "3.8.12"
  }
 },
 "nbformat": 4,
 "nbformat_minor": 5
}
